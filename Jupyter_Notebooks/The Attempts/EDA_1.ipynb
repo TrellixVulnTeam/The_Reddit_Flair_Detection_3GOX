{
 "cells": [
  {
   "cell_type": "code",
   "execution_count": null,
   "metadata": {},
   "outputs": [],
   "source": []
  },
  {
   "cell_type": "code",
   "execution_count": 73,
   "metadata": {},
   "outputs": [],
   "source": [
    "import pandas as pd\n",
    "import numpy as np\n",
    "import seaborn as sns\n",
    "import matplotlib.pyplot as plt\n",
    "import seaborn as sns\n",
    "%matplotlib inline\n",
    "sns.set_style('whitegrid')\n",
    "from nltk.stem import PorterStemmer\n",
    "ps = PorterStemmer()"
   ]
  },
  {
   "cell_type": "code",
   "execution_count": 74,
   "metadata": {},
   "outputs": [],
   "source": [
    "import nltk\n",
    "import string"
   ]
  },
  {
   "cell_type": "code",
   "execution_count": 179,
   "metadata": {},
   "outputs": [],
   "source": [
    "df=pd.read_csv('final_db_2.csv')"
   ]
  },
  {
   "cell_type": "code",
   "execution_count": 38,
   "metadata": {},
   "outputs": [
    {
     "data": {
      "text/html": [
       "<div>\n",
       "<style scoped>\n",
       "    .dataframe tbody tr th:only-of-type {\n",
       "        vertical-align: middle;\n",
       "    }\n",
       "\n",
       "    .dataframe tbody tr th {\n",
       "        vertical-align: top;\n",
       "    }\n",
       "\n",
       "    .dataframe thead th {\n",
       "        text-align: right;\n",
       "    }\n",
       "</style>\n",
       "<table border=\"1\" class=\"dataframe\">\n",
       "  <thead>\n",
       "    <tr style=\"text-align: right;\">\n",
       "      <th></th>\n",
       "      <th>author</th>\n",
       "      <th>comments</th>\n",
       "      <th>domain</th>\n",
       "      <th>flair</th>\n",
       "      <th>score</th>\n",
       "      <th>text</th>\n",
       "      <th>title</th>\n",
       "      <th>url</th>\n",
       "    </tr>\n",
       "  </thead>\n",
       "  <tbody>\n",
       "    <tr>\n",
       "      <th>0</th>\n",
       "      <td>india_ko_vanakkam</td>\n",
       "      <td>\\nModi has Stockholm syndrome\\nTo be fair, the...</td>\n",
       "      <td>self.india</td>\n",
       "      <td>AskIndia</td>\n",
       "      <td>91</td>\n",
       "      <td>&gt; We are getting frantic calls from our pharma...</td>\n",
       "      <td>4 days ago we had pending orders of 100 millio...</td>\n",
       "      <td>https://www.reddit.com/r/india/comments/fwjdqr...</td>\n",
       "    </tr>\n",
       "    <tr>\n",
       "      <th>1</th>\n",
       "      <td>__knockknockturnal__</td>\n",
       "      <td>\\nSomeone matched with me just to tell me that...</td>\n",
       "      <td>self.india</td>\n",
       "      <td>AskIndia</td>\n",
       "      <td>18</td>\n",
       "      <td>I'd my own stint with these apps(a couple of m...</td>\n",
       "      <td>Randians who were big time users of dating app...</td>\n",
       "      <td>https://www.reddit.com/r/india/comments/fizkkk...</td>\n",
       "    </tr>\n",
       "    <tr>\n",
       "      <th>2</th>\n",
       "      <td>Dev1003</td>\n",
       "      <td>\\nI haven't found a Indian yet who believes ea...</td>\n",
       "      <td>self.india</td>\n",
       "      <td>AskIndia</td>\n",
       "      <td>6</td>\n",
       "      <td>I encountered a Foreigner in IG who says \" Rou...</td>\n",
       "      <td>What does r/India thinks about the Flat Earthers?</td>\n",
       "      <td>https://www.reddit.com/r/india/comments/f25vx0...</td>\n",
       "    </tr>\n",
       "    <tr>\n",
       "      <th>3</th>\n",
       "      <td>c0mrade34</td>\n",
       "      <td>\\nAn Engineer, doing advertisement shoots sinc...</td>\n",
       "      <td>self.india</td>\n",
       "      <td>AskIndia</td>\n",
       "      <td>47</td>\n",
       "      <td>Couldn't add AskIndia flair from the mobile br...</td>\n",
       "      <td>People who left their 9 to 5 jobs to pursue a ...</td>\n",
       "      <td>https://www.reddit.com/r/india/comments/dtvliq...</td>\n",
       "    </tr>\n",
       "    <tr>\n",
       "      <th>4</th>\n",
       "      <td>amitkumarthakur</td>\n",
       "      <td>\\nCalm down.\\nGo to the SP office of your town...</td>\n",
       "      <td>self.india</td>\n",
       "      <td>AskIndia</td>\n",
       "      <td>96</td>\n",
       "      <td>It's now 24hrs, But local police station is no...</td>\n",
       "      <td>Somebody want to kill my full family what to do?</td>\n",
       "      <td>https://www.reddit.com/r/india/comments/b7pvwt...</td>\n",
       "    </tr>\n",
       "  </tbody>\n",
       "</table>\n",
       "</div>"
      ],
      "text/plain": [
       "                 author                                           comments  \\\n",
       "0     india_ko_vanakkam  \\nModi has Stockholm syndrome\\nTo be fair, the...   \n",
       "1  __knockknockturnal__  \\nSomeone matched with me just to tell me that...   \n",
       "2               Dev1003  \\nI haven't found a Indian yet who believes ea...   \n",
       "3             c0mrade34  \\nAn Engineer, doing advertisement shoots sinc...   \n",
       "4       amitkumarthakur  \\nCalm down.\\nGo to the SP office of your town...   \n",
       "\n",
       "       domain     flair  score  \\\n",
       "0  self.india  AskIndia     91   \n",
       "1  self.india  AskIndia     18   \n",
       "2  self.india  AskIndia      6   \n",
       "3  self.india  AskIndia     47   \n",
       "4  self.india  AskIndia     96   \n",
       "\n",
       "                                                text  \\\n",
       "0  > We are getting frantic calls from our pharma...   \n",
       "1  I'd my own stint with these apps(a couple of m...   \n",
       "2  I encountered a Foreigner in IG who says \" Rou...   \n",
       "3  Couldn't add AskIndia flair from the mobile br...   \n",
       "4  It's now 24hrs, But local police station is no...   \n",
       "\n",
       "                                               title  \\\n",
       "0  4 days ago we had pending orders of 100 millio...   \n",
       "1  Randians who were big time users of dating app...   \n",
       "2  What does r/India thinks about the Flat Earthers?   \n",
       "3  People who left their 9 to 5 jobs to pursue a ...   \n",
       "4   Somebody want to kill my full family what to do?   \n",
       "\n",
       "                                                 url  \n",
       "0  https://www.reddit.com/r/india/comments/fwjdqr...  \n",
       "1  https://www.reddit.com/r/india/comments/fizkkk...  \n",
       "2  https://www.reddit.com/r/india/comments/f25vx0...  \n",
       "3  https://www.reddit.com/r/india/comments/dtvliq...  \n",
       "4  https://www.reddit.com/r/india/comments/b7pvwt...  "
      ]
     },
     "execution_count": 38,
     "metadata": {},
     "output_type": "execute_result"
    }
   ],
   "source": [
    "df.head()"
   ]
  },
  {
   "cell_type": "code",
   "execution_count": 39,
   "metadata": {},
   "outputs": [
    {
     "name": "stdout",
     "output_type": "stream",
     "text": [
      "<class 'pandas.core.frame.DataFrame'>\n",
      "RangeIndex: 19916 entries, 0 to 19915\n",
      "Data columns (total 8 columns):\n",
      "author      19916 non-null object\n",
      "comments    14686 non-null object\n",
      "domain      19916 non-null object\n",
      "flair       19916 non-null object\n",
      "score       19916 non-null int64\n",
      "text        7923 non-null object\n",
      "title       19916 non-null object\n",
      "url         19916 non-null object\n",
      "dtypes: int64(1), object(7)\n",
      "memory usage: 1.2+ MB\n"
     ]
    }
   ],
   "source": [
    "df.info()"
   ]
  },
  {
   "cell_type": "code",
   "execution_count": 40,
   "metadata": {},
   "outputs": [
    {
     "data": {
      "text/html": [
       "<div>\n",
       "<style scoped>\n",
       "    .dataframe tbody tr th:only-of-type {\n",
       "        vertical-align: middle;\n",
       "    }\n",
       "\n",
       "    .dataframe tbody tr th {\n",
       "        vertical-align: top;\n",
       "    }\n",
       "\n",
       "    .dataframe thead th {\n",
       "        text-align: right;\n",
       "    }\n",
       "</style>\n",
       "<table border=\"1\" class=\"dataframe\">\n",
       "  <thead>\n",
       "    <tr style=\"text-align: right;\">\n",
       "      <th></th>\n",
       "      <th>score</th>\n",
       "    </tr>\n",
       "  </thead>\n",
       "  <tbody>\n",
       "    <tr>\n",
       "      <th>count</th>\n",
       "      <td>19916.000000</td>\n",
       "    </tr>\n",
       "    <tr>\n",
       "      <th>mean</th>\n",
       "      <td>49.395662</td>\n",
       "    </tr>\n",
       "    <tr>\n",
       "      <th>std</th>\n",
       "      <td>337.359696</td>\n",
       "    </tr>\n",
       "    <tr>\n",
       "      <th>min</th>\n",
       "      <td>0.000000</td>\n",
       "    </tr>\n",
       "    <tr>\n",
       "      <th>25%</th>\n",
       "      <td>1.000000</td>\n",
       "    </tr>\n",
       "    <tr>\n",
       "      <th>50%</th>\n",
       "      <td>6.000000</td>\n",
       "    </tr>\n",
       "    <tr>\n",
       "      <th>75%</th>\n",
       "      <td>26.000000</td>\n",
       "    </tr>\n",
       "    <tr>\n",
       "      <th>max</th>\n",
       "      <td>17875.000000</td>\n",
       "    </tr>\n",
       "  </tbody>\n",
       "</table>\n",
       "</div>"
      ],
      "text/plain": [
       "              score\n",
       "count  19916.000000\n",
       "mean      49.395662\n",
       "std      337.359696\n",
       "min        0.000000\n",
       "25%        1.000000\n",
       "50%        6.000000\n",
       "75%       26.000000\n",
       "max    17875.000000"
      ]
     },
     "execution_count": 40,
     "metadata": {},
     "output_type": "execute_result"
    }
   ],
   "source": [
    "df.describe()"
   ]
  },
  {
   "cell_type": "code",
   "execution_count": 41,
   "metadata": {},
   "outputs": [
    {
     "data": {
      "text/html": [
       "<div>\n",
       "<style scoped>\n",
       "    .dataframe tbody tr th:only-of-type {\n",
       "        vertical-align: middle;\n",
       "    }\n",
       "\n",
       "    .dataframe tbody tr th {\n",
       "        vertical-align: top;\n",
       "    }\n",
       "\n",
       "    .dataframe thead tr th {\n",
       "        text-align: left;\n",
       "    }\n",
       "\n",
       "    .dataframe thead tr:last-of-type th {\n",
       "        text-align: right;\n",
       "    }\n",
       "</style>\n",
       "<table border=\"1\" class=\"dataframe\">\n",
       "  <thead>\n",
       "    <tr>\n",
       "      <th></th>\n",
       "      <th colspan=\"8\" halign=\"left\">score</th>\n",
       "    </tr>\n",
       "    <tr>\n",
       "      <th></th>\n",
       "      <th>count</th>\n",
       "      <th>mean</th>\n",
       "      <th>std</th>\n",
       "      <th>min</th>\n",
       "      <th>25%</th>\n",
       "      <th>50%</th>\n",
       "      <th>75%</th>\n",
       "      <th>max</th>\n",
       "    </tr>\n",
       "    <tr>\n",
       "      <th>flair</th>\n",
       "      <th></th>\n",
       "      <th></th>\n",
       "      <th></th>\n",
       "      <th></th>\n",
       "      <th></th>\n",
       "      <th></th>\n",
       "      <th></th>\n",
       "      <th></th>\n",
       "    </tr>\n",
       "  </thead>\n",
       "  <tbody>\n",
       "    <tr>\n",
       "      <th>AskIndia</th>\n",
       "      <td>2442.0</td>\n",
       "      <td>32.074120</td>\n",
       "      <td>511.083303</td>\n",
       "      <td>0.0</td>\n",
       "      <td>1.0</td>\n",
       "      <td>5.0</td>\n",
       "      <td>16.00</td>\n",
       "      <td>17866.0</td>\n",
       "    </tr>\n",
       "    <tr>\n",
       "      <th>Business/Finance</th>\n",
       "      <td>2433.0</td>\n",
       "      <td>31.290588</td>\n",
       "      <td>109.141155</td>\n",
       "      <td>0.0</td>\n",
       "      <td>1.0</td>\n",
       "      <td>3.0</td>\n",
       "      <td>25.00</td>\n",
       "      <td>2622.0</td>\n",
       "    </tr>\n",
       "    <tr>\n",
       "      <th>Food</th>\n",
       "      <td>1273.0</td>\n",
       "      <td>107.946583</td>\n",
       "      <td>522.148341</td>\n",
       "      <td>0.0</td>\n",
       "      <td>1.0</td>\n",
       "      <td>11.0</td>\n",
       "      <td>59.00</td>\n",
       "      <td>10047.0</td>\n",
       "    </tr>\n",
       "    <tr>\n",
       "      <th>Non-Political</th>\n",
       "      <td>2416.0</td>\n",
       "      <td>28.803808</td>\n",
       "      <td>87.932854</td>\n",
       "      <td>0.0</td>\n",
       "      <td>1.0</td>\n",
       "      <td>5.0</td>\n",
       "      <td>21.00</td>\n",
       "      <td>1596.0</td>\n",
       "    </tr>\n",
       "    <tr>\n",
       "      <th>Photography</th>\n",
       "      <td>651.0</td>\n",
       "      <td>79.901690</td>\n",
       "      <td>303.400167</td>\n",
       "      <td>0.0</td>\n",
       "      <td>1.0</td>\n",
       "      <td>9.0</td>\n",
       "      <td>35.00</td>\n",
       "      <td>3953.0</td>\n",
       "    </tr>\n",
       "    <tr>\n",
       "      <th>Policy/Economy</th>\n",
       "      <td>2220.0</td>\n",
       "      <td>31.254054</td>\n",
       "      <td>82.185160</td>\n",
       "      <td>0.0</td>\n",
       "      <td>1.0</td>\n",
       "      <td>8.0</td>\n",
       "      <td>29.00</td>\n",
       "      <td>2015.0</td>\n",
       "    </tr>\n",
       "    <tr>\n",
       "      <th>Politics</th>\n",
       "      <td>2448.0</td>\n",
       "      <td>75.623366</td>\n",
       "      <td>346.734783</td>\n",
       "      <td>0.0</td>\n",
       "      <td>1.0</td>\n",
       "      <td>6.0</td>\n",
       "      <td>35.25</td>\n",
       "      <td>11712.0</td>\n",
       "    </tr>\n",
       "    <tr>\n",
       "      <th>Scheduled</th>\n",
       "      <td>1484.0</td>\n",
       "      <td>38.899596</td>\n",
       "      <td>125.743507</td>\n",
       "      <td>0.0</td>\n",
       "      <td>2.0</td>\n",
       "      <td>9.0</td>\n",
       "      <td>34.00</td>\n",
       "      <td>2603.0</td>\n",
       "    </tr>\n",
       "    <tr>\n",
       "      <th>Science/Technology</th>\n",
       "      <td>2117.0</td>\n",
       "      <td>50.529523</td>\n",
       "      <td>562.176246</td>\n",
       "      <td>0.0</td>\n",
       "      <td>1.0</td>\n",
       "      <td>5.0</td>\n",
       "      <td>25.00</td>\n",
       "      <td>17875.0</td>\n",
       "    </tr>\n",
       "    <tr>\n",
       "      <th>Sports</th>\n",
       "      <td>2432.0</td>\n",
       "      <td>62.121299</td>\n",
       "      <td>258.789378</td>\n",
       "      <td>0.0</td>\n",
       "      <td>1.0</td>\n",
       "      <td>4.0</td>\n",
       "      <td>23.00</td>\n",
       "      <td>3542.0</td>\n",
       "    </tr>\n",
       "  </tbody>\n",
       "</table>\n",
       "</div>"
      ],
      "text/plain": [
       "                     score                                                 \\\n",
       "                     count        mean         std  min  25%   50%    75%   \n",
       "flair                                                                       \n",
       "AskIndia            2442.0   32.074120  511.083303  0.0  1.0   5.0  16.00   \n",
       "Business/Finance    2433.0   31.290588  109.141155  0.0  1.0   3.0  25.00   \n",
       "Food                1273.0  107.946583  522.148341  0.0  1.0  11.0  59.00   \n",
       "Non-Political       2416.0   28.803808   87.932854  0.0  1.0   5.0  21.00   \n",
       "Photography          651.0   79.901690  303.400167  0.0  1.0   9.0  35.00   \n",
       "Policy/Economy      2220.0   31.254054   82.185160  0.0  1.0   8.0  29.00   \n",
       "Politics            2448.0   75.623366  346.734783  0.0  1.0   6.0  35.25   \n",
       "Scheduled           1484.0   38.899596  125.743507  0.0  2.0   9.0  34.00   \n",
       "Science/Technology  2117.0   50.529523  562.176246  0.0  1.0   5.0  25.00   \n",
       "Sports              2432.0   62.121299  258.789378  0.0  1.0   4.0  23.00   \n",
       "\n",
       "                             \n",
       "                        max  \n",
       "flair                        \n",
       "AskIndia            17866.0  \n",
       "Business/Finance     2622.0  \n",
       "Food                10047.0  \n",
       "Non-Political        1596.0  \n",
       "Photography          3953.0  \n",
       "Policy/Economy       2015.0  \n",
       "Politics            11712.0  \n",
       "Scheduled            2603.0  \n",
       "Science/Technology  17875.0  \n",
       "Sports               3542.0  "
      ]
     },
     "execution_count": 41,
     "metadata": {},
     "output_type": "execute_result"
    }
   ],
   "source": [
    "df.groupby('flair').describe()"
   ]
  },
  {
   "cell_type": "code",
   "execution_count": 42,
   "metadata": {},
   "outputs": [
    {
     "data": {
      "text/plain": [
       "<matplotlib.axes._subplots.AxesSubplot at 0x2064b506b70>"
      ]
     },
     "execution_count": 42,
     "metadata": {},
     "output_type": "execute_result"
    },
    {
     "data": {
      "image/png": "[encoded data removed]",
      "text/plain": [
       "<Figure size 936x288 with 1 Axes>"
      ]
     },
     "metadata": {},
     "output_type": "display_data"
    }
   ],
   "source": [
    "plt.figure(figsize=(13,4))\n",
    "sns.countplot(x='flair',data=df)"
   ]
  },
  {
   "cell_type": "code",
   "execution_count": 68,
   "metadata": {},
   "outputs": [
    {
     "data": {
      "text/plain": [
       "str"
      ]
     },
     "execution_count": 68,
     "metadata": {},
     "output_type": "execute_result"
    }
   ],
   "source": [
    "type(df['text'][0])"
   ]
  },
  {
   "cell_type": "code",
   "execution_count": 169,
   "metadata": {},
   "outputs": [],
   "source": [
    "def preprocess_text(txt):\n",
    "    if type(txt)==str:\n",
    "        nopunc = [str(char) for char in txt if char not in string.punctuation]\n",
    "        nopunc = ''.join(nopunc)\n",
    "        return [ps.stem(word.lower()) for word in nopunc.split() if word.lower() not in nltk.corpus.stopwords.words('english')]"
   ]
  },
  {
   "cell_type": "code",
   "execution_count": 170,
   "metadata": {},
   "outputs": [],
   "source": [
    "df['text']=df['text'].apply(preprocess_text)"
   ]
  },
  {
   "cell_type": "code",
   "execution_count": 78,
   "metadata": {},
   "outputs": [
    {
     "data": {
      "text/html": [
       "<div>\n",
       "<style scoped>\n",
       "    .dataframe tbody tr th:only-of-type {\n",
       "        vertical-align: middle;\n",
       "    }\n",
       "\n",
       "    .dataframe tbody tr th {\n",
       "        vertical-align: top;\n",
       "    }\n",
       "\n",
       "    .dataframe thead th {\n",
       "        text-align: right;\n",
       "    }\n",
       "</style>\n",
       "<table border=\"1\" class=\"dataframe\">\n",
       "  <thead>\n",
       "    <tr style=\"text-align: right;\">\n",
       "      <th></th>\n",
       "      <th>author</th>\n",
       "      <th>comments</th>\n",
       "      <th>domain</th>\n",
       "      <th>flair</th>\n",
       "      <th>score</th>\n",
       "      <th>text</th>\n",
       "      <th>title</th>\n",
       "      <th>url</th>\n",
       "    </tr>\n",
       "  </thead>\n",
       "  <tbody>\n",
       "    <tr>\n",
       "      <th>0</th>\n",
       "      <td>india_ko_vanakkam</td>\n",
       "      <td>\\nModi has Stockholm syndrome\\nTo be fair, the...</td>\n",
       "      <td>self.india</td>\n",
       "      <td>AskIndia</td>\n",
       "      <td>91</td>\n",
       "      <td>[get, frantic, call, pharma, custom, delay, ca...</td>\n",
       "      <td>4 days ago we had pending orders of 100 millio...</td>\n",
       "      <td>https://www.reddit.com/r/india/comments/fwjdqr...</td>\n",
       "    </tr>\n",
       "    <tr>\n",
       "      <th>1</th>\n",
       "      <td>__knockknockturnal__</td>\n",
       "      <td>\\nSomeone matched with me just to tell me that...</td>\n",
       "      <td>self.india</td>\n",
       "      <td>AskIndia</td>\n",
       "      <td>18</td>\n",
       "      <td>[id, stint, appsa, coupl, month, one, point, d...</td>\n",
       "      <td>Randians who were big time users of dating app...</td>\n",
       "      <td>https://www.reddit.com/r/india/comments/fizkkk...</td>\n",
       "    </tr>\n",
       "    <tr>\n",
       "      <th>2</th>\n",
       "      <td>Dev1003</td>\n",
       "      <td>\\nI haven't found a Indian yet who believes ea...</td>\n",
       "      <td>self.india</td>\n",
       "      <td>AskIndia</td>\n",
       "      <td>6</td>\n",
       "      <td>[encount, foreign, ig, say, round, earth, hoax...</td>\n",
       "      <td>What does r/India thinks about the Flat Earthers?</td>\n",
       "      <td>https://www.reddit.com/r/india/comments/f25vx0...</td>\n",
       "    </tr>\n",
       "    <tr>\n",
       "      <th>3</th>\n",
       "      <td>c0mrade34</td>\n",
       "      <td>\\nAn Engineer, doing advertisement shoots sinc...</td>\n",
       "      <td>self.india</td>\n",
       "      <td>AskIndia</td>\n",
       "      <td>47</td>\n",
       "      <td>[couldnt, add, askindia, flair, mobil, browser]</td>\n",
       "      <td>People who left their 9 to 5 jobs to pursue a ...</td>\n",
       "      <td>https://www.reddit.com/r/india/comments/dtvliq...</td>\n",
       "    </tr>\n",
       "    <tr>\n",
       "      <th>4</th>\n",
       "      <td>amitkumarthakur</td>\n",
       "      <td>\\nCalm down.\\nGo to the SP office of your town...</td>\n",
       "      <td>self.india</td>\n",
       "      <td>AskIndia</td>\n",
       "      <td>96</td>\n",
       "      <td>[24hr, local, polic, station, regist, case, do...</td>\n",
       "      <td>Somebody want to kill my full family what to do?</td>\n",
       "      <td>https://www.reddit.com/r/india/comments/b7pvwt...</td>\n",
       "    </tr>\n",
       "  </tbody>\n",
       "</table>\n",
       "</div>"
      ],
      "text/plain": [
       "                 author                                           comments  \\\n",
       "0     india_ko_vanakkam  \\nModi has Stockholm syndrome\\nTo be fair, the...   \n",
       "1  __knockknockturnal__  \\nSomeone matched with me just to tell me that...   \n",
       "2               Dev1003  \\nI haven't found a Indian yet who believes ea...   \n",
       "3             c0mrade34  \\nAn Engineer, doing advertisement shoots sinc...   \n",
       "4       amitkumarthakur  \\nCalm down.\\nGo to the SP office of your town...   \n",
       "\n",
       "       domain     flair  score  \\\n",
       "0  self.india  AskIndia     91   \n",
       "1  self.india  AskIndia     18   \n",
       "2  self.india  AskIndia      6   \n",
       "3  self.india  AskIndia     47   \n",
       "4  self.india  AskIndia     96   \n",
       "\n",
       "                                                text  \\\n",
       "0  [get, frantic, call, pharma, custom, delay, ca...   \n",
       "1  [id, stint, appsa, coupl, month, one, point, d...   \n",
       "2  [encount, foreign, ig, say, round, earth, hoax...   \n",
       "3    [couldnt, add, askindia, flair, mobil, browser]   \n",
       "4  [24hr, local, polic, station, regist, case, do...   \n",
       "\n",
       "                                               title  \\\n",
       "0  4 days ago we had pending orders of 100 millio...   \n",
       "1  Randians who were big time users of dating app...   \n",
       "2  What does r/India thinks about the Flat Earthers?   \n",
       "3  People who left their 9 to 5 jobs to pursue a ...   \n",
       "4   Somebody want to kill my full family what to do?   \n",
       "\n",
       "                                                 url  \n",
       "0  https://www.reddit.com/r/india/comments/fwjdqr...  \n",
       "1  https://www.reddit.com/r/india/comments/fizkkk...  \n",
       "2  https://www.reddit.com/r/india/comments/f25vx0...  \n",
       "3  https://www.reddit.com/r/india/comments/dtvliq...  \n",
       "4  https://www.reddit.com/r/india/comments/b7pvwt...  "
      ]
     },
     "execution_count": 78,
     "metadata": {},
     "output_type": "execute_result"
    }
   ],
   "source": [
    "df.head()"
   ]
  },
  {
   "cell_type": "code",
   "execution_count": 171,
   "metadata": {},
   "outputs": [],
   "source": [
    "from sklearn.pipeline import Pipeline\n",
    "from sklearn.feature_extraction.text import TfidfTransformer\n",
    "from sklearn.naive_bayes import MultinomialNB\n",
    "from sklearn.feature_extraction.text import CountVectorizer\n",
    "\n",
    "pipeline = Pipeline([\n",
    "    ('bow', CountVectorizer(analyzer=preprocess_text)),  # strings to token integer counts\n",
    "    ('tfidf', TfidfTransformer()),  # integer counts to weighted TF-IDF scores\n",
    "    ('classifier', MultinomialNB()),  # train on TF-IDF vectors w/ Naive Bayes classifier\n",
    "])"
   ]
  },
  {
   "cell_type": "code",
   "execution_count": null,
   "metadata": {},
   "outputs": [],
   "source": []
  },
  {
   "cell_type": "code",
   "execution_count": 112,
   "metadata": {},
   "outputs": [],
   "source": [
    "from sklearn.model_selection import train_test_split\n",
    "X=df['title']\n",
    "y=df['flair']\n",
    "X_train,X_test,y_train,y_test=train_test_split(X,y,test_size=0.3)"
   ]
  },
  {
   "cell_type": "code",
   "execution_count": 119,
   "metadata": {},
   "outputs": [
    {
     "data": {
      "text/plain": [
       "16392    New realty law by May 1, set to cheer home buyers\n",
       "6393       Weekly Photography Discussion Thread - 17/01/16\n",
       "19424    India To Buy $60 Million Supercomputer To Pred...\n",
       "6597                                        eli5 ddca scam\n",
       "15468    Beautiful India (Day 8) : Agatti Island Airpor...\n",
       "                               ...                        \n",
       "1801     China's plans to build dams on rivers originat...\n",
       "17302    70 to 2: What the Rio Olympics medal tally say...\n",
       "6675                        [advice] Airtel's malpractices\n",
       "7557     Anil Kumble named Team India head coach - Time...\n",
       "18260    Full Stack Web Development - Where to start? •...\n",
       "Name: title, Length: 13941, dtype: object"
      ]
     },
     "execution_count": 119,
     "metadata": {},
     "output_type": "execute_result"
    }
   ],
   "source": [
    "X_train"
   ]
  },
  {
   "cell_type": "code",
   "execution_count": 114,
   "metadata": {},
   "outputs": [
    {
     "data": {
      "text/plain": [
       "Pipeline(memory=None,\n",
       "         steps=[('bow',\n",
       "                 CountVectorizer(analyzer=<function preprocess_text at 0x000002065F8D20D0>,\n",
       "                                 binary=False, decode_error='strict',\n",
       "                                 dtype=<class 'numpy.int64'>, encoding='utf-8',\n",
       "                                 input='content', lowercase=True, max_df=1.0,\n",
       "                                 max_features=None, min_df=1,\n",
       "                                 ngram_range=(1, 1), preprocessor=None,\n",
       "                                 stop_words=None, strip_accents=None,\n",
       "                                 token_pattern='(?u)\\\\b\\\\w\\\\w+\\\\b',\n",
       "                                 tokenizer=None, vocabulary=None)),\n",
       "                ('tfidf',\n",
       "                 TfidfTransformer(norm='l2', smooth_idf=True,\n",
       "                                  sublinear_tf=False, use_idf=True)),\n",
       "                ('classifier',\n",
       "                 MultinomialNB(alpha=1.0, class_prior=None, fit_prior=True))],\n",
       "         verbose=False)"
      ]
     },
     "execution_count": 114,
     "metadata": {},
     "output_type": "execute_result"
    }
   ],
   "source": [
    "pipeline.fit(X_train,y_train)"
   ]
  },
  {
   "cell_type": "code",
   "execution_count": 115,
   "metadata": {},
   "outputs": [],
   "source": [
    "predictions = pipeline.predict(X_test)"
   ]
  },
  {
   "cell_type": "code",
   "execution_count": 125,
   "metadata": {},
   "outputs": [],
   "source": [
    "from sklearn.metrics import confusion_matrix,classification_report"
   ]
  },
  {
   "cell_type": "code",
   "execution_count": 117,
   "metadata": {},
   "outputs": [
    {
     "name": "stdout",
     "output_type": "stream",
     "text": [
      "[[511  51   3  36   0  30  33   3  19  23]\n",
      " [ 71 467   3  14   0  94  20   2  34  14]\n",
      " [ 92  23 148  30   0  29  25   1   5  13]\n",
      " [146  88   2 257   0  61 114   9  24  54]\n",
      " [ 61  13   1  27  28   2  12  25  14   4]\n",
      " [ 34 105   3  24   0 409  78   0  21  14]\n",
      " [ 29  17   3  39   0  59 551   0   4  26]\n",
      " [ 37  44   0  17   0   7  38 303  10  11]\n",
      " [110  97   0  36   0  53  34   0 292  21]\n",
      " [ 41  10   0  12   0   7  17   5  10 611]]\n"
     ]
    }
   ],
   "source": [
    "print(confusion_matrix(y_test,predictions))"
   ]
  },
  {
   "cell_type": "code",
   "execution_count": 121,
   "metadata": {},
   "outputs": [],
   "source": [
    "conf_matrix=confusion_matrix(y_test,predictions)"
   ]
  },
  {
   "cell_type": "code",
   "execution_count": 132,
   "metadata": {},
   "outputs": [
    {
     "data": {
      "text/plain": [
       "<matplotlib.axes._subplots.AxesSubplot at 0x2064af82f98>"
      ]
     },
     "execution_count": 132,
     "metadata": {},
     "output_type": "execute_result"
    },
    {
     "data": {
      "image/png": "[encoded data removed]",
      "text/plain": [
       "<Figure size 432x288 with 2 Axes>"
      ]
     },
     "metadata": {},
     "output_type": "display_data"
    }
   ],
   "source": [
    "sns.heatmap(conf_matrix,annot=True,cmap='coolwarm')"
   ]
  },
  {
   "cell_type": "code",
   "execution_count": 126,
   "metadata": {},
   "outputs": [
    {
     "name": "stdout",
     "output_type": "stream",
     "text": [
      "                    precision    recall  f1-score   support\n",
      "\n",
      "          AskIndia       0.45      0.72      0.56       709\n",
      "  Business/Finance       0.51      0.65      0.57       719\n",
      "              Food       0.91      0.40      0.56       366\n",
      "     Non-Political       0.52      0.34      0.41       755\n",
      "       Photography       1.00      0.15      0.26       187\n",
      "    Policy/Economy       0.54      0.59      0.57       688\n",
      "          Politics       0.60      0.76      0.67       728\n",
      "         Scheduled       0.87      0.65      0.74       467\n",
      "Science/Technology       0.67      0.45      0.54       643\n",
      "            Sports       0.77      0.86      0.81       713\n",
      "\n",
      "          accuracy                           0.60      5975\n",
      "         macro avg       0.69      0.56      0.57      5975\n",
      "      weighted avg       0.64      0.60      0.59      5975\n",
      "\n"
     ]
    }
   ],
   "source": [
    "print(classification_report(y_test,predictions))"
   ]
  },
  {
   "cell_type": "code",
   "execution_count": 129,
   "metadata": {},
   "outputs": [
    {
     "data": {
      "text/plain": [
       "Index(['author', 'comments', 'domain', 'flair', 'score', 'text', 'title',\n",
       "       'url'],\n",
       "      dtype='object')"
      ]
     },
     "execution_count": 129,
     "metadata": {},
     "output_type": "execute_result"
    }
   ],
   "source": [
    "df.columns"
   ]
  },
  {
   "cell_type": "code",
   "execution_count": 180,
   "metadata": {},
   "outputs": [],
   "source": [
    "to_probe=['text']\n",
    "import pickle"
   ]
  },
  {
   "cell_type": "markdown",
   "metadata": {},
   "source": [
    "to_probe ki list change karo aur upar 'text' ko prerocess mat karna"
   ]
  },
  {
   "cell_type": "code",
   "execution_count": 181,
   "metadata": {},
   "outputs": [
    {
     "name": "stdout",
     "output_type": "stream",
     "text": [
      "\n",
      "\n",
      "\n",
      " This is for text \n",
      "\n",
      "[[525   4   0   0   0  70 136   1   2   2]\n",
      " [122  25   0   0   0  87 506   2   0   0]\n",
      " [ 90   0   1   0   0  28 228   0   0   0]\n",
      " [136   2   0   7   0  94 494   3   0   1]\n",
      " [ 65   0   0   0  20  10 108   3   0   0]\n",
      " [ 68   8   0   0   0 145 471   1   0   0]\n",
      " [ 79   0   0   0   0  66 558   0   0   0]\n",
      " [ 92  12   1   0   9  16 151 163   0   0]\n",
      " [123   1   0   0   0  83 444   0   4   0]\n",
      " [ 89   0   0   0   0  76 523   0   0  20]]\n",
      "AxesSubplot(0.125,0.125;0.62x0.755)\n",
      "                    precision    recall  f1-score   support\n",
      "\n",
      "          AskIndia       0.38      0.71      0.49       740\n",
      "  Business/Finance       0.48      0.03      0.06       742\n",
      "              Food       0.50      0.00      0.01       347\n",
      "     Non-Political       1.00      0.01      0.02       737\n",
      "       Photography       0.69      0.10      0.17       206\n",
      "    Policy/Economy       0.21      0.21      0.21       693\n",
      "          Politics       0.15      0.79      0.26       703\n",
      "         Scheduled       0.94      0.37      0.53       444\n",
      "Science/Technology       0.67      0.01      0.01       655\n",
      "            Sports       0.87      0.03      0.05       708\n",
      "\n",
      "          accuracy                           0.25      5975\n",
      "         macro avg       0.59      0.23      0.18      5975\n",
      "      weighted avg       0.57      0.25      0.18      5975\n",
      "\n"
     ]
    },
    {
     "data": {
      "image/png": "[encoded data removed]",
      "text/plain": [
       "<Figure size 432x288 with 2 Axes>"
      ]
     },
     "metadata": {},
     "output_type": "display_data"
    }
   ],
   "source": [
    "for x in to_probe:\n",
    "    X=df[x].fillna(value='')\n",
    "    y=df['flair']\n",
    "    X_train,X_test,y_train,y_test=train_test_split(X,y,test_size=0.3)\n",
    "    pipeline.fit(X_train,y_train)\n",
    "    save_classifier=open(\"multinomial\"+x+\".pickle\",\"wb\")\n",
    "    pickle.dump(pipeline,save_classifier)\n",
    "    save_classifier.close()\n",
    "    predictions = pipeline.predict(X_test)\n",
    "    print('\\n\\n\\n This is for',x,'\\n')\n",
    "    print(confusion_matrix(y_test,predictions))\n",
    "    print(sns.heatmap(confusion_matrix(y_test,predictions)))\n",
    "    print(classification_report(y_test,predictions))\n",
    "    "
   ]
  },
  {
   "cell_type": "code",
   "execution_count": 183,
   "metadata": {},
   "outputs": [],
   "source": [
    "from sklearn.metrics import accuracy_score"
   ]
  },
  {
   "cell_type": "code",
   "execution_count": 184,
   "metadata": {},
   "outputs": [
    {
     "data": {
      "text/plain": [
       "0.24569037656903767"
      ]
     },
     "execution_count": 184,
     "metadata": {},
     "output_type": "execute_result"
    }
   ],
   "source": [
    "accuracy_score(y_test,predictions)"
   ]
  },
  {
   "cell_type": "code",
   "execution_count": 182,
   "metadata": {},
   "outputs": [
    {
     "data": {
      "text/plain": [
       "0        > We are getting frantic calls from our pharma...\n",
       "1        I'd my own stint with these apps(a couple of m...\n",
       "2        I encountered a Foreigner in IG who says \" Rou...\n",
       "3        Couldn't add AskIndia flair from the mobile br...\n",
       "4        It's now 24hrs, But local police station is no...\n",
       "                               ...                        \n",
       "19911    The glass in front of my wall clock broke. Whe...\n",
       "19912    Hey Everyone, I am working as a data scientist...\n",
       "19913    Let us use this thread to discuss games that w...\n",
       "19914    Some reports claim that the company has closed...\n",
       "19915    [Last week's issue - 08/02/2019](https://np.re...\n",
       "Name: text, Length: 19916, dtype: object"
      ]
     },
     "execution_count": 182,
     "metadata": {},
     "output_type": "execute_result"
    }
   ],
   "source": []
  },
  {
   "cell_type": "code",
   "execution_count": null,
   "metadata": {},
   "outputs": [],
   "source": []
  }
 ],
 "metadata": {
  "kernelspec": {
   "display_name": "Python 3",
   "language": "python",
   "name": "python3"
  },
  "language_info": {
   "codemirror_mode": {
    "name": "ipython",
    "version": 3
   },
   "file_extension": ".py",
   "mimetype": "text/x-python",
   "name": "python",
   "nbconvert_exporter": "python",
   "pygments_lexer": "ipython3",
   "version": "3.7.3"
  }
 },
 "nbformat": 4,
 "nbformat_minor": 4
}
