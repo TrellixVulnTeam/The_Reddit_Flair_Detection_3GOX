{
 "cells": [
  {
   "cell_type": "code",
   "execution_count": null,
   "metadata": {},
   "outputs": [],
   "source": [
    "import numpy as np\n",
    "import pandas as pd\n",
    "from google.cloud import bigquery\n",
    "import praw\n",
    "import os\n",
    "import datetime\n",
    "os.environ[\"GOOGLE_APPLICATION_CREDENTIALS\"]=r\"\"\n",
    "\n",
    "\n",
    "reddit=praw.Reddit(client_id='',\n",
    "                   client_secret='',\n",
    "                   username='',\n",
    "                   password='',\n",
    "                   user_agent=''\n",
    "                   )\n",
    "\n",
    "client=bigquery.Client()\n",
    "print('start')\n",
    "\n",
    "\n",
    "QUERY_POSTS=(\n",
    "'SELECT * '\n",
    "'FROM `fh-bigquery.reddit_posts.201*`'\n",
    "'WHERE subreddit = \"india\" and link_flair_text in (\"AskIndia\",\"Non-Political\",\"Scheduled\",\"Photography\",\"Science/Technology\",\"Politics\",\"Business/Finance\",\"Policy/Economy\",\"Sports\",\"Food\") ' \n",
    "'LIMIT 100000'\n",
    ")\n",
    "\n",
    "query_job = client.query(QUERY_POSTS)\n",
    "query = query_job.result().to_dataframe()\n",
    "\n",
    "\n",
    "keep = []\n",
    "data = query\n",
    "print('stop1')\n",
    "\n",
    "print(data.head())\n",
    "print(data.columns)\n",
    "data.to_csv(r'reddit_flair2.csv',index=False)\n",
    "\n",
    "\n"
   ]
  }
 ],
 "metadata": {
  "kernelspec": {
   "display_name": "Python 3",
   "language": "python",
   "name": "python3"
  },
  "language_info": {
   "codemirror_mode": {
    "name": "ipython",
    "version": 3
   },
   "file_extension": ".py",
   "mimetype": "text/x-python",
   "name": "python",
   "nbconvert_exporter": "python",
   "pygments_lexer": "ipython3",
   "version": "3.7.3"
  }
 },
 "nbformat": 4,
 "nbformat_minor": 4
}
