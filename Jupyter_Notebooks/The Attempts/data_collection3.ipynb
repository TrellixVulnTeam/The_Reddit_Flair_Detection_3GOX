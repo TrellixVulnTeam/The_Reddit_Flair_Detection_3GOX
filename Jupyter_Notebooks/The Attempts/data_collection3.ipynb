{
 "cells": [
  {
   "cell_type": "code",
   "execution_count": 1,
   "metadata": {},
   "outputs": [
    {
     "name": "stdout",
     "output_type": "stream",
     "text": [
      "ok\n"
     ]
    }
   ],
   "source": [
    "import pandas as pd\n",
    "import numpy as np\n",
    "import praw\n",
    "\n",
    "reddit=praw.Reddit(client_id='',\n",
    "                   client_secret='',\n",
    "                   username='',\n",
    "                   password='',\n",
    "                   user_agent=''\n",
    "                   )\n",
    "print('ok')"
   ]
  },
  {
   "cell_type": "code",
   "execution_count": 2,
   "metadata": {},
   "outputs": [
    {
     "name": "stdout",
     "output_type": "stream",
     "text": [
      "ok\n"
     ]
    },
    {
     "name": "stderr",
     "output_type": "stream",
     "text": [
      "c:\\users\\hp\\appdata\\local\\programs\\python\\python37\\lib\\site-packages\\IPython\\core\\interactiveshell.py:3063: DtypeWarning: Columns (30,32) have mixed types. Specify dtype option on import or set low_memory=False.\n",
      "  interactivity=interactivity, compiler=compiler, result=result)\n"
     ]
    }
   ],
   "source": [
    "df1=pd.read_csv('reddit_flair.csv')\n",
    "df2=pd.read_csv('reddit_flair2.csv')\n",
    "print('ok')\n",
    "df2.columns\n",
    "df3=df2[['link_flair_text','title','author','selftext','url','id','score','domain']]"
   ]
  },
  {
   "cell_type": "code",
   "execution_count": 3,
   "metadata": {},
   "outputs": [
    {
     "name": "stdout",
     "output_type": "stream",
     "text": [
      "ok\n"
     ]
    },
    {
     "data": {
      "text/html": [
       "<div>\n",
       "<style scoped>\n",
       "    .dataframe tbody tr th:only-of-type {\n",
       "        vertical-align: middle;\n",
       "    }\n",
       "\n",
       "    .dataframe tbody tr th {\n",
       "        vertical-align: top;\n",
       "    }\n",
       "\n",
       "    .dataframe thead th {\n",
       "        text-align: right;\n",
       "    }\n",
       "</style>\n",
       "<table border=\"1\" class=\"dataframe\">\n",
       "  <thead>\n",
       "    <tr style=\"text-align: right;\">\n",
       "      <th></th>\n",
       "      <th>score</th>\n",
       "    </tr>\n",
       "  </thead>\n",
       "  <tbody>\n",
       "    <tr>\n",
       "      <th>count</th>\n",
       "      <td>100000.000000</td>\n",
       "    </tr>\n",
       "    <tr>\n",
       "      <th>mean</th>\n",
       "      <td>21.993140</td>\n",
       "    </tr>\n",
       "    <tr>\n",
       "      <th>std</th>\n",
       "      <td>73.265739</td>\n",
       "    </tr>\n",
       "    <tr>\n",
       "      <th>min</th>\n",
       "      <td>0.000000</td>\n",
       "    </tr>\n",
       "    <tr>\n",
       "      <th>25%</th>\n",
       "      <td>1.000000</td>\n",
       "    </tr>\n",
       "    <tr>\n",
       "      <th>50%</th>\n",
       "      <td>3.000000</td>\n",
       "    </tr>\n",
       "    <tr>\n",
       "      <th>75%</th>\n",
       "      <td>16.000000</td>\n",
       "    </tr>\n",
       "    <tr>\n",
       "      <th>max</th>\n",
       "      <td>3783.000000</td>\n",
       "    </tr>\n",
       "  </tbody>\n",
       "</table>\n",
       "</div>"
      ],
      "text/plain": [
       "               score\n",
       "count  100000.000000\n",
       "mean       21.993140\n",
       "std        73.265739\n",
       "min         0.000000\n",
       "25%         1.000000\n",
       "50%         3.000000\n",
       "75%        16.000000\n",
       "max      3783.000000"
      ]
     },
     "execution_count": 3,
     "metadata": {},
     "output_type": "execute_result"
    }
   ],
   "source": [
    "def getcomments(id_num):\n",
    "    submission=reddit.submission(id=id_num)\n",
    "    submission.comments.replace_more(limit=0)\n",
    "    sub_comments=''\n",
    "    for i,comment in enumerate(submission.comments):\n",
    "        sub_comments+=comment.body\n",
    "        if i==10:\n",
    "            break\n",
    "    return sub_comments\n",
    "print('ok')\n",
    "df3.describe()"
   ]
  },
  {
   "cell_type": "code",
   "execution_count": 23,
   "metadata": {},
   "outputs": [
    {
     "name": "stdout",
     "output_type": "stream",
     "text": [
      "<class 'pandas.core.frame.DataFrame'>\n",
      "RangeIndex: 100000 entries, 0 to 99999\n",
      "Data columns (total 8 columns):\n",
      "link_flair_text    100000 non-null object\n",
      "title              100000 non-null object\n",
      "author             100000 non-null object\n",
      "selftext           32821 non-null object\n",
      "url                100000 non-null object\n",
      "id                 100000 non-null object\n",
      "score              100000 non-null int64\n",
      "domain             100000 non-null object\n",
      "dtypes: int64(1), object(7)\n",
      "memory usage: 6.1+ MB\n"
     ]
    }
   ],
   "source": [
    "df3.info()"
   ]
  },
  {
   "cell_type": "code",
   "execution_count": 25,
   "metadata": {},
   "outputs": [
    {
     "name": "stdout",
     "output_type": "stream",
     "text": [
      "<class 'pandas.core.frame.DataFrame'>\n",
      "Int64Index: 32821 entries, 16 to 99999\n",
      "Data columns (total 8 columns):\n",
      "link_flair_text    32821 non-null object\n",
      "title              32821 non-null object\n",
      "author             32821 non-null object\n",
      "selftext           32821 non-null object\n",
      "url                32821 non-null object\n",
      "id                 32821 non-null object\n",
      "score              32821 non-null int64\n",
      "domain             32821 non-null object\n",
      "dtypes: int64(1), object(7)\n",
      "memory usage: 2.3+ MB\n"
     ]
    },
    {
     "name": "stderr",
     "output_type": "stream",
     "text": [
      "c:\\users\\hp\\appdata\\local\\programs\\python\\python37\\lib\\site-packages\\ipykernel_launcher.py:1: SettingWithCopyWarning: \n",
      "A value is trying to be set on a copy of a slice from a DataFrame\n",
      "\n",
      "See the caveats in the documentation: http://pandas.pydata.org/pandas-docs/stable/user_guide/indexing.html#returning-a-view-versus-a-copy\n",
      "  \"\"\"Entry point for launching an IPython kernel.\n"
     ]
    }
   ],
   "source": [
    "df3.dropna(inplace=True)\n",
    "df3.info()"
   ]
  },
  {
   "cell_type": "code",
   "execution_count": 26,
   "metadata": {},
   "outputs": [
    {
     "name": "stdout",
     "output_type": "stream",
     "text": [
      "9222\n"
     ]
    },
    {
     "data": {
      "text/html": [
       "<div>\n",
       "<style scoped>\n",
       "    .dataframe tbody tr th:only-of-type {\n",
       "        vertical-align: middle;\n",
       "    }\n",
       "\n",
       "    .dataframe tbody tr th {\n",
       "        vertical-align: top;\n",
       "    }\n",
       "\n",
       "    .dataframe thead th {\n",
       "        text-align: right;\n",
       "    }\n",
       "</style>\n",
       "<table border=\"1\" class=\"dataframe\">\n",
       "  <thead>\n",
       "    <tr style=\"text-align: right;\">\n",
       "      <th></th>\n",
       "      <th>link_flair_text</th>\n",
       "      <th>title</th>\n",
       "      <th>author</th>\n",
       "      <th>selftext</th>\n",
       "      <th>url</th>\n",
       "      <th>id</th>\n",
       "      <th>score</th>\n",
       "      <th>domain</th>\n",
       "    </tr>\n",
       "  </thead>\n",
       "  <tbody>\n",
       "    <tr>\n",
       "      <th>21</th>\n",
       "      <td>Politics</td>\n",
       "      <td>J&amp;amp;K govt bans Kashmir Reader, calls it a t...</td>\n",
       "      <td>[deleted]</td>\n",
       "      <td>[deleted]</td>\n",
       "      <td>http://indianexpress.com/article/india/india-n...</td>\n",
       "      <td>55nu9t</td>\n",
       "      <td>10</td>\n",
       "      <td>indianexpress.com</td>\n",
       "    </tr>\n",
       "    <tr>\n",
       "      <th>49</th>\n",
       "      <td>Politics</td>\n",
       "      <td>http://www.firstpost.com/politics/ahead-of-pun...</td>\n",
       "      <td>[deleted]</td>\n",
       "      <td>[deleted]</td>\n",
       "      <td>http://www.firstpost.com/politics/ahead-of-pun...</td>\n",
       "      <td>59cf1u</td>\n",
       "      <td>2</td>\n",
       "      <td>firstpost.com</td>\n",
       "    </tr>\n",
       "    <tr>\n",
       "      <th>89</th>\n",
       "      <td>Non-Political</td>\n",
       "      <td>Netflix ad featuring Anurag Kashyap [np]</td>\n",
       "      <td>[deleted]</td>\n",
       "      <td>[deleted]</td>\n",
       "      <td>https://www.youtube.com/shared?ci=0S1OUaNmaf4</td>\n",
       "      <td>59lv2w</td>\n",
       "      <td>24</td>\n",
       "      <td>youtube.com</td>\n",
       "    </tr>\n",
       "    <tr>\n",
       "      <th>100</th>\n",
       "      <td>Non-Political</td>\n",
       "      <td>Uber raises fares by up to 100 per cent, longe...</td>\n",
       "      <td>[deleted]</td>\n",
       "      <td>[deleted]</td>\n",
       "      <td>http://indiatoday.intoday.in/technology/story/...</td>\n",
       "      <td>57fqrl</td>\n",
       "      <td>1</td>\n",
       "      <td>indiatoday.intoday.in</td>\n",
       "    </tr>\n",
       "    <tr>\n",
       "      <th>155</th>\n",
       "      <td>AskIndia</td>\n",
       "      <td>Are Indian guys considered losers by Indian Am...</td>\n",
       "      <td>iamaguythrowaway</td>\n",
       "      <td>I am taking US as an example but this applies ...</td>\n",
       "      <td>https://www.reddit.com/r/india/comments/55rf5n...</td>\n",
       "      <td>55rf5n</td>\n",
       "      <td>6</td>\n",
       "      <td>self.india</td>\n",
       "    </tr>\n",
       "    <tr>\n",
       "      <th>...</th>\n",
       "      <td>...</td>\n",
       "      <td>...</td>\n",
       "      <td>...</td>\n",
       "      <td>...</td>\n",
       "      <td>...</td>\n",
       "      <td>...</td>\n",
       "      <td>...</td>\n",
       "      <td>...</td>\n",
       "    </tr>\n",
       "    <tr>\n",
       "      <th>99981</th>\n",
       "      <td>Scheduled</td>\n",
       "      <td>What games are you playing this weekend ?</td>\n",
       "      <td>gsrevt</td>\n",
       "      <td>Let us use this thread to discuss games that w...</td>\n",
       "      <td>https://www.reddit.com/r/india/comments/aqv0kw...</td>\n",
       "      <td>aqv0kw</td>\n",
       "      <td>10</td>\n",
       "      <td>self.india</td>\n",
       "    </tr>\n",
       "    <tr>\n",
       "      <th>99993</th>\n",
       "      <td>AskIndia</td>\n",
       "      <td>What's the deal with young men Jaipur?</td>\n",
       "      <td>SallyAndEd</td>\n",
       "      <td>We're in Jaipur making Youtube videos at the m...</td>\n",
       "      <td>https://www.reddit.com/r/india/comments/aqx0aj...</td>\n",
       "      <td>aqx0aj</td>\n",
       "      <td>226</td>\n",
       "      <td>self.india</td>\n",
       "    </tr>\n",
       "    <tr>\n",
       "      <th>99995</th>\n",
       "      <td>Politics</td>\n",
       "      <td>The voice \"Azadi\" in the song of movie Gully B...</td>\n",
       "      <td>Slim_Python</td>\n",
       "      <td>It was created by Dub Sharma and original is m...</td>\n",
       "      <td>https://www.reddit.com/r/india/comments/aqxa4k...</td>\n",
       "      <td>aqxa4k</td>\n",
       "      <td>99</td>\n",
       "      <td>self.india</td>\n",
       "    </tr>\n",
       "    <tr>\n",
       "      <th>99997</th>\n",
       "      <td>Politics</td>\n",
       "      <td>Initiative to encourage voting supported by Go...</td>\n",
       "      <td>RamanySquare</td>\n",
       "      <td>Google is trying to encourage citizens of the ...</td>\n",
       "      <td>https://www.reddit.com/r/india/comments/aqydod...</td>\n",
       "      <td>aqydod</td>\n",
       "      <td>18</td>\n",
       "      <td>self.india</td>\n",
       "    </tr>\n",
       "    <tr>\n",
       "      <th>99998</th>\n",
       "      <td>Scheduled</td>\n",
       "      <td>Weekly Coders, Hackers &amp;amp; All Tech related ...</td>\n",
       "      <td>avinassh</td>\n",
       "      <td>[Last week's issue - 08/02/2019](https://np.re...</td>\n",
       "      <td>https://www.reddit.com/r/india/comments/aqyg4a...</td>\n",
       "      <td>aqyg4a</td>\n",
       "      <td>13</td>\n",
       "      <td>self.india</td>\n",
       "    </tr>\n",
       "  </tbody>\n",
       "</table>\n",
       "<p>9222 rows × 8 columns</p>\n",
       "</div>"
      ],
      "text/plain": [
       "      link_flair_text                                              title  \\\n",
       "21           Politics  J&amp;K govt bans Kashmir Reader, calls it a t...   \n",
       "49           Politics  http://www.firstpost.com/politics/ahead-of-pun...   \n",
       "89      Non-Political           Netflix ad featuring Anurag Kashyap [np]   \n",
       "100     Non-Political  Uber raises fares by up to 100 per cent, longe...   \n",
       "155          AskIndia  Are Indian guys considered losers by Indian Am...   \n",
       "...               ...                                                ...   \n",
       "99981       Scheduled          What games are you playing this weekend ?   \n",
       "99993        AskIndia             What's the deal with young men Jaipur?   \n",
       "99995        Politics  The voice \"Azadi\" in the song of movie Gully B...   \n",
       "99997        Politics  Initiative to encourage voting supported by Go...   \n",
       "99998       Scheduled  Weekly Coders, Hackers &amp; All Tech related ...   \n",
       "\n",
       "                 author                                           selftext  \\\n",
       "21            [deleted]                                          [deleted]   \n",
       "49            [deleted]                                          [deleted]   \n",
       "89            [deleted]                                          [deleted]   \n",
       "100           [deleted]                                          [deleted]   \n",
       "155    iamaguythrowaway  I am taking US as an example but this applies ...   \n",
       "...                 ...                                                ...   \n",
       "99981            gsrevt  Let us use this thread to discuss games that w...   \n",
       "99993        SallyAndEd  We're in Jaipur making Youtube videos at the m...   \n",
       "99995       Slim_Python  It was created by Dub Sharma and original is m...   \n",
       "99997      RamanySquare  Google is trying to encourage citizens of the ...   \n",
       "99998          avinassh  [Last week's issue - 08/02/2019](https://np.re...   \n",
       "\n",
       "                                                     url      id  score  \\\n",
       "21     http://indianexpress.com/article/india/india-n...  55nu9t     10   \n",
       "49     http://www.firstpost.com/politics/ahead-of-pun...  59cf1u      2   \n",
       "89         https://www.youtube.com/shared?ci=0S1OUaNmaf4  59lv2w     24   \n",
       "100    http://indiatoday.intoday.in/technology/story/...  57fqrl      1   \n",
       "155    https://www.reddit.com/r/india/comments/55rf5n...  55rf5n      6   \n",
       "...                                                  ...     ...    ...   \n",
       "99981  https://www.reddit.com/r/india/comments/aqv0kw...  aqv0kw     10   \n",
       "99993  https://www.reddit.com/r/india/comments/aqx0aj...  aqx0aj    226   \n",
       "99995  https://www.reddit.com/r/india/comments/aqxa4k...  aqxa4k     99   \n",
       "99997  https://www.reddit.com/r/india/comments/aqydod...  aqydod     18   \n",
       "99998  https://www.reddit.com/r/india/comments/aqyg4a...  aqyg4a     13   \n",
       "\n",
       "                      domain  \n",
       "21         indianexpress.com  \n",
       "49             firstpost.com  \n",
       "89               youtube.com  \n",
       "100    indiatoday.intoday.in  \n",
       "155               self.india  \n",
       "...                      ...  \n",
       "99981             self.india  \n",
       "99993             self.india  \n",
       "99995             self.india  \n",
       "99997             self.india  \n",
       "99998             self.india  \n",
       "\n",
       "[9222 rows x 8 columns]"
      ]
     },
     "execution_count": 26,
     "metadata": {},
     "output_type": "execute_result"
    }
   ],
   "source": [
    "keep = []\n",
    "data = df3\n",
    "flairs = ['AskIndia','Non-Political','Scheduled','Photography','Science/Technology','Politics','Business/Finance','Policy/Economy','Sports','Food']\n",
    "for flair in flairs:\n",
    "    l = len(df3[df3['link_flair_text'] == flair])\n",
    "    if l > 2000:\n",
    "        l = 2000\n",
    "    idx = list(df3[(df3['link_flair_text'] == flair)]['id'])\n",
    "    c = np.random.choice(idx, l, replace=False)\n",
    "    for i in c:\n",
    "        keep.append(i)\n",
    "\n",
    "print (len(keep))\n",
    "\n",
    "df4 = df3[df3['id'].isin(keep)]\n",
    "df4"
   ]
  },
  {
   "cell_type": "code",
   "execution_count": 27,
   "metadata": {},
   "outputs": [
    {
     "name": "stdout",
     "output_type": "stream",
     "text": [
      "<class 'pandas.core.frame.DataFrame'>\n",
      "Int64Index: 9222 entries, 21 to 99998\n",
      "Data columns (total 8 columns):\n",
      "link_flair_text    9222 non-null object\n",
      "title              9222 non-null object\n",
      "author             9222 non-null object\n",
      "selftext           9222 non-null object\n",
      "url                9222 non-null object\n",
      "id                 9222 non-null object\n",
      "score              9222 non-null int64\n",
      "domain             9222 non-null object\n",
      "dtypes: int64(1), object(7)\n",
      "memory usage: 648.4+ KB\n"
     ]
    }
   ],
   "source": [
    "df4.info()"
   ]
  },
  {
   "cell_type": "code",
   "execution_count": 28,
   "metadata": {},
   "outputs": [
    {
     "name": "stdout",
     "output_type": "stream",
     "text": [
      "Index(['link_flair_text', 'title', 'author', 'selftext', 'url', 'id', 'score',\n",
      "       'domain'],\n",
      "      dtype='object')\n"
     ]
    },
    {
     "name": "stderr",
     "output_type": "stream",
     "text": [
      "c:\\users\\hp\\appdata\\local\\programs\\python\\python37\\lib\\site-packages\\ipykernel_launcher.py:12: SettingWithCopyWarning: \n",
      "A value is trying to be set on a copy of a slice from a DataFrame.\n",
      "Try using .loc[row_indexer,col_indexer] = value instead\n",
      "\n",
      "See the caveats in the documentation: http://pandas.pydata.org/pandas-docs/stable/user_guide/indexing.html#returning-a-view-versus-a-copy\n",
      "  if sys.path[0] == '':\n"
     ]
    },
    {
     "name": "stdout",
     "output_type": "stream",
     "text": [
      "done\n"
     ]
    }
   ],
   "source": [
    "x=df1.columns\n",
    "print(df4.columns)\n",
    "#submission=df2.iloc[0]\n",
    "#submission=reddit.submission(id=submission.id)\n",
    "#submission.title\n",
    "#submission.comments.replace_more(limit=0)\n",
    "#for comment in submission.comments:\n",
    "#    print(comment.body)\n",
    "    \n",
    "\n",
    "    \n",
    "df4['comments']=df4['id'].apply(getcomments)\n",
    "df4[['id','comments']].head()\n",
    "print('done')\n",
    "\n",
    "df4.to_csv('out_final2.csv')"
   ]
  },
  {
   "cell_type": "code",
   "execution_count": 67,
   "metadata": {},
   "outputs": [
    {
     "name": "stdout",
     "output_type": "stream",
     "text": [
      "ok\n"
     ]
    }
   ],
   "source": [
    "print('ok')"
   ]
  },
  {
   "cell_type": "code",
   "execution_count": 29,
   "metadata": {},
   "outputs": [
    {
     "data": {
      "text/plain": [
       "Index(['created_utc', 'subreddit', 'author', 'domain', 'url', 'num_comments',\n",
       "       'score', 'ups', 'downs', 'title', 'selftext', 'saved', 'id',\n",
       "       'from_kind', 'gilded', 'from', 'stickied', 'retrieved_on', 'over_18',\n",
       "       'thumbnail', 'subreddit_id', 'hide_score', 'link_flair_css_class',\n",
       "       'author_flair_css_class', 'archived', 'is_self', 'from_id', 'permalink',\n",
       "       'name', 'author_flair_text', 'quarantine', 'link_flair_text',\n",
       "       'distinguished'],\n",
       "      dtype='object')"
      ]
     },
     "execution_count": 29,
     "metadata": {},
     "output_type": "execute_result"
    }
   ],
   "source": [
    "df2.columns"
   ]
  },
  {
   "cell_type": "code",
   "execution_count": 30,
   "metadata": {},
   "outputs": [],
   "source": [
    "df5=pd.read_csv('out_final2.csv')"
   ]
  },
  {
   "cell_type": "code",
   "execution_count": 31,
   "metadata": {},
   "outputs": [
    {
     "data": {
      "text/plain": [
       "0       The Deputy Commissioner Srinagar Farooq Ahmad ...\n",
       "1       Kejriwal's hubris did the full Monty on Twitte...\n",
       "2       Straight to Netflix releases should really be ...\n",
       "3       Uber raises fares by up to 100 per cent, longe...\n",
       "4       That's just you OP,stop projecting your insecu...\n",
       "                              ...                        \n",
       "9217    Trying Apex after uni tonightApex Legends. PC\\...\n",
       "9218    Damn that's awful. I'm from Jaipur, live in De...\n",
       "9219    Original track here :[https://www.youtube.com/...\n",
       "9220    Sounds good!I applied for form 6 online but my...\n",
       "9221    For those of you working in ML, how do you typ...\n",
       "Name: comments, Length: 9222, dtype: object"
      ]
     },
     "execution_count": 31,
     "metadata": {},
     "output_type": "execute_result"
    }
   ],
   "source": [
    "df5['comments']"
   ]
  },
  {
   "cell_type": "code",
   "execution_count": 32,
   "metadata": {},
   "outputs": [
    {
     "name": "stdout",
     "output_type": "stream",
     "text": [
      "<class 'pandas.core.frame.DataFrame'>\n",
      "RangeIndex: 9222 entries, 0 to 9221\n",
      "Data columns (total 10 columns):\n",
      "Unnamed: 0         9222 non-null int64\n",
      "link_flair_text    9222 non-null object\n",
      "title              9222 non-null object\n",
      "author             9222 non-null object\n",
      "selftext           9222 non-null object\n",
      "url                9222 non-null object\n",
      "id                 9222 non-null object\n",
      "score              9222 non-null int64\n",
      "domain             9222 non-null object\n",
      "comments           6833 non-null object\n",
      "dtypes: int64(2), object(8)\n",
      "memory usage: 720.6+ KB\n"
     ]
    }
   ],
   "source": [
    "df5.info()"
   ]
  },
  {
   "cell_type": "code",
   "execution_count": null,
   "metadata": {},
   "outputs": [],
   "source": []
  }
 ],
 "metadata": {
  "kernelspec": {
   "display_name": "Python 3",
   "language": "python",
   "name": "python3"
  },
  "language_info": {
   "codemirror_mode": {
    "name": "ipython",
    "version": 3
   },
   "file_extension": ".py",
   "mimetype": "text/x-python",
   "name": "python",
   "nbconvert_exporter": "python",
   "pygments_lexer": "ipython3",
   "version": "3.7.3"
  }
 },
 "nbformat": 4,
 "nbformat_minor": 4
}
