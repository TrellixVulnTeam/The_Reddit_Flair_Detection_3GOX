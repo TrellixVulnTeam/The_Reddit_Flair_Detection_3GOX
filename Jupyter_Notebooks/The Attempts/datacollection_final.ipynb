{
 "cells": [
  {
   "cell_type": "code",
   "execution_count": 30,
   "metadata": {},
   "outputs": [],
   "source": [
    "import pandas as pd\n",
    "import numpy as np"
   ]
  },
  {
   "cell_type": "code",
   "execution_count": 31,
   "metadata": {},
   "outputs": [],
   "source": [
    "df1=pd.read_csv('reddit_flair.csv')"
   ]
  },
  {
   "cell_type": "code",
   "execution_count": 32,
   "metadata": {},
   "outputs": [
    {
     "name": "stdout",
     "output_type": "stream",
     "text": [
      "<class 'pandas.core.frame.DataFrame'>\n",
      "RangeIndex: 1799 entries, 0 to 1798\n",
      "Data columns (total 8 columns):\n",
      "flair       1799 non-null object\n",
      "title       1799 non-null object\n",
      "author      1799 non-null object\n",
      "text        1066 non-null object\n",
      "url         1799 non-null object\n",
      "comments    1646 non-null object\n",
      "score       1799 non-null int64\n",
      "domain      1799 non-null object\n",
      "dtypes: int64(1), object(7)\n",
      "memory usage: 112.6+ KB\n"
     ]
    },
    {
     "data": {
      "text/html": [
       "<div>\n",
       "<style scoped>\n",
       "    .dataframe tbody tr th:only-of-type {\n",
       "        vertical-align: middle;\n",
       "    }\n",
       "\n",
       "    .dataframe tbody tr th {\n",
       "        vertical-align: top;\n",
       "    }\n",
       "\n",
       "    .dataframe thead th {\n",
       "        text-align: right;\n",
       "    }\n",
       "</style>\n",
       "<table border=\"1\" class=\"dataframe\">\n",
       "  <thead>\n",
       "    <tr style=\"text-align: right;\">\n",
       "      <th></th>\n",
       "      <th>flair</th>\n",
       "      <th>title</th>\n",
       "      <th>author</th>\n",
       "      <th>text</th>\n",
       "      <th>url</th>\n",
       "      <th>comments</th>\n",
       "      <th>score</th>\n",
       "      <th>domain</th>\n",
       "    </tr>\n",
       "  </thead>\n",
       "  <tbody>\n",
       "    <tr>\n",
       "      <th>0</th>\n",
       "      <td>AskIndia</td>\n",
       "      <td>4 days ago we had pending orders of 100 millio...</td>\n",
       "      <td>india_ko_vanakkam</td>\n",
       "      <td>&gt; We are getting frantic calls from our pharma...</td>\n",
       "      <td>https://www.reddit.com/r/india/comments/fwjdqr...</td>\n",
       "      <td>\\nModi has Stockholm syndrome\\nTo be fair, the...</td>\n",
       "      <td>96</td>\n",
       "      <td>self.india</td>\n",
       "    </tr>\n",
       "    <tr>\n",
       "      <th>1</th>\n",
       "      <td>AskIndia</td>\n",
       "      <td>Randians who were big time users of dating app...</td>\n",
       "      <td>__knockknockturnal__</td>\n",
       "      <td>I'd my own stint with these apps(a couple of m...</td>\n",
       "      <td>https://www.reddit.com/r/india/comments/fizkkk...</td>\n",
       "      <td>\\nSomeone matched with me just to tell me that...</td>\n",
       "      <td>19</td>\n",
       "      <td>self.india</td>\n",
       "    </tr>\n",
       "    <tr>\n",
       "      <th>2</th>\n",
       "      <td>AskIndia</td>\n",
       "      <td>What does r/India thinks about the Flat Earthers?</td>\n",
       "      <td>Dev1003</td>\n",
       "      <td>I encountered a Foreigner in IG who says \" Rou...</td>\n",
       "      <td>https://www.reddit.com/r/india/comments/f25vx0...</td>\n",
       "      <td>\\nI haven't found a Indian yet who believes ea...</td>\n",
       "      <td>7</td>\n",
       "      <td>self.india</td>\n",
       "    </tr>\n",
       "    <tr>\n",
       "      <th>3</th>\n",
       "      <td>AskIndia</td>\n",
       "      <td>People who left their 9 to 5 jobs to pursue a ...</td>\n",
       "      <td>c0mrade34</td>\n",
       "      <td>Couldn't add AskIndia flair from the mobile br...</td>\n",
       "      <td>https://www.reddit.com/r/india/comments/dtvliq...</td>\n",
       "      <td>\\nAn Engineer, doing advertisement shoots sinc...</td>\n",
       "      <td>44</td>\n",
       "      <td>self.india</td>\n",
       "    </tr>\n",
       "    <tr>\n",
       "      <th>4</th>\n",
       "      <td>AskIndia</td>\n",
       "      <td>Somebody want to kill my full family what to do?</td>\n",
       "      <td>amitkumarthakur</td>\n",
       "      <td>It's now 24hrs, But local police station is no...</td>\n",
       "      <td>https://www.reddit.com/r/india/comments/b7pvwt...</td>\n",
       "      <td>\\nCalm down.\\nGo to the SP office of your town...</td>\n",
       "      <td>96</td>\n",
       "      <td>self.india</td>\n",
       "    </tr>\n",
       "  </tbody>\n",
       "</table>\n",
       "</div>"
      ],
      "text/plain": [
       "      flair                                              title  \\\n",
       "0  AskIndia  4 days ago we had pending orders of 100 millio...   \n",
       "1  AskIndia  Randians who were big time users of dating app...   \n",
       "2  AskIndia  What does r/India thinks about the Flat Earthers?   \n",
       "3  AskIndia  People who left their 9 to 5 jobs to pursue a ...   \n",
       "4  AskIndia   Somebody want to kill my full family what to do?   \n",
       "\n",
       "                 author                                               text  \\\n",
       "0     india_ko_vanakkam  > We are getting frantic calls from our pharma...   \n",
       "1  __knockknockturnal__  I'd my own stint with these apps(a couple of m...   \n",
       "2               Dev1003  I encountered a Foreigner in IG who says \" Rou...   \n",
       "3             c0mrade34  Couldn't add AskIndia flair from the mobile br...   \n",
       "4       amitkumarthakur  It's now 24hrs, But local police station is no...   \n",
       "\n",
       "                                                 url  \\\n",
       "0  https://www.reddit.com/r/india/comments/fwjdqr...   \n",
       "1  https://www.reddit.com/r/india/comments/fizkkk...   \n",
       "2  https://www.reddit.com/r/india/comments/f25vx0...   \n",
       "3  https://www.reddit.com/r/india/comments/dtvliq...   \n",
       "4  https://www.reddit.com/r/india/comments/b7pvwt...   \n",
       "\n",
       "                                            comments  score      domain  \n",
       "0  \\nModi has Stockholm syndrome\\nTo be fair, the...     96  self.india  \n",
       "1  \\nSomeone matched with me just to tell me that...     19  self.india  \n",
       "2  \\nI haven't found a Indian yet who believes ea...      7  self.india  \n",
       "3  \\nAn Engineer, doing advertisement shoots sinc...     44  self.india  \n",
       "4  \\nCalm down.\\nGo to the SP office of your town...     96  self.india  "
      ]
     },
     "execution_count": 32,
     "metadata": {},
     "output_type": "execute_result"
    }
   ],
   "source": [
    "df1.info()\n",
    "df1.head()"
   ]
  },
  {
   "cell_type": "code",
   "execution_count": 35,
   "metadata": {},
   "outputs": [
    {
     "name": "stdout",
     "output_type": "stream",
     "text": [
      "<class 'pandas.core.frame.DataFrame'>\n",
      "RangeIndex: 11544 entries, 0 to 11543\n",
      "Data columns (total 8 columns):\n",
      "author      11544 non-null object\n",
      "comments    9155 non-null object\n",
      "domain      11544 non-null object\n",
      "flair       11544 non-null object\n",
      "score       11544 non-null int64\n",
      "text        11544 non-null object\n",
      "title       11544 non-null object\n",
      "url         11544 non-null object\n",
      "dtypes: int64(1), object(7)\n",
      "memory usage: 721.6+ KB\n"
     ]
    }
   ],
   "source": [
    "df2_1=pd.read_csv('final_db.csv')\n",
    "df2_1.info()"
   ]
  },
  {
   "cell_type": "code",
   "execution_count": 13,
   "metadata": {},
   "outputs": [
    {
     "name": "stdout",
     "output_type": "stream",
     "text": [
      "<class 'pandas.core.frame.DataFrame'>\n",
      "RangeIndex: 15803 entries, 0 to 15802\n",
      "Data columns (total 10 columns):\n",
      "Unnamed: 0         15803 non-null int64\n",
      "link_flair_text    15803 non-null object\n",
      "title              15803 non-null object\n",
      "author             15803 non-null object\n",
      "selftext           5456 non-null object\n",
      "url                15803 non-null object\n",
      "id                 15803 non-null object\n",
      "score              15803 non-null int64\n",
      "domain             15803 non-null object\n",
      "comments           10920 non-null object\n",
      "dtypes: int64(2), object(8)\n",
      "memory usage: 1.2+ MB\n"
     ]
    }
   ],
   "source": [
    "df2_2=pd.read_csv('out.csv')\n",
    "df2_2.info()"
   ]
  },
  {
   "cell_type": "code",
   "execution_count": 27,
   "metadata": {},
   "outputs": [
    {
     "data": {
      "text/html": [
       "<div>\n",
       "<style scoped>\n",
       "    .dataframe tbody tr th:only-of-type {\n",
       "        vertical-align: middle;\n",
       "    }\n",
       "\n",
       "    .dataframe tbody tr th {\n",
       "        vertical-align: top;\n",
       "    }\n",
       "\n",
       "    .dataframe thead th {\n",
       "        text-align: right;\n",
       "    }\n",
       "</style>\n",
       "<table border=\"1\" class=\"dataframe\">\n",
       "  <thead>\n",
       "    <tr style=\"text-align: right;\">\n",
       "      <th></th>\n",
       "      <th>Unnamed: 0</th>\n",
       "      <th>link_flair_text</th>\n",
       "      <th>title</th>\n",
       "      <th>author</th>\n",
       "      <th>selftext</th>\n",
       "      <th>url</th>\n",
       "      <th>id</th>\n",
       "      <th>score</th>\n",
       "      <th>domain</th>\n",
       "      <th>comments</th>\n",
       "    </tr>\n",
       "  </thead>\n",
       "  <tbody>\n",
       "  </tbody>\n",
       "</table>\n",
       "</div>"
      ],
      "text/plain": [
       "Empty DataFrame\n",
       "Columns: [Unnamed: 0, link_flair_text, title, author, selftext, url, id, score, domain, comments]\n",
       "Index: []"
      ]
     },
     "execution_count": 27,
     "metadata": {},
     "output_type": "execute_result"
    }
   ],
   "source": [
    "df2_2[df2_2['selftext']==np.nan]\n"
   ]
  },
  {
   "cell_type": "code",
   "execution_count": 19,
   "metadata": {},
   "outputs": [
    {
     "name": "stderr",
     "output_type": "stream",
     "text": [
      "c:\\users\\hp\\appdata\\local\\programs\\python\\python37\\lib\\site-packages\\pandas\\core\\frame.py:4117: SettingWithCopyWarning: \n",
      "A value is trying to be set on a copy of a slice from a DataFrame\n",
      "\n",
      "See the caveats in the documentation: http://pandas.pydata.org/pandas-docs/stable/user_guide/indexing.html#returning-a-view-versus-a-copy\n",
      "  errors=errors,\n"
     ]
    }
   ],
   "source": [
    "df3.drop(['id','Unnamed: 0'],axis=1,inplace=True)"
   ]
  },
  {
   "cell_type": "code",
   "execution_count": 20,
   "metadata": {},
   "outputs": [
    {
     "name": "stderr",
     "output_type": "stream",
     "text": [
      "c:\\users\\hp\\appdata\\local\\programs\\python\\python37\\lib\\site-packages\\pandas\\core\\frame.py:4238: SettingWithCopyWarning: \n",
      "A value is trying to be set on a copy of a slice from a DataFrame\n",
      "\n",
      "See the caveats in the documentation: http://pandas.pydata.org/pandas-docs/stable/user_guide/indexing.html#returning-a-view-versus-a-copy\n",
      "  return super().rename(**kwargs)\n"
     ]
    }
   ],
   "source": [
    "df3.rename(columns={\"selftext\": \"text\",\"link_flair_text\":\"flair\"},inplace=True)"
   ]
  },
  {
   "cell_type": "code",
   "execution_count": 21,
   "metadata": {},
   "outputs": [
    {
     "data": {
      "text/html": [
       "<div>\n",
       "<style scoped>\n",
       "    .dataframe tbody tr th:only-of-type {\n",
       "        vertical-align: middle;\n",
       "    }\n",
       "\n",
       "    .dataframe tbody tr th {\n",
       "        vertical-align: top;\n",
       "    }\n",
       "\n",
       "    .dataframe thead th {\n",
       "        text-align: right;\n",
       "    }\n",
       "</style>\n",
       "<table border=\"1\" class=\"dataframe\">\n",
       "  <thead>\n",
       "    <tr style=\"text-align: right;\">\n",
       "      <th></th>\n",
       "      <th>flair</th>\n",
       "      <th>title</th>\n",
       "      <th>author</th>\n",
       "      <th>text</th>\n",
       "      <th>url</th>\n",
       "      <th>score</th>\n",
       "      <th>domain</th>\n",
       "      <th>comments</th>\n",
       "    </tr>\n",
       "  </thead>\n",
       "  <tbody>\n",
       "  </tbody>\n",
       "</table>\n",
       "</div>"
      ],
      "text/plain": [
       "Empty DataFrame\n",
       "Columns: [flair, title, author, text, url, score, domain, comments]\n",
       "Index: []"
      ]
     },
     "execution_count": 21,
     "metadata": {},
     "output_type": "execute_result"
    }
   ],
   "source": [
    "df3.head()"
   ]
  },
  {
   "cell_type": "code",
   "execution_count": null,
   "metadata": {},
   "outputs": [],
   "source": []
  }
 ],
 "metadata": {
  "kernelspec": {
   "display_name": "Python 3",
   "language": "python",
   "name": "python3"
  },
  "language_info": {
   "codemirror_mode": {
    "name": "ipython",
    "version": 3
   },
   "file_extension": ".py",
   "mimetype": "text/x-python",
   "name": "python",
   "nbconvert_exporter": "python",
   "pygments_lexer": "ipython3",
   "version": "3.7.3"
  }
 },
 "nbformat": 4,
 "nbformat_minor": 4
}
