{
 "cells": [
  {
   "cell_type": "code",
   "execution_count": 136,
   "metadata": {},
   "outputs": [],
   "source": [
    "import pandas as pd\n",
    "import numpy as np"
   ]
  },
  {
   "cell_type": "code",
   "execution_count": 137,
   "metadata": {},
   "outputs": [],
   "source": [
    "df1_1=pd.read_csv('reddit_flair3.csv')\n",
    "df1_2=pd.read_csv('reddit_flair.csv')"
   ]
  },
  {
   "cell_type": "markdown",
   "metadata": {},
   "source": [
    "df.head()"
   ]
  },
  {
   "cell_type": "code",
   "execution_count": 138,
   "metadata": {},
   "outputs": [
    {
     "name": "stdout",
     "output_type": "stream",
     "text": [
      "<class 'pandas.core.frame.DataFrame'>\n",
      "RangeIndex: 4113 entries, 0 to 4112\n",
      "Data columns (total 8 columns):\n",
      "flair       4113 non-null object\n",
      "title       4113 non-null object\n",
      "author      4113 non-null object\n",
      "text        2467 non-null object\n",
      "url         4113 non-null object\n",
      "comments    3766 non-null object\n",
      "score       4113 non-null int64\n",
      "domain      4113 non-null object\n",
      "dtypes: int64(1), object(7)\n",
      "memory usage: 257.2+ KB\n"
     ]
    }
   ],
   "source": [
    "df1=pd.concat([df1_1,df1_2],ignore_index=True)\n",
    "df1.info()"
   ]
  },
  {
   "cell_type": "code",
   "execution_count": 141,
   "metadata": {},
   "outputs": [
    {
     "name": "stdout",
     "output_type": "stream",
     "text": [
      "<class 'pandas.core.frame.DataFrame'>\n",
      "RangeIndex: 15803 entries, 0 to 15802\n",
      "Data columns (total 10 columns):\n",
      "Unnamed: 0         15803 non-null int64\n",
      "link_flair_text    15803 non-null object\n",
      "title              15803 non-null object\n",
      "author             15803 non-null object\n",
      "selftext           5456 non-null object\n",
      "url                15803 non-null object\n",
      "id                 15803 non-null object\n",
      "score              15803 non-null int64\n",
      "domain             15803 non-null object\n",
      "comments           10920 non-null object\n",
      "dtypes: int64(2), object(8)\n",
      "memory usage: 1.2+ MB\n"
     ]
    }
   ],
   "source": [
    "df2=pd.read_csv('out.csv')\n",
    "df2.head()\n",
    "df2.info()"
   ]
  },
  {
   "cell_type": "code",
   "execution_count": 142,
   "metadata": {},
   "outputs": [],
   "source": [
    "df2.drop('Unnamed: 0',axis=1,inplace=True)"
   ]
  },
  {
   "cell_type": "code",
   "execution_count": 143,
   "metadata": {},
   "outputs": [
    {
     "name": "stdout",
     "output_type": "stream",
     "text": [
      "<class 'pandas.core.frame.DataFrame'>\n",
      "RangeIndex: 15803 entries, 0 to 15802\n",
      "Data columns (total 9 columns):\n",
      "link_flair_text    15803 non-null object\n",
      "title              15803 non-null object\n",
      "author             15803 non-null object\n",
      "selftext           5456 non-null object\n",
      "url                15803 non-null object\n",
      "id                 15803 non-null object\n",
      "score              15803 non-null int64\n",
      "domain             15803 non-null object\n",
      "comments           10920 non-null object\n",
      "dtypes: int64(1), object(8)\n",
      "memory usage: 1.1+ MB\n"
     ]
    }
   ],
   "source": [
    "df2.info()"
   ]
  },
  {
   "cell_type": "code",
   "execution_count": 144,
   "metadata": {},
   "outputs": [
    {
     "data": {
      "text/html": [
       "<div>\n",
       "<style scoped>\n",
       "    .dataframe tbody tr th:only-of-type {\n",
       "        vertical-align: middle;\n",
       "    }\n",
       "\n",
       "    .dataframe tbody tr th {\n",
       "        vertical-align: top;\n",
       "    }\n",
       "\n",
       "    .dataframe thead th {\n",
       "        text-align: right;\n",
       "    }\n",
       "</style>\n",
       "<table border=\"1\" class=\"dataframe\">\n",
       "  <thead>\n",
       "    <tr style=\"text-align: right;\">\n",
       "      <th></th>\n",
       "      <th>link_flair_text</th>\n",
       "      <th>title</th>\n",
       "      <th>author</th>\n",
       "      <th>selftext</th>\n",
       "      <th>url</th>\n",
       "      <th>score</th>\n",
       "      <th>domain</th>\n",
       "      <th>comments</th>\n",
       "    </tr>\n",
       "  </thead>\n",
       "  <tbody>\n",
       "    <tr>\n",
       "      <th>0</th>\n",
       "      <td>Politics</td>\n",
       "      <td>Is BJP quietly raising Ram Mandir issue ahead ...</td>\n",
       "      <td>Anti_bhakt</td>\n",
       "      <td>NaN</td>\n",
       "      <td>http://indianexpress.com/article/opinion/web-e...</td>\n",
       "      <td>3</td>\n",
       "      <td>indianexpress.com</td>\n",
       "      <td>RSS/BJP: Poora Desh Jal Jaye, Lekin Mandir Wah...</td>\n",
       "    </tr>\n",
       "    <tr>\n",
       "      <th>1</th>\n",
       "      <td>AskIndia</td>\n",
       "      <td>How do you look after your elderly loved ones ...</td>\n",
       "      <td>ZareenUK</td>\n",
       "      <td>How do you look after your elderly loved ones ...</td>\n",
       "      <td>https://www.reddit.com/r/india/comments/59ufq9...</td>\n",
       "      <td>11</td>\n",
       "      <td>self.india</td>\n",
       "      <td>The best option is your mother staying with hi...</td>\n",
       "    </tr>\n",
       "    <tr>\n",
       "      <th>2</th>\n",
       "      <td>AskIndia</td>\n",
       "      <td>[Ask] Road accident</td>\n",
       "      <td>Aamraswala</td>\n",
       "      <td>Suppose you are driving a car or riding a bike...</td>\n",
       "      <td>https://www.reddit.com/r/india/comments/56nlc0...</td>\n",
       "      <td>11</td>\n",
       "      <td>self.india</td>\n",
       "      <td>It's always the fault of the guy in the bigger...</td>\n",
       "    </tr>\n",
       "    <tr>\n",
       "      <th>3</th>\n",
       "      <td>Politics</td>\n",
       "      <td>Naroda patiya case: Babu Bajrangi gets 7 day-b...</td>\n",
       "      <td>nuclearpowerwalah</td>\n",
       "      <td>NaN</td>\n",
       "      <td>http://indianexpress.com/article/india/india-n...</td>\n",
       "      <td>43</td>\n",
       "      <td>indianexpress.com</td>\n",
       "      <td>why not just give him a clean chit like his ma...</td>\n",
       "    </tr>\n",
       "    <tr>\n",
       "      <th>4</th>\n",
       "      <td>Politics</td>\n",
       "      <td>IAF chief Anup Raha sends tough message to Pak...</td>\n",
       "      <td>AcheDin</td>\n",
       "      <td>NaN</td>\n",
       "      <td>http://zeenews.india.com/news/india/iaf-chief-...</td>\n",
       "      <td>1</td>\n",
       "      <td>zeenews.india.com</td>\n",
       "      <td>NaN</td>\n",
       "    </tr>\n",
       "  </tbody>\n",
       "</table>\n",
       "</div>"
      ],
      "text/plain": [
       "  link_flair_text                                              title  \\\n",
       "0        Politics  Is BJP quietly raising Ram Mandir issue ahead ...   \n",
       "1        AskIndia  How do you look after your elderly loved ones ...   \n",
       "2        AskIndia                                [Ask] Road accident   \n",
       "3        Politics  Naroda patiya case: Babu Bajrangi gets 7 day-b...   \n",
       "4        Politics  IAF chief Anup Raha sends tough message to Pak...   \n",
       "\n",
       "              author                                           selftext  \\\n",
       "0         Anti_bhakt                                                NaN   \n",
       "1           ZareenUK  How do you look after your elderly loved ones ...   \n",
       "2         Aamraswala  Suppose you are driving a car or riding a bike...   \n",
       "3  nuclearpowerwalah                                                NaN   \n",
       "4            AcheDin                                                NaN   \n",
       "\n",
       "                                                 url  score  \\\n",
       "0  http://indianexpress.com/article/opinion/web-e...      3   \n",
       "1  https://www.reddit.com/r/india/comments/59ufq9...     11   \n",
       "2  https://www.reddit.com/r/india/comments/56nlc0...     11   \n",
       "3  http://indianexpress.com/article/india/india-n...     43   \n",
       "4  http://zeenews.india.com/news/india/iaf-chief-...      1   \n",
       "\n",
       "              domain                                           comments  \n",
       "0  indianexpress.com  RSS/BJP: Poora Desh Jal Jaye, Lekin Mandir Wah...  \n",
       "1         self.india  The best option is your mother staying with hi...  \n",
       "2         self.india  It's always the fault of the guy in the bigger...  \n",
       "3  indianexpress.com  why not just give him a clean chit like his ma...  \n",
       "4  zeenews.india.com                                                NaN  "
      ]
     },
     "execution_count": 144,
     "metadata": {},
     "output_type": "execute_result"
    }
   ],
   "source": [
    "df2.drop('id',axis=1,inplace=True)\n",
    "df2.head()"
   ]
  },
  {
   "cell_type": "code",
   "execution_count": 145,
   "metadata": {},
   "outputs": [],
   "source": [
    "df2.rename(columns={\"selftext\": \"text\",\"link_flair_text\":\"flair\"},inplace=True)"
   ]
  },
  {
   "cell_type": "code",
   "execution_count": 146,
   "metadata": {},
   "outputs": [
    {
     "data": {
      "text/html": [
       "<div>\n",
       "<style scoped>\n",
       "    .dataframe tbody tr th:only-of-type {\n",
       "        vertical-align: middle;\n",
       "    }\n",
       "\n",
       "    .dataframe tbody tr th {\n",
       "        vertical-align: top;\n",
       "    }\n",
       "\n",
       "    .dataframe thead th {\n",
       "        text-align: right;\n",
       "    }\n",
       "</style>\n",
       "<table border=\"1\" class=\"dataframe\">\n",
       "  <thead>\n",
       "    <tr style=\"text-align: right;\">\n",
       "      <th></th>\n",
       "      <th>flair</th>\n",
       "      <th>title</th>\n",
       "      <th>author</th>\n",
       "      <th>text</th>\n",
       "      <th>url</th>\n",
       "      <th>comments</th>\n",
       "      <th>score</th>\n",
       "      <th>domain</th>\n",
       "    </tr>\n",
       "  </thead>\n",
       "  <tbody>\n",
       "    <tr>\n",
       "      <th>0</th>\n",
       "      <td>AskIndia</td>\n",
       "      <td>4 days ago we had pending orders of 100 millio...</td>\n",
       "      <td>india_ko_vanakkam</td>\n",
       "      <td>&gt; We are getting frantic calls from our pharma...</td>\n",
       "      <td>https://www.reddit.com/r/india/comments/fwjdqr...</td>\n",
       "      <td>\\nModi has Stockholm syndrome\\nTo be fair, the...</td>\n",
       "      <td>91</td>\n",
       "      <td>self.india</td>\n",
       "    </tr>\n",
       "    <tr>\n",
       "      <th>1</th>\n",
       "      <td>AskIndia</td>\n",
       "      <td>Randians who were big time users of dating app...</td>\n",
       "      <td>__knockknockturnal__</td>\n",
       "      <td>I'd my own stint with these apps(a couple of m...</td>\n",
       "      <td>https://www.reddit.com/r/india/comments/fizkkk...</td>\n",
       "      <td>\\nSomeone matched with me just to tell me that...</td>\n",
       "      <td>18</td>\n",
       "      <td>self.india</td>\n",
       "    </tr>\n",
       "    <tr>\n",
       "      <th>2</th>\n",
       "      <td>AskIndia</td>\n",
       "      <td>What does r/India thinks about the Flat Earthers?</td>\n",
       "      <td>Dev1003</td>\n",
       "      <td>I encountered a Foreigner in IG who says \" Rou...</td>\n",
       "      <td>https://www.reddit.com/r/india/comments/f25vx0...</td>\n",
       "      <td>\\nI haven't found a Indian yet who believes ea...</td>\n",
       "      <td>6</td>\n",
       "      <td>self.india</td>\n",
       "    </tr>\n",
       "    <tr>\n",
       "      <th>3</th>\n",
       "      <td>AskIndia</td>\n",
       "      <td>People who left their 9 to 5 jobs to pursue a ...</td>\n",
       "      <td>c0mrade34</td>\n",
       "      <td>Couldn't add AskIndia flair from the mobile br...</td>\n",
       "      <td>https://www.reddit.com/r/india/comments/dtvliq...</td>\n",
       "      <td>\\nAn Engineer, doing advertisement shoots sinc...</td>\n",
       "      <td>47</td>\n",
       "      <td>self.india</td>\n",
       "    </tr>\n",
       "    <tr>\n",
       "      <th>4</th>\n",
       "      <td>AskIndia</td>\n",
       "      <td>Somebody want to kill my full family what to do?</td>\n",
       "      <td>amitkumarthakur</td>\n",
       "      <td>It's now 24hrs, But local police station is no...</td>\n",
       "      <td>https://www.reddit.com/r/india/comments/b7pvwt...</td>\n",
       "      <td>\\nCalm down.\\nGo to the SP office of your town...</td>\n",
       "      <td>96</td>\n",
       "      <td>self.india</td>\n",
       "    </tr>\n",
       "    <tr>\n",
       "      <th>...</th>\n",
       "      <td>...</td>\n",
       "      <td>...</td>\n",
       "      <td>...</td>\n",
       "      <td>...</td>\n",
       "      <td>...</td>\n",
       "      <td>...</td>\n",
       "      <td>...</td>\n",
       "      <td>...</td>\n",
       "    </tr>\n",
       "    <tr>\n",
       "      <th>4108</th>\n",
       "      <td>Food</td>\n",
       "      <td>New hunger games in jobless Bharat: A ground r...</td>\n",
       "      <td>madamplease</td>\n",
       "      <td>NaN</td>\n",
       "      <td>https://www.livemint.com/news/india/new-hunger...</td>\n",
       "      <td>\\nCongratulations to everyone who voted for \"d...</td>\n",
       "      <td>27</td>\n",
       "      <td>livemint.com</td>\n",
       "    </tr>\n",
       "    <tr>\n",
       "      <th>4109</th>\n",
       "      <td>Food</td>\n",
       "      <td>Zomato delivery boys go on strike in Mumbai, B...</td>\n",
       "      <td>aiyyooooo</td>\n",
       "      <td>NaN</td>\n",
       "      <td>https://www.businesstoday.in/current/corporate...</td>\n",
       "      <td>\\nJust proves that reckless cash burn ends up ...</td>\n",
       "      <td>237</td>\n",
       "      <td>businesstoday.in</td>\n",
       "    </tr>\n",
       "    <tr>\n",
       "      <th>4110</th>\n",
       "      <td>Food</td>\n",
       "      <td>Kerala prisoners churn out 6,000 masks in 2 da...</td>\n",
       "      <td>Budget-Independent</td>\n",
       "      <td>NaN</td>\n",
       "      <td>https://theprint.in/india/kerala-prisoners-chu...</td>\n",
       "      <td>\\nDo they get paid ?\\nMan, even their prisoner...</td>\n",
       "      <td>177</td>\n",
       "      <td>theprint.in</td>\n",
       "    </tr>\n",
       "    <tr>\n",
       "      <th>4111</th>\n",
       "      <td>Food</td>\n",
       "      <td>There's an India beyond social media. And we'r...</td>\n",
       "      <td>dlisfyn</td>\n",
       "      <td>I love the way some affluent people are cribbi...</td>\n",
       "      <td>https://www.reddit.com/r/india/comments/fru6lw...</td>\n",
       "      <td>\\nWell said!! It’s sad thinking about the soci...</td>\n",
       "      <td>123</td>\n",
       "      <td>self.india</td>\n",
       "    </tr>\n",
       "    <tr>\n",
       "      <th>4112</th>\n",
       "      <td>Food</td>\n",
       "      <td>How long are we going to be locked down?</td>\n",
       "      <td>AlwaysHungr13</td>\n",
       "      <td>How long are we going to be locked down? With ...</td>\n",
       "      <td>https://www.reddit.com/r/india/comments/fo2c4r...</td>\n",
       "      <td>\\nWith the current rate it should start to pea...</td>\n",
       "      <td>28</td>\n",
       "      <td>self.india</td>\n",
       "    </tr>\n",
       "  </tbody>\n",
       "</table>\n",
       "<p>4113 rows × 8 columns</p>\n",
       "</div>"
      ],
      "text/plain": [
       "         flair                                              title  \\\n",
       "0     AskIndia  4 days ago we had pending orders of 100 millio...   \n",
       "1     AskIndia  Randians who were big time users of dating app...   \n",
       "2     AskIndia  What does r/India thinks about the Flat Earthers?   \n",
       "3     AskIndia  People who left their 9 to 5 jobs to pursue a ...   \n",
       "4     AskIndia   Somebody want to kill my full family what to do?   \n",
       "...        ...                                                ...   \n",
       "4108      Food  New hunger games in jobless Bharat: A ground r...   \n",
       "4109      Food  Zomato delivery boys go on strike in Mumbai, B...   \n",
       "4110      Food  Kerala prisoners churn out 6,000 masks in 2 da...   \n",
       "4111      Food  There's an India beyond social media. And we'r...   \n",
       "4112      Food           How long are we going to be locked down?   \n",
       "\n",
       "                    author                                               text  \\\n",
       "0        india_ko_vanakkam  > We are getting frantic calls from our pharma...   \n",
       "1     __knockknockturnal__  I'd my own stint with these apps(a couple of m...   \n",
       "2                  Dev1003  I encountered a Foreigner in IG who says \" Rou...   \n",
       "3                c0mrade34  Couldn't add AskIndia flair from the mobile br...   \n",
       "4          amitkumarthakur  It's now 24hrs, But local police station is no...   \n",
       "...                    ...                                                ...   \n",
       "4108           madamplease                                                NaN   \n",
       "4109             aiyyooooo                                                NaN   \n",
       "4110    Budget-Independent                                                NaN   \n",
       "4111               dlisfyn  I love the way some affluent people are cribbi...   \n",
       "4112         AlwaysHungr13  How long are we going to be locked down? With ...   \n",
       "\n",
       "                                                    url  \\\n",
       "0     https://www.reddit.com/r/india/comments/fwjdqr...   \n",
       "1     https://www.reddit.com/r/india/comments/fizkkk...   \n",
       "2     https://www.reddit.com/r/india/comments/f25vx0...   \n",
       "3     https://www.reddit.com/r/india/comments/dtvliq...   \n",
       "4     https://www.reddit.com/r/india/comments/b7pvwt...   \n",
       "...                                                 ...   \n",
       "4108  https://www.livemint.com/news/india/new-hunger...   \n",
       "4109  https://www.businesstoday.in/current/corporate...   \n",
       "4110  https://theprint.in/india/kerala-prisoners-chu...   \n",
       "4111  https://www.reddit.com/r/india/comments/fru6lw...   \n",
       "4112  https://www.reddit.com/r/india/comments/fo2c4r...   \n",
       "\n",
       "                                               comments  score  \\\n",
       "0     \\nModi has Stockholm syndrome\\nTo be fair, the...     91   \n",
       "1     \\nSomeone matched with me just to tell me that...     18   \n",
       "2     \\nI haven't found a Indian yet who believes ea...      6   \n",
       "3     \\nAn Engineer, doing advertisement shoots sinc...     47   \n",
       "4     \\nCalm down.\\nGo to the SP office of your town...     96   \n",
       "...                                                 ...    ...   \n",
       "4108  \\nCongratulations to everyone who voted for \"d...     27   \n",
       "4109  \\nJust proves that reckless cash burn ends up ...    237   \n",
       "4110  \\nDo they get paid ?\\nMan, even their prisoner...    177   \n",
       "4111  \\nWell said!! It’s sad thinking about the soci...    123   \n",
       "4112  \\nWith the current rate it should start to pea...     28   \n",
       "\n",
       "                domain  \n",
       "0           self.india  \n",
       "1           self.india  \n",
       "2           self.india  \n",
       "3           self.india  \n",
       "4           self.india  \n",
       "...                ...  \n",
       "4108      livemint.com  \n",
       "4109  businesstoday.in  \n",
       "4110       theprint.in  \n",
       "4111        self.india  \n",
       "4112        self.india  \n",
       "\n",
       "[4113 rows x 8 columns]"
      ]
     },
     "execution_count": 146,
     "metadata": {},
     "output_type": "execute_result"
    }
   ],
   "source": [
    "df1"
   ]
  },
  {
   "cell_type": "code",
   "execution_count": 147,
   "metadata": {},
   "outputs": [
    {
     "name": "stderr",
     "output_type": "stream",
     "text": [
      "c:\\users\\hp\\appdata\\local\\programs\\python\\python37\\lib\\site-packages\\ipykernel_launcher.py:1: FutureWarning: Sorting because non-concatenation axis is not aligned. A future version\n",
      "of pandas will change to not sort by default.\n",
      "\n",
      "To accept the future behavior, pass 'sort=False'.\n",
      "\n",
      "To retain the current behavior and silence the warning, pass 'sort=True'.\n",
      "\n",
      "  \"\"\"Entry point for launching an IPython kernel.\n"
     ]
    }
   ],
   "source": [
    "df_final=pd.concat([df1,df2],ignore_index=True)"
   ]
  },
  {
   "cell_type": "code",
   "execution_count": 148,
   "metadata": {},
   "outputs": [
    {
     "name": "stdout",
     "output_type": "stream",
     "text": [
      "Index(['flair', 'title', 'author', 'text', 'url', 'comments', 'score',\n",
      "       'domain'],\n",
      "      dtype='object') \n",
      " Index(['flair', 'title', 'author', 'text', 'url', 'score', 'domain',\n",
      "       'comments'],\n",
      "      dtype='object') \n",
      " Index(['author', 'comments', 'domain', 'flair', 'score', 'text', 'title',\n",
      "       'url'],\n",
      "      dtype='object')\n"
     ]
    }
   ],
   "source": [
    "df_final\n",
    "print(df1.columns,'\\n',df2.columns,'\\n',df_final.columns)"
   ]
  },
  {
   "cell_type": "code",
   "execution_count": 149,
   "metadata": {},
   "outputs": [
    {
     "name": "stdout",
     "output_type": "stream",
     "text": [
      "<class 'pandas.core.frame.DataFrame'>\n",
      "RangeIndex: 15803 entries, 0 to 15802\n",
      "Data columns (total 8 columns):\n",
      "flair       15803 non-null object\n",
      "title       15803 non-null object\n",
      "author      15803 non-null object\n",
      "text        5456 non-null object\n",
      "url         15803 non-null object\n",
      "score       15803 non-null int64\n",
      "domain      15803 non-null object\n",
      "comments    10920 non-null object\n",
      "dtypes: int64(1), object(7)\n",
      "memory usage: 987.8+ KB\n"
     ]
    }
   ],
   "source": [
    "df2.info()"
   ]
  },
  {
   "cell_type": "code",
   "execution_count": 150,
   "metadata": {
    "scrolled": true
   },
   "outputs": [
    {
     "name": "stdout",
     "output_type": "stream",
     "text": [
      "<class 'pandas.core.frame.DataFrame'>\n",
      "RangeIndex: 19916 entries, 0 to 19915\n",
      "Data columns (total 8 columns):\n",
      "author      19916 non-null object\n",
      "comments    14686 non-null object\n",
      "domain      19916 non-null object\n",
      "flair       19916 non-null object\n",
      "score       19916 non-null int64\n",
      "text        7923 non-null object\n",
      "title       19916 non-null object\n",
      "url         19916 non-null object\n",
      "dtypes: int64(1), object(7)\n",
      "memory usage: 1.2+ MB\n"
     ]
    }
   ],
   "source": [
    "df_final.info()"
   ]
  },
  {
   "cell_type": "code",
   "execution_count": 151,
   "metadata": {},
   "outputs": [],
   "source": [
    "df_final.to_csv('final_db_2.csv',index=False)"
   ]
  },
  {
   "cell_type": "code",
   "execution_count": 89,
   "metadata": {},
   "outputs": [],
   "source": [
    "df8=pd.read_csv('reddit_flair.csv')"
   ]
  },
  {
   "cell_type": "code",
   "execution_count": 90,
   "metadata": {},
   "outputs": [
    {
     "name": "stdout",
     "output_type": "stream",
     "text": [
      "<class 'pandas.core.frame.DataFrame'>\n",
      "RangeIndex: 1799 entries, 0 to 1798\n",
      "Data columns (total 8 columns):\n",
      "flair       1799 non-null object\n",
      "title       1799 non-null object\n",
      "author      1799 non-null object\n",
      "text        1066 non-null object\n",
      "url         1799 non-null object\n",
      "comments    1646 non-null object\n",
      "score       1799 non-null int64\n",
      "domain      1799 non-null object\n",
      "dtypes: int64(1), object(7)\n",
      "memory usage: 112.6+ KB\n"
     ]
    }
   ],
   "source": [
    "df8.info()"
   ]
  },
  {
   "cell_type": "code",
   "execution_count": 134,
   "metadata": {},
   "outputs": [
    {
     "name": "stdout",
     "output_type": "stream",
     "text": [
      "<class 'pandas.core.frame.DataFrame'>\n",
      "Int64Index: 0 entries\n",
      "Data columns (total 8 columns):\n",
      "flair       0 non-null object\n",
      "title       0 non-null object\n",
      "author      0 non-null object\n",
      "text        0 non-null object\n",
      "url         0 non-null object\n",
      "comments    0 non-null object\n",
      "score       0 non-null int64\n",
      "domain      0 non-null object\n",
      "dtypes: int64(1), object(7)\n",
      "memory usage: 0.0+ bytes\n"
     ]
    }
   ],
   "source": [
    "df9=df8[df8['text']!=np.nan]\n",
    "df9.info()"
   ]
  },
  {
   "cell_type": "code",
   "execution_count": 111,
   "metadata": {},
   "outputs": [
    {
     "name": "stderr",
     "output_type": "stream",
     "text": [
      "c:\\users\\hp\\appdata\\local\\programs\\python\\python37\\lib\\site-packages\\ipykernel_launcher.py:1: FutureWarning: Sorting because non-concatenation axis is not aligned. A future version\n",
      "of pandas will change to not sort by default.\n",
      "\n",
      "To accept the future behavior, pass 'sort=False'.\n",
      "\n",
      "To retain the current behavior and silence the warning, pass 'sort=True'.\n",
      "\n",
      "  \"\"\"Entry point for launching an IPython kernel.\n"
     ]
    }
   ],
   "source": [
    "df_final2=pd.concat([df9,df_final],ignore_index=True)"
   ]
  },
  {
   "cell_type": "code",
   "execution_count": 112,
   "metadata": {},
   "outputs": [
    {
     "name": "stdout",
     "output_type": "stream",
     "text": [
      "<class 'pandas.core.frame.DataFrame'>\n",
      "RangeIndex: 13335 entries, 0 to 13334\n",
      "Data columns (total 8 columns):\n",
      "author      13335 non-null object\n",
      "comments    10599 non-null object\n",
      "domain      13335 non-null object\n",
      "flair       13335 non-null object\n",
      "score       13335 non-null int64\n",
      "text        11689 non-null object\n",
      "title       13335 non-null object\n",
      "url         13335 non-null object\n",
      "dtypes: int64(1), object(7)\n",
      "memory usage: 833.6+ KB\n"
     ]
    }
   ],
   "source": [
    "df_final2.info()"
   ]
  },
  {
   "cell_type": "code",
   "execution_count": 113,
   "metadata": {},
   "outputs": [],
   "source": [
    "df10=pd.read_csv('out.csv')"
   ]
  },
  {
   "cell_type": "code",
   "execution_count": 114,
   "metadata": {},
   "outputs": [
    {
     "name": "stdout",
     "output_type": "stream",
     "text": [
      "<class 'pandas.core.frame.DataFrame'>\n",
      "RangeIndex: 15803 entries, 0 to 15802\n",
      "Data columns (total 10 columns):\n",
      "Unnamed: 0         15803 non-null int64\n",
      "link_flair_text    15803 non-null object\n",
      "title              15803 non-null object\n",
      "author             15803 non-null object\n",
      "selftext           5456 non-null object\n",
      "url                15803 non-null object\n",
      "id                 15803 non-null object\n",
      "score              15803 non-null int64\n",
      "domain             15803 non-null object\n",
      "comments           10920 non-null object\n",
      "dtypes: int64(2), object(8)\n",
      "memory usage: 1.2+ MB\n"
     ]
    }
   ],
   "source": [
    "df10.info()"
   ]
  },
  {
   "cell_type": "code",
   "execution_count": 115,
   "metadata": {},
   "outputs": [],
   "source": [
    "df11=df10[df10['selftext']==np.nan]"
   ]
  },
  {
   "cell_type": "code",
   "execution_count": 129,
   "metadata": {},
   "outputs": [],
   "source": [
    "df12=pd.DataFrame(columns=df11.columns)"
   ]
  },
  {
   "cell_type": "code",
   "execution_count": 130,
   "metadata": {},
   "outputs": [],
   "source": [
    "for index, row in df10.head(n=2).iterrows():\n",
    "     df12.append(row)  "
   ]
  },
  {
   "cell_type": "code",
   "execution_count": 131,
   "metadata": {},
   "outputs": [
    {
     "data": {
      "text/html": [
       "<div>\n",
       "<style scoped>\n",
       "    .dataframe tbody tr th:only-of-type {\n",
       "        vertical-align: middle;\n",
       "    }\n",
       "\n",
       "    .dataframe tbody tr th {\n",
       "        vertical-align: top;\n",
       "    }\n",
       "\n",
       "    .dataframe thead th {\n",
       "        text-align: right;\n",
       "    }\n",
       "</style>\n",
       "<table border=\"1\" class=\"dataframe\">\n",
       "  <thead>\n",
       "    <tr style=\"text-align: right;\">\n",
       "      <th></th>\n",
       "      <th>Unnamed: 0</th>\n",
       "      <th>link_flair_text</th>\n",
       "      <th>title</th>\n",
       "      <th>author</th>\n",
       "      <th>selftext</th>\n",
       "      <th>url</th>\n",
       "      <th>id</th>\n",
       "      <th>score</th>\n",
       "      <th>domain</th>\n",
       "      <th>comments</th>\n",
       "    </tr>\n",
       "  </thead>\n",
       "  <tbody>\n",
       "  </tbody>\n",
       "</table>\n",
       "</div>"
      ],
      "text/plain": [
       "Empty DataFrame\n",
       "Columns: [Unnamed: 0, link_flair_text, title, author, selftext, url, id, score, domain, comments]\n",
       "Index: []"
      ]
     },
     "execution_count": 131,
     "metadata": {},
     "output_type": "execute_result"
    }
   ],
   "source": [
    "df12.head()"
   ]
  },
  {
   "cell_type": "code",
   "execution_count": null,
   "metadata": {},
   "outputs": [],
   "source": []
  }
 ],
 "metadata": {
  "kernelspec": {
   "display_name": "Python 3",
   "language": "python",
   "name": "python3"
  },
  "language_info": {
   "codemirror_mode": {
    "name": "ipython",
    "version": 3
   },
   "file_extension": ".py",
   "mimetype": "text/x-python",
   "name": "python",
   "nbconvert_exporter": "python",
   "pygments_lexer": "ipython3",
   "version": "3.7.3"
  }
 },
 "nbformat": 4,
 "nbformat_minor": 4
}
