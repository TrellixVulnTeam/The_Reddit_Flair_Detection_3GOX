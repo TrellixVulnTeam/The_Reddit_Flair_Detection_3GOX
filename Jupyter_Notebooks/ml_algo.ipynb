{
 "cells": [
  {
   "cell_type": "markdown",
   "metadata": {},
   "source": [
    "To predict the flair, we get the data from the .csv file and save it into a pandas dataframe. The attributes taken into consideration are -\n",
    "\n",
    "1. Comments\n",
    "2. Domain\n",
    "3. Text\n",
    "4. Title\n",
    "5. Url\n",
    "6. Text length, title length and score.\n",
    "7. Comments+Domain+Text+Title+Url\n",
    "8. Comments+Title+Url\n",
    "\n",
    "After doing the elementary data analysis previously, we now move forward.\n",
    "We create a function for text preprocessing that elimiates punctuations, stopwords and returns the stem.\n",
    "We then pass each of the attribute mentioned above through our pipeline after splitting it into train and test set.\n",
    "We then analyse how the different classifiers performed based on the performance metrics. The classification reports and classification matrix tell us what a classifier is good at and what it is bad at, along with the accuracy score.\n",
    "And then we choose the best one.\n",
    "\n",
    "The classifiers used are:\n",
    "1. Multinomial Naive Bayes\n",
    "2. Support Vector Classifier (SVC)\n",
    "3. Logistic Regression\n",
    "4. Decision Tree Classifier\n",
    "5. Random Forest Classifier\n",
    "6. KNeighbors Classifier\n"
   ]
  },
  {
   "cell_type": "markdown",
   "metadata": {},
   "source": [
    "Performing the necessary imports -\n",
    "\n",
    "\n",
    "Pandas and numpy to work with dataframe    \n",
    "Seaborn and matplotlib for visualisation \n",
    "nltk for nlp    \n",
    "(PorterStemmer to be used in text preprocessing)    \n",
    "Pipeline to automate machine learning workflow       \n",
    "TfidfTransformer to convert collection of raw documents to a matrix of TF-IDF features    \n",
    "CountVectorizer to convert collection of text documents to a matrix of token counts      \n",
    "accuracy_score confusion_matrix and classification_report to get information about model performance    \n",
    "train_test_split to help us split data easily into training and testing sets \n",
    "\n",
    "The classifiers and other imports are done when needed."
   ]
  },
  {
   "cell_type": "code",
   "execution_count": 50,
   "metadata": {},
   "outputs": [],
   "source": [
    "import pandas as pd\n",
    "import pandas as pd\n",
    "import numpy as np\n",
    "import seaborn as sns\n",
    "import matplotlib.pyplot as plt\n",
    "import seaborn as sns\n"
   ]
  },
  {
   "cell_type": "code",
   "execution_count": 51,
   "metadata": {},
   "outputs": [],
   "source": [
    "import pickle\n",
    "\n",
    "import nltk\n",
    "from nltk.stem import PorterStemmer\n",
    "ps = PorterStemmer()\n",
    "\n",
    "import string\n",
    "\n",
    "from sklearn.pipeline import Pipeline\n",
    "from sklearn.feature_extraction.text import TfidfTransformer\n",
    "from sklearn.feature_extraction.text import CountVectorizer\n",
    "from sklearn.metrics import confusion_matrix,classification_report\n",
    "from sklearn.model_selection import train_test_split\n",
    "from sklearn.metrics import accuracy_score\n",
    "from sklearn.preprocessing import StandardScaler"
   ]
  },
  {
   "cell_type": "code",
   "execution_count": 3,
   "metadata": {},
   "outputs": [],
   "source": [
    "df=pd.read_csv('corrected_dataset.csv')"
   ]
  },
  {
   "cell_type": "code",
   "execution_count": 5,
   "metadata": {},
   "outputs": [
    {
     "name": "stdout",
     "output_type": "stream",
     "text": [
      "<class 'pandas.core.frame.DataFrame'>\n",
      "RangeIndex: 22287 entries, 0 to 22286\n",
      "Data columns (total 9 columns):\n",
      "Unnamed: 0    22287 non-null int64\n",
      "author        22287 non-null object\n",
      "comments      16418 non-null object\n",
      "domain        22287 non-null object\n",
      "flair         22287 non-null object\n",
      "score         22287 non-null int64\n",
      "text          9125 non-null object\n",
      "title         22287 non-null object\n",
      "url           22287 non-null object\n",
      "dtypes: int64(2), object(7)\n",
      "memory usage: 1.5+ MB\n"
     ]
    }
   ],
   "source": [
    "df.info()"
   ]
  },
  {
   "cell_type": "code",
   "execution_count": 16,
   "metadata": {},
   "outputs": [
    {
     "data": {
      "text/plain": [
       "Index(['Unnamed: 0', 'author', 'comments', 'domain', 'flair', 'score', 'text',\n",
       "       'title', 'url'],\n",
       "      dtype='object')"
      ]
     },
     "execution_count": 16,
     "metadata": {},
     "output_type": "execute_result"
    }
   ],
   "source": [
    "df.columns"
   ]
  },
  {
   "cell_type": "code",
   "execution_count": 6,
   "metadata": {},
   "outputs": [],
   "source": [
    "df.drop('Unnamed: 0',axis=1,inplace=True)"
   ]
  },
  {
   "cell_type": "markdown",
   "metadata": {},
   "source": [
    "Adding text length and title length to dataframe."
   ]
  },
  {
   "cell_type": "code",
   "execution_count": 48,
   "metadata": {},
   "outputs": [],
   "source": [
    "df['text_len']=df['text'].apply(str).apply(len)\n",
    "df['title_len']=df['title'].apply(str).apply(len)"
   ]
  },
  {
   "cell_type": "markdown",
   "metadata": {},
   "source": [
    "A function for text preprocessing."
   ]
  },
  {
   "cell_type": "code",
   "execution_count": 4,
   "metadata": {},
   "outputs": [],
   "source": [
    "def preprocess_text(txt):\n",
    "    if type(txt)==str:\n",
    "        nopunc = [str(char) for char in txt if char not in string.punctuation]\n",
    "        nopunc = ''.join(nopunc)\n",
    "        return [ps.stem(word.lower()) for word in nopunc.split() if word.lower() not in nltk.corpus.stopwords.words('english')]"
   ]
  },
  {
   "cell_type": "markdown",
   "metadata": {},
   "source": [
    "### Working with Multinomial Naive Bayes :"
   ]
  },
  {
   "cell_type": "code",
   "execution_count": null,
   "metadata": {},
   "outputs": [],
   "source": [
    "from sklearn.naive_bayes import MultinomialNB"
   ]
  },
  {
   "cell_type": "markdown",
   "metadata": {},
   "source": [
    "Creating a pipeline for text features :"
   ]
  },
  {
   "cell_type": "code",
   "execution_count": 40,
   "metadata": {},
   "outputs": [],
   "source": [
    "pipeline = Pipeline([\n",
    "    ('bow', CountVectorizer(analyzer=preprocess_text)),  # strings to token integer counts\n",
    "    ('tfidf', TfidfTransformer()),  # integer counts to weighted TF-IDF scores\n",
    "    ('classifier', MultinomialNB()),  # train on TF-IDF vectors w/classifier\n",
    "])"
   ]
  },
  {
   "cell_type": "markdown",
   "metadata": {},
   "source": [
    "to_probe holds the names of the columns we wish to analyse"
   ]
  },
  {
   "cell_type": "code",
   "execution_count": 7,
   "metadata": {},
   "outputs": [],
   "source": [
    "to_probe=['comments','domain','text','title','url']\n"
   ]
  },
  {
   "cell_type": "markdown",
   "metadata": {},
   "source": [
    "For each column in to probe, we train and test the classifier.\n",
    "We also get the classification report and confusion matrix and accuracy score to help us see how well the performance was."
   ]
  },
  {
   "cell_type": "code",
   "execution_count": 25,
   "metadata": {},
   "outputs": [
    {
     "name": "stdout",
     "output_type": "stream",
     "text": [
      "\n",
      "\n",
      "\n",
      " This is for comments \n",
      "\n",
      "[[454  17  14   2   7  21  47  28   3 145]\n",
      " [ 95 131   0   1   1 156  36   6   0 301]\n",
      " [106   3 205  11   0  18  77   4   0 131]\n",
      " [165  32   8  38   7  86 196  16   1 173]\n",
      " [134   0   2   0 256   2   8   3   0 174]\n",
      " [ 40  21   3   0   0 344  98   4   1 147]\n",
      " [ 26   4   3   2   2  52 473   0   0 164]\n",
      " [170   8   2   2  12  14  75 234   5 110]\n",
      " [129  39   0   2   3 116  39  10  56 257]\n",
      " [ 56   3   0   3   4   7  51   1   0 574]]\n",
      "AxesSubplot(0.125,0.125;0.62x0.755)\n",
      "                    precision    recall  f1-score   support\n",
      "\n",
      "          AskIndia       0.33      0.62      0.43       738\n",
      "  Business/Finance       0.51      0.18      0.27       727\n",
      "              Food       0.86      0.37      0.52       555\n",
      "     Non-Political       0.62      0.05      0.10       722\n",
      "       Photography       0.88      0.44      0.59       579\n",
      "    Policy/Economy       0.42      0.52      0.47       658\n",
      "          Politics       0.43      0.65      0.52       726\n",
      "         Scheduled       0.76      0.37      0.50       632\n",
      "Science/Technology       0.85      0.09      0.16       651\n",
      "            Sports       0.26      0.82      0.40       699\n",
      "\n",
      "          accuracy                           0.41      6687\n",
      "         macro avg       0.59      0.41      0.39      6687\n",
      "      weighted avg       0.58      0.41      0.39      6687\n",
      "\n",
      "accuracy :  0.4134888589801107\n",
      "\n",
      "\n",
      "\n",
      " This is for domain \n",
      "\n",
      "[[651   2   2   2   6   1   5   0   3  53]\n",
      " [139 206   3   7  24 150  58   0  23 111]\n",
      " [124  14  61  23  72  21  99   0   5  94]\n",
      " [162  28  16  75  48  37 165   0  15 192]\n",
      " [244   7   2  27 240   1   8   0   2  27]\n",
      " [ 87  59  12   8   7 263 167   0   2  78]\n",
      " [102  15  11  34  24  45 389   0   7 118]\n",
      " [489   8   7   1  10   7  43  39   1  15]\n",
      " [158  48  10  12   9  58  98   1 136 145]\n",
      " [142  11  10  33  26  27 158   0   9 293]]\n",
      "AxesSubplot(0.125,0.125;0.496x0.755)\n",
      "                    precision    recall  f1-score   support\n",
      "\n",
      "          AskIndia       0.28      0.90      0.43       725\n",
      "  Business/Finance       0.52      0.29      0.37       721\n",
      "              Food       0.46      0.12      0.19       513\n",
      "     Non-Political       0.34      0.10      0.16       738\n",
      "       Photography       0.52      0.43      0.47       558\n",
      "    Policy/Economy       0.43      0.39      0.41       683\n",
      "          Politics       0.33      0.52      0.40       745\n",
      "         Scheduled       0.97      0.06      0.12       620\n",
      "Science/Technology       0.67      0.20      0.31       675\n",
      "            Sports       0.26      0.41      0.32       709\n",
      "\n",
      "          accuracy                           0.35      6687\n",
      "         macro avg       0.48      0.34      0.32      6687\n",
      "      weighted avg       0.47      0.35      0.32      6687\n",
      "\n",
      "accuracy :  0.3518767758337072\n",
      "\n",
      "\n",
      "\n",
      " This is for text \n",
      "\n",
      "[[515 129   2   0   0  89   1   5   1   2]\n",
      " [108 508   0   0   0  76   0   4   0   0]\n",
      " [ 95 379  24   0   0  45   3   0   0   0]\n",
      " [127 496   0   6   1  88   0   7   0   1]\n",
      " [ 94 281   0   0 152  35   0   3   0   0]\n",
      " [ 67 460   0   0   0 131   0   1   0   0]\n",
      " [ 87 612   1   0   0  73   1   5   0   0]\n",
      " [ 92 192   0   0   3  22   0 283   0   0]\n",
      " [123 443   0   0   0  78   0   1   7   0]\n",
      " [114 525   0   0   0  71   1   1   0  16]]\n",
      "AxesSubplot(0.125,0.125;0.3968x0.755)\n",
      "                    precision    recall  f1-score   support\n",
      "\n",
      "          AskIndia       0.36      0.69      0.48       744\n",
      "  Business/Finance       0.13      0.73      0.22       696\n",
      "              Food       0.89      0.04      0.08       546\n",
      "     Non-Political       1.00      0.01      0.02       726\n",
      "       Photography       0.97      0.27      0.42       565\n",
      "    Policy/Economy       0.19      0.20      0.19       659\n",
      "          Politics       0.17      0.00      0.00       779\n",
      "         Scheduled       0.91      0.48      0.63       592\n",
      "Science/Technology       0.88      0.01      0.02       652\n",
      "            Sports       0.84      0.02      0.04       728\n",
      "\n",
      "          accuracy                           0.25      6687\n",
      "         macro avg       0.63      0.25      0.21      6687\n",
      "      weighted avg       0.61      0.25      0.20      6687\n",
      "\n",
      "accuracy :  0.24570061312995364\n",
      "\n",
      "\n",
      "\n",
      " This is for title \n",
      "\n",
      "[[473  54  14  41  12  37  50   6  28  31]\n",
      " [ 57 444   7  17   8 118  16  11  41   5]\n",
      " [ 46  22 403  17   7  21  21   3   5   8]\n",
      " [106  76  12 257  16  60 118  10  29  52]\n",
      " [ 36  12   2   8 463   7   6  10   8   5]\n",
      " [ 32  89  12  17   1 393  80   4  21   6]\n",
      " [ 33  15   9  40   5  52 538   4  14  13]\n",
      " [ 46  25   1   6  20  21  28 435  11   8]\n",
      " [ 76  96   5  31   5  52  29   2 338  16]\n",
      " [ 24   7   4  18   1   7  18   2   8 653]]\n",
      "AxesSubplot(0.125,0.125;0.31744x0.755)\n",
      "                    precision    recall  f1-score   support\n",
      "\n",
      "          AskIndia       0.51      0.63      0.56       746\n",
      "  Business/Finance       0.53      0.61      0.57       724\n",
      "              Food       0.86      0.73      0.79       553\n",
      "     Non-Political       0.57      0.35      0.43       736\n",
      "       Photography       0.86      0.83      0.85       557\n",
      "    Policy/Economy       0.51      0.60      0.55       655\n",
      "          Politics       0.60      0.74      0.66       723\n",
      "         Scheduled       0.89      0.72      0.80       601\n",
      "Science/Technology       0.67      0.52      0.59       650\n",
      "            Sports       0.82      0.88      0.85       742\n",
      "\n",
      "          accuracy                           0.66      6687\n",
      "         macro avg       0.68      0.66      0.66      6687\n",
      "      weighted avg       0.67      0.66      0.66      6687\n",
      "\n",
      "accuracy :  0.6575444893076118\n",
      "\n",
      "\n",
      "\n",
      " This is for url \n",
      "\n",
      "[[713   2   1   0   0   0   0   2   1   1]\n",
      " [564 154   0   0   1   5   0   9   1   0]\n",
      " [234   0 341   0   1   0   4   0   0   0]\n",
      " [619   2   0  81   0   0   3   0   0   0]\n",
      " [ 33   0   0   0 504   0   0   9   0   0]\n",
      " [616   8   0   3   0  61   1   0   5   1]\n",
      " [659   0   1   4   0   0  77   1   0   0]\n",
      " [295  12   1   0   7   0   0 290   0   0]\n",
      " [491   2   0   1   0   4   0   0  98   0]\n",
      " [671   1   0   1   0   0   0   0   0  91]]\n",
      "AxesSubplot(0.125,0.125;0.253952x0.755)\n",
      "                    precision    recall  f1-score   support\n",
      "\n",
      "          AskIndia       0.15      0.99      0.25       720\n",
      "  Business/Finance       0.85      0.21      0.34       734\n",
      "              Food       0.99      0.59      0.74       580\n",
      "     Non-Political       0.90      0.11      0.20       705\n",
      "       Photography       0.98      0.92      0.95       546\n",
      "    Policy/Economy       0.87      0.09      0.16       695\n",
      "          Politics       0.91      0.10      0.19       742\n",
      "         Scheduled       0.93      0.48      0.63       605\n",
      "Science/Technology       0.93      0.16      0.28       596\n",
      "            Sports       0.98      0.12      0.21       764\n",
      "\n",
      "          accuracy                           0.36      6687\n",
      "         macro avg       0.85      0.38      0.40      6687\n",
      "      weighted avg       0.84      0.36      0.37      6687\n",
      "\n",
      "accuracy :  0.36040077762823386\n"
     ]
    },
    {
     "data": {
      "image/png": "[encoded data removed]",
      "text/plain": [
       "<Figure size 432x288 with 6 Axes>"
      ]
     },
     "metadata": {},
     "output_type": "display_data"
    }
   ],
   "source": [
    "for x in to_probe:\n",
    "    X=df[x].fillna(value='')\n",
    "    y=df['flair']\n",
    "    X_train,X_test,y_train,y_test=train_test_split(X,y,test_size=0.3)\n",
    "    pipeline.fit(X_train,y_train)\n",
    "    save_classifier=open(\"multinomial_f2\"+x+\".pickle\",\"wb\")\n",
    "    pickle.dump(pipeline,save_classifier)\n",
    "    save_classifier.close()\n",
    "    predictions = pipeline.predict(X_test)\n",
    "    print('\\n\\n\\n This is for',x,'\\n')\n",
    "    print(confusion_matrix(y_test,predictions))\n",
    "    print(sns.heatmap(confusion_matrix(y_test,predictions)))\n",
    "    print(classification_report(y_test,predictions))\n",
    "    print('accuracy : ',accuracy_score(y_test,predictions))\n",
    "    "
   ]
  },
  {
   "cell_type": "markdown",
   "metadata": {},
   "source": [
    "Comments : accuracy= 0.41  \n",
    "Domain   : accuracy= 0.35                     \n",
    "Text     : accuracy= 0.24                                            \n",
    "Title    : accuracy= 0.65                                               \n",
    "url      : accuracy= 0.36                                         \n",
    "                                                 \n",
    "On seeing the accuracy,precision, recall and f1-score, Title seems a useful feature."
   ]
  },
  {
   "cell_type": "markdown",
   "metadata": {},
   "source": [
    "We can now analyse combined features. First we take all the above features together."
   ]
  },
  {
   "cell_type": "code",
   "execution_count": 8,
   "metadata": {},
   "outputs": [],
   "source": [
    "comb_feats=df['comments']+df['domain']+df['text']+df['title']+df['url']"
   ]
  },
  {
   "cell_type": "code",
   "execution_count": 12,
   "metadata": {},
   "outputs": [
    {
     "name": "stdout",
     "output_type": "stream",
     "text": [
      "\n",
      "\n",
      "\n",
      " This is for \n",
      "\n",
      "[[544   0   0   0   1   0 201   3   0   0]\n",
      " [153  19   0   0   0   1 566   5   0   0]\n",
      " [119   0  20   0   0   0 430   0   0   0]\n",
      " [156   2   0   0   0   1 536   7   0   0]\n",
      " [129   0   0   0  91   0 342   0   0   0]\n",
      " [114   6   0   0   0  31 513   0   0   0]\n",
      " [110   1   0   0   1   1 599   0   0   0]\n",
      " [139   8   0   0   7   0 231 226   0   1]\n",
      " [143   3   0   0   0   1 498   3   0   0]\n",
      " [132   0   0   0   0   0 575   1   0  17]]\n",
      "AxesSubplot(0.125,0.125;0.62x0.755)\n"
     ]
    },
    {
     "name": "stderr",
     "output_type": "stream",
     "text": [
      "c:\\users\\hp\\appdata\\local\\programs\\python\\python37\\lib\\site-packages\\sklearn\\metrics\\_classification.py:1268: UndefinedMetricWarning: Precision and F-score are ill-defined and being set to 0.0 in labels with no predicted samples. Use `zero_division` parameter to control this behavior.\n",
      "  _warn_prf(average, modifier, msg_start, len(result))\n"
     ]
    },
    {
     "name": "stdout",
     "output_type": "stream",
     "text": [
      "                    precision    recall  f1-score   support\n",
      "\n",
      "          AskIndia       0.31      0.73      0.44       749\n",
      "  Business/Finance       0.49      0.03      0.05       744\n",
      "              Food       1.00      0.04      0.07       569\n",
      "     Non-Political       0.00      0.00      0.00       702\n",
      "       Photography       0.91      0.16      0.27       562\n",
      "    Policy/Economy       0.89      0.05      0.09       664\n",
      "          Politics       0.13      0.84      0.23       712\n",
      "         Scheduled       0.92      0.37      0.53       612\n",
      "Science/Technology       0.00      0.00      0.00       648\n",
      "            Sports       0.94      0.02      0.05       725\n",
      "\n",
      "          accuracy                           0.23      6687\n",
      "         macro avg       0.56      0.22      0.17      6687\n",
      "      weighted avg       0.54      0.23      0.17      6687\n",
      "\n",
      "accuracy :  0.23134439958127712\n"
     ]
    },
    {
     "data": {
      "image/png": "[encoded data removed]",
      "text/plain": [
       "<Figure size 432x288 with 2 Axes>"
      ]
     },
     "metadata": {},
     "output_type": "display_data"
    }
   ],
   "source": [
    "X=comb_feats.fillna(value='')\n",
    "y=df['flair']\n",
    "X_train,X_test,y_train,y_test=train_test_split(X,y,test_size=0.3)\n",
    "pipeline.fit(X_train,y_train)\n",
    "save_classifier=open(\"multinomial_f2\"+\"comb\"+\".pickle\",\"wb\")\n",
    "pickle.dump(pipeline,save_classifier)\n",
    "save_classifier.close()\n",
    "predictions = pipeline.predict(X_test)\n",
    "print('\\n\\n\\n This is for','\\n')\n",
    "print(confusion_matrix(y_test,predictions))\n",
    "print(sns.heatmap(confusion_matrix(y_test,predictions)))\n",
    "print(classification_report(y_test,predictions))\n",
    "print('accuracy : ',accuracy_score(y_test,predictions))\n",
    "    "
   ]
  },
  {
   "cell_type": "markdown",
   "metadata": {},
   "source": [
    "We see that we do not get satisfactory results."
   ]
  },
  {
   "cell_type": "markdown",
   "metadata": {},
   "source": [
    "We now take only the features that gave us relatively better outcomes, i.e., Title, url and comments."
   ]
  },
  {
   "cell_type": "code",
   "execution_count": 41,
   "metadata": {},
   "outputs": [],
   "source": [
    "comb_feats=df['comments']+df['title']+df['url']"
   ]
  },
  {
   "cell_type": "code",
   "execution_count": 42,
   "metadata": {},
   "outputs": [
    {
     "name": "stdout",
     "output_type": "stream",
     "text": [
      "\n",
      "\n",
      "\n",
      " This is for \n",
      "\n",
      "[[462 120  17   3   5  13  60  14   2   9]\n",
      " [ 90 459   2   1   2  96  34   4   2   1]\n",
      " [ 98 144 232   1   2  14  55   1   0   1]\n",
      " [209 194   6  26   9  79 209  12   4  12]\n",
      " [ 97 192   1   0 281   0   7   4   0   0]\n",
      " [ 43 172   3   0   0 359  88   2   1   0]\n",
      " [ 25 166   1   2   2  63 474   1   0   3]\n",
      " [136 131   1   0   8   9  64 304   0   0]\n",
      " [148 285   0   2   2  78  53   6  69   3]\n",
      " [ 64 207   0   1   2   2  29   3   0 389]]\n",
      "AxesSubplot(0.125,0.125;0.62x0.755)\n",
      "                    precision    recall  f1-score   support\n",
      "\n",
      "          AskIndia       0.34      0.66      0.44       705\n",
      "  Business/Finance       0.22      0.66      0.33       691\n",
      "              Food       0.88      0.42      0.57       548\n",
      "     Non-Political       0.72      0.03      0.07       760\n",
      "       Photography       0.90      0.48      0.63       582\n",
      "    Policy/Economy       0.50      0.54      0.52       668\n",
      "          Politics       0.44      0.64      0.52       737\n",
      "         Scheduled       0.87      0.47      0.61       653\n",
      "Science/Technology       0.88      0.11      0.19       646\n",
      "            Sports       0.93      0.56      0.70       697\n",
      "\n",
      "          accuracy                           0.46      6687\n",
      "         macro avg       0.67      0.46      0.46      6687\n",
      "      weighted avg       0.66      0.46      0.45      6687\n",
      "\n",
      "accuracy :  0.45685658740840435\n"
     ]
    },
    {
     "data": {
      "image/png": "[encoded data removed]",
      "text/plain": [
       "<Figure size 432x288 with 2 Axes>"
      ]
     },
     "metadata": {},
     "output_type": "display_data"
    }
   ],
   "source": [
    "X=comb_feats.fillna(value='')\n",
    "y=df['flair']\n",
    "X_train,X_test,y_train,y_test=train_test_split(X,y,test_size=0.3)\n",
    "pipeline.fit(X_train,y_train)\n",
    "save_classifier=open(\"multinomial_f2\"+\"comb_2\"+\".pickle\",\"wb\")\n",
    "pickle.dump(pipeline,save_classifier)\n",
    "save_classifier.close()\n",
    "predictions = pipeline.predict(X_test)\n",
    "print('\\n\\n\\n This is for','\\n')\n",
    "print(confusion_matrix(y_test,predictions))\n",
    "print(sns.heatmap(confusion_matrix(y_test,predictions)))\n",
    "print(classification_report(y_test,predictions))\n",
    "print('accuracy : ',accuracy_score(y_test,predictions))\n",
    "    "
   ]
  },
  {
   "cell_type": "markdown",
   "metadata": {},
   "source": [
    "The results are less better than with title alone. \n",
    "Now we see other features, text length, score and title length seperately."
   ]
  },
  {
   "cell_type": "code",
   "execution_count": 83,
   "metadata": {},
   "outputs": [],
   "source": [
    "to_probe=['text_len','title_len','score']"
   ]
  },
  {
   "cell_type": "code",
   "execution_count": 84,
   "metadata": {},
   "outputs": [],
   "source": [
    "pipeline = Pipeline([\n",
    "    ('classifier', MultinomialNB()),  \n",
    "])"
   ]
  },
  {
   "cell_type": "code",
   "execution_count": 95,
   "metadata": {},
   "outputs": [
    {
     "name": "stdout",
     "output_type": "stream",
     "text": [
      "\n",
      "\n",
      "\n",
      " This is for text_len \n",
      "\n",
      "[[  0   0   0   0   0   0 737   0   0   0]\n",
      " [  0   0   0   0   0   0 759   0   0   0]\n",
      " [  0   0   0   0   0   0 562   0   0   0]\n",
      " [  0   0   0   0   0   0 737   0   0   0]\n",
      " [  0   0   0   0   0   0 540   0   0   0]\n",
      " [  0   0   0   0   0   0 656   0   0   0]\n",
      " [  0   0   0   0   0   0 713   0   0   0]\n",
      " [  0   0   0   0   0   0 599   0   0   0]\n",
      " [  0   0   0   0   0   0 634   0   0   0]\n",
      " [  0   0   0   0   0   0 750   0   0   0]]\n",
      "AxesSubplot(0.125,0.125;0.62x0.755)\n"
     ]
    },
    {
     "name": "stderr",
     "output_type": "stream",
     "text": [
      "c:\\users\\hp\\appdata\\local\\programs\\python\\python37\\lib\\site-packages\\sklearn\\metrics\\_classification.py:1268: UndefinedMetricWarning: Precision and F-score are ill-defined and being set to 0.0 in labels with no predicted samples. Use `zero_division` parameter to control this behavior.\n",
      "  _warn_prf(average, modifier, msg_start, len(result))\n"
     ]
    },
    {
     "name": "stdout",
     "output_type": "stream",
     "text": [
      "                    precision    recall  f1-score   support\n",
      "\n",
      "          AskIndia       0.00      0.00      0.00       737\n",
      "  Business/Finance       0.00      0.00      0.00       759\n",
      "              Food       0.00      0.00      0.00       562\n",
      "     Non-Political       0.00      0.00      0.00       737\n",
      "       Photography       0.00      0.00      0.00       540\n",
      "    Policy/Economy       0.00      0.00      0.00       656\n",
      "          Politics       0.11      1.00      0.19       713\n",
      "         Scheduled       0.00      0.00      0.00       599\n",
      "Science/Technology       0.00      0.00      0.00       634\n",
      "            Sports       0.00      0.00      0.00       750\n",
      "\n",
      "          accuracy                           0.11      6687\n",
      "         macro avg       0.01      0.10      0.02      6687\n",
      "      weighted avg       0.01      0.11      0.02      6687\n",
      "\n",
      "accuracy :  0.1066247943771497\n",
      "\n",
      "\n",
      "\n",
      " This is for title_len \n",
      "\n",
      "[[  0 738   0   0   0   0   0   0   0   0]\n",
      " [  0 715   0   0   0   0   0   0   0   0]\n",
      " [  0 554   0   0   0   0   0   0   0   0]\n",
      " [  0 702   0   0   0   0   0   0   0   0]\n",
      " [  0 562   0   0   0   0   0   0   0   0]\n",
      " [  0 673   0   0   0   0   0   0   0   0]\n",
      " [  0 759   0   0   0   0   0   0   0   0]\n",
      " [  0 604   0   0   0   0   0   0   0   0]\n",
      " [  0 666   0   0   0   0   0   0   0   0]\n",
      " [  0 714   0   0   0   0   0   0   0   0]]\n",
      "AxesSubplot(0.125,0.125;0.496x0.755)\n"
     ]
    },
    {
     "name": "stderr",
     "output_type": "stream",
     "text": [
      "c:\\users\\hp\\appdata\\local\\programs\\python\\python37\\lib\\site-packages\\sklearn\\metrics\\_classification.py:1268: UndefinedMetricWarning: Precision and F-score are ill-defined and being set to 0.0 in labels with no predicted samples. Use `zero_division` parameter to control this behavior.\n",
      "  _warn_prf(average, modifier, msg_start, len(result))\n"
     ]
    },
    {
     "name": "stdout",
     "output_type": "stream",
     "text": [
      "                    precision    recall  f1-score   support\n",
      "\n",
      "          AskIndia       0.00      0.00      0.00       738\n",
      "  Business/Finance       0.11      1.00      0.19       715\n",
      "              Food       0.00      0.00      0.00       554\n",
      "     Non-Political       0.00      0.00      0.00       702\n",
      "       Photography       0.00      0.00      0.00       562\n",
      "    Policy/Economy       0.00      0.00      0.00       673\n",
      "          Politics       0.00      0.00      0.00       759\n",
      "         Scheduled       0.00      0.00      0.00       604\n",
      "Science/Technology       0.00      0.00      0.00       666\n",
      "            Sports       0.00      0.00      0.00       714\n",
      "\n",
      "          accuracy                           0.11      6687\n",
      "         macro avg       0.01      0.10      0.02      6687\n",
      "      weighted avg       0.01      0.11      0.02      6687\n",
      "\n",
      "accuracy :  0.10692388215941379\n",
      "\n",
      "\n",
      "\n",
      " This is for score \n",
      "\n",
      "[[730   0   0   0   0   0   0   0   0   0]\n",
      " [750   0   0   0   0   0   0   0   0   0]\n",
      " [603   0   0   0   0   0   0   0   0   0]\n",
      " [724   0   0   0   0   0   0   0   0   0]\n",
      " [554   0   0   0   0   0   0   0   0   0]\n",
      " [660   0   0   0   0   0   0   0   0   0]\n",
      " [753   0   0   0   0   0   0   0   0   0]\n",
      " [589   0   0   0   0   0   0   0   0   0]\n",
      " [601   0   0   0   0   0   0   0   0   0]\n",
      " [723   0   0   0   0   0   0   0   0   0]]\n",
      "AxesSubplot(0.125,0.125;0.3968x0.755)\n"
     ]
    },
    {
     "name": "stderr",
     "output_type": "stream",
     "text": [
      "c:\\users\\hp\\appdata\\local\\programs\\python\\python37\\lib\\site-packages\\sklearn\\metrics\\_classification.py:1268: UndefinedMetricWarning: Precision and F-score are ill-defined and being set to 0.0 in labels with no predicted samples. Use `zero_division` parameter to control this behavior.\n",
      "  _warn_prf(average, modifier, msg_start, len(result))\n"
     ]
    },
    {
     "name": "stdout",
     "output_type": "stream",
     "text": [
      "                    precision    recall  f1-score   support\n",
      "\n",
      "          AskIndia       0.11      1.00      0.20       730\n",
      "  Business/Finance       0.00      0.00      0.00       750\n",
      "              Food       0.00      0.00      0.00       603\n",
      "     Non-Political       0.00      0.00      0.00       724\n",
      "       Photography       0.00      0.00      0.00       554\n",
      "    Policy/Economy       0.00      0.00      0.00       660\n",
      "          Politics       0.00      0.00      0.00       753\n",
      "         Scheduled       0.00      0.00      0.00       589\n",
      "Science/Technology       0.00      0.00      0.00       601\n",
      "            Sports       0.00      0.00      0.00       723\n",
      "\n",
      "          accuracy                           0.11      6687\n",
      "         macro avg       0.01      0.10      0.02      6687\n",
      "      weighted avg       0.01      0.11      0.02      6687\n",
      "\n",
      "accuracy :  0.10916704052639449\n"
     ]
    },
    {
     "data": {
      "image/png": "[encoded data removed]",
      "text/plain": [
       "<Figure size 432x288 with 4 Axes>"
      ]
     },
     "metadata": {},
     "output_type": "display_data"
    }
   ],
   "source": [
    "for x in to_probe:\n",
    "    X=df[x].fillna(value=0)\n",
    "    y=df['flair']\n",
    "    MNB=MultinomialNB()\n",
    "    X_train,X_test,y_train,y_test=train_test_split(X,y,test_size=0.3)\n",
    "    MNB.fit(np.array(X_train).reshape(-1,1),y_train)\n",
    "    save_classifier=open(\"multinomial_f2\"+x+\".pickle\",\"wb\")\n",
    "    pickle.dump(MNB,save_classifier)\n",
    "    save_classifier.close()\n",
    "    predictions = MNB.predict(np.array(X_test).reshape(-1,1))\n",
    "    print('\\n\\n\\n This is for',x,'\\n')\n",
    "    print(confusion_matrix(y_test,predictions))\n",
    "    print(sns.heatmap(confusion_matrix(y_test,predictions)))\n",
    "    print(classification_report(y_test,predictions))\n",
    "    print('accuracy : ',accuracy_score(y_test,predictions))"
   ]
  },
  {
   "cell_type": "markdown",
   "metadata": {},
   "source": [
    "The results are highly dissatisfactory, so we won't be using these any further. So we combine features to see if they'd yield any result."
   ]
  },
  {
   "cell_type": "code",
   "execution_count": 99,
   "metadata": {},
   "outputs": [],
   "source": [
    "lst=['title_len','score','text_len']"
   ]
  },
  {
   "cell_type": "code",
   "execution_count": 100,
   "metadata": {},
   "outputs": [
    {
     "name": "stdout",
     "output_type": "stream",
     "text": [
      "\n",
      "\n",
      "\n",
      " This is for score \n",
      "\n",
      "[[ 30  17  44   0   6 550   9  18   2  25]\n",
      " [ 25  21  63   0   6 544  20  31   5  16]\n",
      " [ 12  20 104   0   8 338  17  17   5  26]\n",
      " [ 17  18  56   1   8 585  20  29   4  27]\n",
      " [ 27  14  94   0   5 411  17   8   2  24]\n",
      " [ 17  24  46   0  13 449  11  27   7  28]\n",
      " [ 26  22 106   2  12 529  26  11   4  21]\n",
      " [ 31  17  75   0   8 408  28  18   5  26]\n",
      " [ 16  14  48   0  11 453  21  18   3  32]\n",
      " [ 17   8  82   0   9 542  14  26   4  26]]\n",
      "AxesSubplot(0.125,0.125;0.62x0.755)\n",
      "                    precision    recall  f1-score   support\n",
      "\n",
      "          AskIndia       0.14      0.04      0.07       701\n",
      "  Business/Finance       0.12      0.03      0.05       731\n",
      "              Food       0.14      0.19      0.16       547\n",
      "     Non-Political       0.33      0.00      0.00       765\n",
      "       Photography       0.06      0.01      0.01       602\n",
      "    Policy/Economy       0.09      0.72      0.17       622\n",
      "          Politics       0.14      0.03      0.06       759\n",
      "         Scheduled       0.09      0.03      0.04       616\n",
      "Science/Technology       0.07      0.00      0.01       616\n",
      "            Sports       0.10      0.04      0.05       728\n",
      "\n",
      "          accuracy                           0.10      6687\n",
      "         macro avg       0.13      0.11      0.06      6687\n",
      "      weighted avg       0.13      0.10      0.06      6687\n",
      "\n",
      "accuracy :  0.10213847764318827\n"
     ]
    },
    {
     "data": {
      "image/png": "[encoded data removed]",
      "text/plain": [
       "<Figure size 432x288 with 2 Axes>"
      ]
     },
     "metadata": {},
     "output_type": "display_data"
    }
   ],
   "source": [
    "X=df[lst].fillna(value=0)\n",
    "y=df['flair']\n",
    "MNB=MultinomialNB()\n",
    "X_train,X_test,y_train,y_test=train_test_split(X,y,test_size=0.3)\n",
    "MNB.fit(X_train,y_train)\n",
    "save_classifier=open(\"multinomial_f2\"+\"num\"+\".pickle\",\"wb\")\n",
    "pickle.dump(MNB,save_classifier)\n",
    "save_classifier.close()\n",
    "predictions = MNB.predict(X_test)\n",
    "print('\\n\\n\\n This is for',x,'\\n')\n",
    "print(confusion_matrix(y_test,predictions))\n",
    "print(sns.heatmap(confusion_matrix(y_test,predictions)))\n",
    "print(classification_report(y_test,predictions))\n",
    "print('accuracy : ',accuracy_score(y_test,predictions))"
   ]
  },
  {
   "cell_type": "markdown",
   "metadata": {},
   "source": [
    "Hardly any improvement."
   ]
  },
  {
   "cell_type": "markdown",
   "metadata": {},
   "source": [
    "### Working with Support Vector Classifier"
   ]
  },
  {
   "cell_type": "markdown",
   "metadata": {},
   "source": [
    "Import the SVC                      \n",
    "Import GridSearchCV to combine the estimator with a grid search preamble to tune hyper-parameters.                  \n",
    "Set the paramgrid                     \n",
    "And then we create the pipeline"
   ]
  },
  {
   "cell_type": "code",
   "execution_count": 15,
   "metadata": {},
   "outputs": [],
   "source": [
    "from sklearn.svm import SVC"
   ]
  },
  {
   "cell_type": "code",
   "execution_count": 16,
   "metadata": {},
   "outputs": [],
   "source": [
    "from sklearn.model_selection import GridSearchCV"
   ]
  },
  {
   "cell_type": "code",
   "execution_count": 24,
   "metadata": {},
   "outputs": [],
   "source": [
    "param_grid = {'C': [0.1,1, 10, 100], 'gamma': [1,0.1,0.01,0.001]} "
   ]
  },
  {
   "cell_type": "code",
   "execution_count": 23,
   "metadata": {},
   "outputs": [],
   "source": [
    "pipeline = Pipeline([\n",
    "    ('bow', CountVectorizer(analyzer=preprocess_text)), \n",
    "    ('tfidf', TfidfTransformer()),  \n",
    "    ('classifier', GridSearchCV(SVC(),param_grid,refit=True,verbose=2)),  \n",
    "])"
   ]
  },
  {
   "cell_type": "code",
   "execution_count": 116,
   "metadata": {},
   "outputs": [],
   "source": [
    "to_probe=['comments','domain','text','title','url']"
   ]
  },
  {
   "cell_type": "code",
   "execution_count": 117,
   "metadata": {},
   "outputs": [
    {
     "name": "stdout",
     "output_type": "stream",
     "text": [
      "Fitting 5 folds for each of 16 candidates, totalling 80 fits\n",
      "[CV] C=0.1, gamma=1 ..................................................\n"
     ]
    },
    {
     "name": "stderr",
     "output_type": "stream",
     "text": [
      "[Parallel(n_jobs=1)]: Using backend SequentialBackend with 1 concurrent workers.\n"
     ]
    },
    {
     "name": "stdout",
     "output_type": "stream",
     "text": [
      "[CV] ................................... C=0.1, gamma=1, total= 7.4min\n",
      "[CV] C=0.1, gamma=1 ..................................................\n"
     ]
    },
    {
     "name": "stderr",
     "output_type": "stream",
     "text": [
      "[Parallel(n_jobs=1)]: Done   1 out of   1 | elapsed:  7.4min remaining:    0.0s\n"
     ]
    },
    {
     "name": "stdout",
     "output_type": "stream",
     "text": [
      "[CV] ................................... C=0.1, gamma=1, total= 7.4min\n",
      "[CV] C=0.1, gamma=1 ..................................................\n",
      "[CV] ................................... C=0.1, gamma=1, total= 7.4min\n",
      "[CV] C=0.1, gamma=1 ..................................................\n",
      "[CV] ................................... C=0.1, gamma=1, total= 7.1min\n",
      "[CV] C=0.1, gamma=1 ..................................................\n",
      "[CV] ................................... C=0.1, gamma=1, total= 7.5min\n",
      "[CV] C=0.1, gamma=0.1 ................................................\n",
      "[CV] ................................. C=0.1, gamma=0.1, total= 3.8min\n",
      "[CV] C=0.1, gamma=0.1 ................................................\n",
      "[CV] ................................. C=0.1, gamma=0.1, total= 3.3min\n",
      "[CV] C=0.1, gamma=0.1 ................................................\n",
      "[CV] ................................. C=0.1, gamma=0.1, total= 3.2min\n",
      "[CV] C=0.1, gamma=0.1 ................................................\n",
      "[CV] ................................. C=0.1, gamma=0.1, total= 3.2min\n",
      "[CV] C=0.1, gamma=0.1 ................................................\n",
      "[CV] ................................. C=0.1, gamma=0.1, total= 3.2min\n",
      "[CV] C=0.1, gamma=0.01 ...............................................\n",
      "[CV] ................................ C=0.1, gamma=0.01, total= 3.2min\n",
      "[CV] C=0.1, gamma=0.01 ...............................................\n",
      "[CV] ................................ C=0.1, gamma=0.01, total= 3.3min\n",
      "[CV] C=0.1, gamma=0.01 ...............................................\n",
      "[CV] ................................ C=0.1, gamma=0.01, total= 3.3min\n",
      "[CV] C=0.1, gamma=0.01 ...............................................\n",
      "[CV] ................................ C=0.1, gamma=0.01, total= 3.3min\n",
      "[CV] C=0.1, gamma=0.01 ...............................................\n",
      "[CV] ................................ C=0.1, gamma=0.01, total= 3.3min\n",
      "[CV] C=0.1, gamma=0.001 ..............................................\n",
      "[CV] ............................... C=0.1, gamma=0.001, total= 3.3min\n",
      "[CV] C=0.1, gamma=0.001 ..............................................\n",
      "[CV] ............................... C=0.1, gamma=0.001, total= 3.5min\n",
      "[CV] C=0.1, gamma=0.001 ..............................................\n",
      "[CV] ............................... C=0.1, gamma=0.001, total= 4.8min\n",
      "[CV] C=0.1, gamma=0.001 ..............................................\n",
      "[CV] ............................... C=0.1, gamma=0.001, total= 6.6min\n",
      "[CV] C=0.1, gamma=0.001 ..............................................\n",
      "[CV] ............................... C=0.1, gamma=0.001, total= 5.2min\n",
      "[CV] C=1, gamma=1 ....................................................\n",
      "[CV] ..................................... C=1, gamma=1, total= 3.0min\n",
      "[CV] C=1, gamma=1 ....................................................\n",
      "[CV] ..................................... C=1, gamma=1, total= 2.9min\n",
      "[CV] C=1, gamma=1 ....................................................\n",
      "[CV] ..................................... C=1, gamma=1, total= 2.9min\n",
      "[CV] C=1, gamma=1 ....................................................\n",
      "[CV] ..................................... C=1, gamma=1, total= 2.8min\n",
      "[CV] C=1, gamma=1 ....................................................\n",
      "[CV] ..................................... C=1, gamma=1, total= 2.9min\n",
      "[CV] C=1, gamma=0.1 ..................................................\n",
      "[CV] ................................... C=1, gamma=0.1, total= 2.7min\n",
      "[CV] C=1, gamma=0.1 ..................................................\n",
      "[CV] ................................... C=1, gamma=0.1, total= 2.6min\n",
      "[CV] C=1, gamma=0.1 ..................................................\n",
      "[CV] ................................... C=1, gamma=0.1, total= 2.6min\n",
      "[CV] C=1, gamma=0.1 ..................................................\n",
      "[CV] ................................... C=1, gamma=0.1, total= 2.6min\n",
      "[CV] C=1, gamma=0.1 ..................................................\n",
      "[CV] ................................... C=1, gamma=0.1, total= 2.5min\n",
      "[CV] C=1, gamma=0.01 .................................................\n",
      "[CV] .................................. C=1, gamma=0.01, total= 3.3min\n",
      "[CV] C=1, gamma=0.01 .................................................\n",
      "[CV] .................................. C=1, gamma=0.01, total= 5.6min\n",
      "[CV] C=1, gamma=0.01 .................................................\n",
      "[CV] .................................. C=1, gamma=0.01, total= 6.9min\n",
      "[CV] C=1, gamma=0.01 .................................................\n",
      "[CV] .................................. C=1, gamma=0.01, total= 7.4min\n",
      "[CV] C=1, gamma=0.01 .................................................\n",
      "[CV] .................................. C=1, gamma=0.01, total= 7.4min\n",
      "[CV] C=1, gamma=0.001 ................................................\n",
      "[CV] ................................. C=1, gamma=0.001, total= 7.4min\n",
      "[CV] C=1, gamma=0.001 ................................................\n",
      "[CV] ................................. C=1, gamma=0.001, total= 7.5min\n",
      "[CV] C=1, gamma=0.001 ................................................\n",
      "[CV] ................................. C=1, gamma=0.001, total= 7.4min\n",
      "[CV] C=1, gamma=0.001 ................................................\n",
      "[CV] ................................. C=1, gamma=0.001, total= 7.5min\n",
      "[CV] C=1, gamma=0.001 ................................................\n",
      "[CV] ................................. C=1, gamma=0.001, total= 7.4min\n",
      "[CV] C=10, gamma=1 ...................................................\n",
      "[CV] .................................... C=10, gamma=1, total= 6.6min\n",
      "[CV] C=10, gamma=1 ...................................................\n",
      "[CV] .................................... C=10, gamma=1, total= 6.6min\n",
      "[CV] C=10, gamma=1 ...................................................\n",
      "[CV] .................................... C=10, gamma=1, total= 6.2min\n",
      "[CV] C=10, gamma=1 ...................................................\n",
      "[CV] .................................... C=10, gamma=1, total= 6.5min\n",
      "[CV] C=10, gamma=1 ...................................................\n",
      "[CV] .................................... C=10, gamma=1, total= 6.7min\n",
      "[CV] C=10, gamma=0.1 .................................................\n",
      "[CV] .................................. C=10, gamma=0.1, total= 5.1min\n",
      "[CV] C=10, gamma=0.1 .................................................\n",
      "[CV] .................................. C=10, gamma=0.1, total= 4.2min\n",
      "[CV] C=10, gamma=0.1 .................................................\n",
      "[CV] .................................. C=10, gamma=0.1, total= 2.3min\n",
      "[CV] C=10, gamma=0.1 .................................................\n",
      "[CV] .................................. C=10, gamma=0.1, total= 2.4min\n",
      "[CV] C=10, gamma=0.1 .................................................\n",
      "[CV] .................................. C=10, gamma=0.1, total= 2.2min\n",
      "[CV] C=10, gamma=0.01 ................................................\n",
      "[CV] ................................. C=10, gamma=0.01, total= 2.6min\n",
      "[CV] C=10, gamma=0.01 ................................................\n",
      "[CV] ................................. C=10, gamma=0.01, total= 2.6min\n",
      "[CV] C=10, gamma=0.01 ................................................\n",
      "[CV] ................................. C=10, gamma=0.01, total= 2.5min\n",
      "[CV] C=10, gamma=0.01 ................................................\n",
      "[CV] ................................. C=10, gamma=0.01, total= 2.7min\n",
      "[CV] C=10, gamma=0.01 ................................................\n",
      "[CV] ................................. C=10, gamma=0.01, total= 2.5min\n",
      "[CV] C=10, gamma=0.001 ...............................................\n",
      "[CV] ................................ C=10, gamma=0.001, total= 3.2min\n",
      "[CV] C=10, gamma=0.001 ...............................................\n",
      "[CV] ................................ C=10, gamma=0.001, total= 3.3min\n",
      "[CV] C=10, gamma=0.001 ...............................................\n",
      "[CV] ................................ C=10, gamma=0.001, total= 3.3min\n",
      "[CV] C=10, gamma=0.001 ...............................................\n",
      "[CV] ................................ C=10, gamma=0.001, total= 3.3min\n",
      "[CV] C=10, gamma=0.001 ...............................................\n"
     ]
    },
    {
     "name": "stdout",
     "output_type": "stream",
     "text": [
      "[CV] ................................ C=10, gamma=0.001, total= 3.3min\n",
      "[CV] C=100, gamma=1 ..................................................\n",
      "[CV] ................................... C=100, gamma=1, total= 2.9min\n",
      "[CV] C=100, gamma=1 ..................................................\n",
      "[CV] ................................... C=100, gamma=1, total= 2.8min\n",
      "[CV] C=100, gamma=1 ..................................................\n",
      "[CV] ................................... C=100, gamma=1, total= 3.0min\n",
      "[CV] C=100, gamma=1 ..................................................\n",
      "[CV] ................................... C=100, gamma=1, total= 3.0min\n",
      "[CV] C=100, gamma=1 ..................................................\n",
      "[CV] ................................... C=100, gamma=1, total= 2.9min\n",
      "[CV] C=100, gamma=0.1 ................................................\n",
      "[CV] ................................. C=100, gamma=0.1, total= 2.4min\n",
      "[CV] C=100, gamma=0.1 ................................................\n",
      "[CV] ................................. C=100, gamma=0.1, total= 2.3min\n",
      "[CV] C=100, gamma=0.1 ................................................\n",
      "[CV] ................................. C=100, gamma=0.1, total= 2.4min\n",
      "[CV] C=100, gamma=0.1 ................................................\n",
      "[CV] ................................. C=100, gamma=0.1, total= 2.4min\n",
      "[CV] C=100, gamma=0.1 ................................................\n",
      "[CV] ................................. C=100, gamma=0.1, total= 2.4min\n",
      "[CV] C=100, gamma=0.01 ...............................................\n",
      "[CV] ................................ C=100, gamma=0.01, total= 2.2min\n",
      "[CV] C=100, gamma=0.01 ...............................................\n",
      "[CV] ................................ C=100, gamma=0.01, total= 2.2min\n",
      "[CV] C=100, gamma=0.01 ...............................................\n",
      "[CV] ................................ C=100, gamma=0.01, total= 2.2min\n",
      "[CV] C=100, gamma=0.01 ...............................................\n",
      "[CV] ................................ C=100, gamma=0.01, total= 2.1min\n",
      "[CV] C=100, gamma=0.01 ...............................................\n",
      "[CV] ................................ C=100, gamma=0.01, total= 2.1min\n",
      "[CV] C=100, gamma=0.001 ..............................................\n",
      "[CV] ............................... C=100, gamma=0.001, total= 2.5min\n",
      "[CV] C=100, gamma=0.001 ..............................................\n",
      "[CV] ............................... C=100, gamma=0.001, total= 2.5min\n",
      "[CV] C=100, gamma=0.001 ..............................................\n",
      "[CV] ............................... C=100, gamma=0.001, total= 5.6min\n",
      "[CV] C=100, gamma=0.001 ..............................................\n",
      "[CV] ............................... C=100, gamma=0.001, total= 5.8min\n",
      "[CV] C=100, gamma=0.001 ..............................................\n",
      "[CV] ............................... C=100, gamma=0.001, total= 5.7min\n"
     ]
    },
    {
     "name": "stderr",
     "output_type": "stream",
     "text": [
      "[Parallel(n_jobs=1)]: Done  80 out of  80 | elapsed: 326.0min finished\n"
     ]
    },
    {
     "name": "stdout",
     "output_type": "stream",
     "text": [
      "\n",
      "\n",
      "\n",
      " This is for comments \n",
      "\n",
      "[[470 126  13  57   0  11  11  38  13   7]\n",
      " [ 46 517   7  37   0  65   6   8  33   2]\n",
      " [ 30 142 337  22   2  12   3   5   4   0]\n",
      " [122 199   8 259   4  47  56  23  25  10]\n",
      " [  4 171   2   2 373   1   0   0   0   0]\n",
      " [ 41 206   4  40   0 327  46   7  23   3]\n",
      " [ 32 161   3  80   0  50 410   5   3   2]\n",
      " [ 44 126   3  25   9   9   8 372   1   2]\n",
      " [ 62 268   1  35   2  25   4   5 213   2]\n",
      " [ 35 209   0  34   1   3   7   7   3 399]]\n",
      "AxesSubplot(0.125,0.125;0.62x0.755)\n",
      "                    precision    recall  f1-score   support\n",
      "\n",
      "          AskIndia       0.53      0.63      0.58       746\n",
      "  Business/Finance       0.24      0.72      0.36       721\n",
      "              Food       0.89      0.61      0.72       557\n",
      "     Non-Political       0.44      0.34      0.39       753\n",
      "       Photography       0.95      0.67      0.79       553\n",
      "    Policy/Economy       0.59      0.47      0.52       697\n",
      "          Politics       0.74      0.55      0.63       746\n",
      "         Scheduled       0.79      0.62      0.70       599\n",
      "Science/Technology       0.67      0.35      0.46       617\n",
      "            Sports       0.93      0.57      0.71       698\n",
      "\n",
      "          accuracy                           0.55      6687\n",
      "         macro avg       0.68      0.55      0.59      6687\n",
      "      weighted avg       0.66      0.55      0.58      6687\n",
      "\n",
      "accuracy :  0.5498728876925377\n",
      "Fitting 5 folds for each of 16 candidates, totalling 80 fits\n",
      "[CV] C=0.1, gamma=1 ..................................................\n"
     ]
    },
    {
     "name": "stderr",
     "output_type": "stream",
     "text": [
      "[Parallel(n_jobs=1)]: Using backend SequentialBackend with 1 concurrent workers.\n"
     ]
    },
    {
     "name": "stdout",
     "output_type": "stream",
     "text": [
      "[CV] ................................... C=0.1, gamma=1, total=   4.6s\n",
      "[CV] C=0.1, gamma=1 ..................................................\n"
     ]
    },
    {
     "name": "stderr",
     "output_type": "stream",
     "text": [
      "[Parallel(n_jobs=1)]: Done   1 out of   1 | elapsed:    4.5s remaining:    0.0s\n"
     ]
    },
    {
     "name": "stdout",
     "output_type": "stream",
     "text": [
      "[CV] ................................... C=0.1, gamma=1, total=   4.6s\n",
      "[CV] C=0.1, gamma=1 ..................................................\n",
      "[CV] ................................... C=0.1, gamma=1, total=   4.6s\n",
      "[CV] C=0.1, gamma=1 ..................................................\n",
      "[CV] ................................... C=0.1, gamma=1, total=   4.6s\n",
      "[CV] C=0.1, gamma=1 ..................................................\n",
      "[CV] ................................... C=0.1, gamma=1, total=   4.6s\n",
      "[CV] C=0.1, gamma=0.1 ................................................\n",
      "[CV] ................................. C=0.1, gamma=0.1, total=   5.0s\n",
      "[CV] C=0.1, gamma=0.1 ................................................\n",
      "[CV] ................................. C=0.1, gamma=0.1, total=   5.1s\n",
      "[CV] C=0.1, gamma=0.1 ................................................\n",
      "[CV] ................................. C=0.1, gamma=0.1, total=   5.0s\n",
      "[CV] C=0.1, gamma=0.1 ................................................\n",
      "[CV] ................................. C=0.1, gamma=0.1, total=   5.1s\n",
      "[CV] C=0.1, gamma=0.1 ................................................\n",
      "[CV] ................................. C=0.1, gamma=0.1, total=   5.1s\n",
      "[CV] C=0.1, gamma=0.01 ...............................................\n",
      "[CV] ................................ C=0.1, gamma=0.01, total=   6.3s\n",
      "[CV] C=0.1, gamma=0.01 ...............................................\n",
      "[CV] ................................ C=0.1, gamma=0.01, total=   6.3s\n",
      "[CV] C=0.1, gamma=0.01 ...............................................\n",
      "[CV] ................................ C=0.1, gamma=0.01, total=   6.3s\n",
      "[CV] C=0.1, gamma=0.01 ...............................................\n",
      "[CV] ................................ C=0.1, gamma=0.01, total=   6.3s\n",
      "[CV] C=0.1, gamma=0.01 ...............................................\n",
      "[CV] ................................ C=0.1, gamma=0.01, total=   6.3s\n",
      "[CV] C=0.1, gamma=0.001 ..............................................\n",
      "[CV] ............................... C=0.1, gamma=0.001, total=   6.6s\n",
      "[CV] C=0.1, gamma=0.001 ..............................................\n",
      "[CV] ............................... C=0.1, gamma=0.001, total=   6.4s\n",
      "[CV] C=0.1, gamma=0.001 ..............................................\n",
      "[CV] ............................... C=0.1, gamma=0.001, total=   6.5s\n",
      "[CV] C=0.1, gamma=0.001 ..............................................\n",
      "[CV] ............................... C=0.1, gamma=0.001, total=   6.8s\n",
      "[CV] C=0.1, gamma=0.001 ..............................................\n",
      "[CV] ............................... C=0.1, gamma=0.001, total=   6.7s\n",
      "[CV] C=1, gamma=1 ....................................................\n",
      "[CV] ..................................... C=1, gamma=1, total=   4.4s\n",
      "[CV] C=1, gamma=1 ....................................................\n",
      "[CV] ..................................... C=1, gamma=1, total=   4.3s\n",
      "[CV] C=1, gamma=1 ....................................................\n",
      "[CV] ..................................... C=1, gamma=1, total=   4.4s\n",
      "[CV] C=1, gamma=1 ....................................................\n",
      "[CV] ..................................... C=1, gamma=1, total=   4.5s\n",
      "[CV] C=1, gamma=1 ....................................................\n",
      "[CV] ..................................... C=1, gamma=1, total=   4.4s\n",
      "[CV] C=1, gamma=0.1 ..................................................\n",
      "[CV] ................................... C=1, gamma=0.1, total=   4.5s\n",
      "[CV] C=1, gamma=0.1 ..................................................\n",
      "[CV] ................................... C=1, gamma=0.1, total=   4.6s\n",
      "[CV] C=1, gamma=0.1 ..................................................\n",
      "[CV] ................................... C=1, gamma=0.1, total=   4.5s\n",
      "[CV] C=1, gamma=0.1 ..................................................\n",
      "[CV] ................................... C=1, gamma=0.1, total=   4.6s\n",
      "[CV] C=1, gamma=0.1 ..................................................\n",
      "[CV] ................................... C=1, gamma=0.1, total=   4.5s\n",
      "[CV] C=1, gamma=0.01 .................................................\n",
      "[CV] .................................. C=1, gamma=0.01, total=   5.1s\n",
      "[CV] C=1, gamma=0.01 .................................................\n",
      "[CV] .................................. C=1, gamma=0.01, total=   5.1s\n",
      "[CV] C=1, gamma=0.01 .................................................\n",
      "[CV] .................................. C=1, gamma=0.01, total=   5.1s\n",
      "[CV] C=1, gamma=0.01 .................................................\n",
      "[CV] .................................. C=1, gamma=0.01, total=   5.1s\n",
      "[CV] C=1, gamma=0.01 .................................................\n",
      "[CV] .................................. C=1, gamma=0.01, total=   5.2s\n",
      "[CV] C=1, gamma=0.001 ................................................\n",
      "[CV] ................................. C=1, gamma=0.001, total=   6.4s\n",
      "[CV] C=1, gamma=0.001 ................................................\n",
      "[CV] ................................. C=1, gamma=0.001, total=   6.3s\n",
      "[CV] C=1, gamma=0.001 ................................................\n",
      "[CV] ................................. C=1, gamma=0.001, total=   6.3s\n",
      "[CV] C=1, gamma=0.001 ................................................\n",
      "[CV] ................................. C=1, gamma=0.001, total=   6.5s\n",
      "[CV] C=1, gamma=0.001 ................................................\n",
      "[CV] ................................. C=1, gamma=0.001, total=   6.4s\n",
      "[CV] C=10, gamma=1 ...................................................\n",
      "[CV] .................................... C=10, gamma=1, total=   4.6s\n",
      "[CV] C=10, gamma=1 ...................................................\n",
      "[CV] .................................... C=10, gamma=1, total=   4.5s\n",
      "[CV] C=10, gamma=1 ...................................................\n",
      "[CV] .................................... C=10, gamma=1, total=   4.6s\n",
      "[CV] C=10, gamma=1 ...................................................\n",
      "[CV] .................................... C=10, gamma=1, total=   4.6s\n",
      "[CV] C=10, gamma=1 ...................................................\n",
      "[CV] .................................... C=10, gamma=1, total=   4.6s\n",
      "[CV] C=10, gamma=0.1 .................................................\n",
      "[CV] .................................. C=10, gamma=0.1, total=   4.6s\n",
      "[CV] C=10, gamma=0.1 .................................................\n",
      "[CV] .................................. C=10, gamma=0.1, total=   4.5s\n",
      "[CV] C=10, gamma=0.1 .................................................\n",
      "[CV] .................................. C=10, gamma=0.1, total=   4.6s\n",
      "[CV] C=10, gamma=0.1 .................................................\n",
      "[CV] .................................. C=10, gamma=0.1, total=   4.6s\n",
      "[CV] C=10, gamma=0.1 .................................................\n",
      "[CV] .................................. C=10, gamma=0.1, total=   4.6s\n",
      "[CV] C=10, gamma=0.01 ................................................\n",
      "[CV] ................................. C=10, gamma=0.01, total=   5.1s\n",
      "[CV] C=10, gamma=0.01 ................................................\n",
      "[CV] ................................. C=10, gamma=0.01, total=  10.9s\n",
      "[CV] C=10, gamma=0.01 ................................................\n",
      "[CV] ................................. C=10, gamma=0.01, total=  10.8s\n",
      "[CV] C=10, gamma=0.01 ................................................\n",
      "[CV] ................................. C=10, gamma=0.01, total=  10.9s\n",
      "[CV] C=10, gamma=0.01 ................................................\n",
      "[CV] ................................. C=10, gamma=0.01, total=  10.8s\n",
      "[CV] C=10, gamma=0.001 ...............................................\n",
      "[CV] ................................ C=10, gamma=0.001, total=  12.0s\n",
      "[CV] C=10, gamma=0.001 ...............................................\n",
      "[CV] ................................ C=10, gamma=0.001, total=  12.2s\n",
      "[CV] C=10, gamma=0.001 ...............................................\n",
      "[CV] ................................ C=10, gamma=0.001, total=  12.2s\n",
      "[CV] C=10, gamma=0.001 ...............................................\n",
      "[CV] ................................ C=10, gamma=0.001, total=  12.3s\n",
      "[CV] C=10, gamma=0.001 ...............................................\n"
     ]
    },
    {
     "name": "stdout",
     "output_type": "stream",
     "text": [
      "[CV] ................................ C=10, gamma=0.001, total=  12.3s\n",
      "[CV] C=100, gamma=1 ..................................................\n",
      "[CV] ................................... C=100, gamma=1, total=  11.0s\n",
      "[CV] C=100, gamma=1 ..................................................\n",
      "[CV] ................................... C=100, gamma=1, total=  10.9s\n",
      "[CV] C=100, gamma=1 ..................................................\n",
      "[CV] ................................... C=100, gamma=1, total=  10.6s\n",
      "[CV] C=100, gamma=1 ..................................................\n",
      "[CV] ................................... C=100, gamma=1, total=  10.9s\n",
      "[CV] C=100, gamma=1 ..................................................\n",
      "[CV] ................................... C=100, gamma=1, total=  10.9s\n",
      "[CV] C=100, gamma=0.1 ................................................\n",
      "[CV] ................................. C=100, gamma=0.1, total=  11.1s\n",
      "[CV] C=100, gamma=0.1 ................................................\n",
      "[CV] ................................. C=100, gamma=0.1, total=  10.9s\n",
      "[CV] C=100, gamma=0.1 ................................................\n",
      "[CV] ................................. C=100, gamma=0.1, total=  10.9s\n",
      "[CV] C=100, gamma=0.1 ................................................\n",
      "[CV] ................................. C=100, gamma=0.1, total=  11.1s\n",
      "[CV] C=100, gamma=0.1 ................................................\n",
      "[CV] ................................. C=100, gamma=0.1, total=  11.1s\n",
      "[CV] C=100, gamma=0.01 ...............................................\n",
      "[CV] ................................ C=100, gamma=0.01, total=  11.0s\n",
      "[CV] C=100, gamma=0.01 ...............................................\n",
      "[CV] ................................ C=100, gamma=0.01, total=  11.3s\n",
      "[CV] C=100, gamma=0.01 ...............................................\n",
      "[CV] ................................ C=100, gamma=0.01, total=  11.2s\n",
      "[CV] C=100, gamma=0.01 ...............................................\n",
      "[CV] ................................ C=100, gamma=0.01, total=  11.2s\n",
      "[CV] C=100, gamma=0.01 ...............................................\n",
      "[CV] ................................ C=100, gamma=0.01, total=  11.4s\n",
      "[CV] C=100, gamma=0.001 ..............................................\n",
      "[CV] ............................... C=100, gamma=0.001, total=  10.9s\n",
      "[CV] C=100, gamma=0.001 ..............................................\n",
      "[CV] ............................... C=100, gamma=0.001, total=  10.8s\n",
      "[CV] C=100, gamma=0.001 ..............................................\n",
      "[CV] ............................... C=100, gamma=0.001, total=  10.8s\n",
      "[CV] C=100, gamma=0.001 ..............................................\n",
      "[CV] ............................... C=100, gamma=0.001, total=  10.9s\n",
      "[CV] C=100, gamma=0.001 ..............................................\n",
      "[CV] ............................... C=100, gamma=0.001, total=  10.9s\n"
     ]
    },
    {
     "name": "stderr",
     "output_type": "stream",
     "text": [
      "[Parallel(n_jobs=1)]: Done  80 out of  80 | elapsed:  9.8min finished\n"
     ]
    },
    {
     "name": "stdout",
     "output_type": "stream",
     "text": [
      "\n",
      "\n",
      "\n",
      " This is for domain \n",
      "\n",
      "[[678   0   1  26   9   0   4   0   2  25]\n",
      " [167 206   4  64  20 155  59   0  46  32]\n",
      " [163  10  67  72  78  19  87   0   5  56]\n",
      " [171  31  12 149  42  36 157   0  13  81]\n",
      " [228   4   0  38 230   1  13   0   1  20]\n",
      " [ 78  55   7  41  10 252 187   0  20  37]\n",
      " [101  17   7  79  26  45 406   0   8  56]\n",
      " [485   3   5  12  11   5  44  28   2   4]\n",
      " [149  40   7 104  22  53  93   3 128  56]\n",
      " [144  13  11 103  29  26 162   1   8 222]]\n",
      "AxesSubplot(0.125,0.125;0.496x0.755)\n",
      "                    precision    recall  f1-score   support\n",
      "\n",
      "          AskIndia       0.29      0.91      0.44       745\n",
      "  Business/Finance       0.54      0.27      0.36       753\n",
      "              Food       0.55      0.12      0.20       557\n",
      "     Non-Political       0.22      0.22      0.22       692\n",
      "       Photography       0.48      0.43      0.45       535\n",
      "    Policy/Economy       0.43      0.37      0.39       687\n",
      "          Politics       0.33      0.54      0.41       745\n",
      "         Scheduled       0.88      0.05      0.09       599\n",
      "Science/Technology       0.55      0.20      0.29       655\n",
      "            Sports       0.38      0.31      0.34       719\n",
      "\n",
      "          accuracy                           0.35      6687\n",
      "         macro avg       0.46      0.34      0.32      6687\n",
      "      weighted avg       0.45      0.35      0.32      6687\n",
      "\n",
      "accuracy :  0.3538208464184238\n",
      "Fitting 5 folds for each of 16 candidates, totalling 80 fits\n",
      "[CV] C=0.1, gamma=1 ..................................................\n"
     ]
    },
    {
     "name": "stderr",
     "output_type": "stream",
     "text": [
      "[Parallel(n_jobs=1)]: Using backend SequentialBackend with 1 concurrent workers.\n"
     ]
    },
    {
     "name": "stdout",
     "output_type": "stream",
     "text": [
      "[CV] ................................... C=0.1, gamma=1, total=  42.8s\n",
      "[CV] C=0.1, gamma=1 ..................................................\n"
     ]
    },
    {
     "name": "stderr",
     "output_type": "stream",
     "text": [
      "[Parallel(n_jobs=1)]: Done   1 out of   1 | elapsed:   42.7s remaining:    0.0s\n"
     ]
    },
    {
     "name": "stdout",
     "output_type": "stream",
     "text": [
      "[CV] ................................... C=0.1, gamma=1, total=  44.2s\n",
      "[CV] C=0.1, gamma=1 ..................................................\n",
      "[CV] ................................... C=0.1, gamma=1, total=  43.3s\n",
      "[CV] C=0.1, gamma=1 ..................................................\n",
      "[CV] ................................... C=0.1, gamma=1, total=  44.0s\n",
      "[CV] C=0.1, gamma=1 ..................................................\n",
      "[CV] ................................... C=0.1, gamma=1, total=  43.3s\n",
      "[CV] C=0.1, gamma=0.1 ................................................\n",
      "[CV] ................................. C=0.1, gamma=0.1, total=  49.3s\n",
      "[CV] C=0.1, gamma=0.1 ................................................\n",
      "[CV] ................................. C=0.1, gamma=0.1, total=  47.5s\n",
      "[CV] C=0.1, gamma=0.1 ................................................\n",
      "[CV] ................................. C=0.1, gamma=0.1, total=  48.4s\n",
      "[CV] C=0.1, gamma=0.1 ................................................\n",
      "[CV] ................................. C=0.1, gamma=0.1, total=  47.8s\n",
      "[CV] C=0.1, gamma=0.1 ................................................\n",
      "[CV] ................................. C=0.1, gamma=0.1, total=  48.2s\n",
      "[CV] C=0.1, gamma=0.01 ...............................................\n",
      "[CV] ................................ C=0.1, gamma=0.01, total=  49.3s\n",
      "[CV] C=0.1, gamma=0.01 ...............................................\n",
      "[CV] ................................ C=0.1, gamma=0.01, total=  49.4s\n",
      "[CV] C=0.1, gamma=0.01 ...............................................\n",
      "[CV] ................................ C=0.1, gamma=0.01, total=  49.7s\n",
      "[CV] C=0.1, gamma=0.01 ...............................................\n",
      "[CV] ................................ C=0.1, gamma=0.01, total=  49.0s\n",
      "[CV] C=0.1, gamma=0.01 ...............................................\n",
      "[CV] ................................ C=0.1, gamma=0.01, total=  49.5s\n",
      "[CV] C=0.1, gamma=0.001 ..............................................\n",
      "[CV] ............................... C=0.1, gamma=0.001, total=  50.0s\n",
      "[CV] C=0.1, gamma=0.001 ..............................................\n",
      "[CV] ............................... C=0.1, gamma=0.001, total=  48.1s\n",
      "[CV] C=0.1, gamma=0.001 ..............................................\n",
      "[CV] ............................... C=0.1, gamma=0.001, total=  49.1s\n",
      "[CV] C=0.1, gamma=0.001 ..............................................\n",
      "[CV] ............................... C=0.1, gamma=0.001, total=  48.2s\n",
      "[CV] C=0.1, gamma=0.001 ..............................................\n",
      "[CV] ............................... C=0.1, gamma=0.001, total=  48.4s\n",
      "[CV] C=1, gamma=1 ....................................................\n",
      "[CV] ..................................... C=1, gamma=1, total=  41.0s\n",
      "[CV] C=1, gamma=1 ....................................................\n",
      "[CV] ..................................... C=1, gamma=1, total=  41.1s\n",
      "[CV] C=1, gamma=1 ....................................................\n",
      "[CV] ..................................... C=1, gamma=1, total=  41.7s\n",
      "[CV] C=1, gamma=1 ....................................................\n",
      "[CV] ..................................... C=1, gamma=1, total=  41.4s\n",
      "[CV] C=1, gamma=1 ....................................................\n",
      "[CV] ..................................... C=1, gamma=1, total=  40.9s\n",
      "[CV] C=1, gamma=0.1 ..................................................\n",
      "[CV] ................................... C=1, gamma=0.1, total=  38.9s\n",
      "[CV] C=1, gamma=0.1 ..................................................\n",
      "[CV] ................................... C=1, gamma=0.1, total=  35.1s\n",
      "[CV] C=1, gamma=0.1 ..................................................\n",
      "[CV] ................................... C=1, gamma=0.1, total=  40.9s\n",
      "[CV] C=1, gamma=0.1 ..................................................\n",
      "[CV] ................................... C=1, gamma=0.1, total=  41.3s\n",
      "[CV] C=1, gamma=0.1 ..................................................\n",
      "[CV] ................................... C=1, gamma=0.1, total=  41.4s\n",
      "[CV] C=1, gamma=0.01 .................................................\n",
      "[CV] .................................. C=1, gamma=0.01, total=  48.9s\n",
      "[CV] C=1, gamma=0.01 .................................................\n",
      "[CV] .................................. C=1, gamma=0.01, total=  48.3s\n",
      "[CV] C=1, gamma=0.01 .................................................\n",
      "[CV] .................................. C=1, gamma=0.01, total=  47.8s\n",
      "[CV] C=1, gamma=0.01 .................................................\n",
      "[CV] .................................. C=1, gamma=0.01, total=  48.4s\n",
      "[CV] C=1, gamma=0.01 .................................................\n",
      "[CV] .................................. C=1, gamma=0.01, total=  47.8s\n",
      "[CV] C=1, gamma=0.001 ................................................\n",
      "[CV] ................................. C=1, gamma=0.001, total=  50.0s\n",
      "[CV] C=1, gamma=0.001 ................................................\n",
      "[CV] ................................. C=1, gamma=0.001, total=  49.1s\n",
      "[CV] C=1, gamma=0.001 ................................................\n",
      "[CV] ................................. C=1, gamma=0.001, total=  48.9s\n",
      "[CV] C=1, gamma=0.001 ................................................\n",
      "[CV] ................................. C=1, gamma=0.001, total=  48.8s\n",
      "[CV] C=1, gamma=0.001 ................................................\n",
      "[CV] ................................. C=1, gamma=0.001, total=  48.9s\n",
      "[CV] C=10, gamma=1 ...................................................\n",
      "[CV] .................................... C=10, gamma=1, total=  40.9s\n",
      "[CV] C=10, gamma=1 ...................................................\n",
      "[CV] .................................... C=10, gamma=1, total=  41.2s\n",
      "[CV] C=10, gamma=1 ...................................................\n",
      "[CV] .................................... C=10, gamma=1, total=  40.9s\n",
      "[CV] C=10, gamma=1 ...................................................\n",
      "[CV] .................................... C=10, gamma=1, total=  41.2s\n",
      "[CV] C=10, gamma=1 ...................................................\n",
      "[CV] .................................... C=10, gamma=1, total=  41.0s\n",
      "[CV] C=10, gamma=0.1 .................................................\n",
      "[CV] .................................. C=10, gamma=0.1, total=  36.4s\n",
      "[CV] C=10, gamma=0.1 .................................................\n",
      "[CV] .................................. C=10, gamma=0.1, total=  35.3s\n",
      "[CV] C=10, gamma=0.1 .................................................\n",
      "[CV] .................................. C=10, gamma=0.1, total=  36.5s\n",
      "[CV] C=10, gamma=0.1 .................................................\n",
      "[CV] .................................. C=10, gamma=0.1, total=  36.0s\n",
      "[CV] C=10, gamma=0.1 .................................................\n",
      "[CV] .................................. C=10, gamma=0.1, total=  35.9s\n",
      "[CV] C=10, gamma=0.01 ................................................\n",
      "[CV] ................................. C=10, gamma=0.01, total=  42.1s\n",
      "[CV] C=10, gamma=0.01 ................................................\n",
      "[CV] ................................. C=10, gamma=0.01, total=  41.4s\n",
      "[CV] C=10, gamma=0.01 ................................................\n",
      "[CV] ................................. C=10, gamma=0.01, total=  38.0s\n",
      "[CV] C=10, gamma=0.01 ................................................\n",
      "[CV] ................................. C=10, gamma=0.01, total=  35.5s\n",
      "[CV] C=10, gamma=0.01 ................................................\n",
      "[CV] ................................. C=10, gamma=0.01, total=  39.5s\n",
      "[CV] C=10, gamma=0.001 ...............................................\n",
      "[CV] ................................ C=10, gamma=0.001, total=  50.6s\n",
      "[CV] C=10, gamma=0.001 ...............................................\n",
      "[CV] ................................ C=10, gamma=0.001, total=  51.2s\n",
      "[CV] C=10, gamma=0.001 ...............................................\n",
      "[CV] ................................ C=10, gamma=0.001, total=  50.5s\n",
      "[CV] C=10, gamma=0.001 ...............................................\n",
      "[CV] ................................ C=10, gamma=0.001, total=  49.0s\n",
      "[CV] C=10, gamma=0.001 ...............................................\n"
     ]
    },
    {
     "name": "stdout",
     "output_type": "stream",
     "text": [
      "[CV] ................................ C=10, gamma=0.001, total=  50.3s\n",
      "[CV] C=100, gamma=1 ..................................................\n",
      "[CV] ................................... C=100, gamma=1, total=  41.5s\n",
      "[CV] C=100, gamma=1 ..................................................\n",
      "[CV] ................................... C=100, gamma=1, total=  41.4s\n",
      "[CV] C=100, gamma=1 ..................................................\n",
      "[CV] ................................... C=100, gamma=1, total=  40.6s\n",
      "[CV] C=100, gamma=1 ..................................................\n",
      "[CV] ................................... C=100, gamma=1, total=  41.0s\n",
      "[CV] C=100, gamma=1 ..................................................\n",
      "[CV] ................................... C=100, gamma=1, total=  42.1s\n",
      "[CV] C=100, gamma=0.1 ................................................\n",
      "[CV] ................................. C=100, gamma=0.1, total=  36.6s\n",
      "[CV] C=100, gamma=0.1 ................................................\n",
      "[CV] ................................. C=100, gamma=0.1, total=  36.6s\n",
      "[CV] C=100, gamma=0.1 ................................................\n",
      "[CV] ................................. C=100, gamma=0.1, total=  36.8s\n",
      "[CV] C=100, gamma=0.1 ................................................\n",
      "[CV] ................................. C=100, gamma=0.1, total=  37.3s\n",
      "[CV] C=100, gamma=0.1 ................................................\n",
      "[CV] ................................. C=100, gamma=0.1, total=  34.3s\n",
      "[CV] C=100, gamma=0.01 ...............................................\n",
      "[CV] ................................ C=100, gamma=0.01, total=  35.9s\n",
      "[CV] C=100, gamma=0.01 ...............................................\n",
      "[CV] ................................ C=100, gamma=0.01, total=  36.6s\n",
      "[CV] C=100, gamma=0.01 ...............................................\n",
      "[CV] ................................ C=100, gamma=0.01, total=  34.7s\n",
      "[CV] C=100, gamma=0.01 ...............................................\n",
      "[CV] ................................ C=100, gamma=0.01, total=  38.6s\n",
      "[CV] C=100, gamma=0.01 ...............................................\n",
      "[CV] ................................ C=100, gamma=0.01, total=  35.8s\n",
      "[CV] C=100, gamma=0.001 ..............................................\n",
      "[CV] ............................... C=100, gamma=0.001, total=  41.3s\n",
      "[CV] C=100, gamma=0.001 ..............................................\n",
      "[CV] ............................... C=100, gamma=0.001, total=  41.4s\n",
      "[CV] C=100, gamma=0.001 ..............................................\n",
      "[CV] ............................... C=100, gamma=0.001, total=  42.8s\n",
      "[CV] C=100, gamma=0.001 ..............................................\n",
      "[CV] ............................... C=100, gamma=0.001, total=  39.9s\n",
      "[CV] C=100, gamma=0.001 ..............................................\n",
      "[CV] ............................... C=100, gamma=0.001, total=  41.3s\n"
     ]
    },
    {
     "name": "stderr",
     "output_type": "stream",
     "text": [
      "[Parallel(n_jobs=1)]: Done  80 out of  80 | elapsed: 57.5min finished\n"
     ]
    },
    {
     "name": "stdout",
     "output_type": "stream",
     "text": [
      "\n",
      "\n",
      "\n",
      " This is for text \n",
      "\n",
      "[[466   5  11  27   2  63 126   8   9   6]\n",
      " [ 46  66   0   0   0 103 502  11   1   0]\n",
      " [ 40   1  85   0   0  49 371   0   0   0]\n",
      " [ 79   2   3  38   0  87 478   6   3   0]\n",
      " [ 17   0   0   0 230  37 277   0   0   0]\n",
      " [ 20  14   0   3   0 161 498   0   3   1]\n",
      " [ 36   1   7   2   0  56 606   6   2   0]\n",
      " [ 31  13   1   7   9  34 188 351   3   0]\n",
      " [ 48   4   0   6   0  75 450   5  59   3]\n",
      " [ 32   1   0   1   0  85 521   3   0  86]]\n",
      "AxesSubplot(0.125,0.125;0.3968x0.755)\n",
      "                    precision    recall  f1-score   support\n",
      "\n",
      "          AskIndia       0.57      0.64      0.61       723\n",
      "  Business/Finance       0.62      0.09      0.16       729\n",
      "              Food       0.79      0.16      0.26       546\n",
      "     Non-Political       0.45      0.05      0.10       696\n",
      "       Photography       0.95      0.41      0.57       561\n",
      "    Policy/Economy       0.21      0.23      0.22       700\n",
      "          Politics       0.15      0.85      0.26       716\n",
      "         Scheduled       0.90      0.55      0.68       637\n",
      "Science/Technology       0.74      0.09      0.16       650\n",
      "            Sports       0.90      0.12      0.21       729\n",
      "\n",
      "          accuracy                           0.32      6687\n",
      "         macro avg       0.63      0.32      0.32      6687\n",
      "      weighted avg       0.61      0.32      0.32      6687\n",
      "\n",
      "accuracy :  0.3212202781516375\n",
      "Fitting 5 folds for each of 16 candidates, totalling 80 fits\n",
      "[CV] C=0.1, gamma=1 ..................................................\n"
     ]
    },
    {
     "name": "stderr",
     "output_type": "stream",
     "text": [
      "[Parallel(n_jobs=1)]: Using backend SequentialBackend with 1 concurrent workers.\n"
     ]
    },
    {
     "name": "stdout",
     "output_type": "stream",
     "text": [
      "[CV] ................................... C=0.1, gamma=1, total= 1.0min\n",
      "[CV] C=0.1, gamma=1 ..................................................\n"
     ]
    },
    {
     "name": "stderr",
     "output_type": "stream",
     "text": [
      "[Parallel(n_jobs=1)]: Done   1 out of   1 | elapsed:  1.0min remaining:    0.0s\n"
     ]
    },
    {
     "name": "stdout",
     "output_type": "stream",
     "text": [
      "[CV] ................................... C=0.1, gamma=1, total= 1.0min\n",
      "[CV] C=0.1, gamma=1 ..................................................\n",
      "[CV] ................................... C=0.1, gamma=1, total= 1.0min\n",
      "[CV] C=0.1, gamma=1 ..................................................\n",
      "[CV] ................................... C=0.1, gamma=1, total= 1.0min\n",
      "[CV] C=0.1, gamma=1 ..................................................\n",
      "[CV] ................................... C=0.1, gamma=1, total= 1.0min\n",
      "[CV] C=0.1, gamma=0.1 ................................................\n",
      "[CV] ................................. C=0.1, gamma=0.1, total= 1.0min\n",
      "[CV] C=0.1, gamma=0.1 ................................................\n",
      "[CV] ................................. C=0.1, gamma=0.1, total=  53.0s\n",
      "[CV] C=0.1, gamma=0.1 ................................................\n",
      "[CV] ................................. C=0.1, gamma=0.1, total=  50.8s\n",
      "[CV] C=0.1, gamma=0.1 ................................................\n",
      "[CV] ................................. C=0.1, gamma=0.1, total=  25.9s\n",
      "[CV] C=0.1, gamma=0.1 ................................................\n",
      "[CV] ................................. C=0.1, gamma=0.1, total=  25.9s\n",
      "[CV] C=0.1, gamma=0.01 ...............................................\n",
      "[CV] ................................ C=0.1, gamma=0.01, total=  26.9s\n",
      "[CV] C=0.1, gamma=0.01 ...............................................\n",
      "[CV] ................................ C=0.1, gamma=0.01, total=  27.0s\n",
      "[CV] C=0.1, gamma=0.01 ...............................................\n",
      "[CV] ................................ C=0.1, gamma=0.01, total=  28.2s\n",
      "[CV] C=0.1, gamma=0.01 ...............................................\n",
      "[CV] ................................ C=0.1, gamma=0.01, total=  28.3s\n",
      "[CV] C=0.1, gamma=0.01 ...............................................\n",
      "[CV] ................................ C=0.1, gamma=0.01, total=  27.3s\n",
      "[CV] C=0.1, gamma=0.001 ..............................................\n",
      "[CV] ............................... C=0.1, gamma=0.001, total=  27.1s\n",
      "[CV] C=0.1, gamma=0.001 ..............................................\n",
      "[CV] ............................... C=0.1, gamma=0.001, total=  27.1s\n",
      "[CV] C=0.1, gamma=0.001 ..............................................\n",
      "[CV] ............................... C=0.1, gamma=0.001, total=  28.4s\n",
      "[CV] C=0.1, gamma=0.001 ..............................................\n",
      "[CV] ............................... C=0.1, gamma=0.001, total=  30.2s\n",
      "[CV] C=0.1, gamma=0.001 ..............................................\n",
      "[CV] ............................... C=0.1, gamma=0.001, total=  28.4s\n",
      "[CV] C=1, gamma=1 ....................................................\n",
      "[CV] ..................................... C=1, gamma=1, total=  27.6s\n",
      "[CV] C=1, gamma=1 ....................................................\n",
      "[CV] ..................................... C=1, gamma=1, total=  28.6s\n",
      "[CV] C=1, gamma=1 ....................................................\n",
      "[CV] ..................................... C=1, gamma=1, total=  27.4s\n",
      "[CV] C=1, gamma=1 ....................................................\n",
      "[CV] ..................................... C=1, gamma=1, total=  27.7s\n",
      "[CV] C=1, gamma=1 ....................................................\n",
      "[CV] ..................................... C=1, gamma=1, total=  27.4s\n",
      "[CV] C=1, gamma=0.1 ..................................................\n",
      "[CV] ................................... C=1, gamma=0.1, total=  24.9s\n",
      "[CV] C=1, gamma=0.1 ..................................................\n",
      "[CV] ................................... C=1, gamma=0.1, total=  25.9s\n",
      "[CV] C=1, gamma=0.1 ..................................................\n",
      "[CV] ................................... C=1, gamma=0.1, total=  24.0s\n",
      "[CV] C=1, gamma=0.1 ..................................................\n",
      "[CV] ................................... C=1, gamma=0.1, total=  22.4s\n",
      "[CV] C=1, gamma=0.1 ..................................................\n",
      "[CV] ................................... C=1, gamma=0.1, total=  30.8s\n",
      "[CV] C=1, gamma=0.01 .................................................\n",
      "[CV] .................................. C=1, gamma=0.01, total=  30.7s\n",
      "[CV] C=1, gamma=0.01 .................................................\n",
      "[CV] .................................. C=1, gamma=0.01, total=  26.1s\n",
      "[CV] C=1, gamma=0.01 .................................................\n",
      "[CV] .................................. C=1, gamma=0.01, total=  25.8s\n",
      "[CV] C=1, gamma=0.01 .................................................\n",
      "[CV] .................................. C=1, gamma=0.01, total=  28.0s\n",
      "[CV] C=1, gamma=0.01 .................................................\n",
      "[CV] .................................. C=1, gamma=0.01, total=  25.6s\n",
      "[CV] C=1, gamma=0.001 ................................................\n",
      "[CV] ................................. C=1, gamma=0.001, total=  27.3s\n",
      "[CV] C=1, gamma=0.001 ................................................\n",
      "[CV] ................................. C=1, gamma=0.001, total=  28.5s\n",
      "[CV] C=1, gamma=0.001 ................................................\n",
      "[CV] ................................. C=1, gamma=0.001, total=  28.7s\n",
      "[CV] C=1, gamma=0.001 ................................................\n",
      "[CV] ................................. C=1, gamma=0.001, total=  28.1s\n",
      "[CV] C=1, gamma=0.001 ................................................\n",
      "[CV] ................................. C=1, gamma=0.001, total=  32.7s\n",
      "[CV] C=10, gamma=1 ...................................................\n",
      "[CV] .................................... C=10, gamma=1, total=  34.0s\n",
      "[CV] C=10, gamma=1 ...................................................\n",
      "[CV] .................................... C=10, gamma=1, total=  27.7s\n",
      "[CV] C=10, gamma=1 ...................................................\n",
      "[CV] .................................... C=10, gamma=1, total=  30.7s\n",
      "[CV] C=10, gamma=1 ...................................................\n",
      "[CV] .................................... C=10, gamma=1, total=  29.6s\n",
      "[CV] C=10, gamma=1 ...................................................\n",
      "[CV] .................................... C=10, gamma=1, total=  26.0s\n",
      "[CV] C=10, gamma=0.1 .................................................\n",
      "[CV] .................................. C=10, gamma=0.1, total=  25.2s\n",
      "[CV] C=10, gamma=0.1 .................................................\n",
      "[CV] .................................. C=10, gamma=0.1, total=  24.4s\n",
      "[CV] C=10, gamma=0.1 .................................................\n",
      "[CV] .................................. C=10, gamma=0.1, total=  25.2s\n",
      "[CV] C=10, gamma=0.1 .................................................\n",
      "[CV] .................................. C=10, gamma=0.1, total=  24.1s\n",
      "[CV] C=10, gamma=0.1 .................................................\n",
      "[CV] .................................. C=10, gamma=0.1, total=  23.3s\n",
      "[CV] C=10, gamma=0.01 ................................................\n",
      "[CV] ................................. C=10, gamma=0.01, total=  22.7s\n",
      "[CV] C=10, gamma=0.01 ................................................\n",
      "[CV] ................................. C=10, gamma=0.01, total=  24.5s\n",
      "[CV] C=10, gamma=0.01 ................................................\n",
      "[CV] ................................. C=10, gamma=0.01, total=  22.0s\n",
      "[CV] C=10, gamma=0.01 ................................................\n",
      "[CV] ................................. C=10, gamma=0.01, total=  23.6s\n",
      "[CV] C=10, gamma=0.01 ................................................\n",
      "[CV] ................................. C=10, gamma=0.01, total=  24.6s\n",
      "[CV] C=10, gamma=0.001 ...............................................\n",
      "[CV] ................................ C=10, gamma=0.001, total=  26.7s\n",
      "[CV] C=10, gamma=0.001 ...............................................\n",
      "[CV] ................................ C=10, gamma=0.001, total=  28.8s\n",
      "[CV] C=10, gamma=0.001 ...............................................\n",
      "[CV] ................................ C=10, gamma=0.001, total=  28.1s\n",
      "[CV] C=10, gamma=0.001 ...............................................\n",
      "[CV] ................................ C=10, gamma=0.001, total=  28.3s\n",
      "[CV] C=10, gamma=0.001 ...............................................\n"
     ]
    },
    {
     "name": "stdout",
     "output_type": "stream",
     "text": [
      "[CV] ................................ C=10, gamma=0.001, total=  27.2s\n",
      "[CV] C=100, gamma=1 ..................................................\n",
      "[CV] ................................... C=100, gamma=1, total=  24.6s\n",
      "[CV] C=100, gamma=1 ..................................................\n",
      "[CV] ................................... C=100, gamma=1, total=  25.1s\n",
      "[CV] C=100, gamma=1 ..................................................\n",
      "[CV] ................................... C=100, gamma=1, total=  26.6s\n",
      "[CV] C=100, gamma=1 ..................................................\n",
      "[CV] ................................... C=100, gamma=1, total=  28.0s\n",
      "[CV] C=100, gamma=1 ..................................................\n",
      "[CV] ................................... C=100, gamma=1, total=  31.5s\n",
      "[CV] C=100, gamma=0.1 ................................................\n",
      "[CV] ................................. C=100, gamma=0.1, total=  24.9s\n",
      "[CV] C=100, gamma=0.1 ................................................\n",
      "[CV] ................................. C=100, gamma=0.1, total=  23.2s\n",
      "[CV] C=100, gamma=0.1 ................................................\n",
      "[CV] ................................. C=100, gamma=0.1, total=  23.9s\n",
      "[CV] C=100, gamma=0.1 ................................................\n",
      "[CV] ................................. C=100, gamma=0.1, total=  22.1s\n",
      "[CV] C=100, gamma=0.1 ................................................\n",
      "[CV] ................................. C=100, gamma=0.1, total=  21.8s\n",
      "[CV] C=100, gamma=0.01 ...............................................\n",
      "[CV] ................................ C=100, gamma=0.01, total=  22.1s\n",
      "[CV] C=100, gamma=0.01 ...............................................\n",
      "[CV] ................................ C=100, gamma=0.01, total=  22.7s\n",
      "[CV] C=100, gamma=0.01 ...............................................\n",
      "[CV] ................................ C=100, gamma=0.01, total=  23.4s\n",
      "[CV] C=100, gamma=0.01 ...............................................\n",
      "[CV] ................................ C=100, gamma=0.01, total=  23.8s\n",
      "[CV] C=100, gamma=0.01 ...............................................\n",
      "[CV] ................................ C=100, gamma=0.01, total=  22.3s\n",
      "[CV] C=100, gamma=0.001 ..............................................\n",
      "[CV] ............................... C=100, gamma=0.001, total=  22.8s\n",
      "[CV] C=100, gamma=0.001 ..............................................\n",
      "[CV] ............................... C=100, gamma=0.001, total=  21.6s\n",
      "[CV] C=100, gamma=0.001 ..............................................\n",
      "[CV] ............................... C=100, gamma=0.001, total=  22.5s\n",
      "[CV] C=100, gamma=0.001 ..............................................\n",
      "[CV] ............................... C=100, gamma=0.001, total=  21.6s\n",
      "[CV] C=100, gamma=0.001 ..............................................\n",
      "[CV] ............................... C=100, gamma=0.001, total=  23.2s\n"
     ]
    },
    {
     "name": "stderr",
     "output_type": "stream",
     "text": [
      "[Parallel(n_jobs=1)]: Done  80 out of  80 | elapsed: 39.3min finished\n"
     ]
    },
    {
     "name": "stdout",
     "output_type": "stream",
     "text": [
      "\n",
      "\n",
      "\n",
      " This is for title \n",
      "\n",
      "[[462  37   7  82   3  27  22   3  52  21]\n",
      " [ 47 452   6  46   1  80  15  18  70   8]\n",
      " [ 38  10 435  40   0   8  13   1   2   4]\n",
      " [ 80  45   4 408   5  60  55   4  38  22]\n",
      " [  9   3   2   7 542   2   0   1   2   0]\n",
      " [ 37  80   9  63   0 397  73   0  32   2]\n",
      " [ 27  19   6  99   0  63 458   3  16   5]\n",
      " [ 14  17   1  11  16   3   5 538   5   3]\n",
      " [ 46  51   2  71   2  45  14   5 392   6]\n",
      " [ 35   9   1  44   0  13  14   3   3 630]]\n",
      "AxesSubplot(0.125,0.125;0.31744x0.755)\n",
      "                    precision    recall  f1-score   support\n",
      "\n",
      "          AskIndia       0.58      0.65      0.61       716\n",
      "  Business/Finance       0.63      0.61      0.62       743\n",
      "              Food       0.92      0.79      0.85       551\n",
      "     Non-Political       0.47      0.57      0.51       721\n",
      "       Photography       0.95      0.95      0.95       568\n",
      "    Policy/Economy       0.57      0.57      0.57       693\n",
      "          Politics       0.68      0.66      0.67       696\n",
      "         Scheduled       0.93      0.88      0.90       613\n",
      "Science/Technology       0.64      0.62      0.63       634\n",
      "            Sports       0.90      0.84      0.87       752\n",
      "\n",
      "          accuracy                           0.70      6687\n",
      "         macro avg       0.73      0.71      0.72      6687\n",
      "      weighted avg       0.72      0.70      0.71      6687\n",
      "\n",
      "accuracy :  0.7049499027964707\n",
      "Fitting 5 folds for each of 16 candidates, totalling 80 fits\n",
      "[CV] C=0.1, gamma=1 ..................................................\n"
     ]
    },
    {
     "name": "stderr",
     "output_type": "stream",
     "text": [
      "[Parallel(n_jobs=1)]: Using backend SequentialBackend with 1 concurrent workers.\n"
     ]
    },
    {
     "name": "stdout",
     "output_type": "stream",
     "text": [
      "[CV] ................................... C=0.1, gamma=1, total=   7.1s\n",
      "[CV] C=0.1, gamma=1 ..................................................\n"
     ]
    },
    {
     "name": "stderr",
     "output_type": "stream",
     "text": [
      "[Parallel(n_jobs=1)]: Done   1 out of   1 | elapsed:    7.0s remaining:    0.0s\n"
     ]
    },
    {
     "name": "stdout",
     "output_type": "stream",
     "text": [
      "[CV] ................................... C=0.1, gamma=1, total=   7.0s\n",
      "[CV] C=0.1, gamma=1 ..................................................\n",
      "[CV] ................................... C=0.1, gamma=1, total=   7.4s\n",
      "[CV] C=0.1, gamma=1 ..................................................\n",
      "[CV] ................................... C=0.1, gamma=1, total=   7.4s\n",
      "[CV] C=0.1, gamma=1 ..................................................\n",
      "[CV] ................................... C=0.1, gamma=1, total=   7.5s\n",
      "[CV] C=0.1, gamma=0.1 ................................................\n",
      "[CV] ................................. C=0.1, gamma=0.1, total=   7.1s\n",
      "[CV] C=0.1, gamma=0.1 ................................................\n",
      "[CV] ................................. C=0.1, gamma=0.1, total=   6.9s\n",
      "[CV] C=0.1, gamma=0.1 ................................................\n",
      "[CV] ................................. C=0.1, gamma=0.1, total=   7.0s\n",
      "[CV] C=0.1, gamma=0.1 ................................................\n",
      "[CV] ................................. C=0.1, gamma=0.1, total=   7.1s\n",
      "[CV] C=0.1, gamma=0.1 ................................................\n",
      "[CV] ................................. C=0.1, gamma=0.1, total=   7.1s\n",
      "[CV] C=0.1, gamma=0.01 ...............................................\n",
      "[CV] ................................ C=0.1, gamma=0.01, total=   6.8s\n",
      "[CV] C=0.1, gamma=0.01 ...............................................\n",
      "[CV] ................................ C=0.1, gamma=0.01, total=   6.6s\n",
      "[CV] C=0.1, gamma=0.01 ...............................................\n",
      "[CV] ................................ C=0.1, gamma=0.01, total=   6.4s\n",
      "[CV] C=0.1, gamma=0.01 ...............................................\n",
      "[CV] ................................ C=0.1, gamma=0.01, total=   6.5s\n",
      "[CV] C=0.1, gamma=0.01 ...............................................\n",
      "[CV] ................................ C=0.1, gamma=0.01, total=   6.3s\n",
      "[CV] C=0.1, gamma=0.001 ..............................................\n",
      "[CV] ............................... C=0.1, gamma=0.001, total=   6.2s\n",
      "[CV] C=0.1, gamma=0.001 ..............................................\n",
      "[CV] ............................... C=0.1, gamma=0.001, total=   6.7s\n",
      "[CV] C=0.1, gamma=0.001 ..............................................\n",
      "[CV] ............................... C=0.1, gamma=0.001, total=   6.6s\n",
      "[CV] C=0.1, gamma=0.001 ..............................................\n",
      "[CV] ............................... C=0.1, gamma=0.001, total=   6.6s\n",
      "[CV] C=0.1, gamma=0.001 ..............................................\n",
      "[CV] ............................... C=0.1, gamma=0.001, total=   6.1s\n",
      "[CV] C=1, gamma=1 ....................................................\n",
      "[CV] ..................................... C=1, gamma=1, total=   7.7s\n",
      "[CV] C=1, gamma=1 ....................................................\n",
      "[CV] ..................................... C=1, gamma=1, total=   7.8s\n",
      "[CV] C=1, gamma=1 ....................................................\n",
      "[CV] ..................................... C=1, gamma=1, total=   8.0s\n",
      "[CV] C=1, gamma=1 ....................................................\n",
      "[CV] ..................................... C=1, gamma=1, total=   7.8s\n",
      "[CV] C=1, gamma=1 ....................................................\n",
      "[CV] ..................................... C=1, gamma=1, total=   9.1s\n",
      "[CV] C=1, gamma=0.1 ..................................................\n",
      "[CV] ................................... C=1, gamma=0.1, total=   8.9s\n",
      "[CV] C=1, gamma=0.1 ..................................................\n",
      "[CV] ................................... C=1, gamma=0.1, total=   8.1s\n",
      "[CV] C=1, gamma=0.1 ..................................................\n",
      "[CV] ................................... C=1, gamma=0.1, total=   7.5s\n",
      "[CV] C=1, gamma=0.1 ..................................................\n",
      "[CV] ................................... C=1, gamma=0.1, total=   7.5s\n",
      "[CV] C=1, gamma=0.1 ..................................................\n",
      "[CV] ................................... C=1, gamma=0.1, total=   7.7s\n",
      "[CV] C=1, gamma=0.01 .................................................\n",
      "[CV] .................................. C=1, gamma=0.01, total=   7.1s\n",
      "[CV] C=1, gamma=0.01 .................................................\n",
      "[CV] .................................. C=1, gamma=0.01, total=   7.3s\n",
      "[CV] C=1, gamma=0.01 .................................................\n",
      "[CV] .................................. C=1, gamma=0.01, total=   6.9s\n",
      "[CV] C=1, gamma=0.01 .................................................\n",
      "[CV] .................................. C=1, gamma=0.01, total=   6.9s\n",
      "[CV] C=1, gamma=0.01 .................................................\n",
      "[CV] .................................. C=1, gamma=0.01, total=   7.0s\n",
      "[CV] C=1, gamma=0.001 ................................................\n",
      "[CV] ................................. C=1, gamma=0.001, total=   6.3s\n",
      "[CV] C=1, gamma=0.001 ................................................\n",
      "[CV] ................................. C=1, gamma=0.001, total=   6.4s\n",
      "[CV] C=1, gamma=0.001 ................................................\n",
      "[CV] ................................. C=1, gamma=0.001, total=   6.4s\n",
      "[CV] C=1, gamma=0.001 ................................................\n",
      "[CV] ................................. C=1, gamma=0.001, total=   6.3s\n",
      "[CV] C=1, gamma=0.001 ................................................\n",
      "[CV] ................................. C=1, gamma=0.001, total=   6.3s\n",
      "[CV] C=10, gamma=1 ...................................................\n",
      "[CV] .................................... C=10, gamma=1, total=   8.3s\n",
      "[CV] C=10, gamma=1 ...................................................\n",
      "[CV] .................................... C=10, gamma=1, total=   8.2s\n",
      "[CV] C=10, gamma=1 ...................................................\n",
      "[CV] .................................... C=10, gamma=1, total=   8.1s\n",
      "[CV] C=10, gamma=1 ...................................................\n",
      "[CV] .................................... C=10, gamma=1, total=   8.0s\n",
      "[CV] C=10, gamma=1 ...................................................\n",
      "[CV] .................................... C=10, gamma=1, total=   7.8s\n",
      "[CV] C=10, gamma=0.1 .................................................\n",
      "[CV] .................................. C=10, gamma=0.1, total=   8.1s\n",
      "[CV] C=10, gamma=0.1 .................................................\n",
      "[CV] .................................. C=10, gamma=0.1, total=   7.9s\n",
      "[CV] C=10, gamma=0.1 .................................................\n",
      "[CV] .................................. C=10, gamma=0.1, total=   8.2s\n",
      "[CV] C=10, gamma=0.1 .................................................\n",
      "[CV] .................................. C=10, gamma=0.1, total=   8.1s\n",
      "[CV] C=10, gamma=0.1 .................................................\n",
      "[CV] .................................. C=10, gamma=0.1, total=   7.8s\n",
      "[CV] C=10, gamma=0.01 ................................................\n",
      "[CV] ................................. C=10, gamma=0.01, total=   7.1s\n",
      "[CV] C=10, gamma=0.01 ................................................\n",
      "[CV] ................................. C=10, gamma=0.01, total=   7.1s\n",
      "[CV] C=10, gamma=0.01 ................................................\n",
      "[CV] ................................. C=10, gamma=0.01, total=   7.0s\n",
      "[CV] C=10, gamma=0.01 ................................................\n",
      "[CV] ................................. C=10, gamma=0.01, total=   7.1s\n",
      "[CV] C=10, gamma=0.01 ................................................\n",
      "[CV] ................................. C=10, gamma=0.01, total=   7.4s\n",
      "[CV] C=10, gamma=0.001 ...............................................\n",
      "[CV] ................................ C=10, gamma=0.001, total=   7.1s\n",
      "[CV] C=10, gamma=0.001 ...............................................\n",
      "[CV] ................................ C=10, gamma=0.001, total=   6.8s\n",
      "[CV] C=10, gamma=0.001 ...............................................\n",
      "[CV] ................................ C=10, gamma=0.001, total=   6.8s\n",
      "[CV] C=10, gamma=0.001 ...............................................\n",
      "[CV] ................................ C=10, gamma=0.001, total=   6.8s\n",
      "[CV] C=10, gamma=0.001 ...............................................\n"
     ]
    },
    {
     "name": "stdout",
     "output_type": "stream",
     "text": [
      "[CV] ................................ C=10, gamma=0.001, total=   6.8s\n",
      "[CV] C=100, gamma=1 ..................................................\n",
      "[CV] ................................... C=100, gamma=1, total=   8.1s\n",
      "[CV] C=100, gamma=1 ..................................................\n",
      "[CV] ................................... C=100, gamma=1, total=   8.0s\n",
      "[CV] C=100, gamma=1 ..................................................\n",
      "[CV] ................................... C=100, gamma=1, total=   8.1s\n",
      "[CV] C=100, gamma=1 ..................................................\n",
      "[CV] ................................... C=100, gamma=1, total=   8.0s\n",
      "[CV] C=100, gamma=1 ..................................................\n",
      "[CV] ................................... C=100, gamma=1, total=   7.8s\n",
      "[CV] C=100, gamma=0.1 ................................................\n",
      "[CV] ................................. C=100, gamma=0.1, total=   8.0s\n",
      "[CV] C=100, gamma=0.1 ................................................\n",
      "[CV] ................................. C=100, gamma=0.1, total=   8.2s\n",
      "[CV] C=100, gamma=0.1 ................................................\n",
      "[CV] ................................. C=100, gamma=0.1, total=   8.3s\n",
      "[CV] C=100, gamma=0.1 ................................................\n",
      "[CV] ................................. C=100, gamma=0.1, total=   8.2s\n",
      "[CV] C=100, gamma=0.1 ................................................\n",
      "[CV] ................................. C=100, gamma=0.1, total=   7.9s\n",
      "[CV] C=100, gamma=0.01 ...............................................\n",
      "[CV] ................................ C=100, gamma=0.01, total=   8.1s\n",
      "[CV] C=100, gamma=0.01 ...............................................\n",
      "[CV] ................................ C=100, gamma=0.01, total=   8.0s\n",
      "[CV] C=100, gamma=0.01 ...............................................\n",
      "[CV] ................................ C=100, gamma=0.01, total=   8.2s\n",
      "[CV] C=100, gamma=0.01 ...............................................\n",
      "[CV] ................................ C=100, gamma=0.01, total=   8.3s\n",
      "[CV] C=100, gamma=0.01 ...............................................\n",
      "[CV] ................................ C=100, gamma=0.01, total=   8.4s\n",
      "[CV] C=100, gamma=0.001 ..............................................\n",
      "[CV] ............................... C=100, gamma=0.001, total=   7.7s\n",
      "[CV] C=100, gamma=0.001 ..............................................\n",
      "[CV] ............................... C=100, gamma=0.001, total=   7.5s\n",
      "[CV] C=100, gamma=0.001 ..............................................\n",
      "[CV] ............................... C=100, gamma=0.001, total=   7.3s\n",
      "[CV] C=100, gamma=0.001 ..............................................\n",
      "[CV] ............................... C=100, gamma=0.001, total=   8.6s\n",
      "[CV] C=100, gamma=0.001 ..............................................\n",
      "[CV] ............................... C=100, gamma=0.001, total=   7.5s\n"
     ]
    },
    {
     "name": "stderr",
     "output_type": "stream",
     "text": [
      "[Parallel(n_jobs=1)]: Done  80 out of  80 | elapsed:  9.9min finished\n"
     ]
    },
    {
     "name": "stdout",
     "output_type": "stream",
     "text": [
      "\n",
      "\n",
      "\n",
      " This is for url \n",
      "\n",
      "[[ 84   1   0   0   2   0 680   1   2   0]\n",
      " [  0 139   0   1   1   9 526   6   3   0]\n",
      " [  2   0 317   0   0   0 256   0   0   0]\n",
      " [  0   2   0  90   0   0 637   0   1   0]\n",
      " [  0   0   1   0 512   0  34   7   0   0]\n",
      " [  1  13   0   4   0  68 599   0   2   0]\n",
      " [  0   0   0   1   0   0 722   1   0   0]\n",
      " [  1  10   1   0   7   0 256 298   0   0]\n",
      " [  0   5   0   2   0   9 520   0  96   0]\n",
      " [  1   0   0   0   0   2 650   1   0 103]]\n",
      "AxesSubplot(0.125,0.125;0.253952x0.755)\n",
      "                    precision    recall  f1-score   support\n",
      "\n",
      "          AskIndia       0.94      0.11      0.20       770\n",
      "  Business/Finance       0.82      0.20      0.33       685\n",
      "              Food       0.99      0.55      0.71       575\n",
      "     Non-Political       0.92      0.12      0.22       730\n",
      "       Photography       0.98      0.92      0.95       554\n",
      "    Policy/Economy       0.77      0.10      0.18       687\n",
      "          Politics       0.15      1.00      0.26       724\n",
      "         Scheduled       0.95      0.52      0.67       573\n",
      "Science/Technology       0.92      0.15      0.26       632\n",
      "            Sports       1.00      0.14      0.24       757\n",
      "\n",
      "          accuracy                           0.36      6687\n",
      "         macro avg       0.84      0.38      0.40      6687\n",
      "      weighted avg       0.84      0.36      0.37      6687\n",
      "\n",
      "accuracy :  0.3632421115597428\n"
     ]
    },
    {
     "data": {
      "image/png": "[encoded data removed]",
      "text/plain": [
       "<Figure size 432x288 with 6 Axes>"
      ]
     },
     "metadata": {},
     "output_type": "display_data"
    }
   ],
   "source": [
    "for x in to_probe:\n",
    "    X=df[x].fillna(value='')\n",
    "    y=df['flair']\n",
    "    X_train,X_test,y_train,y_test=train_test_split(X,y,test_size=0.3)\n",
    "    pipeline.fit(X_train,y_train)\n",
    "    save_classifier=open(\"svc_f2\"+x+\".pickle\",\"wb\")\n",
    "    pickle.dump(pipeline,save_classifier)\n",
    "    save_classifier.close()\n",
    "    predictions = pipeline.predict(X_test)\n",
    "    print('\\n\\n\\n This is for',x,'\\n')\n",
    "    print(confusion_matrix(y_test,predictions))\n",
    "    print(sns.heatmap(confusion_matrix(y_test,predictions)))\n",
    "    print(classification_report(y_test,predictions))\n",
    "    print('accuracy : ',accuracy_score(y_test,predictions))\n",
    "    "
   ]
  },
  {
   "cell_type": "markdown",
   "metadata": {},
   "source": [
    "Comments : accuracy= 0.54  \n",
    "Domain   : accuracy= 0.35                     \n",
    "Text     : accuracy= 0.32                                          \n",
    "Title    : accuracy= 0.70                                               \n",
    "url      : accuracy= 0.36\n",
    "\n",
    "Here too, title emerges as the best feature.\n",
    "\n",
    "Now, we take the combined features."
   ]
  },
  {
   "cell_type": "code",
   "execution_count": 26,
   "metadata": {},
   "outputs": [
    {
     "name": "stdout",
     "output_type": "stream",
     "text": [
      "Fitting 5 folds for each of 16 candidates, totalling 80 fits\n",
      "[CV] C=0.1, gamma=1 ..................................................\n"
     ]
    },
    {
     "name": "stderr",
     "output_type": "stream",
     "text": [
      "[Parallel(n_jobs=1)]: Using backend SequentialBackend with 1 concurrent workers.\n"
     ]
    },
    {
     "name": "stdout",
     "output_type": "stream",
     "text": [
      "[CV] ................................... C=0.1, gamma=1, total= 1.1min\n",
      "[CV] C=0.1, gamma=1 ..................................................\n"
     ]
    },
    {
     "name": "stderr",
     "output_type": "stream",
     "text": [
      "[Parallel(n_jobs=1)]: Done   1 out of   1 | elapsed:  1.1min remaining:    0.0s\n"
     ]
    },
    {
     "name": "stdout",
     "output_type": "stream",
     "text": [
      "[CV] ................................... C=0.1, gamma=1, total= 1.2min\n",
      "[CV] C=0.1, gamma=1 ..................................................\n",
      "[CV] ................................... C=0.1, gamma=1, total= 1.1min\n",
      "[CV] C=0.1, gamma=1 ..................................................\n",
      "[CV] ................................... C=0.1, gamma=1, total= 1.1min\n",
      "[CV] C=0.1, gamma=1 ..................................................\n",
      "[CV] ................................... C=0.1, gamma=1, total= 1.1min\n",
      "[CV] C=0.1, gamma=0.1 ................................................\n",
      "[CV] ................................. C=0.1, gamma=0.1, total= 1.1min\n",
      "[CV] C=0.1, gamma=0.1 ................................................\n",
      "[CV] ................................. C=0.1, gamma=0.1, total= 1.1min\n",
      "[CV] C=0.1, gamma=0.1 ................................................\n",
      "[CV] ................................. C=0.1, gamma=0.1, total= 1.1min\n",
      "[CV] C=0.1, gamma=0.1 ................................................\n",
      "[CV] ................................. C=0.1, gamma=0.1, total= 1.1min\n",
      "[CV] C=0.1, gamma=0.1 ................................................\n",
      "[CV] ................................. C=0.1, gamma=0.1, total= 1.2min\n",
      "[CV] C=0.1, gamma=0.01 ...............................................\n",
      "[CV] ................................ C=0.1, gamma=0.01, total= 1.1min\n",
      "[CV] C=0.1, gamma=0.01 ...............................................\n",
      "[CV] ................................ C=0.1, gamma=0.01, total= 1.1min\n",
      "[CV] C=0.1, gamma=0.01 ...............................................\n",
      "[CV] ................................ C=0.1, gamma=0.01, total= 1.1min\n",
      "[CV] C=0.1, gamma=0.01 ...............................................\n",
      "[CV] ................................ C=0.1, gamma=0.01, total= 1.1min\n",
      "[CV] C=0.1, gamma=0.01 ...............................................\n",
      "[CV] ................................ C=0.1, gamma=0.01, total= 1.2min\n",
      "[CV] C=0.1, gamma=0.001 ..............................................\n",
      "[CV] ............................... C=0.1, gamma=0.001, total= 1.2min\n",
      "[CV] C=0.1, gamma=0.001 ..............................................\n",
      "[CV] ............................... C=0.1, gamma=0.001, total= 1.1min\n",
      "[CV] C=0.1, gamma=0.001 ..............................................\n",
      "[CV] ............................... C=0.1, gamma=0.001, total= 1.1min\n",
      "[CV] C=0.1, gamma=0.001 ..............................................\n",
      "[CV] ............................... C=0.1, gamma=0.001, total= 1.1min\n",
      "[CV] C=0.1, gamma=0.001 ..............................................\n",
      "[CV] ............................... C=0.1, gamma=0.001, total= 2.3min\n",
      "[CV] C=1, gamma=1 ....................................................\n",
      "[CV] ..................................... C=1, gamma=1, total= 2.3min\n",
      "[CV] C=1, gamma=1 ....................................................\n",
      "[CV] ..................................... C=1, gamma=1, total= 2.3min\n",
      "[CV] C=1, gamma=1 ....................................................\n",
      "[CV] ..................................... C=1, gamma=1, total= 2.3min\n",
      "[CV] C=1, gamma=1 ....................................................\n",
      "[CV] ..................................... C=1, gamma=1, total= 2.3min\n",
      "[CV] C=1, gamma=1 ....................................................\n",
      "[CV] ..................................... C=1, gamma=1, total= 2.3min\n",
      "[CV] C=1, gamma=0.1 ..................................................\n",
      "[CV] ................................... C=1, gamma=0.1, total= 2.2min\n",
      "[CV] C=1, gamma=0.1 ..................................................\n",
      "[CV] ................................... C=1, gamma=0.1, total= 2.2min\n",
      "[CV] C=1, gamma=0.1 ..................................................\n",
      "[CV] ................................... C=1, gamma=0.1, total= 2.3min\n",
      "[CV] C=1, gamma=0.1 ..................................................\n",
      "[CV] ................................... C=1, gamma=0.1, total= 2.2min\n",
      "[CV] C=1, gamma=0.1 ..................................................\n",
      "[CV] ................................... C=1, gamma=0.1, total= 2.2min\n",
      "[CV] C=1, gamma=0.01 .................................................\n",
      "[CV] .................................. C=1, gamma=0.01, total= 2.6min\n",
      "[CV] C=1, gamma=0.01 .................................................\n",
      "[CV] .................................. C=1, gamma=0.01, total= 2.7min\n",
      "[CV] C=1, gamma=0.01 .................................................\n",
      "[CV] .................................. C=1, gamma=0.01, total= 2.7min\n",
      "[CV] C=1, gamma=0.01 .................................................\n",
      "[CV] .................................. C=1, gamma=0.01, total= 2.7min\n",
      "[CV] C=1, gamma=0.01 .................................................\n",
      "[CV] .................................. C=1, gamma=0.01, total= 2.7min\n",
      "[CV] C=1, gamma=0.001 ................................................\n",
      "[CV] ................................. C=1, gamma=0.001, total= 2.6min\n",
      "[CV] C=1, gamma=0.001 ................................................\n",
      "[CV] ................................. C=1, gamma=0.001, total= 2.7min\n",
      "[CV] C=1, gamma=0.001 ................................................\n",
      "[CV] ................................. C=1, gamma=0.001, total= 2.6min\n",
      "[CV] C=1, gamma=0.001 ................................................\n",
      "[CV] ................................. C=1, gamma=0.001, total= 2.6min\n",
      "[CV] C=1, gamma=0.001 ................................................\n",
      "[CV] ................................. C=1, gamma=0.001, total= 2.7min\n",
      "[CV] C=10, gamma=1 ...................................................\n",
      "[CV] .................................... C=10, gamma=1, total= 2.3min\n",
      "[CV] C=10, gamma=1 ...................................................\n",
      "[CV] .................................... C=10, gamma=1, total= 2.3min\n",
      "[CV] C=10, gamma=1 ...................................................\n",
      "[CV] .................................... C=10, gamma=1, total= 2.3min\n",
      "[CV] C=10, gamma=1 ...................................................\n",
      "[CV] .................................... C=10, gamma=1, total= 2.3min\n",
      "[CV] C=10, gamma=1 ...................................................\n",
      "[CV] .................................... C=10, gamma=1, total= 2.3min\n",
      "[CV] C=10, gamma=0.1 .................................................\n",
      "[CV] .................................. C=10, gamma=0.1, total= 1.9min\n",
      "[CV] C=10, gamma=0.1 .................................................\n",
      "[CV] .................................. C=10, gamma=0.1, total= 1.9min\n",
      "[CV] C=10, gamma=0.1 .................................................\n",
      "[CV] .................................. C=10, gamma=0.1, total= 1.9min\n",
      "[CV] C=10, gamma=0.1 .................................................\n",
      "[CV] .................................. C=10, gamma=0.1, total= 1.9min\n",
      "[CV] C=10, gamma=0.1 .................................................\n",
      "[CV] .................................. C=10, gamma=0.1, total= 1.9min\n",
      "[CV] C=10, gamma=0.01 ................................................\n",
      "[CV] ................................. C=10, gamma=0.01, total= 2.2min\n",
      "[CV] C=10, gamma=0.01 ................................................\n",
      "[CV] ................................. C=10, gamma=0.01, total= 2.2min\n",
      "[CV] C=10, gamma=0.01 ................................................\n",
      "[CV] ................................. C=10, gamma=0.01, total= 2.2min\n",
      "[CV] C=10, gamma=0.01 ................................................\n",
      "[CV] ................................. C=10, gamma=0.01, total= 2.2min\n",
      "[CV] C=10, gamma=0.01 ................................................\n",
      "[CV] ................................. C=10, gamma=0.01, total= 2.2min\n",
      "[CV] C=10, gamma=0.001 ...............................................\n",
      "[CV] ................................ C=10, gamma=0.001, total= 2.6min\n",
      "[CV] C=10, gamma=0.001 ...............................................\n",
      "[CV] ................................ C=10, gamma=0.001, total= 2.7min\n",
      "[CV] C=10, gamma=0.001 ...............................................\n",
      "[CV] ................................ C=10, gamma=0.001, total= 2.7min\n",
      "[CV] C=10, gamma=0.001 ...............................................\n",
      "[CV] ................................ C=10, gamma=0.001, total= 2.7min\n",
      "[CV] C=10, gamma=0.001 ...............................................\n"
     ]
    },
    {
     "name": "stdout",
     "output_type": "stream",
     "text": [
      "[CV] ................................ C=10, gamma=0.001, total= 2.7min\n",
      "[CV] C=100, gamma=1 ..................................................\n",
      "[CV] ................................... C=100, gamma=1, total= 2.3min\n",
      "[CV] C=100, gamma=1 ..................................................\n",
      "[CV] ................................... C=100, gamma=1, total= 2.3min\n",
      "[CV] C=100, gamma=1 ..................................................\n",
      "[CV] ................................... C=100, gamma=1, total= 2.3min\n",
      "[CV] C=100, gamma=1 ..................................................\n",
      "[CV] ................................... C=100, gamma=1, total= 2.3min\n",
      "[CV] C=100, gamma=1 ..................................................\n",
      "[CV] ................................... C=100, gamma=1, total= 2.3min\n",
      "[CV] C=100, gamma=0.1 ................................................\n",
      "[CV] ................................. C=100, gamma=0.1, total= 1.9min\n",
      "[CV] C=100, gamma=0.1 ................................................\n",
      "[CV] ................................. C=100, gamma=0.1, total= 1.9min\n",
      "[CV] C=100, gamma=0.1 ................................................\n",
      "[CV] ................................. C=100, gamma=0.1, total= 1.9min\n",
      "[CV] C=100, gamma=0.1 ................................................\n",
      "[CV] ................................. C=100, gamma=0.1, total= 1.9min\n",
      "[CV] C=100, gamma=0.1 ................................................\n",
      "[CV] ................................. C=100, gamma=0.1, total= 1.9min\n",
      "[CV] C=100, gamma=0.01 ...............................................\n",
      "[CV] ................................ C=100, gamma=0.01, total= 1.8min\n",
      "[CV] C=100, gamma=0.01 ...............................................\n",
      "[CV] ................................ C=100, gamma=0.01, total= 1.5min\n",
      "[CV] C=100, gamma=0.01 ...............................................\n",
      "[CV] ................................ C=100, gamma=0.01, total= 1.8min\n",
      "[CV] C=100, gamma=0.01 ...............................................\n",
      "[CV] ................................ C=100, gamma=0.01, total= 1.8min\n",
      "[CV] C=100, gamma=0.01 ...............................................\n",
      "[CV] ................................ C=100, gamma=0.01, total= 1.8min\n",
      "[CV] C=100, gamma=0.001 ..............................................\n",
      "[CV] ............................... C=100, gamma=0.001, total= 2.2min\n",
      "[CV] C=100, gamma=0.001 ..............................................\n",
      "[CV] ............................... C=100, gamma=0.001, total= 2.2min\n",
      "[CV] C=100, gamma=0.001 ..............................................\n",
      "[CV] ............................... C=100, gamma=0.001, total= 2.2min\n",
      "[CV] C=100, gamma=0.001 ..............................................\n",
      "[CV] ............................... C=100, gamma=0.001, total= 2.2min\n",
      "[CV] C=100, gamma=0.001 ..............................................\n",
      "[CV] ............................... C=100, gamma=0.001, total= 2.2min\n"
     ]
    },
    {
     "name": "stderr",
     "output_type": "stream",
     "text": [
      "[Parallel(n_jobs=1)]: Done  80 out of  80 | elapsed: 158.6min finished\n"
     ]
    },
    {
     "name": "stdout",
     "output_type": "stream",
     "text": [
      "\n",
      "\n",
      "\n",
      " This is for \n",
      "\n",
      "[[433   7  12  18   1  11 200   9  17   6]\n",
      " [ 28 104   1   1   0  15 570   6  10   1]\n",
      " [ 23   0 121   2   0   0 439   0   0   0]\n",
      " [ 81   6   1  61   1   6 550   8   8   1]\n",
      " [  4   0   0   0 210   0 353   0   0   0]\n",
      " [ 25  13   0   2   0  84 528   3  12   0]\n",
      " [ 23   2   2   5   0  16 679   0   3   0]\n",
      " [ 17   6   0   2   7   5 239 337   1   2]\n",
      " [ 24   9   0   5   0   6 465   0  94   3]\n",
      " [ 31   0   0   2   0   1 586   0   0 123]]\n",
      "AxesSubplot(0.125,0.125;0.62x0.755)\n",
      "                    precision    recall  f1-score   support\n",
      "\n",
      "          AskIndia       0.63      0.61      0.62       714\n",
      "  Business/Finance       0.71      0.14      0.24       736\n",
      "              Food       0.88      0.21      0.34       585\n",
      "     Non-Political       0.62      0.08      0.15       723\n",
      "       Photography       0.96      0.37      0.53       567\n",
      "    Policy/Economy       0.58      0.13      0.21       667\n",
      "          Politics       0.15      0.93      0.25       730\n",
      "         Scheduled       0.93      0.55      0.69       616\n",
      "Science/Technology       0.65      0.16      0.25       606\n",
      "            Sports       0.90      0.17      0.28       743\n",
      "\n",
      "          accuracy                           0.34      6687\n",
      "         macro avg       0.70      0.33      0.36      6687\n",
      "      weighted avg       0.69      0.34      0.35      6687\n",
      "\n",
      "accuracy :  0.3358755794825781\n"
     ]
    },
    {
     "data": {
      "image/png": "[encoded data removed]",
      "text/plain": [
       "<Figure size 432x288 with 2 Axes>"
      ]
     },
     "metadata": {},
     "output_type": "display_data"
    }
   ],
   "source": [
    "comb_feats=df['comments']+df['domain']+df['text']+df['title']+df['url']\n",
    "X=comb_feats.fillna(value='')\n",
    "y=df['flair']\n",
    "X_train,X_test,y_train,y_test=train_test_split(X,y,test_size=0.3)\n",
    "pipeline.fit(X_train,y_train)\n",
    "save_classifier=open(\"svc_f2\"+\"comb\"+\".pickle\",\"wb\")\n",
    "pickle.dump(pipeline,save_classifier)\n",
    "save_classifier.close()\n",
    "predictions = pipeline.predict(X_test)\n",
    "print('\\n\\n\\n This is for','\\n')\n",
    "print(confusion_matrix(y_test,predictions))\n",
    "print(sns.heatmap(confusion_matrix(y_test,predictions)))\n",
    "print(classification_report(y_test,predictions))\n",
    "print('accuracy : ',accuracy_score(y_test,predictions))\n",
    "    "
   ]
  },
  {
   "cell_type": "markdown",
   "metadata": {},
   "source": [
    "The result is not better than using title as feature.\n",
    "\n",
    "Now, we use the top three features that gave us better results, i.e., comments,title and url."
   ]
  },
  {
   "cell_type": "code",
   "execution_count": 33,
   "metadata": {},
   "outputs": [
    {
     "name": "stdout",
     "output_type": "stream",
     "text": [
      "into pipeline\n",
      "Fitting 5 folds for each of 16 candidates, totalling 80 fits\n",
      "[CV] C=0.1, gamma=1 ..................................................\n"
     ]
    },
    {
     "name": "stderr",
     "output_type": "stream",
     "text": [
      "[Parallel(n_jobs=1)]: Using backend SequentialBackend with 1 concurrent workers.\n"
     ]
    },
    {
     "name": "stdout",
     "output_type": "stream",
     "text": [
      "[CV] ................................... C=0.1, gamma=1, total= 7.8min\n",
      "[CV] C=0.1, gamma=1 ..................................................\n"
     ]
    },
    {
     "name": "stderr",
     "output_type": "stream",
     "text": [
      "[Parallel(n_jobs=1)]: Done   1 out of   1 | elapsed:  7.8min remaining:    0.0s\n"
     ]
    },
    {
     "name": "stdout",
     "output_type": "stream",
     "text": [
      "[CV] ................................... C=0.1, gamma=1, total= 7.8min\n",
      "[CV] C=0.1, gamma=1 ..................................................\n",
      "[CV] ................................... C=0.1, gamma=1, total= 7.8min\n",
      "[CV] C=0.1, gamma=1 ..................................................\n",
      "[CV] ................................... C=0.1, gamma=1, total= 7.8min\n",
      "[CV] C=0.1, gamma=1 ..................................................\n",
      "[CV] ................................... C=0.1, gamma=1, total= 7.9min\n",
      "[CV] C=0.1, gamma=0.1 ................................................\n",
      "[CV] ................................. C=0.1, gamma=0.1, total= 7.8min\n",
      "[CV] C=0.1, gamma=0.1 ................................................\n",
      "[CV] ................................. C=0.1, gamma=0.1, total= 7.8min\n",
      "[CV] C=0.1, gamma=0.1 ................................................\n",
      "[CV] ................................. C=0.1, gamma=0.1, total= 6.8min\n",
      "[CV] C=0.1, gamma=0.1 ................................................\n",
      "[CV] ................................. C=0.1, gamma=0.1, total= 3.3min\n",
      "[CV] C=0.1, gamma=0.1 ................................................\n",
      "[CV] ................................. C=0.1, gamma=0.1, total= 3.3min\n",
      "[CV] C=0.1, gamma=0.01 ...............................................\n",
      "[CV] ................................ C=0.1, gamma=0.01, total= 3.3min\n",
      "[CV] C=0.1, gamma=0.01 ...............................................\n",
      "[CV] ................................ C=0.1, gamma=0.01, total= 3.3min\n",
      "[CV] C=0.1, gamma=0.01 ...............................................\n",
      "[CV] ................................ C=0.1, gamma=0.01, total= 3.3min\n",
      "[CV] C=0.1, gamma=0.01 ...............................................\n",
      "[CV] ................................ C=0.1, gamma=0.01, total= 3.3min\n",
      "[CV] C=0.1, gamma=0.01 ...............................................\n",
      "[CV] ................................ C=0.1, gamma=0.01, total= 3.3min\n",
      "[CV] C=0.1, gamma=0.001 ..............................................\n",
      "[CV] ............................... C=0.1, gamma=0.001, total= 3.3min\n",
      "[CV] C=0.1, gamma=0.001 ..............................................\n",
      "[CV] ............................... C=0.1, gamma=0.001, total= 3.3min\n",
      "[CV] C=0.1, gamma=0.001 ..............................................\n",
      "[CV] ............................... C=0.1, gamma=0.001, total= 3.3min\n",
      "[CV] C=0.1, gamma=0.001 ..............................................\n",
      "[CV] ............................... C=0.1, gamma=0.001, total= 3.3min\n",
      "[CV] C=0.1, gamma=0.001 ..............................................\n",
      "[CV] ............................... C=0.1, gamma=0.001, total= 3.3min\n",
      "[CV] C=1, gamma=1 ....................................................\n",
      "[CV] ..................................... C=1, gamma=1, total= 2.9min\n",
      "[CV] C=1, gamma=1 ....................................................\n",
      "[CV] ..................................... C=1, gamma=1, total= 2.9min\n",
      "[CV] C=1, gamma=1 ....................................................\n",
      "[CV] ..................................... C=1, gamma=1, total= 3.3min\n",
      "[CV] C=1, gamma=1 ....................................................\n",
      "[CV] ..................................... C=1, gamma=1, total= 6.8min\n",
      "[CV] C=1, gamma=1 ....................................................\n",
      "[CV] ..................................... C=1, gamma=1, total= 6.8min\n",
      "[CV] C=1, gamma=0.1 ..................................................\n",
      "[CV] ................................... C=1, gamma=0.1, total= 6.2min\n",
      "[CV] C=1, gamma=0.1 ..................................................\n",
      "[CV] ................................... C=1, gamma=0.1, total= 6.2min\n",
      "[CV] C=1, gamma=0.1 ..................................................\n",
      "[CV] ................................... C=1, gamma=0.1, total= 6.1min\n",
      "[CV] C=1, gamma=0.1 ..................................................\n",
      "[CV] ................................... C=1, gamma=0.1, total= 6.2min\n",
      "[CV] C=1, gamma=0.1 ..................................................\n",
      "[CV] ................................... C=1, gamma=0.1, total= 6.2min\n",
      "[CV] C=1, gamma=0.01 .................................................\n",
      "[CV] .................................. C=1, gamma=0.01, total= 7.8min\n",
      "[CV] C=1, gamma=0.01 .................................................\n",
      "[CV] .................................. C=1, gamma=0.01, total= 7.8min\n",
      "[CV] C=1, gamma=0.01 .................................................\n",
      "[CV] .................................. C=1, gamma=0.01, total= 7.7min\n",
      "[CV] C=1, gamma=0.01 .................................................\n",
      "[CV] .................................. C=1, gamma=0.01, total= 7.7min\n",
      "[CV] C=1, gamma=0.01 .................................................\n",
      "[CV] .................................. C=1, gamma=0.01, total= 7.8min\n",
      "[CV] C=1, gamma=0.001 ................................................\n",
      "[CV] ................................. C=1, gamma=0.001, total= 7.8min\n",
      "[CV] C=1, gamma=0.001 ................................................\n",
      "[CV] ................................. C=1, gamma=0.001, total= 7.8min\n",
      "[CV] C=1, gamma=0.001 ................................................\n",
      "[CV] ................................. C=1, gamma=0.001, total= 7.0min\n",
      "[CV] C=1, gamma=0.001 ................................................\n",
      "[CV] ................................. C=1, gamma=0.001, total= 3.5min\n",
      "[CV] C=1, gamma=0.001 ................................................\n",
      "[CV] ................................. C=1, gamma=0.001, total= 5.9min\n",
      "[CV] C=10, gamma=1 ...................................................\n",
      "[CV] .................................... C=10, gamma=1, total= 3.1min\n",
      "[CV] C=10, gamma=1 ...................................................\n",
      "[CV] .................................... C=10, gamma=1, total= 4.6min\n",
      "[CV] C=10, gamma=1 ...................................................\n",
      "[CV] .................................... C=10, gamma=1, total= 6.9min\n",
      "[CV] C=10, gamma=1 ...................................................\n",
      "[CV] .................................... C=10, gamma=1, total= 6.8min\n",
      "[CV] C=10, gamma=1 ...................................................\n",
      "[CV] .................................... C=10, gamma=1, total= 5.3min\n",
      "[CV] C=10, gamma=0.1 .................................................\n",
      "[CV] .................................. C=10, gamma=0.1, total= 5.5min\n",
      "[CV] C=10, gamma=0.1 .................................................\n",
      "[CV] .................................. C=10, gamma=0.1, total= 4.0min\n",
      "[CV] C=10, gamma=0.1 .................................................\n",
      "[CV] .................................. C=10, gamma=0.1, total= 2.4min\n",
      "[CV] C=10, gamma=0.1 .................................................\n",
      "[CV] .................................. C=10, gamma=0.1, total= 2.5min\n",
      "[CV] C=10, gamma=0.1 .................................................\n",
      "[CV] .................................. C=10, gamma=0.1, total= 2.6min\n",
      "[CV] C=10, gamma=0.01 ................................................\n",
      "[CV] ................................. C=10, gamma=0.01, total= 2.8min\n",
      "[CV] C=10, gamma=0.01 ................................................\n",
      "[CV] ................................. C=10, gamma=0.01, total= 2.9min\n",
      "[CV] C=10, gamma=0.01 ................................................\n",
      "[CV] ................................. C=10, gamma=0.01, total= 2.6min\n",
      "[CV] C=10, gamma=0.01 ................................................\n",
      "[CV] ................................. C=10, gamma=0.01, total= 2.5min\n",
      "[CV] C=10, gamma=0.01 ................................................\n",
      "[CV] ................................. C=10, gamma=0.01, total= 2.5min\n",
      "[CV] C=10, gamma=0.001 ...............................................\n",
      "[CV] ................................ C=10, gamma=0.001, total= 3.3min\n",
      "[CV] C=10, gamma=0.001 ...............................................\n",
      "[CV] ................................ C=10, gamma=0.001, total= 3.3min\n",
      "[CV] C=10, gamma=0.001 ...............................................\n",
      "[CV] ................................ C=10, gamma=0.001, total= 3.3min\n",
      "[CV] C=10, gamma=0.001 ...............................................\n",
      "[CV] ................................ C=10, gamma=0.001, total= 3.3min\n",
      "[CV] C=10, gamma=0.001 ...............................................\n"
     ]
    },
    {
     "name": "stdout",
     "output_type": "stream",
     "text": [
      "[CV] ................................ C=10, gamma=0.001, total= 3.3min\n",
      "[CV] C=100, gamma=1 ..................................................\n",
      "[CV] ................................... C=100, gamma=1, total= 2.9min\n",
      "[CV] C=100, gamma=1 ..................................................\n",
      "[CV] ................................... C=100, gamma=1, total= 2.9min\n",
      "[CV] C=100, gamma=1 ..................................................\n",
      "[CV] ................................... C=100, gamma=1, total= 2.9min\n",
      "[CV] C=100, gamma=1 ..................................................\n",
      "[CV] ................................... C=100, gamma=1, total= 3.1min\n",
      "[CV] C=100, gamma=1 ..................................................\n",
      "[CV] ................................... C=100, gamma=1, total= 3.3min\n",
      "[CV] C=100, gamma=0.1 ................................................\n",
      "[CV] ................................. C=100, gamma=0.1, total= 2.5min\n",
      "[CV] C=100, gamma=0.1 ................................................\n",
      "[CV] ................................. C=100, gamma=0.1, total= 2.5min\n",
      "[CV] C=100, gamma=0.1 ................................................\n",
      "[CV] ................................. C=100, gamma=0.1, total= 2.5min\n",
      "[CV] C=100, gamma=0.1 ................................................\n",
      "[CV] ................................. C=100, gamma=0.1, total= 2.5min\n",
      "[CV] C=100, gamma=0.1 ................................................\n",
      "[CV] ................................. C=100, gamma=0.1, total= 2.5min\n",
      "[CV] C=100, gamma=0.01 ...............................................\n",
      "[CV] ................................ C=100, gamma=0.01, total= 2.3min\n",
      "[CV] C=100, gamma=0.01 ...............................................\n",
      "[CV] ................................ C=100, gamma=0.01, total= 2.3min\n",
      "[CV] C=100, gamma=0.01 ...............................................\n",
      "[CV] ................................ C=100, gamma=0.01, total= 2.3min\n",
      "[CV] C=100, gamma=0.01 ...............................................\n",
      "[CV] ................................ C=100, gamma=0.01, total= 2.3min\n",
      "[CV] C=100, gamma=0.01 ...............................................\n",
      "[CV] ................................ C=100, gamma=0.01, total= 2.3min\n",
      "[CV] C=100, gamma=0.001 ..............................................\n",
      "[CV] ............................... C=100, gamma=0.001, total= 2.7min\n",
      "[CV] C=100, gamma=0.001 ..............................................\n",
      "[CV] ............................... C=100, gamma=0.001, total= 2.7min\n",
      "[CV] C=100, gamma=0.001 ..............................................\n",
      "[CV] ............................... C=100, gamma=0.001, total= 2.7min\n",
      "[CV] C=100, gamma=0.001 ..............................................\n",
      "[CV] ............................... C=100, gamma=0.001, total= 2.6min\n",
      "[CV] C=100, gamma=0.001 ..............................................\n",
      "[CV] ............................... C=100, gamma=0.001, total= 2.7min\n"
     ]
    },
    {
     "name": "stderr",
     "output_type": "stream",
     "text": [
      "[Parallel(n_jobs=1)]: Done  80 out of  80 | elapsed: 350.9min finished\n"
     ]
    },
    {
     "name": "stdout",
     "output_type": "stream",
     "text": [
      "out of pipeline\n",
      "\n",
      "\n",
      "\n",
      " This is for \n",
      "\n",
      "[[444 142  20  45   1  12  14  12  13   5]\n",
      " [ 53 541   2  33   1  59   4   2  30   1]\n",
      " [ 23 138 352  18   2   1   5   0   2   0]\n",
      " [119 182   7 290   0  46  50   6  26  10]\n",
      " [  2 150   0   3 386   0   0   0   0   0]\n",
      " [ 44 197   6  43   0 344  41   4  12   3]\n",
      " [ 37 163   8  68   0  45 424   1   3   1]\n",
      " [ 25 113   2   9   8   0   2 442   3   1]\n",
      " [ 56 276   2  38   2  37   9   0 216   1]\n",
      " [ 48 238   1  33   1   3   9   3   2 411]]\n",
      "AxesSubplot(0.125,0.125;0.62x0.755)\n",
      "                    precision    recall  f1-score   support\n",
      "\n",
      "          AskIndia       0.52      0.63      0.57       708\n",
      "  Business/Finance       0.25      0.75      0.38       726\n",
      "              Food       0.88      0.65      0.75       541\n",
      "     Non-Political       0.50      0.39      0.44       736\n",
      "       Photography       0.96      0.71      0.82       541\n",
      "    Policy/Economy       0.63      0.50      0.55       694\n",
      "          Politics       0.76      0.57      0.65       750\n",
      "         Scheduled       0.94      0.73      0.82       605\n",
      "Science/Technology       0.70      0.34      0.46       637\n",
      "            Sports       0.95      0.55      0.70       749\n",
      "\n",
      "          accuracy                           0.58      6687\n",
      "         macro avg       0.71      0.58      0.61      6687\n",
      "      weighted avg       0.70      0.58      0.60      6687\n",
      "\n",
      "accuracy :  0.575743980858382\n"
     ]
    },
    {
     "data": {
      "image/png": "[encoded data removed]",
      "text/plain": [
       "<Figure size 432x288 with 2 Axes>"
      ]
     },
     "metadata": {},
     "output_type": "display_data"
    }
   ],
   "source": [
    "comb_feats=df['comments']+df['title']+df['url']\n",
    "X=comb_feats.fillna(value='')\n",
    "y=df['flair']\n",
    "X_train,X_test,y_train,y_test=train_test_split(X,y,test_size=0.3)\n",
    "print('into pipeline')\n",
    "pipeline.fit(X_train,y_train)\n",
    "print('out of pipeline')\n",
    "save_classifier=open(\"svc_f2\"+\"comb2_correct\"+\".pickle\",\"wb\")\n",
    "pickle.dump(pipeline,save_classifier)\n",
    "save_classifier.close()\n",
    "predictions = pipeline.predict(X_test)\n",
    "print('\\n\\n\\n This is for','\\n')\n",
    "print(confusion_matrix(y_test,predictions))\n",
    "print(sns.heatmap(confusion_matrix(y_test,predictions)))\n",
    "print(classification_report(y_test,predictions))\n",
    "print('accuracy : ',accuracy_score(y_test,predictions))"
   ]
  },
  {
   "cell_type": "markdown",
   "metadata": {},
   "source": [
    "This is still not better than using the title alone.\n",
    "\n",
    "Now we analyse the text_len, title_len and score."
   ]
  },
  {
   "cell_type": "code",
   "execution_count": 46,
   "metadata": {},
   "outputs": [],
   "source": [
    "pipeline = Pipeline([  # integer counts to weighted TF-IDF scores\n",
    "    ('classifier', GridSearchCV(SVC(),param_grid,refit=True,verbose=2)),  \n",
    "])"
   ]
  },
  {
   "cell_type": "code",
   "execution_count": 45,
   "metadata": {},
   "outputs": [],
   "source": [
    "lst=['text_len','title_len','score']"
   ]
  },
  {
   "cell_type": "code",
   "execution_count": 49,
   "metadata": {},
   "outputs": [
    {
     "name": "stdout",
     "output_type": "stream",
     "text": [
      "Fitting 5 folds for each of 16 candidates, totalling 80 fits\n",
      "[CV] C=0.1, gamma=1 ..................................................\n"
     ]
    },
    {
     "name": "stderr",
     "output_type": "stream",
     "text": [
      "[Parallel(n_jobs=1)]: Using backend SequentialBackend with 1 concurrent workers.\n"
     ]
    },
    {
     "name": "stdout",
     "output_type": "stream",
     "text": [
      "[CV] ................................... C=0.1, gamma=1, total=  21.5s\n",
      "[CV] C=0.1, gamma=1 ..................................................\n"
     ]
    },
    {
     "name": "stderr",
     "output_type": "stream",
     "text": [
      "[Parallel(n_jobs=1)]: Done   1 out of   1 | elapsed:   21.4s remaining:    0.0s\n"
     ]
    },
    {
     "name": "stdout",
     "output_type": "stream",
     "text": [
      "[CV] ................................... C=0.1, gamma=1, total=  33.9s\n",
      "[CV] C=0.1, gamma=1 ..................................................\n",
      "[CV] ................................... C=0.1, gamma=1, total=  42.8s\n",
      "[CV] C=0.1, gamma=1 ..................................................\n",
      "[CV] ................................... C=0.1, gamma=1, total=  38.5s\n",
      "[CV] C=0.1, gamma=1 ..................................................\n",
      "[CV] ................................... C=0.1, gamma=1, total=  43.0s\n",
      "[CV] C=0.1, gamma=0.1 ................................................\n",
      "[CV] ................................. C=0.1, gamma=0.1, total=  36.3s\n",
      "[CV] C=0.1, gamma=0.1 ................................................\n",
      "[CV] ................................. C=0.1, gamma=0.1, total=  36.1s\n",
      "[CV] C=0.1, gamma=0.1 ................................................\n",
      "[CV] ................................. C=0.1, gamma=0.1, total=  36.2s\n",
      "[CV] C=0.1, gamma=0.1 ................................................\n",
      "[CV] ................................. C=0.1, gamma=0.1, total=  36.0s\n",
      "[CV] C=0.1, gamma=0.1 ................................................\n",
      "[CV] ................................. C=0.1, gamma=0.1, total=  35.8s\n",
      "[CV] C=0.1, gamma=0.01 ...............................................\n",
      "[CV] ................................ C=0.1, gamma=0.01, total=  15.6s\n",
      "[CV] C=0.1, gamma=0.01 ...............................................\n",
      "[CV] ................................ C=0.1, gamma=0.01, total=  12.6s\n",
      "[CV] C=0.1, gamma=0.01 ...............................................\n",
      "[CV] ................................ C=0.1, gamma=0.01, total=  12.8s\n",
      "[CV] C=0.1, gamma=0.01 ...............................................\n",
      "[CV] ................................ C=0.1, gamma=0.01, total=  12.6s\n",
      "[CV] C=0.1, gamma=0.01 ...............................................\n",
      "[CV] ................................ C=0.1, gamma=0.01, total=  12.6s\n",
      "[CV] C=0.1, gamma=0.001 ..............................................\n",
      "[CV] ............................... C=0.1, gamma=0.001, total=   9.7s\n",
      "[CV] C=0.1, gamma=0.001 ..............................................\n",
      "[CV] ............................... C=0.1, gamma=0.001, total=   9.8s\n",
      "[CV] C=0.1, gamma=0.001 ..............................................\n",
      "[CV] ............................... C=0.1, gamma=0.001, total=  15.4s\n",
      "[CV] C=0.1, gamma=0.001 ..............................................\n",
      "[CV] ............................... C=0.1, gamma=0.001, total=  22.7s\n",
      "[CV] C=0.1, gamma=0.001 ..............................................\n",
      "[CV] ............................... C=0.1, gamma=0.001, total=  22.6s\n",
      "[CV] C=1, gamma=1 ....................................................\n",
      "[CV] ..................................... C=1, gamma=1, total=  43.4s\n",
      "[CV] C=1, gamma=1 ....................................................\n",
      "[CV] ..................................... C=1, gamma=1, total=  43.4s\n",
      "[CV] C=1, gamma=1 ....................................................\n",
      "[CV] ..................................... C=1, gamma=1, total=  43.6s\n",
      "[CV] C=1, gamma=1 ....................................................\n",
      "[CV] ..................................... C=1, gamma=1, total=  43.2s\n",
      "[CV] C=1, gamma=1 ....................................................\n",
      "[CV] ..................................... C=1, gamma=1, total=  43.3s\n",
      "[CV] C=1, gamma=0.1 ..................................................\n",
      "[CV] ................................... C=1, gamma=0.1, total=  38.7s\n",
      "[CV] C=1, gamma=0.1 ..................................................\n",
      "[CV] ................................... C=1, gamma=0.1, total=  38.6s\n",
      "[CV] C=1, gamma=0.1 ..................................................\n",
      "[CV] ................................... C=1, gamma=0.1, total=  38.5s\n",
      "[CV] C=1, gamma=0.1 ..................................................\n",
      "[CV] ................................... C=1, gamma=0.1, total=  38.6s\n",
      "[CV] C=1, gamma=0.1 ..................................................\n",
      "[CV] ................................... C=1, gamma=0.1, total=  38.1s\n",
      "[CV] C=1, gamma=0.01 .................................................\n",
      "[CV] .................................. C=1, gamma=0.01, total=  32.4s\n",
      "[CV] C=1, gamma=0.01 .................................................\n",
      "[CV] .................................. C=1, gamma=0.01, total=  32.0s\n",
      "[CV] C=1, gamma=0.01 .................................................\n",
      "[CV] .................................. C=1, gamma=0.01, total=  32.7s\n",
      "[CV] C=1, gamma=0.01 .................................................\n",
      "[CV] .................................. C=1, gamma=0.01, total=  32.5s\n",
      "[CV] C=1, gamma=0.01 .................................................\n",
      "[CV] .................................. C=1, gamma=0.01, total=  32.3s\n",
      "[CV] C=1, gamma=0.001 ................................................\n",
      "[CV] ................................. C=1, gamma=0.001, total=  24.8s\n",
      "[CV] C=1, gamma=0.001 ................................................\n",
      "[CV] ................................. C=1, gamma=0.001, total=  24.5s\n",
      "[CV] C=1, gamma=0.001 ................................................\n",
      "[CV] ................................. C=1, gamma=0.001, total=  24.6s\n",
      "[CV] C=1, gamma=0.001 ................................................\n",
      "[CV] ................................. C=1, gamma=0.001, total=  24.6s\n",
      "[CV] C=1, gamma=0.001 ................................................\n",
      "[CV] ................................. C=1, gamma=0.001, total=  19.7s\n",
      "[CV] C=10, gamma=1 ...................................................\n",
      "[CV] .................................... C=10, gamma=1, total=  18.3s\n",
      "[CV] C=10, gamma=1 ...................................................\n",
      "[CV] .................................... C=10, gamma=1, total=  22.0s\n",
      "[CV] C=10, gamma=1 ...................................................\n",
      "[CV] .................................... C=10, gamma=1, total=  20.3s\n",
      "[CV] C=10, gamma=1 ...................................................\n",
      "[CV] .................................... C=10, gamma=1, total=  18.0s\n",
      "[CV] C=10, gamma=1 ...................................................\n",
      "[CV] .................................... C=10, gamma=1, total=  18.3s\n",
      "[CV] C=10, gamma=0.1 .................................................\n",
      "[CV] .................................. C=10, gamma=0.1, total=  21.8s\n",
      "[CV] C=10, gamma=0.1 .................................................\n",
      "[CV] .................................. C=10, gamma=0.1, total=  22.0s\n",
      "[CV] C=10, gamma=0.1 .................................................\n",
      "[CV] .................................. C=10, gamma=0.1, total=  22.0s\n",
      "[CV] C=10, gamma=0.1 .................................................\n",
      "[CV] .................................. C=10, gamma=0.1, total=  21.7s\n",
      "[CV] C=10, gamma=0.1 .................................................\n",
      "[CV] .................................. C=10, gamma=0.1, total=  22.7s\n",
      "[CV] C=10, gamma=0.01 ................................................\n",
      "[CV] ................................. C=10, gamma=0.01, total=  21.6s\n",
      "[CV] C=10, gamma=0.01 ................................................\n",
      "[CV] ................................. C=10, gamma=0.01, total=  21.9s\n",
      "[CV] C=10, gamma=0.01 ................................................\n",
      "[CV] ................................. C=10, gamma=0.01, total=  22.3s\n",
      "[CV] C=10, gamma=0.01 ................................................\n",
      "[CV] ................................. C=10, gamma=0.01, total=  22.6s\n",
      "[CV] C=10, gamma=0.01 ................................................\n",
      "[CV] ................................. C=10, gamma=0.01, total=  21.8s\n",
      "[CV] C=10, gamma=0.001 ...............................................\n",
      "[CV] ................................ C=10, gamma=0.001, total=  15.4s\n",
      "[CV] C=10, gamma=0.001 ...............................................\n",
      "[CV] ................................ C=10, gamma=0.001, total=  15.7s\n",
      "[CV] C=10, gamma=0.001 ...............................................\n",
      "[CV] ................................ C=10, gamma=0.001, total=  16.5s\n",
      "[CV] C=10, gamma=0.001 ...............................................\n",
      "[CV] ................................ C=10, gamma=0.001, total=  15.6s\n",
      "[CV] C=10, gamma=0.001 ...............................................\n"
     ]
    },
    {
     "name": "stdout",
     "output_type": "stream",
     "text": [
      "[CV] ................................ C=10, gamma=0.001, total=  16.1s\n",
      "[CV] C=100, gamma=1 ..................................................\n",
      "[CV] ................................... C=100, gamma=1, total=  18.6s\n",
      "[CV] C=100, gamma=1 ..................................................\n",
      "[CV] ................................... C=100, gamma=1, total=  18.9s\n",
      "[CV] C=100, gamma=1 ..................................................\n",
      "[CV] ................................... C=100, gamma=1, total=  19.3s\n",
      "[CV] C=100, gamma=1 ..................................................\n",
      "[CV] ................................... C=100, gamma=1, total=  18.1s\n",
      "[CV] C=100, gamma=1 ..................................................\n",
      "[CV] ................................... C=100, gamma=1, total=  17.9s\n",
      "[CV] C=100, gamma=0.1 ................................................\n",
      "[CV] ................................. C=100, gamma=0.1, total=  45.2s\n",
      "[CV] C=100, gamma=0.1 ................................................\n",
      "[CV] ................................. C=100, gamma=0.1, total=  45.8s\n",
      "[CV] C=100, gamma=0.1 ................................................\n",
      "[CV] ................................. C=100, gamma=0.1, total=  46.0s\n",
      "[CV] C=100, gamma=0.1 ................................................\n",
      "[CV] ................................. C=100, gamma=0.1, total=  44.3s\n",
      "[CV] C=100, gamma=0.1 ................................................\n",
      "[CV] ................................. C=100, gamma=0.1, total=  47.8s\n",
      "[CV] C=100, gamma=0.01 ...............................................\n",
      "[CV] ................................ C=100, gamma=0.01, total= 1.2min\n",
      "[CV] C=100, gamma=0.01 ...............................................\n",
      "[CV] ................................ C=100, gamma=0.01, total= 1.1min\n",
      "[CV] C=100, gamma=0.01 ...............................................\n",
      "[CV] ................................ C=100, gamma=0.01, total= 1.2min\n",
      "[CV] C=100, gamma=0.01 ...............................................\n",
      "[CV] ................................ C=100, gamma=0.01, total= 1.2min\n",
      "[CV] C=100, gamma=0.01 ...............................................\n",
      "[CV] ................................ C=100, gamma=0.01, total= 1.1min\n",
      "[CV] C=100, gamma=0.001 ..............................................\n",
      "[CV] ............................... C=100, gamma=0.001, total=  48.3s\n",
      "[CV] C=100, gamma=0.001 ..............................................\n",
      "[CV] ............................... C=100, gamma=0.001, total=  42.4s\n",
      "[CV] C=100, gamma=0.001 ..............................................\n",
      "[CV] ............................... C=100, gamma=0.001, total=  49.0s\n",
      "[CV] C=100, gamma=0.001 ..............................................\n",
      "[CV] ............................... C=100, gamma=0.001, total=  47.3s\n",
      "[CV] C=100, gamma=0.001 ..............................................\n",
      "[CV] ............................... C=100, gamma=0.001, total=  49.9s\n"
     ]
    },
    {
     "name": "stderr",
     "output_type": "stream",
     "text": [
      "[Parallel(n_jobs=1)]: Done  80 out of  80 | elapsed: 41.5min finished\n"
     ]
    },
    {
     "name": "stdout",
     "output_type": "stream",
     "text": [
      "\n",
      "\n",
      "\n",
      " This is for \n",
      "\n",
      "[[455  57  14  27  13  28  28  14  15  35]\n",
      " [ 90 299  25  61  18  80  56  12  44  82]\n",
      " [ 87  75 193  54  13  33  54   8  25  26]\n",
      " [145 113  27 120  33  55  93  11  45  69]\n",
      " [ 24  46   7  13 406  12  11  11  13  15]\n",
      " [133 114  30  69  21  96  87  10  39  74]\n",
      " [120 112  22  82  24  48 169  21  34  87]\n",
      " [106  48  15  10  12  11  19 363  11  31]\n",
      " [105 136  30  63  21  73  60   7  87  73]\n",
      " [120 137  30  70  17  52 115  12  38 133]]\n",
      "AxesSubplot(0.125,0.125;0.62x0.755)\n",
      "                    precision    recall  f1-score   support\n",
      "\n",
      "          AskIndia       0.33      0.66      0.44       686\n",
      "  Business/Finance       0.26      0.39      0.31       767\n",
      "              Food       0.49      0.34      0.40       568\n",
      "     Non-Political       0.21      0.17      0.19       711\n",
      "       Photography       0.70      0.73      0.71       558\n",
      "    Policy/Economy       0.20      0.14      0.17       673\n",
      "          Politics       0.24      0.24      0.24       719\n",
      "         Scheduled       0.77      0.58      0.66       626\n",
      "Science/Technology       0.25      0.13      0.17       655\n",
      "            Sports       0.21      0.18      0.20       724\n",
      "\n",
      "          accuracy                           0.35      6687\n",
      "         macro avg       0.37      0.36      0.35      6687\n",
      "      weighted avg       0.35      0.35      0.34      6687\n",
      "\n",
      "accuracy :  0.3470913713174817\n"
     ]
    },
    {
     "data": {
      "image/png": "[encoded data removed]",
      "text/plain": [
       "<Figure size 432x288 with 2 Axes>"
      ]
     },
     "metadata": {},
     "output_type": "display_data"
    }
   ],
   "source": [
    "X=df[lst].fillna(value=0)\n",
    "y=df['flair']\n",
    "X_train,X_test,y_train,y_test=train_test_split(X,y,test_size=0.3)\n",
    "pipeline.fit(X_train,y_train)\n",
    "save_classifier=open(\"svc_f2\"+\"num\"+\".pickle\",\"wb\")\n",
    "pickle.dump(pipeline,save_classifier)\n",
    "save_classifier.close()\n",
    "predictions = pipeline.predict(X_test)\n",
    "print('\\n\\n\\n This is for','\\n')\n",
    "print(confusion_matrix(y_test,predictions))\n",
    "print(sns.heatmap(confusion_matrix(y_test,predictions)))\n",
    "print(classification_report(y_test,predictions))\n",
    "print('accuracy : ',accuracy_score(y_test,predictions))"
   ]
  },
  {
   "cell_type": "markdown",
   "metadata": {},
   "source": [
    "This gives better results from the same features than the previous classifier used, but still not as good as title."
   ]
  },
  {
   "cell_type": "markdown",
   "metadata": {},
   "source": [
    "### Working with Logistic Regression"
   ]
  },
  {
   "cell_type": "markdown",
   "metadata": {},
   "source": [
    "We import the classifier and then we follow the same steps that we followed with the previous classifier."
   ]
  },
  {
   "cell_type": "code",
   "execution_count": 52,
   "metadata": {},
   "outputs": [],
   "source": [
    "from sklearn.linear_model import LogisticRegression"
   ]
  },
  {
   "cell_type": "code",
   "execution_count": 53,
   "metadata": {},
   "outputs": [],
   "source": [
    "param_grid = {'max_iter':[1,10,100,1000,5000,10000]} "
   ]
  },
  {
   "cell_type": "code",
   "execution_count": 54,
   "metadata": {},
   "outputs": [],
   "source": [
    "pipeline = Pipeline([\n",
    "    ('bow', CountVectorizer(analyzer=preprocess_text)),  \n",
    "    ('tfidf', TfidfTransformer()),  \n",
    "    ('scaled',StandardScaler(with_mean=False)),\n",
    "    ('classifier', GridSearchCV(LogisticRegression(),param_grid,refit=True,verbose=2)),\n",
    "])"
   ]
  },
  {
   "cell_type": "code",
   "execution_count": 55,
   "metadata": {},
   "outputs": [],
   "source": [
    "to_probe=['comments','domain','text','title','url']"
   ]
  },
  {
   "cell_type": "code",
   "execution_count": 36,
   "metadata": {},
   "outputs": [
    {
     "name": "stdout",
     "output_type": "stream",
     "text": [
      "Fitting 5 folds for each of 6 candidates, totalling 30 fits\n",
      "[CV] max_iter=1 ......................................................\n"
     ]
    },
    {
     "name": "stderr",
     "output_type": "stream",
     "text": [
      "[Parallel(n_jobs=1)]: Using backend SequentialBackend with 1 concurrent workers.\n",
      "c:\\users\\hp\\appdata\\local\\programs\\python\\python37\\lib\\site-packages\\sklearn\\linear_model\\_logistic.py:939: ConvergenceWarning: lbfgs failed to converge (status=1):\n",
      "STOP: TOTAL NO. of ITERATIONS REACHED LIMIT.\n",
      "\n",
      "Increase the number of iterations (max_iter) or scale the data as shown in:\n",
      "    https://scikit-learn.org/stable/modules/preprocessing.html.\n",
      "Please also refer to the documentation for alternative solver options:\n",
      "    https://scikit-learn.org/stable/modules/linear_model.html#logistic-regression\n",
      "  extra_warning_msg=_LOGISTIC_SOLVER_CONVERGENCE_MSG)\n",
      "[Parallel(n_jobs=1)]: Done   1 out of   1 | elapsed:    0.9s remaining:    0.0s\n"
     ]
    },
    {
     "name": "stdout",
     "output_type": "stream",
     "text": [
      "[CV] ....................................... max_iter=1, total=   0.9s\n",
      "[CV] max_iter=1 ......................................................\n"
     ]
    },
    {
     "name": "stderr",
     "output_type": "stream",
     "text": [
      "c:\\users\\hp\\appdata\\local\\programs\\python\\python37\\lib\\site-packages\\sklearn\\linear_model\\_logistic.py:939: ConvergenceWarning: lbfgs failed to converge (status=1):\n",
      "STOP: TOTAL NO. of ITERATIONS REACHED LIMIT.\n",
      "\n",
      "Increase the number of iterations (max_iter) or scale the data as shown in:\n",
      "    https://scikit-learn.org/stable/modules/preprocessing.html.\n",
      "Please also refer to the documentation for alternative solver options:\n",
      "    https://scikit-learn.org/stable/modules/linear_model.html#logistic-regression\n",
      "  extra_warning_msg=_LOGISTIC_SOLVER_CONVERGENCE_MSG)\n"
     ]
    },
    {
     "name": "stdout",
     "output_type": "stream",
     "text": [
      "[CV] ....................................... max_iter=1, total=   0.9s\n",
      "[CV] max_iter=1 ......................................................\n"
     ]
    },
    {
     "name": "stderr",
     "output_type": "stream",
     "text": [
      "c:\\users\\hp\\appdata\\local\\programs\\python\\python37\\lib\\site-packages\\sklearn\\linear_model\\_logistic.py:939: ConvergenceWarning: lbfgs failed to converge (status=1):\n",
      "STOP: TOTAL NO. of ITERATIONS REACHED LIMIT.\n",
      "\n",
      "Increase the number of iterations (max_iter) or scale the data as shown in:\n",
      "    https://scikit-learn.org/stable/modules/preprocessing.html.\n",
      "Please also refer to the documentation for alternative solver options:\n",
      "    https://scikit-learn.org/stable/modules/linear_model.html#logistic-regression\n",
      "  extra_warning_msg=_LOGISTIC_SOLVER_CONVERGENCE_MSG)\n"
     ]
    },
    {
     "name": "stdout",
     "output_type": "stream",
     "text": [
      "[CV] ....................................... max_iter=1, total=   0.9s\n",
      "[CV] max_iter=1 ......................................................\n"
     ]
    },
    {
     "name": "stderr",
     "output_type": "stream",
     "text": [
      "c:\\users\\hp\\appdata\\local\\programs\\python\\python37\\lib\\site-packages\\sklearn\\linear_model\\_logistic.py:939: ConvergenceWarning: lbfgs failed to converge (status=1):\n",
      "STOP: TOTAL NO. of ITERATIONS REACHED LIMIT.\n",
      "\n",
      "Increase the number of iterations (max_iter) or scale the data as shown in:\n",
      "    https://scikit-learn.org/stable/modules/preprocessing.html.\n",
      "Please also refer to the documentation for alternative solver options:\n",
      "    https://scikit-learn.org/stable/modules/linear_model.html#logistic-regression\n",
      "  extra_warning_msg=_LOGISTIC_SOLVER_CONVERGENCE_MSG)\n"
     ]
    },
    {
     "name": "stdout",
     "output_type": "stream",
     "text": [
      "[CV] ....................................... max_iter=1, total=   0.9s\n",
      "[CV] max_iter=1 ......................................................\n"
     ]
    },
    {
     "name": "stderr",
     "output_type": "stream",
     "text": [
      "c:\\users\\hp\\appdata\\local\\programs\\python\\python37\\lib\\site-packages\\sklearn\\linear_model\\_logistic.py:939: ConvergenceWarning: lbfgs failed to converge (status=1):\n",
      "STOP: TOTAL NO. of ITERATIONS REACHED LIMIT.\n",
      "\n",
      "Increase the number of iterations (max_iter) or scale the data as shown in:\n",
      "    https://scikit-learn.org/stable/modules/preprocessing.html.\n",
      "Please also refer to the documentation for alternative solver options:\n",
      "    https://scikit-learn.org/stable/modules/linear_model.html#logistic-regression\n",
      "  extra_warning_msg=_LOGISTIC_SOLVER_CONVERGENCE_MSG)\n"
     ]
    },
    {
     "name": "stdout",
     "output_type": "stream",
     "text": [
      "[CV] ....................................... max_iter=1, total=   0.9s\n",
      "[CV] max_iter=10 .....................................................\n"
     ]
    },
    {
     "name": "stderr",
     "output_type": "stream",
     "text": [
      "c:\\users\\hp\\appdata\\local\\programs\\python\\python37\\lib\\site-packages\\sklearn\\linear_model\\_logistic.py:939: ConvergenceWarning: lbfgs failed to converge (status=1):\n",
      "STOP: TOTAL NO. of ITERATIONS REACHED LIMIT.\n",
      "\n",
      "Increase the number of iterations (max_iter) or scale the data as shown in:\n",
      "    https://scikit-learn.org/stable/modules/preprocessing.html.\n",
      "Please also refer to the documentation for alternative solver options:\n",
      "    https://scikit-learn.org/stable/modules/linear_model.html#logistic-regression\n",
      "  extra_warning_msg=_LOGISTIC_SOLVER_CONVERGENCE_MSG)\n"
     ]
    },
    {
     "name": "stdout",
     "output_type": "stream",
     "text": [
      "[CV] ...................................... max_iter=10, total=   2.5s\n",
      "[CV] max_iter=10 .....................................................\n"
     ]
    },
    {
     "name": "stderr",
     "output_type": "stream",
     "text": [
      "c:\\users\\hp\\appdata\\local\\programs\\python\\python37\\lib\\site-packages\\sklearn\\linear_model\\_logistic.py:939: ConvergenceWarning: lbfgs failed to converge (status=1):\n",
      "STOP: TOTAL NO. of ITERATIONS REACHED LIMIT.\n",
      "\n",
      "Increase the number of iterations (max_iter) or scale the data as shown in:\n",
      "    https://scikit-learn.org/stable/modules/preprocessing.html.\n",
      "Please also refer to the documentation for alternative solver options:\n",
      "    https://scikit-learn.org/stable/modules/linear_model.html#logistic-regression\n",
      "  extra_warning_msg=_LOGISTIC_SOLVER_CONVERGENCE_MSG)\n"
     ]
    },
    {
     "name": "stdout",
     "output_type": "stream",
     "text": [
      "[CV] ...................................... max_iter=10, total=   2.5s\n",
      "[CV] max_iter=10 .....................................................\n"
     ]
    },
    {
     "name": "stderr",
     "output_type": "stream",
     "text": [
      "c:\\users\\hp\\appdata\\local\\programs\\python\\python37\\lib\\site-packages\\sklearn\\linear_model\\_logistic.py:939: ConvergenceWarning: lbfgs failed to converge (status=1):\n",
      "STOP: TOTAL NO. of ITERATIONS REACHED LIMIT.\n",
      "\n",
      "Increase the number of iterations (max_iter) or scale the data as shown in:\n",
      "    https://scikit-learn.org/stable/modules/preprocessing.html.\n",
      "Please also refer to the documentation for alternative solver options:\n",
      "    https://scikit-learn.org/stable/modules/linear_model.html#logistic-regression\n",
      "  extra_warning_msg=_LOGISTIC_SOLVER_CONVERGENCE_MSG)\n"
     ]
    },
    {
     "name": "stdout",
     "output_type": "stream",
     "text": [
      "[CV] ...................................... max_iter=10, total=   2.5s\n",
      "[CV] max_iter=10 .....................................................\n"
     ]
    },
    {
     "name": "stderr",
     "output_type": "stream",
     "text": [
      "c:\\users\\hp\\appdata\\local\\programs\\python\\python37\\lib\\site-packages\\sklearn\\linear_model\\_logistic.py:939: ConvergenceWarning: lbfgs failed to converge (status=1):\n",
      "STOP: TOTAL NO. of ITERATIONS REACHED LIMIT.\n",
      "\n",
      "Increase the number of iterations (max_iter) or scale the data as shown in:\n",
      "    https://scikit-learn.org/stable/modules/preprocessing.html.\n",
      "Please also refer to the documentation for alternative solver options:\n",
      "    https://scikit-learn.org/stable/modules/linear_model.html#logistic-regression\n",
      "  extra_warning_msg=_LOGISTIC_SOLVER_CONVERGENCE_MSG)\n"
     ]
    },
    {
     "name": "stdout",
     "output_type": "stream",
     "text": [
      "[CV] ...................................... max_iter=10, total=   2.5s\n",
      "[CV] max_iter=10 .....................................................\n"
     ]
    },
    {
     "name": "stderr",
     "output_type": "stream",
     "text": [
      "c:\\users\\hp\\appdata\\local\\programs\\python\\python37\\lib\\site-packages\\sklearn\\linear_model\\_logistic.py:939: ConvergenceWarning: lbfgs failed to converge (status=1):\n",
      "STOP: TOTAL NO. of ITERATIONS REACHED LIMIT.\n",
      "\n",
      "Increase the number of iterations (max_iter) or scale the data as shown in:\n",
      "    https://scikit-learn.org/stable/modules/preprocessing.html.\n",
      "Please also refer to the documentation for alternative solver options:\n",
      "    https://scikit-learn.org/stable/modules/linear_model.html#logistic-regression\n",
      "  extra_warning_msg=_LOGISTIC_SOLVER_CONVERGENCE_MSG)\n"
     ]
    },
    {
     "name": "stdout",
     "output_type": "stream",
     "text": [
      "[CV] ...................................... max_iter=10, total=   2.5s\n",
      "[CV] max_iter=100 ....................................................\n"
     ]
    },
    {
     "name": "stderr",
     "output_type": "stream",
     "text": [
      "c:\\users\\hp\\appdata\\local\\programs\\python\\python37\\lib\\site-packages\\sklearn\\linear_model\\_logistic.py:939: ConvergenceWarning: lbfgs failed to converge (status=1):\n",
      "STOP: TOTAL NO. of ITERATIONS REACHED LIMIT.\n",
      "\n",
      "Increase the number of iterations (max_iter) or scale the data as shown in:\n",
      "    https://scikit-learn.org/stable/modules/preprocessing.html.\n",
      "Please also refer to the documentation for alternative solver options:\n",
      "    https://scikit-learn.org/stable/modules/linear_model.html#logistic-regression\n",
      "  extra_warning_msg=_LOGISTIC_SOLVER_CONVERGENCE_MSG)\n"
     ]
    },
    {
     "name": "stdout",
     "output_type": "stream",
     "text": [
      "[CV] ..................................... max_iter=100, total=  22.3s\n",
      "[CV] max_iter=100 ....................................................\n"
     ]
    },
    {
     "name": "stderr",
     "output_type": "stream",
     "text": [
      "c:\\users\\hp\\appdata\\local\\programs\\python\\python37\\lib\\site-packages\\sklearn\\linear_model\\_logistic.py:939: ConvergenceWarning: lbfgs failed to converge (status=1):\n",
      "STOP: TOTAL NO. of ITERATIONS REACHED LIMIT.\n",
      "\n",
      "Increase the number of iterations (max_iter) or scale the data as shown in:\n",
      "    https://scikit-learn.org/stable/modules/preprocessing.html.\n",
      "Please also refer to the documentation for alternative solver options:\n",
      "    https://scikit-learn.org/stable/modules/linear_model.html#logistic-regression\n",
      "  extra_warning_msg=_LOGISTIC_SOLVER_CONVERGENCE_MSG)\n"
     ]
    },
    {
     "name": "stdout",
     "output_type": "stream",
     "text": [
      "[CV] ..................................... max_iter=100, total=  22.1s\n",
      "[CV] max_iter=100 ....................................................\n"
     ]
    },
    {
     "name": "stderr",
     "output_type": "stream",
     "text": [
      "c:\\users\\hp\\appdata\\local\\programs\\python\\python37\\lib\\site-packages\\sklearn\\linear_model\\_logistic.py:939: ConvergenceWarning: lbfgs failed to converge (status=1):\n",
      "STOP: TOTAL NO. of ITERATIONS REACHED LIMIT.\n",
      "\n",
      "Increase the number of iterations (max_iter) or scale the data as shown in:\n",
      "    https://scikit-learn.org/stable/modules/preprocessing.html.\n",
      "Please also refer to the documentation for alternative solver options:\n",
      "    https://scikit-learn.org/stable/modules/linear_model.html#logistic-regression\n",
      "  extra_warning_msg=_LOGISTIC_SOLVER_CONVERGENCE_MSG)\n"
     ]
    },
    {
     "name": "stdout",
     "output_type": "stream",
     "text": [
      "[CV] ..................................... max_iter=100, total=  22.3s\n",
      "[CV] max_iter=100 ....................................................\n"
     ]
    },
    {
     "name": "stderr",
     "output_type": "stream",
     "text": [
      "c:\\users\\hp\\appdata\\local\\programs\\python\\python37\\lib\\site-packages\\sklearn\\linear_model\\_logistic.py:939: ConvergenceWarning: lbfgs failed to converge (status=1):\n",
      "STOP: TOTAL NO. of ITERATIONS REACHED LIMIT.\n",
      "\n",
      "Increase the number of iterations (max_iter) or scale the data as shown in:\n",
      "    https://scikit-learn.org/stable/modules/preprocessing.html.\n",
      "Please also refer to the documentation for alternative solver options:\n",
      "    https://scikit-learn.org/stable/modules/linear_model.html#logistic-regression\n",
      "  extra_warning_msg=_LOGISTIC_SOLVER_CONVERGENCE_MSG)\n"
     ]
    },
    {
     "name": "stdout",
     "output_type": "stream",
     "text": [
      "[CV] ..................................... max_iter=100, total=  22.6s\n",
      "[CV] max_iter=100 ....................................................\n"
     ]
    },
    {
     "name": "stderr",
     "output_type": "stream",
     "text": [
      "c:\\users\\hp\\appdata\\local\\programs\\python\\python37\\lib\\site-packages\\sklearn\\linear_model\\_logistic.py:939: ConvergenceWarning: lbfgs failed to converge (status=1):\n",
      "STOP: TOTAL NO. of ITERATIONS REACHED LIMIT.\n",
      "\n",
      "Increase the number of iterations (max_iter) or scale the data as shown in:\n",
      "    https://scikit-learn.org/stable/modules/preprocessing.html.\n",
      "Please also refer to the documentation for alternative solver options:\n",
      "    https://scikit-learn.org/stable/modules/linear_model.html#logistic-regression\n",
      "  extra_warning_msg=_LOGISTIC_SOLVER_CONVERGENCE_MSG)\n"
     ]
    },
    {
     "name": "stdout",
     "output_type": "stream",
     "text": [
      "[CV] ..................................... max_iter=100, total=  22.5s\n",
      "[CV] max_iter=1000 ...................................................\n"
     ]
    },
    {
     "name": "stderr",
     "output_type": "stream",
     "text": [
      "c:\\users\\hp\\appdata\\local\\programs\\python\\python37\\lib\\site-packages\\sklearn\\linear_model\\_logistic.py:939: ConvergenceWarning: lbfgs failed to converge (status=1):\n",
      "STOP: TOTAL NO. of ITERATIONS REACHED LIMIT.\n",
      "\n",
      "Increase the number of iterations (max_iter) or scale the data as shown in:\n",
      "    https://scikit-learn.org/stable/modules/preprocessing.html.\n",
      "Please also refer to the documentation for alternative solver options:\n",
      "    https://scikit-learn.org/stable/modules/linear_model.html#logistic-regression\n",
      "  extra_warning_msg=_LOGISTIC_SOLVER_CONVERGENCE_MSG)\n"
     ]
    },
    {
     "name": "stdout",
     "output_type": "stream",
     "text": [
      "[CV] .................................... max_iter=1000, total= 4.3min\n",
      "[CV] max_iter=1000 ...................................................\n"
     ]
    },
    {
     "name": "stderr",
     "output_type": "stream",
     "text": [
      "c:\\users\\hp\\appdata\\local\\programs\\python\\python37\\lib\\site-packages\\sklearn\\linear_model\\_logistic.py:939: ConvergenceWarning: lbfgs failed to converge (status=1):\n",
      "STOP: TOTAL NO. of ITERATIONS REACHED LIMIT.\n",
      "\n",
      "Increase the number of iterations (max_iter) or scale the data as shown in:\n",
      "    https://scikit-learn.org/stable/modules/preprocessing.html.\n",
      "Please also refer to the documentation for alternative solver options:\n",
      "    https://scikit-learn.org/stable/modules/linear_model.html#logistic-regression\n",
      "  extra_warning_msg=_LOGISTIC_SOLVER_CONVERGENCE_MSG)\n"
     ]
    },
    {
     "name": "stdout",
     "output_type": "stream",
     "text": [
      "[CV] .................................... max_iter=1000, total= 3.9min\n",
      "[CV] max_iter=1000 ...................................................\n"
     ]
    },
    {
     "name": "stderr",
     "output_type": "stream",
     "text": [
      "c:\\users\\hp\\appdata\\local\\programs\\python\\python37\\lib\\site-packages\\sklearn\\linear_model\\_logistic.py:939: ConvergenceWarning: lbfgs failed to converge (status=1):\n",
      "STOP: TOTAL NO. of ITERATIONS REACHED LIMIT.\n",
      "\n",
      "Increase the number of iterations (max_iter) or scale the data as shown in:\n",
      "    https://scikit-learn.org/stable/modules/preprocessing.html.\n",
      "Please also refer to the documentation for alternative solver options:\n",
      "    https://scikit-learn.org/stable/modules/linear_model.html#logistic-regression\n",
      "  extra_warning_msg=_LOGISTIC_SOLVER_CONVERGENCE_MSG)\n"
     ]
    },
    {
     "name": "stdout",
     "output_type": "stream",
     "text": [
      "[CV] .................................... max_iter=1000, total= 4.1min\n",
      "[CV] max_iter=1000 ...................................................\n"
     ]
    },
    {
     "name": "stderr",
     "output_type": "stream",
     "text": [
      "c:\\users\\hp\\appdata\\local\\programs\\python\\python37\\lib\\site-packages\\sklearn\\linear_model\\_logistic.py:939: ConvergenceWarning: lbfgs failed to converge (status=1):\n",
      "STOP: TOTAL NO. of ITERATIONS REACHED LIMIT.\n",
      "\n",
      "Increase the number of iterations (max_iter) or scale the data as shown in:\n",
      "    https://scikit-learn.org/stable/modules/preprocessing.html.\n",
      "Please also refer to the documentation for alternative solver options:\n",
      "    https://scikit-learn.org/stable/modules/linear_model.html#logistic-regression\n",
      "  extra_warning_msg=_LOGISTIC_SOLVER_CONVERGENCE_MSG)\n"
     ]
    },
    {
     "name": "stdout",
     "output_type": "stream",
     "text": [
      "[CV] .................................... max_iter=1000, total= 5.5min\n",
      "[CV] max_iter=1000 ...................................................\n"
     ]
    },
    {
     "name": "stderr",
     "output_type": "stream",
     "text": [
      "c:\\users\\hp\\appdata\\local\\programs\\python\\python37\\lib\\site-packages\\sklearn\\linear_model\\_logistic.py:939: ConvergenceWarning: lbfgs failed to converge (status=1):\n",
      "STOP: TOTAL NO. of ITERATIONS REACHED LIMIT.\n",
      "\n",
      "Increase the number of iterations (max_iter) or scale the data as shown in:\n",
      "    https://scikit-learn.org/stable/modules/preprocessing.html.\n",
      "Please also refer to the documentation for alternative solver options:\n",
      "    https://scikit-learn.org/stable/modules/linear_model.html#logistic-regression\n",
      "  extra_warning_msg=_LOGISTIC_SOLVER_CONVERGENCE_MSG)\n"
     ]
    },
    {
     "name": "stdout",
     "output_type": "stream",
     "text": [
      "[CV] .................................... max_iter=1000, total= 6.6min\n",
      "[CV] max_iter=5000 ...................................................\n",
      "[CV] .................................... max_iter=5000, total=11.0min\n",
      "[CV] max_iter=5000 ...................................................\n",
      "[CV] .................................... max_iter=5000, total=11.0min\n",
      "[CV] max_iter=5000 ...................................................\n",
      "[CV] .................................... max_iter=5000, total=12.2min\n",
      "[CV] max_iter=5000 ...................................................\n",
      "[CV] .................................... max_iter=5000, total=10.2min\n",
      "[CV] max_iter=5000 ...................................................\n",
      "[CV] .................................... max_iter=5000, total= 9.8min\n",
      "[CV] max_iter=10000 ..................................................\n",
      "[CV] ................................... max_iter=10000, total=10.6min\n",
      "[CV] max_iter=10000 ..................................................\n",
      "[CV] ................................... max_iter=10000, total=11.1min\n",
      "[CV] max_iter=10000 ..................................................\n",
      "[CV] ................................... max_iter=10000, total=12.2min\n",
      "[CV] max_iter=10000 ..................................................\n",
      "[CV] ................................... max_iter=10000, total= 6.9min\n",
      "[CV] max_iter=10000 ..................................................\n",
      "[CV] ................................... max_iter=10000, total= 5.7min\n"
     ]
    },
    {
     "name": "stderr",
     "output_type": "stream",
     "text": [
      "[Parallel(n_jobs=1)]: Done  30 out of  30 | elapsed: 127.3min finished\n",
      "c:\\users\\hp\\appdata\\local\\programs\\python\\python37\\lib\\site-packages\\sklearn\\linear_model\\_logistic.py:939: ConvergenceWarning: lbfgs failed to converge (status=1):\n",
      "STOP: TOTAL NO. of ITERATIONS REACHED LIMIT.\n",
      "\n",
      "Increase the number of iterations (max_iter) or scale the data as shown in:\n",
      "    https://scikit-learn.org/stable/modules/preprocessing.html.\n",
      "Please also refer to the documentation for alternative solver options:\n",
      "    https://scikit-learn.org/stable/modules/linear_model.html#logistic-regression\n",
      "  extra_warning_msg=_LOGISTIC_SOLVER_CONVERGENCE_MSG)\n"
     ]
    },
    {
     "name": "stdout",
     "output_type": "stream",
     "text": [
      "\n",
      "\n",
      "\n",
      " This is for comments \n",
      "\n",
      "[[337 162  35  40  15  12  20  43  35  23]\n",
      " [ 43 490   7  22   5  58  10   6  44   7]\n",
      " [ 41 144 319  23   2   1  11   4  12   6]\n",
      " [ 82 214  28 195  13  54  64  29  45  25]\n",
      " [  4 179   2   0 365   0   0   0   0   0]\n",
      " [ 28 208  13  32   4 297  43   8  37  11]\n",
      " [ 27 197  16  44   4  71 335  12   5  19]\n",
      " [ 48 132  10  22  15   5  11 353  10   8]\n",
      " [ 45 294   4  19   3  43  11   6 205  10]\n",
      " [ 17 245   3  17   4   6  15   8   9 422]]\n",
      "AxesSubplot(0.125,0.125;0.62x0.755)\n",
      "                    precision    recall  f1-score   support\n",
      "\n",
      "          AskIndia       0.50      0.47      0.48       722\n",
      "  Business/Finance       0.22      0.71      0.33       692\n",
      "              Food       0.73      0.57      0.64       563\n",
      "     Non-Political       0.47      0.26      0.34       749\n",
      "       Photography       0.85      0.66      0.74       550\n",
      "    Policy/Economy       0.54      0.44      0.48       681\n",
      "          Politics       0.64      0.46      0.54       730\n",
      "         Scheduled       0.75      0.57      0.65       614\n",
      "Science/Technology       0.51      0.32      0.39       640\n",
      "            Sports       0.79      0.57      0.66       746\n",
      "\n",
      "          accuracy                           0.50      6687\n",
      "         macro avg       0.60      0.50      0.53      6687\n",
      "      weighted avg       0.59      0.50      0.52      6687\n",
      "\n",
      "accuracy :  0.4961866307761328\n",
      "Fitting 5 folds for each of 6 candidates, totalling 30 fits\n",
      "[CV] max_iter=1 ......................................................\n",
      "[CV] ....................................... max_iter=1, total=   0.1s\n",
      "[CV] max_iter=1 ......................................................\n",
      "[CV] ....................................... max_iter=1, total=   0.1s\n",
      "[CV] max_iter=1 ......................................................\n"
     ]
    },
    {
     "name": "stderr",
     "output_type": "stream",
     "text": [
      "[Parallel(n_jobs=1)]: Using backend SequentialBackend with 1 concurrent workers.\n",
      "c:\\users\\hp\\appdata\\local\\programs\\python\\python37\\lib\\site-packages\\sklearn\\linear_model\\_logistic.py:939: ConvergenceWarning: lbfgs failed to converge (status=1):\n",
      "STOP: TOTAL NO. of ITERATIONS REACHED LIMIT.\n",
      "\n",
      "Increase the number of iterations (max_iter) or scale the data as shown in:\n",
      "    https://scikit-learn.org/stable/modules/preprocessing.html.\n",
      "Please also refer to the documentation for alternative solver options:\n",
      "    https://scikit-learn.org/stable/modules/linear_model.html#logistic-regression\n",
      "  extra_warning_msg=_LOGISTIC_SOLVER_CONVERGENCE_MSG)\n",
      "[Parallel(n_jobs=1)]: Done   1 out of   1 | elapsed:    0.0s remaining:    0.0s\n",
      "c:\\users\\hp\\appdata\\local\\programs\\python\\python37\\lib\\site-packages\\sklearn\\linear_model\\_logistic.py:939: ConvergenceWarning: lbfgs failed to converge (status=1):\n",
      "STOP: TOTAL NO. of ITERATIONS REACHED LIMIT.\n",
      "\n",
      "Increase the number of iterations (max_iter) or scale the data as shown in:\n",
      "    https://scikit-learn.org/stable/modules/preprocessing.html.\n",
      "Please also refer to the documentation for alternative solver options:\n",
      "    https://scikit-learn.org/stable/modules/linear_model.html#logistic-regression\n",
      "  extra_warning_msg=_LOGISTIC_SOLVER_CONVERGENCE_MSG)\n",
      "c:\\users\\hp\\appdata\\local\\programs\\python\\python37\\lib\\site-packages\\sklearn\\linear_model\\_logistic.py:939: ConvergenceWarning: lbfgs failed to converge (status=1):\n",
      "STOP: TOTAL NO. of ITERATIONS REACHED LIMIT.\n",
      "\n",
      "Increase the number of iterations (max_iter) or scale the data as shown in:\n",
      "    https://scikit-learn.org/stable/modules/preprocessing.html.\n",
      "Please also refer to the documentation for alternative solver options:\n",
      "    https://scikit-learn.org/stable/modules/linear_model.html#logistic-regression\n",
      "  extra_warning_msg=_LOGISTIC_SOLVER_CONVERGENCE_MSG)\n",
      "c:\\users\\hp\\appdata\\local\\programs\\python\\python37\\lib\\site-packages\\sklearn\\linear_model\\_logistic.py:939: ConvergenceWarning: lbfgs failed to converge (status=1):\n",
      "STOP: TOTAL NO. of ITERATIONS REACHED LIMIT.\n",
      "\n",
      "Increase the number of iterations (max_iter) or scale the data as shown in:\n",
      "    https://scikit-learn.org/stable/modules/preprocessing.html.\n",
      "Please also refer to the documentation for alternative solver options:\n",
      "    https://scikit-learn.org/stable/modules/linear_model.html#logistic-regression\n",
      "  extra_warning_msg=_LOGISTIC_SOLVER_CONVERGENCE_MSG)\n",
      "c:\\users\\hp\\appdata\\local\\programs\\python\\python37\\lib\\site-packages\\sklearn\\linear_model\\_logistic.py:939: ConvergenceWarning: lbfgs failed to converge (status=1):\n",
      "STOP: TOTAL NO. of ITERATIONS REACHED LIMIT.\n",
      "\n",
      "Increase the number of iterations (max_iter) or scale the data as shown in:\n",
      "    https://scikit-learn.org/stable/modules/preprocessing.html.\n",
      "Please also refer to the documentation for alternative solver options:\n",
      "    https://scikit-learn.org/stable/modules/linear_model.html#logistic-regression\n",
      "  extra_warning_msg=_LOGISTIC_SOLVER_CONVERGENCE_MSG)\n"
     ]
    },
    {
     "name": "stdout",
     "output_type": "stream",
     "text": [
      "[CV] ....................................... max_iter=1, total=   0.1s\n",
      "[CV] max_iter=1 ......................................................\n",
      "[CV] ....................................... max_iter=1, total=   0.1s\n",
      "[CV] max_iter=1 ......................................................\n",
      "[CV] ....................................... max_iter=1, total=   0.1s\n",
      "[CV] max_iter=10 .....................................................\n"
     ]
    },
    {
     "name": "stderr",
     "output_type": "stream",
     "text": [
      "c:\\users\\hp\\appdata\\local\\programs\\python\\python37\\lib\\site-packages\\sklearn\\linear_model\\_logistic.py:939: ConvergenceWarning: lbfgs failed to converge (status=1):\n",
      "STOP: TOTAL NO. of ITERATIONS REACHED LIMIT.\n",
      "\n",
      "Increase the number of iterations (max_iter) or scale the data as shown in:\n",
      "    https://scikit-learn.org/stable/modules/preprocessing.html.\n",
      "Please also refer to the documentation for alternative solver options:\n",
      "    https://scikit-learn.org/stable/modules/linear_model.html#logistic-regression\n",
      "  extra_warning_msg=_LOGISTIC_SOLVER_CONVERGENCE_MSG)\n",
      "c:\\users\\hp\\appdata\\local\\programs\\python\\python37\\lib\\site-packages\\sklearn\\linear_model\\_logistic.py:939: ConvergenceWarning: lbfgs failed to converge (status=1):\n",
      "STOP: TOTAL NO. of ITERATIONS REACHED LIMIT.\n",
      "\n",
      "Increase the number of iterations (max_iter) or scale the data as shown in:\n",
      "    https://scikit-learn.org/stable/modules/preprocessing.html.\n",
      "Please also refer to the documentation for alternative solver options:\n",
      "    https://scikit-learn.org/stable/modules/linear_model.html#logistic-regression\n",
      "  extra_warning_msg=_LOGISTIC_SOLVER_CONVERGENCE_MSG)\n"
     ]
    },
    {
     "name": "stdout",
     "output_type": "stream",
     "text": [
      "[CV] ...................................... max_iter=10, total=   0.1s\n",
      "[CV] max_iter=10 .....................................................\n",
      "[CV] ...................................... max_iter=10, total=   0.1s\n",
      "[CV] max_iter=10 .....................................................\n"
     ]
    },
    {
     "name": "stderr",
     "output_type": "stream",
     "text": [
      "c:\\users\\hp\\appdata\\local\\programs\\python\\python37\\lib\\site-packages\\sklearn\\linear_model\\_logistic.py:939: ConvergenceWarning: lbfgs failed to converge (status=1):\n",
      "STOP: TOTAL NO. of ITERATIONS REACHED LIMIT.\n",
      "\n",
      "Increase the number of iterations (max_iter) or scale the data as shown in:\n",
      "    https://scikit-learn.org/stable/modules/preprocessing.html.\n",
      "Please also refer to the documentation for alternative solver options:\n",
      "    https://scikit-learn.org/stable/modules/linear_model.html#logistic-regression\n",
      "  extra_warning_msg=_LOGISTIC_SOLVER_CONVERGENCE_MSG)\n",
      "c:\\users\\hp\\appdata\\local\\programs\\python\\python37\\lib\\site-packages\\sklearn\\linear_model\\_logistic.py:939: ConvergenceWarning: lbfgs failed to converge (status=1):\n",
      "STOP: TOTAL NO. of ITERATIONS REACHED LIMIT.\n",
      "\n",
      "Increase the number of iterations (max_iter) or scale the data as shown in:\n",
      "    https://scikit-learn.org/stable/modules/preprocessing.html.\n",
      "Please also refer to the documentation for alternative solver options:\n",
      "    https://scikit-learn.org/stable/modules/linear_model.html#logistic-regression\n",
      "  extra_warning_msg=_LOGISTIC_SOLVER_CONVERGENCE_MSG)\n"
     ]
    },
    {
     "name": "stdout",
     "output_type": "stream",
     "text": [
      "[CV] ...................................... max_iter=10, total=   0.1s\n",
      "[CV] max_iter=10 .....................................................\n",
      "[CV] ...................................... max_iter=10, total=   0.1s\n",
      "[CV] max_iter=10 .....................................................\n"
     ]
    },
    {
     "name": "stderr",
     "output_type": "stream",
     "text": [
      "c:\\users\\hp\\appdata\\local\\programs\\python\\python37\\lib\\site-packages\\sklearn\\linear_model\\_logistic.py:939: ConvergenceWarning: lbfgs failed to converge (status=1):\n",
      "STOP: TOTAL NO. of ITERATIONS REACHED LIMIT.\n",
      "\n",
      "Increase the number of iterations (max_iter) or scale the data as shown in:\n",
      "    https://scikit-learn.org/stable/modules/preprocessing.html.\n",
      "Please also refer to the documentation for alternative solver options:\n",
      "    https://scikit-learn.org/stable/modules/linear_model.html#logistic-regression\n",
      "  extra_warning_msg=_LOGISTIC_SOLVER_CONVERGENCE_MSG)\n"
     ]
    },
    {
     "name": "stdout",
     "output_type": "stream",
     "text": [
      "[CV] ...................................... max_iter=10, total=   0.1s\n",
      "[CV] max_iter=100 ....................................................\n"
     ]
    },
    {
     "name": "stderr",
     "output_type": "stream",
     "text": [
      "c:\\users\\hp\\appdata\\local\\programs\\python\\python37\\lib\\site-packages\\sklearn\\linear_model\\_logistic.py:939: ConvergenceWarning: lbfgs failed to converge (status=1):\n",
      "STOP: TOTAL NO. of ITERATIONS REACHED LIMIT.\n",
      "\n",
      "Increase the number of iterations (max_iter) or scale the data as shown in:\n",
      "    https://scikit-learn.org/stable/modules/preprocessing.html.\n",
      "Please also refer to the documentation for alternative solver options:\n",
      "    https://scikit-learn.org/stable/modules/linear_model.html#logistic-regression\n",
      "  extra_warning_msg=_LOGISTIC_SOLVER_CONVERGENCE_MSG)\n"
     ]
    },
    {
     "name": "stdout",
     "output_type": "stream",
     "text": [
      "[CV] ..................................... max_iter=100, total=   0.9s\n",
      "[CV] max_iter=100 ....................................................\n"
     ]
    },
    {
     "name": "stderr",
     "output_type": "stream",
     "text": [
      "c:\\users\\hp\\appdata\\local\\programs\\python\\python37\\lib\\site-packages\\sklearn\\linear_model\\_logistic.py:939: ConvergenceWarning: lbfgs failed to converge (status=1):\n",
      "STOP: TOTAL NO. of ITERATIONS REACHED LIMIT.\n",
      "\n",
      "Increase the number of iterations (max_iter) or scale the data as shown in:\n",
      "    https://scikit-learn.org/stable/modules/preprocessing.html.\n",
      "Please also refer to the documentation for alternative solver options:\n",
      "    https://scikit-learn.org/stable/modules/linear_model.html#logistic-regression\n",
      "  extra_warning_msg=_LOGISTIC_SOLVER_CONVERGENCE_MSG)\n"
     ]
    },
    {
     "name": "stdout",
     "output_type": "stream",
     "text": [
      "[CV] ..................................... max_iter=100, total=   0.9s\n",
      "[CV] max_iter=100 ....................................................\n"
     ]
    },
    {
     "name": "stderr",
     "output_type": "stream",
     "text": [
      "c:\\users\\hp\\appdata\\local\\programs\\python\\python37\\lib\\site-packages\\sklearn\\linear_model\\_logistic.py:939: ConvergenceWarning: lbfgs failed to converge (status=1):\n",
      "STOP: TOTAL NO. of ITERATIONS REACHED LIMIT.\n",
      "\n",
      "Increase the number of iterations (max_iter) or scale the data as shown in:\n",
      "    https://scikit-learn.org/stable/modules/preprocessing.html.\n",
      "Please also refer to the documentation for alternative solver options:\n",
      "    https://scikit-learn.org/stable/modules/linear_model.html#logistic-regression\n",
      "  extra_warning_msg=_LOGISTIC_SOLVER_CONVERGENCE_MSG)\n"
     ]
    },
    {
     "name": "stdout",
     "output_type": "stream",
     "text": [
      "[CV] ..................................... max_iter=100, total=   0.9s\n",
      "[CV] max_iter=100 ....................................................\n"
     ]
    },
    {
     "name": "stderr",
     "output_type": "stream",
     "text": [
      "c:\\users\\hp\\appdata\\local\\programs\\python\\python37\\lib\\site-packages\\sklearn\\linear_model\\_logistic.py:939: ConvergenceWarning: lbfgs failed to converge (status=1):\n",
      "STOP: TOTAL NO. of ITERATIONS REACHED LIMIT.\n",
      "\n",
      "Increase the number of iterations (max_iter) or scale the data as shown in:\n",
      "    https://scikit-learn.org/stable/modules/preprocessing.html.\n",
      "Please also refer to the documentation for alternative solver options:\n",
      "    https://scikit-learn.org/stable/modules/linear_model.html#logistic-regression\n",
      "  extra_warning_msg=_LOGISTIC_SOLVER_CONVERGENCE_MSG)\n"
     ]
    },
    {
     "name": "stdout",
     "output_type": "stream",
     "text": [
      "[CV] ..................................... max_iter=100, total=   0.9s\n",
      "[CV] max_iter=100 ....................................................\n"
     ]
    },
    {
     "name": "stderr",
     "output_type": "stream",
     "text": [
      "c:\\users\\hp\\appdata\\local\\programs\\python\\python37\\lib\\site-packages\\sklearn\\linear_model\\_logistic.py:939: ConvergenceWarning: lbfgs failed to converge (status=1):\n",
      "STOP: TOTAL NO. of ITERATIONS REACHED LIMIT.\n",
      "\n",
      "Increase the number of iterations (max_iter) or scale the data as shown in:\n",
      "    https://scikit-learn.org/stable/modules/preprocessing.html.\n",
      "Please also refer to the documentation for alternative solver options:\n",
      "    https://scikit-learn.org/stable/modules/linear_model.html#logistic-regression\n",
      "  extra_warning_msg=_LOGISTIC_SOLVER_CONVERGENCE_MSG)\n"
     ]
    },
    {
     "name": "stdout",
     "output_type": "stream",
     "text": [
      "[CV] ..................................... max_iter=100, total=   0.9s\n",
      "[CV] max_iter=1000 ...................................................\n",
      "[CV] .................................... max_iter=1000, total=   2.2s\n",
      "[CV] max_iter=1000 ...................................................\n",
      "[CV] .................................... max_iter=1000, total=   1.8s\n",
      "[CV] max_iter=1000 ...................................................\n",
      "[CV] .................................... max_iter=1000, total=   2.0s\n",
      "[CV] max_iter=1000 ...................................................\n",
      "[CV] .................................... max_iter=1000, total=   1.9s\n",
      "[CV] max_iter=1000 ...................................................\n",
      "[CV] .................................... max_iter=1000, total=   1.9s\n",
      "[CV] max_iter=5000 ...................................................\n",
      "[CV] .................................... max_iter=5000, total=   2.2s\n",
      "[CV] max_iter=5000 ...................................................\n",
      "[CV] .................................... max_iter=5000, total=   1.8s\n",
      "[CV] max_iter=5000 ...................................................\n",
      "[CV] .................................... max_iter=5000, total=   1.9s\n",
      "[CV] max_iter=5000 ...................................................\n",
      "[CV] .................................... max_iter=5000, total=   1.9s\n",
      "[CV] max_iter=5000 ...................................................\n",
      "[CV] .................................... max_iter=5000, total=   1.9s\n",
      "[CV] max_iter=10000 ..................................................\n",
      "[CV] ................................... max_iter=10000, total=   2.2s\n",
      "[CV] max_iter=10000 ..................................................\n",
      "[CV] ................................... max_iter=10000, total=   1.9s\n",
      "[CV] max_iter=10000 ..................................................\n",
      "[CV] ................................... max_iter=10000, total=   2.0s\n",
      "[CV] max_iter=10000 ..................................................\n",
      "[CV] ................................... max_iter=10000, total=   2.0s\n",
      "[CV] max_iter=10000 ..................................................\n",
      "[CV] ................................... max_iter=10000, total=   1.9s\n"
     ]
    },
    {
     "name": "stderr",
     "output_type": "stream",
     "text": [
      "[Parallel(n_jobs=1)]: Done  30 out of  30 | elapsed:   34.9s finished\n",
      "c:\\users\\hp\\appdata\\local\\programs\\python\\python37\\lib\\site-packages\\sklearn\\linear_model\\_logistic.py:939: ConvergenceWarning: lbfgs failed to converge (status=1):\n",
      "STOP: TOTAL NO. of ITERATIONS REACHED LIMIT.\n",
      "\n",
      "Increase the number of iterations (max_iter) or scale the data as shown in:\n",
      "    https://scikit-learn.org/stable/modules/preprocessing.html.\n",
      "Please also refer to the documentation for alternative solver options:\n",
      "    https://scikit-learn.org/stable/modules/linear_model.html#logistic-regression\n",
      "  extra_warning_msg=_LOGISTIC_SOLVER_CONVERGENCE_MSG)\n"
     ]
    },
    {
     "name": "stdout",
     "output_type": "stream",
     "text": [
      "\n",
      "\n",
      "\n",
      " This is for domain \n",
      "\n",
      "[[676   0   2  24   3   0   6   1   3  28]\n",
      " [148 182   7  69  18 168  61   0  40  35]\n",
      " [148  12 106  80  38  26  88   3   8  46]\n",
      " [161  27  38 143  18  51 152   1  15  73]\n",
      " [256   3  50  38 215   1   9   2   5  12]\n",
      " [ 82  35  10  39   8 261 161   3  14  34]\n",
      " [ 80  10  16  81  25  71 361   4   6  55]\n",
      " [494   1   3  24  11   5  37  36   1   6]\n",
      " [142  15  14 128  12  75  88   2 142  48]\n",
      " [146   4  21 111  17  24 173   1   7 247]]\n",
      "AxesSubplot(0.125,0.125;0.496x0.755)\n",
      "                    precision    recall  f1-score   support\n",
      "\n",
      "          AskIndia       0.29      0.91      0.44       743\n",
      "  Business/Finance       0.63      0.25      0.36       728\n",
      "              Food       0.40      0.19      0.26       555\n",
      "     Non-Political       0.19      0.21      0.20       679\n",
      "       Photography       0.59      0.36      0.45       591\n",
      "    Policy/Economy       0.38      0.40      0.39       647\n",
      "          Politics       0.32      0.51      0.39       709\n",
      "         Scheduled       0.68      0.06      0.11       618\n",
      "Science/Technology       0.59      0.21      0.31       666\n",
      "            Sports       0.42      0.33      0.37       751\n",
      "\n",
      "          accuracy                           0.35      6687\n",
      "         macro avg       0.45      0.34      0.33      6687\n",
      "      weighted avg       0.45      0.35      0.33      6687\n",
      "\n",
      "accuracy :  0.35426947809181997\n",
      "Fitting 5 folds for each of 6 candidates, totalling 30 fits\n",
      "[CV] max_iter=1 ......................................................\n"
     ]
    },
    {
     "name": "stderr",
     "output_type": "stream",
     "text": [
      "[Parallel(n_jobs=1)]: Using backend SequentialBackend with 1 concurrent workers.\n",
      "c:\\users\\hp\\appdata\\local\\programs\\python\\python37\\lib\\site-packages\\sklearn\\linear_model\\_logistic.py:939: ConvergenceWarning: lbfgs failed to converge (status=1):\n",
      "STOP: TOTAL NO. of ITERATIONS REACHED LIMIT.\n",
      "\n",
      "Increase the number of iterations (max_iter) or scale the data as shown in:\n",
      "    https://scikit-learn.org/stable/modules/preprocessing.html.\n",
      "Please also refer to the documentation for alternative solver options:\n",
      "    https://scikit-learn.org/stable/modules/linear_model.html#logistic-regression\n",
      "  extra_warning_msg=_LOGISTIC_SOLVER_CONVERGENCE_MSG)\n",
      "[Parallel(n_jobs=1)]: Done   1 out of   1 | elapsed:    0.2s remaining:    0.0s\n"
     ]
    },
    {
     "name": "stdout",
     "output_type": "stream",
     "text": [
      "[CV] ....................................... max_iter=1, total=   0.3s\n",
      "[CV] max_iter=1 ......................................................\n"
     ]
    },
    {
     "name": "stderr",
     "output_type": "stream",
     "text": [
      "c:\\users\\hp\\appdata\\local\\programs\\python\\python37\\lib\\site-packages\\sklearn\\linear_model\\_logistic.py:939: ConvergenceWarning: lbfgs failed to converge (status=1):\n",
      "STOP: TOTAL NO. of ITERATIONS REACHED LIMIT.\n",
      "\n",
      "Increase the number of iterations (max_iter) or scale the data as shown in:\n",
      "    https://scikit-learn.org/stable/modules/preprocessing.html.\n",
      "Please also refer to the documentation for alternative solver options:\n",
      "    https://scikit-learn.org/stable/modules/linear_model.html#logistic-regression\n",
      "  extra_warning_msg=_LOGISTIC_SOLVER_CONVERGENCE_MSG)\n"
     ]
    },
    {
     "name": "stdout",
     "output_type": "stream",
     "text": [
      "[CV] ....................................... max_iter=1, total=   0.3s\n",
      "[CV] max_iter=1 ......................................................\n"
     ]
    },
    {
     "name": "stderr",
     "output_type": "stream",
     "text": [
      "c:\\users\\hp\\appdata\\local\\programs\\python\\python37\\lib\\site-packages\\sklearn\\linear_model\\_logistic.py:939: ConvergenceWarning: lbfgs failed to converge (status=1):\n",
      "STOP: TOTAL NO. of ITERATIONS REACHED LIMIT.\n",
      "\n",
      "Increase the number of iterations (max_iter) or scale the data as shown in:\n",
      "    https://scikit-learn.org/stable/modules/preprocessing.html.\n",
      "Please also refer to the documentation for alternative solver options:\n",
      "    https://scikit-learn.org/stable/modules/linear_model.html#logistic-regression\n",
      "  extra_warning_msg=_LOGISTIC_SOLVER_CONVERGENCE_MSG)\n"
     ]
    },
    {
     "name": "stdout",
     "output_type": "stream",
     "text": [
      "[CV] ....................................... max_iter=1, total=   0.3s\n",
      "[CV] max_iter=1 ......................................................\n"
     ]
    },
    {
     "name": "stderr",
     "output_type": "stream",
     "text": [
      "c:\\users\\hp\\appdata\\local\\programs\\python\\python37\\lib\\site-packages\\sklearn\\linear_model\\_logistic.py:939: ConvergenceWarning: lbfgs failed to converge (status=1):\n",
      "STOP: TOTAL NO. of ITERATIONS REACHED LIMIT.\n",
      "\n",
      "Increase the number of iterations (max_iter) or scale the data as shown in:\n",
      "    https://scikit-learn.org/stable/modules/preprocessing.html.\n",
      "Please also refer to the documentation for alternative solver options:\n",
      "    https://scikit-learn.org/stable/modules/linear_model.html#logistic-regression\n",
      "  extra_warning_msg=_LOGISTIC_SOLVER_CONVERGENCE_MSG)\n"
     ]
    },
    {
     "name": "stdout",
     "output_type": "stream",
     "text": [
      "[CV] ....................................... max_iter=1, total=   0.3s\n",
      "[CV] max_iter=1 ......................................................\n"
     ]
    },
    {
     "name": "stderr",
     "output_type": "stream",
     "text": [
      "c:\\users\\hp\\appdata\\local\\programs\\python\\python37\\lib\\site-packages\\sklearn\\linear_model\\_logistic.py:939: ConvergenceWarning: lbfgs failed to converge (status=1):\n",
      "STOP: TOTAL NO. of ITERATIONS REACHED LIMIT.\n",
      "\n",
      "Increase the number of iterations (max_iter) or scale the data as shown in:\n",
      "    https://scikit-learn.org/stable/modules/preprocessing.html.\n",
      "Please also refer to the documentation for alternative solver options:\n",
      "    https://scikit-learn.org/stable/modules/linear_model.html#logistic-regression\n",
      "  extra_warning_msg=_LOGISTIC_SOLVER_CONVERGENCE_MSG)\n"
     ]
    },
    {
     "name": "stdout",
     "output_type": "stream",
     "text": [
      "[CV] ....................................... max_iter=1, total=   0.3s\n",
      "[CV] max_iter=10 .....................................................\n"
     ]
    },
    {
     "name": "stderr",
     "output_type": "stream",
     "text": [
      "c:\\users\\hp\\appdata\\local\\programs\\python\\python37\\lib\\site-packages\\sklearn\\linear_model\\_logistic.py:939: ConvergenceWarning: lbfgs failed to converge (status=1):\n",
      "STOP: TOTAL NO. of ITERATIONS REACHED LIMIT.\n",
      "\n",
      "Increase the number of iterations (max_iter) or scale the data as shown in:\n",
      "    https://scikit-learn.org/stable/modules/preprocessing.html.\n",
      "Please also refer to the documentation for alternative solver options:\n",
      "    https://scikit-learn.org/stable/modules/linear_model.html#logistic-regression\n",
      "  extra_warning_msg=_LOGISTIC_SOLVER_CONVERGENCE_MSG)\n"
     ]
    },
    {
     "name": "stdout",
     "output_type": "stream",
     "text": [
      "[CV] ...................................... max_iter=10, total=   0.7s\n",
      "[CV] max_iter=10 .....................................................\n"
     ]
    },
    {
     "name": "stderr",
     "output_type": "stream",
     "text": [
      "c:\\users\\hp\\appdata\\local\\programs\\python\\python37\\lib\\site-packages\\sklearn\\linear_model\\_logistic.py:939: ConvergenceWarning: lbfgs failed to converge (status=1):\n",
      "STOP: TOTAL NO. of ITERATIONS REACHED LIMIT.\n",
      "\n",
      "Increase the number of iterations (max_iter) or scale the data as shown in:\n",
      "    https://scikit-learn.org/stable/modules/preprocessing.html.\n",
      "Please also refer to the documentation for alternative solver options:\n",
      "    https://scikit-learn.org/stable/modules/linear_model.html#logistic-regression\n",
      "  extra_warning_msg=_LOGISTIC_SOLVER_CONVERGENCE_MSG)\n"
     ]
    },
    {
     "name": "stdout",
     "output_type": "stream",
     "text": [
      "[CV] ...................................... max_iter=10, total=   0.6s\n",
      "[CV] max_iter=10 .....................................................\n"
     ]
    },
    {
     "name": "stderr",
     "output_type": "stream",
     "text": [
      "c:\\users\\hp\\appdata\\local\\programs\\python\\python37\\lib\\site-packages\\sklearn\\linear_model\\_logistic.py:939: ConvergenceWarning: lbfgs failed to converge (status=1):\n",
      "STOP: TOTAL NO. of ITERATIONS REACHED LIMIT.\n",
      "\n",
      "Increase the number of iterations (max_iter) or scale the data as shown in:\n",
      "    https://scikit-learn.org/stable/modules/preprocessing.html.\n",
      "Please also refer to the documentation for alternative solver options:\n",
      "    https://scikit-learn.org/stable/modules/linear_model.html#logistic-regression\n",
      "  extra_warning_msg=_LOGISTIC_SOLVER_CONVERGENCE_MSG)\n"
     ]
    },
    {
     "name": "stdout",
     "output_type": "stream",
     "text": [
      "[CV] ...................................... max_iter=10, total=   0.6s\n",
      "[CV] max_iter=10 .....................................................\n"
     ]
    },
    {
     "name": "stderr",
     "output_type": "stream",
     "text": [
      "c:\\users\\hp\\appdata\\local\\programs\\python\\python37\\lib\\site-packages\\sklearn\\linear_model\\_logistic.py:939: ConvergenceWarning: lbfgs failed to converge (status=1):\n",
      "STOP: TOTAL NO. of ITERATIONS REACHED LIMIT.\n",
      "\n",
      "Increase the number of iterations (max_iter) or scale the data as shown in:\n",
      "    https://scikit-learn.org/stable/modules/preprocessing.html.\n",
      "Please also refer to the documentation for alternative solver options:\n",
      "    https://scikit-learn.org/stable/modules/linear_model.html#logistic-regression\n",
      "  extra_warning_msg=_LOGISTIC_SOLVER_CONVERGENCE_MSG)\n"
     ]
    },
    {
     "name": "stdout",
     "output_type": "stream",
     "text": [
      "[CV] ...................................... max_iter=10, total=   0.6s\n",
      "[CV] max_iter=10 .....................................................\n"
     ]
    },
    {
     "name": "stderr",
     "output_type": "stream",
     "text": [
      "c:\\users\\hp\\appdata\\local\\programs\\python\\python37\\lib\\site-packages\\sklearn\\linear_model\\_logistic.py:939: ConvergenceWarning: lbfgs failed to converge (status=1):\n",
      "STOP: TOTAL NO. of ITERATIONS REACHED LIMIT.\n",
      "\n",
      "Increase the number of iterations (max_iter) or scale the data as shown in:\n",
      "    https://scikit-learn.org/stable/modules/preprocessing.html.\n",
      "Please also refer to the documentation for alternative solver options:\n",
      "    https://scikit-learn.org/stable/modules/linear_model.html#logistic-regression\n",
      "  extra_warning_msg=_LOGISTIC_SOLVER_CONVERGENCE_MSG)\n"
     ]
    },
    {
     "name": "stdout",
     "output_type": "stream",
     "text": [
      "[CV] ...................................... max_iter=10, total=   0.6s\n",
      "[CV] max_iter=100 ....................................................\n"
     ]
    },
    {
     "name": "stderr",
     "output_type": "stream",
     "text": [
      "c:\\users\\hp\\appdata\\local\\programs\\python\\python37\\lib\\site-packages\\sklearn\\linear_model\\_logistic.py:939: ConvergenceWarning: lbfgs failed to converge (status=1):\n",
      "STOP: TOTAL NO. of ITERATIONS REACHED LIMIT.\n",
      "\n",
      "Increase the number of iterations (max_iter) or scale the data as shown in:\n",
      "    https://scikit-learn.org/stable/modules/preprocessing.html.\n",
      "Please also refer to the documentation for alternative solver options:\n",
      "    https://scikit-learn.org/stable/modules/linear_model.html#logistic-regression\n",
      "  extra_warning_msg=_LOGISTIC_SOLVER_CONVERGENCE_MSG)\n"
     ]
    },
    {
     "name": "stdout",
     "output_type": "stream",
     "text": [
      "[CV] ..................................... max_iter=100, total=   4.9s\n",
      "[CV] max_iter=100 ....................................................\n"
     ]
    },
    {
     "name": "stderr",
     "output_type": "stream",
     "text": [
      "c:\\users\\hp\\appdata\\local\\programs\\python\\python37\\lib\\site-packages\\sklearn\\linear_model\\_logistic.py:939: ConvergenceWarning: lbfgs failed to converge (status=1):\n",
      "STOP: TOTAL NO. of ITERATIONS REACHED LIMIT.\n",
      "\n",
      "Increase the number of iterations (max_iter) or scale the data as shown in:\n",
      "    https://scikit-learn.org/stable/modules/preprocessing.html.\n",
      "Please also refer to the documentation for alternative solver options:\n",
      "    https://scikit-learn.org/stable/modules/linear_model.html#logistic-regression\n",
      "  extra_warning_msg=_LOGISTIC_SOLVER_CONVERGENCE_MSG)\n"
     ]
    },
    {
     "name": "stdout",
     "output_type": "stream",
     "text": [
      "[CV] ..................................... max_iter=100, total=   5.0s\n",
      "[CV] max_iter=100 ....................................................\n"
     ]
    },
    {
     "name": "stderr",
     "output_type": "stream",
     "text": [
      "c:\\users\\hp\\appdata\\local\\programs\\python\\python37\\lib\\site-packages\\sklearn\\linear_model\\_logistic.py:939: ConvergenceWarning: lbfgs failed to converge (status=1):\n",
      "STOP: TOTAL NO. of ITERATIONS REACHED LIMIT.\n",
      "\n",
      "Increase the number of iterations (max_iter) or scale the data as shown in:\n",
      "    https://scikit-learn.org/stable/modules/preprocessing.html.\n",
      "Please also refer to the documentation for alternative solver options:\n",
      "    https://scikit-learn.org/stable/modules/linear_model.html#logistic-regression\n",
      "  extra_warning_msg=_LOGISTIC_SOLVER_CONVERGENCE_MSG)\n"
     ]
    },
    {
     "name": "stdout",
     "output_type": "stream",
     "text": [
      "[CV] ..................................... max_iter=100, total=   4.9s\n",
      "[CV] max_iter=100 ....................................................\n"
     ]
    },
    {
     "name": "stderr",
     "output_type": "stream",
     "text": [
      "c:\\users\\hp\\appdata\\local\\programs\\python\\python37\\lib\\site-packages\\sklearn\\linear_model\\_logistic.py:939: ConvergenceWarning: lbfgs failed to converge (status=1):\n",
      "STOP: TOTAL NO. of ITERATIONS REACHED LIMIT.\n",
      "\n",
      "Increase the number of iterations (max_iter) or scale the data as shown in:\n",
      "    https://scikit-learn.org/stable/modules/preprocessing.html.\n",
      "Please also refer to the documentation for alternative solver options:\n",
      "    https://scikit-learn.org/stable/modules/linear_model.html#logistic-regression\n",
      "  extra_warning_msg=_LOGISTIC_SOLVER_CONVERGENCE_MSG)\n"
     ]
    },
    {
     "name": "stdout",
     "output_type": "stream",
     "text": [
      "[CV] ..................................... max_iter=100, total=   5.0s\n",
      "[CV] max_iter=100 ....................................................\n"
     ]
    },
    {
     "name": "stderr",
     "output_type": "stream",
     "text": [
      "c:\\users\\hp\\appdata\\local\\programs\\python\\python37\\lib\\site-packages\\sklearn\\linear_model\\_logistic.py:939: ConvergenceWarning: lbfgs failed to converge (status=1):\n",
      "STOP: TOTAL NO. of ITERATIONS REACHED LIMIT.\n",
      "\n",
      "Increase the number of iterations (max_iter) or scale the data as shown in:\n",
      "    https://scikit-learn.org/stable/modules/preprocessing.html.\n",
      "Please also refer to the documentation for alternative solver options:\n",
      "    https://scikit-learn.org/stable/modules/linear_model.html#logistic-regression\n",
      "  extra_warning_msg=_LOGISTIC_SOLVER_CONVERGENCE_MSG)\n"
     ]
    },
    {
     "name": "stdout",
     "output_type": "stream",
     "text": [
      "[CV] ..................................... max_iter=100, total=   4.9s\n",
      "[CV] max_iter=1000 ...................................................\n"
     ]
    },
    {
     "name": "stderr",
     "output_type": "stream",
     "text": [
      "c:\\users\\hp\\appdata\\local\\programs\\python\\python37\\lib\\site-packages\\sklearn\\linear_model\\_logistic.py:939: ConvergenceWarning: lbfgs failed to converge (status=1):\n",
      "STOP: TOTAL NO. of ITERATIONS REACHED LIMIT.\n",
      "\n",
      "Increase the number of iterations (max_iter) or scale the data as shown in:\n",
      "    https://scikit-learn.org/stable/modules/preprocessing.html.\n",
      "Please also refer to the documentation for alternative solver options:\n",
      "    https://scikit-learn.org/stable/modules/linear_model.html#logistic-regression\n",
      "  extra_warning_msg=_LOGISTIC_SOLVER_CONVERGENCE_MSG)\n"
     ]
    },
    {
     "name": "stdout",
     "output_type": "stream",
     "text": [
      "[CV] .................................... max_iter=1000, total=  47.8s\n",
      "[CV] max_iter=1000 ...................................................\n"
     ]
    },
    {
     "name": "stderr",
     "output_type": "stream",
     "text": [
      "c:\\users\\hp\\appdata\\local\\programs\\python\\python37\\lib\\site-packages\\sklearn\\linear_model\\_logistic.py:939: ConvergenceWarning: lbfgs failed to converge (status=1):\n",
      "STOP: TOTAL NO. of ITERATIONS REACHED LIMIT.\n",
      "\n",
      "Increase the number of iterations (max_iter) or scale the data as shown in:\n",
      "    https://scikit-learn.org/stable/modules/preprocessing.html.\n",
      "Please also refer to the documentation for alternative solver options:\n",
      "    https://scikit-learn.org/stable/modules/linear_model.html#logistic-regression\n",
      "  extra_warning_msg=_LOGISTIC_SOLVER_CONVERGENCE_MSG)\n"
     ]
    },
    {
     "name": "stdout",
     "output_type": "stream",
     "text": [
      "[CV] .................................... max_iter=1000, total=  48.1s\n",
      "[CV] max_iter=1000 ...................................................\n"
     ]
    },
    {
     "name": "stderr",
     "output_type": "stream",
     "text": [
      "c:\\users\\hp\\appdata\\local\\programs\\python\\python37\\lib\\site-packages\\sklearn\\linear_model\\_logistic.py:939: ConvergenceWarning: lbfgs failed to converge (status=1):\n",
      "STOP: TOTAL NO. of ITERATIONS REACHED LIMIT.\n",
      "\n",
      "Increase the number of iterations (max_iter) or scale the data as shown in:\n",
      "    https://scikit-learn.org/stable/modules/preprocessing.html.\n",
      "Please also refer to the documentation for alternative solver options:\n",
      "    https://scikit-learn.org/stable/modules/linear_model.html#logistic-regression\n",
      "  extra_warning_msg=_LOGISTIC_SOLVER_CONVERGENCE_MSG)\n"
     ]
    },
    {
     "name": "stdout",
     "output_type": "stream",
     "text": [
      "[CV] .................................... max_iter=1000, total=  49.0s\n",
      "[CV] max_iter=1000 ...................................................\n"
     ]
    },
    {
     "name": "stderr",
     "output_type": "stream",
     "text": [
      "c:\\users\\hp\\appdata\\local\\programs\\python\\python37\\lib\\site-packages\\sklearn\\linear_model\\_logistic.py:939: ConvergenceWarning: lbfgs failed to converge (status=1):\n",
      "STOP: TOTAL NO. of ITERATIONS REACHED LIMIT.\n",
      "\n",
      "Increase the number of iterations (max_iter) or scale the data as shown in:\n",
      "    https://scikit-learn.org/stable/modules/preprocessing.html.\n",
      "Please also refer to the documentation for alternative solver options:\n",
      "    https://scikit-learn.org/stable/modules/linear_model.html#logistic-regression\n",
      "  extra_warning_msg=_LOGISTIC_SOLVER_CONVERGENCE_MSG)\n"
     ]
    },
    {
     "name": "stdout",
     "output_type": "stream",
     "text": [
      "[CV] .................................... max_iter=1000, total=  54.9s\n",
      "[CV] max_iter=1000 ...................................................\n"
     ]
    },
    {
     "name": "stderr",
     "output_type": "stream",
     "text": [
      "c:\\users\\hp\\appdata\\local\\programs\\python\\python37\\lib\\site-packages\\sklearn\\linear_model\\_logistic.py:939: ConvergenceWarning: lbfgs failed to converge (status=1):\n",
      "STOP: TOTAL NO. of ITERATIONS REACHED LIMIT.\n",
      "\n",
      "Increase the number of iterations (max_iter) or scale the data as shown in:\n",
      "    https://scikit-learn.org/stable/modules/preprocessing.html.\n",
      "Please also refer to the documentation for alternative solver options:\n",
      "    https://scikit-learn.org/stable/modules/linear_model.html#logistic-regression\n",
      "  extra_warning_msg=_LOGISTIC_SOLVER_CONVERGENCE_MSG)\n"
     ]
    },
    {
     "name": "stdout",
     "output_type": "stream",
     "text": [
      "[CV] .................................... max_iter=1000, total=  50.6s\n",
      "[CV] max_iter=5000 ...................................................\n",
      "[CV] .................................... max_iter=5000, total= 1.3min\n",
      "[CV] max_iter=5000 ...................................................\n",
      "[CV] .................................... max_iter=5000, total= 1.7min\n",
      "[CV] max_iter=5000 ...................................................\n",
      "[CV] .................................... max_iter=5000, total= 1.5min\n",
      "[CV] max_iter=5000 ...................................................\n",
      "[CV] .................................... max_iter=5000, total= 1.6min\n",
      "[CV] max_iter=5000 ...................................................\n",
      "[CV] .................................... max_iter=5000, total= 1.6min\n",
      "[CV] max_iter=10000 ..................................................\n",
      "[CV] ................................... max_iter=10000, total= 1.3min\n",
      "[CV] max_iter=10000 ..................................................\n",
      "[CV] ................................... max_iter=10000, total= 1.7min\n",
      "[CV] max_iter=10000 ..................................................\n",
      "[CV] ................................... max_iter=10000, total= 1.5min\n",
      "[CV] max_iter=10000 ..................................................\n",
      "[CV] ................................... max_iter=10000, total= 1.7min\n",
      "[CV] max_iter=10000 ..................................................\n",
      "[CV] ................................... max_iter=10000, total= 1.6min\n"
     ]
    },
    {
     "name": "stderr",
     "output_type": "stream",
     "text": [
      "[Parallel(n_jobs=1)]: Done  30 out of  30 | elapsed: 19.9min finished\n",
      "c:\\users\\hp\\appdata\\local\\programs\\python\\python37\\lib\\site-packages\\sklearn\\linear_model\\_logistic.py:939: ConvergenceWarning: lbfgs failed to converge (status=1):\n",
      "STOP: TOTAL NO. of ITERATIONS REACHED LIMIT.\n",
      "\n",
      "Increase the number of iterations (max_iter) or scale the data as shown in:\n",
      "    https://scikit-learn.org/stable/modules/preprocessing.html.\n",
      "Please also refer to the documentation for alternative solver options:\n",
      "    https://scikit-learn.org/stable/modules/linear_model.html#logistic-regression\n",
      "  extra_warning_msg=_LOGISTIC_SOLVER_CONVERGENCE_MSG)\n"
     ]
    },
    {
     "name": "stdout",
     "output_type": "stream",
     "text": [
      "\n",
      "\n",
      "\n",
      " This is for text \n",
      "\n",
      "[[343  39   9  22  11  71 142  28  27  12]\n",
      " [ 49  89   0   4   1  72 488  16   2   0]\n",
      " [ 32   4 106   1   1  51 376  11   2   0]\n",
      " [ 48  11   1  51   2  95 498  16   6   3]\n",
      " [ 19   0   0   0 209  37 289   4   1   0]\n",
      " [ 20  24   1   0   0 145 466  11   5   1]\n",
      " [ 18  10   0   5   1  65 592   3   2   4]\n",
      " [ 36  17   3   3  11  34 168 362   2   0]\n",
      " [ 62   2   2   3   1  83 401   8  67   3]\n",
      " [ 25   1   1   1   0  76 556   5   6  76]]\n",
      "AxesSubplot(0.125,0.125;0.3968x0.755)\n",
      "                    precision    recall  f1-score   support\n",
      "\n",
      "          AskIndia       0.53      0.49      0.51       704\n",
      "  Business/Finance       0.45      0.12      0.19       721\n",
      "              Food       0.86      0.18      0.30       584\n",
      "     Non-Political       0.57      0.07      0.12       731\n",
      "       Photography       0.88      0.37      0.53       559\n",
      "    Policy/Economy       0.20      0.22      0.21       673\n",
      "          Politics       0.15      0.85      0.25       700\n",
      "         Scheduled       0.78      0.57      0.66       636\n",
      "Science/Technology       0.56      0.11      0.18       632\n",
      "            Sports       0.77      0.10      0.18       747\n",
      "\n",
      "          accuracy                           0.31      6687\n",
      "         macro avg       0.57      0.31      0.31      6687\n",
      "      weighted avg       0.56      0.31      0.30      6687\n",
      "\n",
      "accuracy :  0.3050695379093764\n",
      "Fitting 5 folds for each of 6 candidates, totalling 30 fits\n",
      "[CV] max_iter=1 ......................................................\n",
      "[CV] ....................................... max_iter=1, total=   0.2s\n",
      "[CV] max_iter=1 ......................................................\n"
     ]
    },
    {
     "name": "stderr",
     "output_type": "stream",
     "text": [
      "[Parallel(n_jobs=1)]: Using backend SequentialBackend with 1 concurrent workers.\n",
      "c:\\users\\hp\\appdata\\local\\programs\\python\\python37\\lib\\site-packages\\sklearn\\linear_model\\_logistic.py:939: ConvergenceWarning: lbfgs failed to converge (status=1):\n",
      "STOP: TOTAL NO. of ITERATIONS REACHED LIMIT.\n",
      "\n",
      "Increase the number of iterations (max_iter) or scale the data as shown in:\n",
      "    https://scikit-learn.org/stable/modules/preprocessing.html.\n",
      "Please also refer to the documentation for alternative solver options:\n",
      "    https://scikit-learn.org/stable/modules/linear_model.html#logistic-regression\n",
      "  extra_warning_msg=_LOGISTIC_SOLVER_CONVERGENCE_MSG)\n",
      "[Parallel(n_jobs=1)]: Done   1 out of   1 | elapsed:    0.1s remaining:    0.0s\n",
      "c:\\users\\hp\\appdata\\local\\programs\\python\\python37\\lib\\site-packages\\sklearn\\linear_model\\_logistic.py:939: ConvergenceWarning: lbfgs failed to converge (status=1):\n",
      "STOP: TOTAL NO. of ITERATIONS REACHED LIMIT.\n",
      "\n",
      "Increase the number of iterations (max_iter) or scale the data as shown in:\n",
      "    https://scikit-learn.org/stable/modules/preprocessing.html.\n",
      "Please also refer to the documentation for alternative solver options:\n",
      "    https://scikit-learn.org/stable/modules/linear_model.html#logistic-regression\n",
      "  extra_warning_msg=_LOGISTIC_SOLVER_CONVERGENCE_MSG)\n",
      "c:\\users\\hp\\appdata\\local\\programs\\python\\python37\\lib\\site-packages\\sklearn\\linear_model\\_logistic.py:939: ConvergenceWarning: lbfgs failed to converge (status=1):\n",
      "STOP: TOTAL NO. of ITERATIONS REACHED LIMIT.\n",
      "\n",
      "Increase the number of iterations (max_iter) or scale the data as shown in:\n",
      "    https://scikit-learn.org/stable/modules/preprocessing.html.\n",
      "Please also refer to the documentation for alternative solver options:\n",
      "    https://scikit-learn.org/stable/modules/linear_model.html#logistic-regression\n",
      "  extra_warning_msg=_LOGISTIC_SOLVER_CONVERGENCE_MSG)\n"
     ]
    },
    {
     "name": "stdout",
     "output_type": "stream",
     "text": [
      "[CV] ....................................... max_iter=1, total=   0.2s\n",
      "[CV] max_iter=1 ......................................................\n",
      "[CV] ....................................... max_iter=1, total=   0.2s\n",
      "[CV] max_iter=1 ......................................................\n"
     ]
    },
    {
     "name": "stderr",
     "output_type": "stream",
     "text": [
      "c:\\users\\hp\\appdata\\local\\programs\\python\\python37\\lib\\site-packages\\sklearn\\linear_model\\_logistic.py:939: ConvergenceWarning: lbfgs failed to converge (status=1):\n",
      "STOP: TOTAL NO. of ITERATIONS REACHED LIMIT.\n",
      "\n",
      "Increase the number of iterations (max_iter) or scale the data as shown in:\n",
      "    https://scikit-learn.org/stable/modules/preprocessing.html.\n",
      "Please also refer to the documentation for alternative solver options:\n",
      "    https://scikit-learn.org/stable/modules/linear_model.html#logistic-regression\n",
      "  extra_warning_msg=_LOGISTIC_SOLVER_CONVERGENCE_MSG)\n",
      "c:\\users\\hp\\appdata\\local\\programs\\python\\python37\\lib\\site-packages\\sklearn\\linear_model\\_logistic.py:939: ConvergenceWarning: lbfgs failed to converge (status=1):\n",
      "STOP: TOTAL NO. of ITERATIONS REACHED LIMIT.\n",
      "\n",
      "Increase the number of iterations (max_iter) or scale the data as shown in:\n",
      "    https://scikit-learn.org/stable/modules/preprocessing.html.\n",
      "Please also refer to the documentation for alternative solver options:\n",
      "    https://scikit-learn.org/stable/modules/linear_model.html#logistic-regression\n",
      "  extra_warning_msg=_LOGISTIC_SOLVER_CONVERGENCE_MSG)\n"
     ]
    },
    {
     "name": "stdout",
     "output_type": "stream",
     "text": [
      "[CV] ....................................... max_iter=1, total=   0.2s\n",
      "[CV] max_iter=1 ......................................................\n",
      "[CV] ....................................... max_iter=1, total=   0.2s\n",
      "[CV] max_iter=10 .....................................................\n"
     ]
    },
    {
     "name": "stderr",
     "output_type": "stream",
     "text": [
      "c:\\users\\hp\\appdata\\local\\programs\\python\\python37\\lib\\site-packages\\sklearn\\linear_model\\_logistic.py:939: ConvergenceWarning: lbfgs failed to converge (status=1):\n",
      "STOP: TOTAL NO. of ITERATIONS REACHED LIMIT.\n",
      "\n",
      "Increase the number of iterations (max_iter) or scale the data as shown in:\n",
      "    https://scikit-learn.org/stable/modules/preprocessing.html.\n",
      "Please also refer to the documentation for alternative solver options:\n",
      "    https://scikit-learn.org/stable/modules/linear_model.html#logistic-regression\n",
      "  extra_warning_msg=_LOGISTIC_SOLVER_CONVERGENCE_MSG)\n"
     ]
    },
    {
     "name": "stdout",
     "output_type": "stream",
     "text": [
      "[CV] ...................................... max_iter=10, total=   0.4s\n",
      "[CV] max_iter=10 .....................................................\n"
     ]
    },
    {
     "name": "stderr",
     "output_type": "stream",
     "text": [
      "c:\\users\\hp\\appdata\\local\\programs\\python\\python37\\lib\\site-packages\\sklearn\\linear_model\\_logistic.py:939: ConvergenceWarning: lbfgs failed to converge (status=1):\n",
      "STOP: TOTAL NO. of ITERATIONS REACHED LIMIT.\n",
      "\n",
      "Increase the number of iterations (max_iter) or scale the data as shown in:\n",
      "    https://scikit-learn.org/stable/modules/preprocessing.html.\n",
      "Please also refer to the documentation for alternative solver options:\n",
      "    https://scikit-learn.org/stable/modules/linear_model.html#logistic-regression\n",
      "  extra_warning_msg=_LOGISTIC_SOLVER_CONVERGENCE_MSG)\n"
     ]
    },
    {
     "name": "stdout",
     "output_type": "stream",
     "text": [
      "[CV] ...................................... max_iter=10, total=   0.4s\n",
      "[CV] max_iter=10 .....................................................\n"
     ]
    },
    {
     "name": "stderr",
     "output_type": "stream",
     "text": [
      "c:\\users\\hp\\appdata\\local\\programs\\python\\python37\\lib\\site-packages\\sklearn\\linear_model\\_logistic.py:939: ConvergenceWarning: lbfgs failed to converge (status=1):\n",
      "STOP: TOTAL NO. of ITERATIONS REACHED LIMIT.\n",
      "\n",
      "Increase the number of iterations (max_iter) or scale the data as shown in:\n",
      "    https://scikit-learn.org/stable/modules/preprocessing.html.\n",
      "Please also refer to the documentation for alternative solver options:\n",
      "    https://scikit-learn.org/stable/modules/linear_model.html#logistic-regression\n",
      "  extra_warning_msg=_LOGISTIC_SOLVER_CONVERGENCE_MSG)\n"
     ]
    },
    {
     "name": "stdout",
     "output_type": "stream",
     "text": [
      "[CV] ...................................... max_iter=10, total=   0.4s\n",
      "[CV] max_iter=10 .....................................................\n"
     ]
    },
    {
     "name": "stderr",
     "output_type": "stream",
     "text": [
      "c:\\users\\hp\\appdata\\local\\programs\\python\\python37\\lib\\site-packages\\sklearn\\linear_model\\_logistic.py:939: ConvergenceWarning: lbfgs failed to converge (status=1):\n",
      "STOP: TOTAL NO. of ITERATIONS REACHED LIMIT.\n",
      "\n",
      "Increase the number of iterations (max_iter) or scale the data as shown in:\n",
      "    https://scikit-learn.org/stable/modules/preprocessing.html.\n",
      "Please also refer to the documentation for alternative solver options:\n",
      "    https://scikit-learn.org/stable/modules/linear_model.html#logistic-regression\n",
      "  extra_warning_msg=_LOGISTIC_SOLVER_CONVERGENCE_MSG)\n"
     ]
    },
    {
     "name": "stdout",
     "output_type": "stream",
     "text": [
      "[CV] ...................................... max_iter=10, total=   0.4s\n",
      "[CV] max_iter=10 .....................................................\n"
     ]
    },
    {
     "name": "stderr",
     "output_type": "stream",
     "text": [
      "c:\\users\\hp\\appdata\\local\\programs\\python\\python37\\lib\\site-packages\\sklearn\\linear_model\\_logistic.py:939: ConvergenceWarning: lbfgs failed to converge (status=1):\n",
      "STOP: TOTAL NO. of ITERATIONS REACHED LIMIT.\n",
      "\n",
      "Increase the number of iterations (max_iter) or scale the data as shown in:\n",
      "    https://scikit-learn.org/stable/modules/preprocessing.html.\n",
      "Please also refer to the documentation for alternative solver options:\n",
      "    https://scikit-learn.org/stable/modules/linear_model.html#logistic-regression\n",
      "  extra_warning_msg=_LOGISTIC_SOLVER_CONVERGENCE_MSG)\n"
     ]
    },
    {
     "name": "stdout",
     "output_type": "stream",
     "text": [
      "[CV] ...................................... max_iter=10, total=   0.4s\n",
      "[CV] max_iter=100 ....................................................\n"
     ]
    },
    {
     "name": "stderr",
     "output_type": "stream",
     "text": [
      "c:\\users\\hp\\appdata\\local\\programs\\python\\python37\\lib\\site-packages\\sklearn\\linear_model\\_logistic.py:939: ConvergenceWarning: lbfgs failed to converge (status=1):\n",
      "STOP: TOTAL NO. of ITERATIONS REACHED LIMIT.\n",
      "\n",
      "Increase the number of iterations (max_iter) or scale the data as shown in:\n",
      "    https://scikit-learn.org/stable/modules/preprocessing.html.\n",
      "Please also refer to the documentation for alternative solver options:\n",
      "    https://scikit-learn.org/stable/modules/linear_model.html#logistic-regression\n",
      "  extra_warning_msg=_LOGISTIC_SOLVER_CONVERGENCE_MSG)\n"
     ]
    },
    {
     "name": "stdout",
     "output_type": "stream",
     "text": [
      "[CV] ..................................... max_iter=100, total=   2.8s\n",
      "[CV] max_iter=100 ....................................................\n"
     ]
    },
    {
     "name": "stderr",
     "output_type": "stream",
     "text": [
      "c:\\users\\hp\\appdata\\local\\programs\\python\\python37\\lib\\site-packages\\sklearn\\linear_model\\_logistic.py:939: ConvergenceWarning: lbfgs failed to converge (status=1):\n",
      "STOP: TOTAL NO. of ITERATIONS REACHED LIMIT.\n",
      "\n",
      "Increase the number of iterations (max_iter) or scale the data as shown in:\n",
      "    https://scikit-learn.org/stable/modules/preprocessing.html.\n",
      "Please also refer to the documentation for alternative solver options:\n",
      "    https://scikit-learn.org/stable/modules/linear_model.html#logistic-regression\n",
      "  extra_warning_msg=_LOGISTIC_SOLVER_CONVERGENCE_MSG)\n"
     ]
    },
    {
     "name": "stdout",
     "output_type": "stream",
     "text": [
      "[CV] ..................................... max_iter=100, total=   2.8s\n",
      "[CV] max_iter=100 ....................................................\n"
     ]
    },
    {
     "name": "stderr",
     "output_type": "stream",
     "text": [
      "c:\\users\\hp\\appdata\\local\\programs\\python\\python37\\lib\\site-packages\\sklearn\\linear_model\\_logistic.py:939: ConvergenceWarning: lbfgs failed to converge (status=1):\n",
      "STOP: TOTAL NO. of ITERATIONS REACHED LIMIT.\n",
      "\n",
      "Increase the number of iterations (max_iter) or scale the data as shown in:\n",
      "    https://scikit-learn.org/stable/modules/preprocessing.html.\n",
      "Please also refer to the documentation for alternative solver options:\n",
      "    https://scikit-learn.org/stable/modules/linear_model.html#logistic-regression\n",
      "  extra_warning_msg=_LOGISTIC_SOLVER_CONVERGENCE_MSG)\n"
     ]
    },
    {
     "name": "stdout",
     "output_type": "stream",
     "text": [
      "[CV] ..................................... max_iter=100, total=   2.8s\n",
      "[CV] max_iter=100 ....................................................\n"
     ]
    },
    {
     "name": "stderr",
     "output_type": "stream",
     "text": [
      "c:\\users\\hp\\appdata\\local\\programs\\python\\python37\\lib\\site-packages\\sklearn\\linear_model\\_logistic.py:939: ConvergenceWarning: lbfgs failed to converge (status=1):\n",
      "STOP: TOTAL NO. of ITERATIONS REACHED LIMIT.\n",
      "\n",
      "Increase the number of iterations (max_iter) or scale the data as shown in:\n",
      "    https://scikit-learn.org/stable/modules/preprocessing.html.\n",
      "Please also refer to the documentation for alternative solver options:\n",
      "    https://scikit-learn.org/stable/modules/linear_model.html#logistic-regression\n",
      "  extra_warning_msg=_LOGISTIC_SOLVER_CONVERGENCE_MSG)\n"
     ]
    },
    {
     "name": "stdout",
     "output_type": "stream",
     "text": [
      "[CV] ..................................... max_iter=100, total=   2.8s\n",
      "[CV] max_iter=100 ....................................................\n"
     ]
    },
    {
     "name": "stderr",
     "output_type": "stream",
     "text": [
      "c:\\users\\hp\\appdata\\local\\programs\\python\\python37\\lib\\site-packages\\sklearn\\linear_model\\_logistic.py:939: ConvergenceWarning: lbfgs failed to converge (status=1):\n",
      "STOP: TOTAL NO. of ITERATIONS REACHED LIMIT.\n",
      "\n",
      "Increase the number of iterations (max_iter) or scale the data as shown in:\n",
      "    https://scikit-learn.org/stable/modules/preprocessing.html.\n",
      "Please also refer to the documentation for alternative solver options:\n",
      "    https://scikit-learn.org/stable/modules/linear_model.html#logistic-regression\n",
      "  extra_warning_msg=_LOGISTIC_SOLVER_CONVERGENCE_MSG)\n"
     ]
    },
    {
     "name": "stdout",
     "output_type": "stream",
     "text": [
      "[CV] ..................................... max_iter=100, total=   3.0s\n",
      "[CV] max_iter=1000 ...................................................\n"
     ]
    },
    {
     "name": "stderr",
     "output_type": "stream",
     "text": [
      "c:\\users\\hp\\appdata\\local\\programs\\python\\python37\\lib\\site-packages\\sklearn\\linear_model\\_logistic.py:939: ConvergenceWarning: lbfgs failed to converge (status=1):\n",
      "STOP: TOTAL NO. of ITERATIONS REACHED LIMIT.\n",
      "\n",
      "Increase the number of iterations (max_iter) or scale the data as shown in:\n",
      "    https://scikit-learn.org/stable/modules/preprocessing.html.\n",
      "Please also refer to the documentation for alternative solver options:\n",
      "    https://scikit-learn.org/stable/modules/linear_model.html#logistic-regression\n",
      "  extra_warning_msg=_LOGISTIC_SOLVER_CONVERGENCE_MSG)\n"
     ]
    },
    {
     "name": "stdout",
     "output_type": "stream",
     "text": [
      "[CV] .................................... max_iter=1000, total=  30.1s\n",
      "[CV] max_iter=1000 ...................................................\n"
     ]
    },
    {
     "name": "stderr",
     "output_type": "stream",
     "text": [
      "c:\\users\\hp\\appdata\\local\\programs\\python\\python37\\lib\\site-packages\\sklearn\\linear_model\\_logistic.py:939: ConvergenceWarning: lbfgs failed to converge (status=1):\n",
      "STOP: TOTAL NO. of ITERATIONS REACHED LIMIT.\n",
      "\n",
      "Increase the number of iterations (max_iter) or scale the data as shown in:\n",
      "    https://scikit-learn.org/stable/modules/preprocessing.html.\n",
      "Please also refer to the documentation for alternative solver options:\n",
      "    https://scikit-learn.org/stable/modules/linear_model.html#logistic-regression\n",
      "  extra_warning_msg=_LOGISTIC_SOLVER_CONVERGENCE_MSG)\n"
     ]
    },
    {
     "name": "stdout",
     "output_type": "stream",
     "text": [
      "[CV] .................................... max_iter=1000, total=  30.5s\n",
      "[CV] max_iter=1000 ...................................................\n"
     ]
    },
    {
     "name": "stderr",
     "output_type": "stream",
     "text": [
      "c:\\users\\hp\\appdata\\local\\programs\\python\\python37\\lib\\site-packages\\sklearn\\linear_model\\_logistic.py:939: ConvergenceWarning: lbfgs failed to converge (status=1):\n",
      "STOP: TOTAL NO. of ITERATIONS REACHED LIMIT.\n",
      "\n",
      "Increase the number of iterations (max_iter) or scale the data as shown in:\n",
      "    https://scikit-learn.org/stable/modules/preprocessing.html.\n",
      "Please also refer to the documentation for alternative solver options:\n",
      "    https://scikit-learn.org/stable/modules/linear_model.html#logistic-regression\n",
      "  extra_warning_msg=_LOGISTIC_SOLVER_CONVERGENCE_MSG)\n"
     ]
    },
    {
     "name": "stdout",
     "output_type": "stream",
     "text": [
      "[CV] .................................... max_iter=1000, total=  30.3s\n",
      "[CV] max_iter=1000 ...................................................\n"
     ]
    },
    {
     "name": "stderr",
     "output_type": "stream",
     "text": [
      "c:\\users\\hp\\appdata\\local\\programs\\python\\python37\\lib\\site-packages\\sklearn\\linear_model\\_logistic.py:939: ConvergenceWarning: lbfgs failed to converge (status=1):\n",
      "STOP: TOTAL NO. of ITERATIONS REACHED LIMIT.\n",
      "\n",
      "Increase the number of iterations (max_iter) or scale the data as shown in:\n",
      "    https://scikit-learn.org/stable/modules/preprocessing.html.\n",
      "Please also refer to the documentation for alternative solver options:\n",
      "    https://scikit-learn.org/stable/modules/linear_model.html#logistic-regression\n",
      "  extra_warning_msg=_LOGISTIC_SOLVER_CONVERGENCE_MSG)\n"
     ]
    },
    {
     "name": "stdout",
     "output_type": "stream",
     "text": [
      "[CV] .................................... max_iter=1000, total=  30.4s\n",
      "[CV] max_iter=1000 ...................................................\n",
      "[CV] .................................... max_iter=1000, total=  29.5s\n",
      "[CV] max_iter=5000 ...................................................\n",
      "[CV] .................................... max_iter=5000, total=  31.0s\n",
      "[CV] max_iter=5000 ...................................................\n",
      "[CV] .................................... max_iter=5000, total=  31.8s\n",
      "[CV] max_iter=5000 ...................................................\n",
      "[CV] .................................... max_iter=5000, total=  30.4s\n",
      "[CV] max_iter=5000 ...................................................\n",
      "[CV] .................................... max_iter=5000, total=  32.5s\n",
      "[CV] max_iter=5000 ...................................................\n",
      "[CV] .................................... max_iter=5000, total=  28.7s\n",
      "[CV] max_iter=10000 ..................................................\n",
      "[CV] ................................... max_iter=10000, total=  42.1s\n",
      "[CV] max_iter=10000 ..................................................\n",
      "[CV] ................................... max_iter=10000, total= 1.1min\n",
      "[CV] max_iter=10000 ..................................................\n",
      "[CV] ................................... max_iter=10000, total= 1.0min\n",
      "[CV] max_iter=10000 ..................................................\n",
      "[CV] ................................... max_iter=10000, total= 1.1min\n",
      "[CV] max_iter=10000 ..................................................\n",
      "[CV] ................................... max_iter=10000, total=  56.2s\n"
     ]
    },
    {
     "name": "stderr",
     "output_type": "stream",
     "text": [
      "[Parallel(n_jobs=1)]: Done  30 out of  30 | elapsed: 10.2min finished\n",
      "c:\\users\\hp\\appdata\\local\\programs\\python\\python37\\lib\\site-packages\\sklearn\\linear_model\\_logistic.py:939: ConvergenceWarning: lbfgs failed to converge (status=1):\n",
      "STOP: TOTAL NO. of ITERATIONS REACHED LIMIT.\n",
      "\n",
      "Increase the number of iterations (max_iter) or scale the data as shown in:\n",
      "    https://scikit-learn.org/stable/modules/preprocessing.html.\n",
      "Please also refer to the documentation for alternative solver options:\n",
      "    https://scikit-learn.org/stable/modules/linear_model.html#logistic-regression\n",
      "  extra_warning_msg=_LOGISTIC_SOLVER_CONVERGENCE_MSG)\n"
     ]
    },
    {
     "name": "stdout",
     "output_type": "stream",
     "text": [
      "\n",
      "\n",
      "\n",
      " This is for title \n",
      "\n",
      "[[348  64  33  58  19  50  45  10  50  41]\n",
      " [ 43 407  17  24   6  98  38  11  55  21]\n",
      " [ 30  11 466   7   7  10   8   6   7  12]\n",
      " [ 71  67  21 226  26  76 104  13  45  67]\n",
      " [ 20  12   4   4 514   0   3   6   9   3]\n",
      " [ 27  89  11  32   6 365  78   5  27  18]\n",
      " [ 15  18  14  45   3  60 548   4  10  30]\n",
      " [ 19  25   3  18  18   8  22 467   7   9]\n",
      " [ 59  72   9  28   4  64  32   4 344  32]\n",
      " [ 20   6   9   6   2   6  32   6   9 649]]\n",
      "AxesSubplot(0.125,0.125;0.31744x0.755)\n",
      "                    precision    recall  f1-score   support\n",
      "\n",
      "          AskIndia       0.53      0.48      0.51       718\n",
      "  Business/Finance       0.53      0.57      0.55       720\n",
      "              Food       0.79      0.83      0.81       564\n",
      "     Non-Political       0.50      0.32      0.39       716\n",
      "       Photography       0.85      0.89      0.87       575\n",
      "    Policy/Economy       0.50      0.55      0.52       658\n",
      "          Politics       0.60      0.73      0.66       747\n",
      "         Scheduled       0.88      0.78      0.83       596\n",
      "Science/Technology       0.61      0.53      0.57       648\n",
      "            Sports       0.74      0.87      0.80       745\n",
      "\n",
      "          accuracy                           0.65      6687\n",
      "         macro avg       0.65      0.66      0.65      6687\n",
      "      weighted avg       0.64      0.65      0.64      6687\n",
      "\n",
      "accuracy :  0.6481232241662928\n",
      "Fitting 5 folds for each of 6 candidates, totalling 30 fits\n",
      "[CV] max_iter=1 ......................................................\n"
     ]
    },
    {
     "name": "stderr",
     "output_type": "stream",
     "text": [
      "[Parallel(n_jobs=1)]: Using backend SequentialBackend with 1 concurrent workers.\n",
      "c:\\users\\hp\\appdata\\local\\programs\\python\\python37\\lib\\site-packages\\sklearn\\linear_model\\_logistic.py:939: ConvergenceWarning: lbfgs failed to converge (status=1):\n",
      "STOP: TOTAL NO. of ITERATIONS REACHED LIMIT.\n",
      "\n",
      "Increase the number of iterations (max_iter) or scale the data as shown in:\n",
      "    https://scikit-learn.org/stable/modules/preprocessing.html.\n",
      "Please also refer to the documentation for alternative solver options:\n",
      "    https://scikit-learn.org/stable/modules/linear_model.html#logistic-regression\n",
      "  extra_warning_msg=_LOGISTIC_SOLVER_CONVERGENCE_MSG)\n",
      "[Parallel(n_jobs=1)]: Done   1 out of   1 | elapsed:    0.2s remaining:    0.0s\n"
     ]
    },
    {
     "name": "stdout",
     "output_type": "stream",
     "text": [
      "[CV] ....................................... max_iter=1, total=   0.3s\n",
      "[CV] max_iter=1 ......................................................\n"
     ]
    },
    {
     "name": "stderr",
     "output_type": "stream",
     "text": [
      "c:\\users\\hp\\appdata\\local\\programs\\python\\python37\\lib\\site-packages\\sklearn\\linear_model\\_logistic.py:939: ConvergenceWarning: lbfgs failed to converge (status=1):\n",
      "STOP: TOTAL NO. of ITERATIONS REACHED LIMIT.\n",
      "\n",
      "Increase the number of iterations (max_iter) or scale the data as shown in:\n",
      "    https://scikit-learn.org/stable/modules/preprocessing.html.\n",
      "Please also refer to the documentation for alternative solver options:\n",
      "    https://scikit-learn.org/stable/modules/linear_model.html#logistic-regression\n",
      "  extra_warning_msg=_LOGISTIC_SOLVER_CONVERGENCE_MSG)\n"
     ]
    },
    {
     "name": "stdout",
     "output_type": "stream",
     "text": [
      "[CV] ....................................... max_iter=1, total=   0.3s\n",
      "[CV] max_iter=1 ......................................................\n"
     ]
    },
    {
     "name": "stderr",
     "output_type": "stream",
     "text": [
      "c:\\users\\hp\\appdata\\local\\programs\\python\\python37\\lib\\site-packages\\sklearn\\linear_model\\_logistic.py:939: ConvergenceWarning: lbfgs failed to converge (status=1):\n",
      "STOP: TOTAL NO. of ITERATIONS REACHED LIMIT.\n",
      "\n",
      "Increase the number of iterations (max_iter) or scale the data as shown in:\n",
      "    https://scikit-learn.org/stable/modules/preprocessing.html.\n",
      "Please also refer to the documentation for alternative solver options:\n",
      "    https://scikit-learn.org/stable/modules/linear_model.html#logistic-regression\n",
      "  extra_warning_msg=_LOGISTIC_SOLVER_CONVERGENCE_MSG)\n"
     ]
    },
    {
     "name": "stdout",
     "output_type": "stream",
     "text": [
      "[CV] ....................................... max_iter=1, total=   0.3s\n",
      "[CV] max_iter=1 ......................................................\n"
     ]
    },
    {
     "name": "stderr",
     "output_type": "stream",
     "text": [
      "c:\\users\\hp\\appdata\\local\\programs\\python\\python37\\lib\\site-packages\\sklearn\\linear_model\\_logistic.py:939: ConvergenceWarning: lbfgs failed to converge (status=1):\n",
      "STOP: TOTAL NO. of ITERATIONS REACHED LIMIT.\n",
      "\n",
      "Increase the number of iterations (max_iter) or scale the data as shown in:\n",
      "    https://scikit-learn.org/stable/modules/preprocessing.html.\n",
      "Please also refer to the documentation for alternative solver options:\n",
      "    https://scikit-learn.org/stable/modules/linear_model.html#logistic-regression\n",
      "  extra_warning_msg=_LOGISTIC_SOLVER_CONVERGENCE_MSG)\n"
     ]
    },
    {
     "name": "stdout",
     "output_type": "stream",
     "text": [
      "[CV] ....................................... max_iter=1, total=   0.3s\n",
      "[CV] max_iter=1 ......................................................\n"
     ]
    },
    {
     "name": "stderr",
     "output_type": "stream",
     "text": [
      "c:\\users\\hp\\appdata\\local\\programs\\python\\python37\\lib\\site-packages\\sklearn\\linear_model\\_logistic.py:939: ConvergenceWarning: lbfgs failed to converge (status=1):\n",
      "STOP: TOTAL NO. of ITERATIONS REACHED LIMIT.\n",
      "\n",
      "Increase the number of iterations (max_iter) or scale the data as shown in:\n",
      "    https://scikit-learn.org/stable/modules/preprocessing.html.\n",
      "Please also refer to the documentation for alternative solver options:\n",
      "    https://scikit-learn.org/stable/modules/linear_model.html#logistic-regression\n",
      "  extra_warning_msg=_LOGISTIC_SOLVER_CONVERGENCE_MSG)\n"
     ]
    },
    {
     "name": "stdout",
     "output_type": "stream",
     "text": [
      "[CV] ....................................... max_iter=1, total=   0.3s\n",
      "[CV] max_iter=10 .....................................................\n"
     ]
    },
    {
     "name": "stderr",
     "output_type": "stream",
     "text": [
      "c:\\users\\hp\\appdata\\local\\programs\\python\\python37\\lib\\site-packages\\sklearn\\linear_model\\_logistic.py:939: ConvergenceWarning: lbfgs failed to converge (status=1):\n",
      "STOP: TOTAL NO. of ITERATIONS REACHED LIMIT.\n",
      "\n",
      "Increase the number of iterations (max_iter) or scale the data as shown in:\n",
      "    https://scikit-learn.org/stable/modules/preprocessing.html.\n",
      "Please also refer to the documentation for alternative solver options:\n",
      "    https://scikit-learn.org/stable/modules/linear_model.html#logistic-regression\n",
      "  extra_warning_msg=_LOGISTIC_SOLVER_CONVERGENCE_MSG)\n"
     ]
    },
    {
     "name": "stdout",
     "output_type": "stream",
     "text": [
      "[CV] ...................................... max_iter=10, total=   0.6s\n",
      "[CV] max_iter=10 .....................................................\n"
     ]
    },
    {
     "name": "stderr",
     "output_type": "stream",
     "text": [
      "c:\\users\\hp\\appdata\\local\\programs\\python\\python37\\lib\\site-packages\\sklearn\\linear_model\\_logistic.py:939: ConvergenceWarning: lbfgs failed to converge (status=1):\n",
      "STOP: TOTAL NO. of ITERATIONS REACHED LIMIT.\n",
      "\n",
      "Increase the number of iterations (max_iter) or scale the data as shown in:\n",
      "    https://scikit-learn.org/stable/modules/preprocessing.html.\n",
      "Please also refer to the documentation for alternative solver options:\n",
      "    https://scikit-learn.org/stable/modules/linear_model.html#logistic-regression\n",
      "  extra_warning_msg=_LOGISTIC_SOLVER_CONVERGENCE_MSG)\n"
     ]
    },
    {
     "name": "stdout",
     "output_type": "stream",
     "text": [
      "[CV] ...................................... max_iter=10, total=   0.6s\n",
      "[CV] max_iter=10 .....................................................\n"
     ]
    },
    {
     "name": "stderr",
     "output_type": "stream",
     "text": [
      "c:\\users\\hp\\appdata\\local\\programs\\python\\python37\\lib\\site-packages\\sklearn\\linear_model\\_logistic.py:939: ConvergenceWarning: lbfgs failed to converge (status=1):\n",
      "STOP: TOTAL NO. of ITERATIONS REACHED LIMIT.\n",
      "\n",
      "Increase the number of iterations (max_iter) or scale the data as shown in:\n",
      "    https://scikit-learn.org/stable/modules/preprocessing.html.\n",
      "Please also refer to the documentation for alternative solver options:\n",
      "    https://scikit-learn.org/stable/modules/linear_model.html#logistic-regression\n",
      "  extra_warning_msg=_LOGISTIC_SOLVER_CONVERGENCE_MSG)\n"
     ]
    },
    {
     "name": "stdout",
     "output_type": "stream",
     "text": [
      "[CV] ...................................... max_iter=10, total=   0.6s\n",
      "[CV] max_iter=10 .....................................................\n"
     ]
    },
    {
     "name": "stderr",
     "output_type": "stream",
     "text": [
      "c:\\users\\hp\\appdata\\local\\programs\\python\\python37\\lib\\site-packages\\sklearn\\linear_model\\_logistic.py:939: ConvergenceWarning: lbfgs failed to converge (status=1):\n",
      "STOP: TOTAL NO. of ITERATIONS REACHED LIMIT.\n",
      "\n",
      "Increase the number of iterations (max_iter) or scale the data as shown in:\n",
      "    https://scikit-learn.org/stable/modules/preprocessing.html.\n",
      "Please also refer to the documentation for alternative solver options:\n",
      "    https://scikit-learn.org/stable/modules/linear_model.html#logistic-regression\n",
      "  extra_warning_msg=_LOGISTIC_SOLVER_CONVERGENCE_MSG)\n"
     ]
    },
    {
     "name": "stdout",
     "output_type": "stream",
     "text": [
      "[CV] ...................................... max_iter=10, total=   0.6s\n",
      "[CV] max_iter=10 .....................................................\n"
     ]
    },
    {
     "name": "stderr",
     "output_type": "stream",
     "text": [
      "c:\\users\\hp\\appdata\\local\\programs\\python\\python37\\lib\\site-packages\\sklearn\\linear_model\\_logistic.py:939: ConvergenceWarning: lbfgs failed to converge (status=1):\n",
      "STOP: TOTAL NO. of ITERATIONS REACHED LIMIT.\n",
      "\n",
      "Increase the number of iterations (max_iter) or scale the data as shown in:\n",
      "    https://scikit-learn.org/stable/modules/preprocessing.html.\n",
      "Please also refer to the documentation for alternative solver options:\n",
      "    https://scikit-learn.org/stable/modules/linear_model.html#logistic-regression\n",
      "  extra_warning_msg=_LOGISTIC_SOLVER_CONVERGENCE_MSG)\n"
     ]
    },
    {
     "name": "stdout",
     "output_type": "stream",
     "text": [
      "[CV] ...................................... max_iter=10, total=   0.6s\n",
      "[CV] max_iter=100 ....................................................\n"
     ]
    },
    {
     "name": "stderr",
     "output_type": "stream",
     "text": [
      "c:\\users\\hp\\appdata\\local\\programs\\python\\python37\\lib\\site-packages\\sklearn\\linear_model\\_logistic.py:939: ConvergenceWarning: lbfgs failed to converge (status=1):\n",
      "STOP: TOTAL NO. of ITERATIONS REACHED LIMIT.\n",
      "\n",
      "Increase the number of iterations (max_iter) or scale the data as shown in:\n",
      "    https://scikit-learn.org/stable/modules/preprocessing.html.\n",
      "Please also refer to the documentation for alternative solver options:\n",
      "    https://scikit-learn.org/stable/modules/linear_model.html#logistic-regression\n",
      "  extra_warning_msg=_LOGISTIC_SOLVER_CONVERGENCE_MSG)\n"
     ]
    },
    {
     "name": "stdout",
     "output_type": "stream",
     "text": [
      "[CV] ..................................... max_iter=100, total=   4.4s\n",
      "[CV] max_iter=100 ....................................................\n"
     ]
    },
    {
     "name": "stderr",
     "output_type": "stream",
     "text": [
      "c:\\users\\hp\\appdata\\local\\programs\\python\\python37\\lib\\site-packages\\sklearn\\linear_model\\_logistic.py:939: ConvergenceWarning: lbfgs failed to converge (status=1):\n",
      "STOP: TOTAL NO. of ITERATIONS REACHED LIMIT.\n",
      "\n",
      "Increase the number of iterations (max_iter) or scale the data as shown in:\n",
      "    https://scikit-learn.org/stable/modules/preprocessing.html.\n",
      "Please also refer to the documentation for alternative solver options:\n",
      "    https://scikit-learn.org/stable/modules/linear_model.html#logistic-regression\n",
      "  extra_warning_msg=_LOGISTIC_SOLVER_CONVERGENCE_MSG)\n"
     ]
    },
    {
     "name": "stdout",
     "output_type": "stream",
     "text": [
      "[CV] ..................................... max_iter=100, total=   4.3s\n",
      "[CV] max_iter=100 ....................................................\n"
     ]
    },
    {
     "name": "stderr",
     "output_type": "stream",
     "text": [
      "c:\\users\\hp\\appdata\\local\\programs\\python\\python37\\lib\\site-packages\\sklearn\\linear_model\\_logistic.py:939: ConvergenceWarning: lbfgs failed to converge (status=1):\n",
      "STOP: TOTAL NO. of ITERATIONS REACHED LIMIT.\n",
      "\n",
      "Increase the number of iterations (max_iter) or scale the data as shown in:\n",
      "    https://scikit-learn.org/stable/modules/preprocessing.html.\n",
      "Please also refer to the documentation for alternative solver options:\n",
      "    https://scikit-learn.org/stable/modules/linear_model.html#logistic-regression\n",
      "  extra_warning_msg=_LOGISTIC_SOLVER_CONVERGENCE_MSG)\n"
     ]
    },
    {
     "name": "stdout",
     "output_type": "stream",
     "text": [
      "[CV] ..................................... max_iter=100, total=   4.6s\n",
      "[CV] max_iter=100 ....................................................\n"
     ]
    },
    {
     "name": "stderr",
     "output_type": "stream",
     "text": [
      "c:\\users\\hp\\appdata\\local\\programs\\python\\python37\\lib\\site-packages\\sklearn\\linear_model\\_logistic.py:939: ConvergenceWarning: lbfgs failed to converge (status=1):\n",
      "STOP: TOTAL NO. of ITERATIONS REACHED LIMIT.\n",
      "\n",
      "Increase the number of iterations (max_iter) or scale the data as shown in:\n",
      "    https://scikit-learn.org/stable/modules/preprocessing.html.\n",
      "Please also refer to the documentation for alternative solver options:\n",
      "    https://scikit-learn.org/stable/modules/linear_model.html#logistic-regression\n",
      "  extra_warning_msg=_LOGISTIC_SOLVER_CONVERGENCE_MSG)\n"
     ]
    },
    {
     "name": "stdout",
     "output_type": "stream",
     "text": [
      "[CV] ..................................... max_iter=100, total=   4.3s\n",
      "[CV] max_iter=100 ....................................................\n"
     ]
    },
    {
     "name": "stderr",
     "output_type": "stream",
     "text": [
      "c:\\users\\hp\\appdata\\local\\programs\\python\\python37\\lib\\site-packages\\sklearn\\linear_model\\_logistic.py:939: ConvergenceWarning: lbfgs failed to converge (status=1):\n",
      "STOP: TOTAL NO. of ITERATIONS REACHED LIMIT.\n",
      "\n",
      "Increase the number of iterations (max_iter) or scale the data as shown in:\n",
      "    https://scikit-learn.org/stable/modules/preprocessing.html.\n",
      "Please also refer to the documentation for alternative solver options:\n",
      "    https://scikit-learn.org/stable/modules/linear_model.html#logistic-regression\n",
      "  extra_warning_msg=_LOGISTIC_SOLVER_CONVERGENCE_MSG)\n"
     ]
    },
    {
     "name": "stdout",
     "output_type": "stream",
     "text": [
      "[CV] ..................................... max_iter=100, total=   4.5s\n",
      "[CV] max_iter=1000 ...................................................\n",
      "[CV] .................................... max_iter=1000, total=   9.6s\n",
      "[CV] max_iter=1000 ...................................................\n",
      "[CV] .................................... max_iter=1000, total=  10.0s\n",
      "[CV] max_iter=1000 ...................................................\n",
      "[CV] .................................... max_iter=1000, total=  10.4s\n",
      "[CV] max_iter=1000 ...................................................\n",
      "[CV] .................................... max_iter=1000, total=   8.7s\n",
      "[CV] max_iter=1000 ...................................................\n",
      "[CV] .................................... max_iter=1000, total=  10.3s\n",
      "[CV] max_iter=5000 ...................................................\n",
      "[CV] .................................... max_iter=5000, total=   9.6s\n",
      "[CV] max_iter=5000 ...................................................\n",
      "[CV] .................................... max_iter=5000, total=   9.8s\n",
      "[CV] max_iter=5000 ...................................................\n",
      "[CV] .................................... max_iter=5000, total=  10.3s\n",
      "[CV] max_iter=5000 ...................................................\n",
      "[CV] .................................... max_iter=5000, total=   8.7s\n",
      "[CV] max_iter=5000 ...................................................\n",
      "[CV] .................................... max_iter=5000, total=  10.4s\n",
      "[CV] max_iter=10000 ..................................................\n",
      "[CV] ................................... max_iter=10000, total=   9.8s\n",
      "[CV] max_iter=10000 ..................................................\n",
      "[CV] ................................... max_iter=10000, total=  10.0s\n",
      "[CV] max_iter=10000 ..................................................\n",
      "[CV] ................................... max_iter=10000, total=  10.5s\n",
      "[CV] max_iter=10000 ..................................................\n",
      "[CV] ................................... max_iter=10000, total=   8.6s\n",
      "[CV] max_iter=10000 ..................................................\n",
      "[CV] ................................... max_iter=10000, total=  10.1s\n"
     ]
    },
    {
     "name": "stderr",
     "output_type": "stream",
     "text": [
      "[Parallel(n_jobs=1)]: Done  30 out of  30 | elapsed:  2.9min finished\n",
      "c:\\users\\hp\\appdata\\local\\programs\\python\\python37\\lib\\site-packages\\sklearn\\linear_model\\_logistic.py:939: ConvergenceWarning: lbfgs failed to converge (status=1):\n",
      "STOP: TOTAL NO. of ITERATIONS REACHED LIMIT.\n",
      "\n",
      "Increase the number of iterations (max_iter) or scale the data as shown in:\n",
      "    https://scikit-learn.org/stable/modules/preprocessing.html.\n",
      "Please also refer to the documentation for alternative solver options:\n",
      "    https://scikit-learn.org/stable/modules/linear_model.html#logistic-regression\n",
      "  extra_warning_msg=_LOGISTIC_SOLVER_CONVERGENCE_MSG)\n"
     ]
    },
    {
     "name": "stdout",
     "output_type": "stream",
     "text": [
      "\n",
      "\n",
      "\n",
      " This is for url \n",
      "\n",
      "[[ 75   3   1   0   0   0 650   0   1   0]\n",
      " [  0 139   0   3   0   6 561   6   4   1]\n",
      " [  0   0 322   0   1   0 252   0   0   0]\n",
      " [  0   0   0  93   0   1 604   0   1   0]\n",
      " [  2   0   0   0 521   0  31   6   0   0]\n",
      " [  0  10   0   0   0  58 570   0  10   2]\n",
      " [  0   0   5   2   0   0 716   1   0   0]\n",
      " [  2  13   1   0   6   0 292 307   1   2]\n",
      " [  0   4   0   1   0   2 527   0 113   0]\n",
      " [  1   0   0   0   0   1 664   0   0  92]]\n",
      "AxesSubplot(0.125,0.125;0.253952x0.755)\n",
      "                    precision    recall  f1-score   support\n",
      "\n",
      "          AskIndia       0.94      0.10      0.19       730\n",
      "  Business/Finance       0.82      0.19      0.31       720\n",
      "              Food       0.98      0.56      0.71       575\n",
      "     Non-Political       0.94      0.13      0.23       699\n",
      "       Photography       0.99      0.93      0.96       560\n",
      "    Policy/Economy       0.85      0.09      0.16       650\n",
      "          Politics       0.15      0.99      0.26       724\n",
      "         Scheduled       0.96      0.49      0.65       624\n",
      "Science/Technology       0.87      0.17      0.29       647\n",
      "            Sports       0.95      0.12      0.22       758\n",
      "\n",
      "          accuracy                           0.36      6687\n",
      "         macro avg       0.84      0.38      0.40      6687\n",
      "      weighted avg       0.84      0.36      0.38      6687\n",
      "\n",
      "accuracy :  0.3642889187976671\n"
     ]
    },
    {
     "data": {
      "image/png": "[encoded data removed]",
      "text/plain": [
       "<Figure size 432x288 with 6 Axes>"
      ]
     },
     "metadata": {},
     "output_type": "display_data"
    }
   ],
   "source": [
    "for x in to_probe:\n",
    "    X=df[x].fillna(value='')\n",
    "    y=df['flair']\n",
    "    X_train,X_test,y_train,y_test=train_test_split(X,y,test_size=0.3)\n",
    "    pipeline.fit(X_train,y_train)\n",
    "    save_classifier=open(\"logisticreg_f2\"+x+\".pickle\",\"wb\")\n",
    "    pickle.dump(pipeline,save_classifier)\n",
    "    save_classifier.close()\n",
    "    predictions = pipeline.predict(X_test)\n",
    "    print('\\n\\n\\n This is for',x,'\\n')\n",
    "    print(confusion_matrix(y_test,predictions))\n",
    "    print(sns.heatmap(confusion_matrix(y_test,predictions)))\n",
    "    print(classification_report(y_test,predictions))\n",
    "    print('accuracy : ',accuracy_score(y_test,predictions))\n",
    "    "
   ]
  },
  {
   "cell_type": "markdown",
   "metadata": {},
   "source": [
    "Comments : accuracy= 0.49    \n",
    "Domain   : accuracy= 0.35                     \n",
    "Text     : accuracy= 0.30                                            \n",
    "Title    : accuracy= 0.64                                               \n",
    "url      : accuracy= 0.36 \n",
    "\n",
    "The results are not as good as SVC . Now we see the combined features."
   ]
  },
  {
   "cell_type": "code",
   "execution_count": 56,
   "metadata": {},
   "outputs": [],
   "source": [
    "pipeline = Pipeline([\n",
    "    ('bow', CountVectorizer(analyzer=preprocess_text)),  \n",
    "    ('tfidf', TfidfTransformer()),  \n",
    "    ('scaled',StandardScaler(with_mean=False)),\n",
    "    ('classifier', GridSearchCV(LogisticRegression(dual=False),param_grid,refit=True,verbose=2)),\n",
    "])"
   ]
  },
  {
   "cell_type": "code",
   "execution_count": 58,
   "metadata": {},
   "outputs": [
    {
     "name": "stdout",
     "output_type": "stream",
     "text": [
      "Fitting 5 folds for each of 6 candidates, totalling 30 fits\n",
      "[CV] max_iter=1 ......................................................\n"
     ]
    },
    {
     "name": "stderr",
     "output_type": "stream",
     "text": [
      "[Parallel(n_jobs=1)]: Using backend SequentialBackend with 1 concurrent workers.\n",
      "c:\\users\\hp\\appdata\\local\\programs\\python\\python37\\lib\\site-packages\\sklearn\\linear_model\\_logistic.py:939: ConvergenceWarning: lbfgs failed to converge (status=1):\n",
      "STOP: TOTAL NO. of ITERATIONS REACHED LIMIT.\n",
      "\n",
      "Increase the number of iterations (max_iter) or scale the data as shown in:\n",
      "    https://scikit-learn.org/stable/modules/preprocessing.html.\n",
      "Please also refer to the documentation for alternative solver options:\n",
      "    https://scikit-learn.org/stable/modules/linear_model.html#logistic-regression\n",
      "  extra_warning_msg=_LOGISTIC_SOLVER_CONVERGENCE_MSG)\n",
      "[Parallel(n_jobs=1)]: Done   1 out of   1 | elapsed:    0.9s remaining:    0.0s\n"
     ]
    },
    {
     "name": "stdout",
     "output_type": "stream",
     "text": [
      "[CV] ....................................... max_iter=1, total=   1.0s\n",
      "[CV] max_iter=1 ......................................................\n"
     ]
    },
    {
     "name": "stderr",
     "output_type": "stream",
     "text": [
      "c:\\users\\hp\\appdata\\local\\programs\\python\\python37\\lib\\site-packages\\sklearn\\linear_model\\_logistic.py:939: ConvergenceWarning: lbfgs failed to converge (status=1):\n",
      "STOP: TOTAL NO. of ITERATIONS REACHED LIMIT.\n",
      "\n",
      "Increase the number of iterations (max_iter) or scale the data as shown in:\n",
      "    https://scikit-learn.org/stable/modules/preprocessing.html.\n",
      "Please also refer to the documentation for alternative solver options:\n",
      "    https://scikit-learn.org/stable/modules/linear_model.html#logistic-regression\n",
      "  extra_warning_msg=_LOGISTIC_SOLVER_CONVERGENCE_MSG)\n"
     ]
    },
    {
     "name": "stdout",
     "output_type": "stream",
     "text": [
      "[CV] ....................................... max_iter=1, total=   0.8s\n",
      "[CV] max_iter=1 ......................................................\n"
     ]
    },
    {
     "name": "stderr",
     "output_type": "stream",
     "text": [
      "c:\\users\\hp\\appdata\\local\\programs\\python\\python37\\lib\\site-packages\\sklearn\\linear_model\\_logistic.py:939: ConvergenceWarning: lbfgs failed to converge (status=1):\n",
      "STOP: TOTAL NO. of ITERATIONS REACHED LIMIT.\n",
      "\n",
      "Increase the number of iterations (max_iter) or scale the data as shown in:\n",
      "    https://scikit-learn.org/stable/modules/preprocessing.html.\n",
      "Please also refer to the documentation for alternative solver options:\n",
      "    https://scikit-learn.org/stable/modules/linear_model.html#logistic-regression\n",
      "  extra_warning_msg=_LOGISTIC_SOLVER_CONVERGENCE_MSG)\n"
     ]
    },
    {
     "name": "stdout",
     "output_type": "stream",
     "text": [
      "[CV] ....................................... max_iter=1, total=   0.8s\n",
      "[CV] max_iter=1 ......................................................\n"
     ]
    },
    {
     "name": "stderr",
     "output_type": "stream",
     "text": [
      "c:\\users\\hp\\appdata\\local\\programs\\python\\python37\\lib\\site-packages\\sklearn\\linear_model\\_logistic.py:939: ConvergenceWarning: lbfgs failed to converge (status=1):\n",
      "STOP: TOTAL NO. of ITERATIONS REACHED LIMIT.\n",
      "\n",
      "Increase the number of iterations (max_iter) or scale the data as shown in:\n",
      "    https://scikit-learn.org/stable/modules/preprocessing.html.\n",
      "Please also refer to the documentation for alternative solver options:\n",
      "    https://scikit-learn.org/stable/modules/linear_model.html#logistic-regression\n",
      "  extra_warning_msg=_LOGISTIC_SOLVER_CONVERGENCE_MSG)\n"
     ]
    },
    {
     "name": "stdout",
     "output_type": "stream",
     "text": [
      "[CV] ....................................... max_iter=1, total=   3.2s\n",
      "[CV] max_iter=1 ......................................................\n"
     ]
    },
    {
     "name": "stderr",
     "output_type": "stream",
     "text": [
      "c:\\users\\hp\\appdata\\local\\programs\\python\\python37\\lib\\site-packages\\sklearn\\linear_model\\_logistic.py:939: ConvergenceWarning: lbfgs failed to converge (status=1):\n",
      "STOP: TOTAL NO. of ITERATIONS REACHED LIMIT.\n",
      "\n",
      "Increase the number of iterations (max_iter) or scale the data as shown in:\n",
      "    https://scikit-learn.org/stable/modules/preprocessing.html.\n",
      "Please also refer to the documentation for alternative solver options:\n",
      "    https://scikit-learn.org/stable/modules/linear_model.html#logistic-regression\n",
      "  extra_warning_msg=_LOGISTIC_SOLVER_CONVERGENCE_MSG)\n"
     ]
    },
    {
     "name": "stdout",
     "output_type": "stream",
     "text": [
      "[CV] ....................................... max_iter=1, total=   0.9s\n",
      "[CV] max_iter=10 .....................................................\n"
     ]
    },
    {
     "name": "stderr",
     "output_type": "stream",
     "text": [
      "c:\\users\\hp\\appdata\\local\\programs\\python\\python37\\lib\\site-packages\\sklearn\\linear_model\\_logistic.py:939: ConvergenceWarning: lbfgs failed to converge (status=1):\n",
      "STOP: TOTAL NO. of ITERATIONS REACHED LIMIT.\n",
      "\n",
      "Increase the number of iterations (max_iter) or scale the data as shown in:\n",
      "    https://scikit-learn.org/stable/modules/preprocessing.html.\n",
      "Please also refer to the documentation for alternative solver options:\n",
      "    https://scikit-learn.org/stable/modules/linear_model.html#logistic-regression\n",
      "  extra_warning_msg=_LOGISTIC_SOLVER_CONVERGENCE_MSG)\n"
     ]
    },
    {
     "name": "stdout",
     "output_type": "stream",
     "text": [
      "[CV] ...................................... max_iter=10, total=   2.5s\n",
      "[CV] max_iter=10 .....................................................\n"
     ]
    },
    {
     "name": "stderr",
     "output_type": "stream",
     "text": [
      "c:\\users\\hp\\appdata\\local\\programs\\python\\python37\\lib\\site-packages\\sklearn\\linear_model\\_logistic.py:939: ConvergenceWarning: lbfgs failed to converge (status=1):\n",
      "STOP: TOTAL NO. of ITERATIONS REACHED LIMIT.\n",
      "\n",
      "Increase the number of iterations (max_iter) or scale the data as shown in:\n",
      "    https://scikit-learn.org/stable/modules/preprocessing.html.\n",
      "Please also refer to the documentation for alternative solver options:\n",
      "    https://scikit-learn.org/stable/modules/linear_model.html#logistic-regression\n",
      "  extra_warning_msg=_LOGISTIC_SOLVER_CONVERGENCE_MSG)\n"
     ]
    },
    {
     "name": "stdout",
     "output_type": "stream",
     "text": [
      "[CV] ...................................... max_iter=10, total=   2.3s\n",
      "[CV] max_iter=10 .....................................................\n"
     ]
    },
    {
     "name": "stderr",
     "output_type": "stream",
     "text": [
      "c:\\users\\hp\\appdata\\local\\programs\\python\\python37\\lib\\site-packages\\sklearn\\linear_model\\_logistic.py:939: ConvergenceWarning: lbfgs failed to converge (status=1):\n",
      "STOP: TOTAL NO. of ITERATIONS REACHED LIMIT.\n",
      "\n",
      "Increase the number of iterations (max_iter) or scale the data as shown in:\n",
      "    https://scikit-learn.org/stable/modules/preprocessing.html.\n",
      "Please also refer to the documentation for alternative solver options:\n",
      "    https://scikit-learn.org/stable/modules/linear_model.html#logistic-regression\n",
      "  extra_warning_msg=_LOGISTIC_SOLVER_CONVERGENCE_MSG)\n"
     ]
    },
    {
     "name": "stdout",
     "output_type": "stream",
     "text": [
      "[CV] ...................................... max_iter=10, total=   2.2s\n",
      "[CV] max_iter=10 .....................................................\n"
     ]
    },
    {
     "name": "stderr",
     "output_type": "stream",
     "text": [
      "c:\\users\\hp\\appdata\\local\\programs\\python\\python37\\lib\\site-packages\\sklearn\\linear_model\\_logistic.py:939: ConvergenceWarning: lbfgs failed to converge (status=1):\n",
      "STOP: TOTAL NO. of ITERATIONS REACHED LIMIT.\n",
      "\n",
      "Increase the number of iterations (max_iter) or scale the data as shown in:\n",
      "    https://scikit-learn.org/stable/modules/preprocessing.html.\n",
      "Please also refer to the documentation for alternative solver options:\n",
      "    https://scikit-learn.org/stable/modules/linear_model.html#logistic-regression\n",
      "  extra_warning_msg=_LOGISTIC_SOLVER_CONVERGENCE_MSG)\n"
     ]
    },
    {
     "name": "stdout",
     "output_type": "stream",
     "text": [
      "[CV] ...................................... max_iter=10, total=   2.4s\n",
      "[CV] max_iter=10 .....................................................\n"
     ]
    },
    {
     "name": "stderr",
     "output_type": "stream",
     "text": [
      "c:\\users\\hp\\appdata\\local\\programs\\python\\python37\\lib\\site-packages\\sklearn\\linear_model\\_logistic.py:939: ConvergenceWarning: lbfgs failed to converge (status=1):\n",
      "STOP: TOTAL NO. of ITERATIONS REACHED LIMIT.\n",
      "\n",
      "Increase the number of iterations (max_iter) or scale the data as shown in:\n",
      "    https://scikit-learn.org/stable/modules/preprocessing.html.\n",
      "Please also refer to the documentation for alternative solver options:\n",
      "    https://scikit-learn.org/stable/modules/linear_model.html#logistic-regression\n",
      "  extra_warning_msg=_LOGISTIC_SOLVER_CONVERGENCE_MSG)\n"
     ]
    },
    {
     "name": "stdout",
     "output_type": "stream",
     "text": [
      "[CV] ...................................... max_iter=10, total=   2.2s\n",
      "[CV] max_iter=100 ....................................................\n"
     ]
    },
    {
     "name": "stderr",
     "output_type": "stream",
     "text": [
      "c:\\users\\hp\\appdata\\local\\programs\\python\\python37\\lib\\site-packages\\sklearn\\linear_model\\_logistic.py:939: ConvergenceWarning: lbfgs failed to converge (status=1):\n",
      "STOP: TOTAL NO. of ITERATIONS REACHED LIMIT.\n",
      "\n",
      "Increase the number of iterations (max_iter) or scale the data as shown in:\n",
      "    https://scikit-learn.org/stable/modules/preprocessing.html.\n",
      "Please also refer to the documentation for alternative solver options:\n",
      "    https://scikit-learn.org/stable/modules/linear_model.html#logistic-regression\n",
      "  extra_warning_msg=_LOGISTIC_SOLVER_CONVERGENCE_MSG)\n"
     ]
    },
    {
     "name": "stdout",
     "output_type": "stream",
     "text": [
      "[CV] ..................................... max_iter=100, total=  20.4s\n",
      "[CV] max_iter=100 ....................................................\n"
     ]
    },
    {
     "name": "stderr",
     "output_type": "stream",
     "text": [
      "c:\\users\\hp\\appdata\\local\\programs\\python\\python37\\lib\\site-packages\\sklearn\\linear_model\\_logistic.py:939: ConvergenceWarning: lbfgs failed to converge (status=1):\n",
      "STOP: TOTAL NO. of ITERATIONS REACHED LIMIT.\n",
      "\n",
      "Increase the number of iterations (max_iter) or scale the data as shown in:\n",
      "    https://scikit-learn.org/stable/modules/preprocessing.html.\n",
      "Please also refer to the documentation for alternative solver options:\n",
      "    https://scikit-learn.org/stable/modules/linear_model.html#logistic-regression\n",
      "  extra_warning_msg=_LOGISTIC_SOLVER_CONVERGENCE_MSG)\n"
     ]
    },
    {
     "name": "stdout",
     "output_type": "stream",
     "text": [
      "[CV] ..................................... max_iter=100, total=  20.5s\n",
      "[CV] max_iter=100 ....................................................\n"
     ]
    },
    {
     "name": "stderr",
     "output_type": "stream",
     "text": [
      "c:\\users\\hp\\appdata\\local\\programs\\python\\python37\\lib\\site-packages\\sklearn\\linear_model\\_logistic.py:939: ConvergenceWarning: lbfgs failed to converge (status=1):\n",
      "STOP: TOTAL NO. of ITERATIONS REACHED LIMIT.\n",
      "\n",
      "Increase the number of iterations (max_iter) or scale the data as shown in:\n",
      "    https://scikit-learn.org/stable/modules/preprocessing.html.\n",
      "Please also refer to the documentation for alternative solver options:\n",
      "    https://scikit-learn.org/stable/modules/linear_model.html#logistic-regression\n",
      "  extra_warning_msg=_LOGISTIC_SOLVER_CONVERGENCE_MSG)\n"
     ]
    },
    {
     "name": "stdout",
     "output_type": "stream",
     "text": [
      "[CV] ..................................... max_iter=100, total=  20.6s\n",
      "[CV] max_iter=100 ....................................................\n"
     ]
    },
    {
     "name": "stderr",
     "output_type": "stream",
     "text": [
      "c:\\users\\hp\\appdata\\local\\programs\\python\\python37\\lib\\site-packages\\sklearn\\linear_model\\_logistic.py:939: ConvergenceWarning: lbfgs failed to converge (status=1):\n",
      "STOP: TOTAL NO. of ITERATIONS REACHED LIMIT.\n",
      "\n",
      "Increase the number of iterations (max_iter) or scale the data as shown in:\n",
      "    https://scikit-learn.org/stable/modules/preprocessing.html.\n",
      "Please also refer to the documentation for alternative solver options:\n",
      "    https://scikit-learn.org/stable/modules/linear_model.html#logistic-regression\n",
      "  extra_warning_msg=_LOGISTIC_SOLVER_CONVERGENCE_MSG)\n"
     ]
    },
    {
     "name": "stdout",
     "output_type": "stream",
     "text": [
      "[CV] ..................................... max_iter=100, total=  21.2s\n",
      "[CV] max_iter=100 ....................................................\n"
     ]
    },
    {
     "name": "stderr",
     "output_type": "stream",
     "text": [
      "c:\\users\\hp\\appdata\\local\\programs\\python\\python37\\lib\\site-packages\\sklearn\\linear_model\\_logistic.py:939: ConvergenceWarning: lbfgs failed to converge (status=1):\n",
      "STOP: TOTAL NO. of ITERATIONS REACHED LIMIT.\n",
      "\n",
      "Increase the number of iterations (max_iter) or scale the data as shown in:\n",
      "    https://scikit-learn.org/stable/modules/preprocessing.html.\n",
      "Please also refer to the documentation for alternative solver options:\n",
      "    https://scikit-learn.org/stable/modules/linear_model.html#logistic-regression\n",
      "  extra_warning_msg=_LOGISTIC_SOLVER_CONVERGENCE_MSG)\n"
     ]
    },
    {
     "name": "stdout",
     "output_type": "stream",
     "text": [
      "[CV] ..................................... max_iter=100, total=  21.8s\n",
      "[CV] max_iter=1000 ...................................................\n",
      "[CV] .................................... max_iter=1000, total= 2.8min\n",
      "[CV] max_iter=1000 ...................................................\n"
     ]
    },
    {
     "name": "stderr",
     "output_type": "stream",
     "text": [
      "c:\\users\\hp\\appdata\\local\\programs\\python\\python37\\lib\\site-packages\\sklearn\\linear_model\\_logistic.py:939: ConvergenceWarning: lbfgs failed to converge (status=1):\n",
      "STOP: TOTAL NO. of ITERATIONS REACHED LIMIT.\n",
      "\n",
      "Increase the number of iterations (max_iter) or scale the data as shown in:\n",
      "    https://scikit-learn.org/stable/modules/preprocessing.html.\n",
      "Please also refer to the documentation for alternative solver options:\n",
      "    https://scikit-learn.org/stable/modules/linear_model.html#logistic-regression\n",
      "  extra_warning_msg=_LOGISTIC_SOLVER_CONVERGENCE_MSG)\n"
     ]
    },
    {
     "name": "stdout",
     "output_type": "stream",
     "text": [
      "[CV] .................................... max_iter=1000, total= 4.8min\n",
      "[CV] max_iter=1000 ...................................................\n",
      "[CV] .................................... max_iter=1000, total= 3.4min\n",
      "[CV] max_iter=1000 ...................................................\n"
     ]
    },
    {
     "name": "stderr",
     "output_type": "stream",
     "text": [
      "c:\\users\\hp\\appdata\\local\\programs\\python\\python37\\lib\\site-packages\\sklearn\\linear_model\\_logistic.py:939: ConvergenceWarning: lbfgs failed to converge (status=1):\n",
      "STOP: TOTAL NO. of ITERATIONS REACHED LIMIT.\n",
      "\n",
      "Increase the number of iterations (max_iter) or scale the data as shown in:\n",
      "    https://scikit-learn.org/stable/modules/preprocessing.html.\n",
      "Please also refer to the documentation for alternative solver options:\n",
      "    https://scikit-learn.org/stable/modules/linear_model.html#logistic-regression\n",
      "  extra_warning_msg=_LOGISTIC_SOLVER_CONVERGENCE_MSG)\n"
     ]
    },
    {
     "name": "stdout",
     "output_type": "stream",
     "text": [
      "[CV] .................................... max_iter=1000, total= 4.7min\n",
      "[CV] max_iter=1000 ...................................................\n",
      "[CV] .................................... max_iter=1000, total= 3.0min\n",
      "[CV] max_iter=5000 ...................................................\n",
      "[CV] .................................... max_iter=5000, total= 3.7min\n",
      "[CV] max_iter=5000 ...................................................\n",
      "[CV] .................................... max_iter=5000, total= 4.7min\n",
      "[CV] max_iter=5000 ...................................................\n",
      "[CV] .................................... max_iter=5000, total= 3.4min\n",
      "[CV] max_iter=5000 ...................................................\n",
      "[CV] .................................... max_iter=5000, total= 5.4min\n",
      "[CV] max_iter=5000 ...................................................\n",
      "[CV] .................................... max_iter=5000, total= 3.1min\n",
      "[CV] max_iter=10000 ..................................................\n",
      "[CV] ................................... max_iter=10000, total= 3.9min\n",
      "[CV] max_iter=10000 ..................................................\n",
      "[CV] ................................... max_iter=10000, total= 3.3min\n",
      "[CV] max_iter=10000 ..................................................\n",
      "[CV] ................................... max_iter=10000, total= 2.3min\n",
      "[CV] max_iter=10000 ..................................................\n",
      "[CV] ................................... max_iter=10000, total= 3.9min\n",
      "[CV] max_iter=10000 ..................................................\n",
      "[CV] ................................... max_iter=10000, total= 2.0min\n"
     ]
    },
    {
     "name": "stderr",
     "output_type": "stream",
     "text": [
      "[Parallel(n_jobs=1)]: Done  30 out of  30 | elapsed: 56.3min finished\n"
     ]
    },
    {
     "name": "stdout",
     "output_type": "stream",
     "text": [
      "\n",
      "\n",
      "\n",
      " This is for \n",
      "\n",
      "[[362  17  22  17  13  21 232  26  23  23]\n",
      " [ 26  89   0   6   1  22 570   5  10   3]\n",
      " [ 14   4 109   2   5   0 430   5   0   1]\n",
      " [ 56   8   3  39   4   8 570  15  11  10]\n",
      " [  0   3   0   0 209   0 341   6   0   0]\n",
      " [ 18  20   1   3   1  92 506   4   9   4]\n",
      " [  8   8   5   1   0  15 679   4   3   4]\n",
      " [ 27  13   4   1   6   2 224 307   5   4]\n",
      " [ 36   8   3   0   1  15 486  10  66   5]\n",
      " [ 18   1   2   3   0   3 593   6   4 108]]\n",
      "AxesSubplot(0.125,0.125;0.62x0.755)\n",
      "                    precision    recall  f1-score   support\n",
      "\n",
      "          AskIndia       0.64      0.48      0.55       756\n",
      "  Business/Finance       0.52      0.12      0.20       732\n",
      "              Food       0.73      0.19      0.30       570\n",
      "     Non-Political       0.54      0.05      0.10       724\n",
      "       Photography       0.87      0.37      0.52       559\n",
      "    Policy/Economy       0.52      0.14      0.22       658\n",
      "          Politics       0.15      0.93      0.25       727\n",
      "         Scheduled       0.79      0.52      0.63       593\n",
      "Science/Technology       0.50      0.10      0.17       630\n",
      "            Sports       0.67      0.15      0.24       738\n",
      "\n",
      "          accuracy                           0.31      6687\n",
      "         macro avg       0.59      0.31      0.32      6687\n",
      "      weighted avg       0.58      0.31      0.31      6687\n",
      "\n",
      "accuracy :  0.30806041573201737\n"
     ]
    },
    {
     "data": {
      "image/png": "[encoded data removed]",
      "text/plain": [
       "<Figure size 432x288 with 2 Axes>"
      ]
     },
     "metadata": {},
     "output_type": "display_data"
    }
   ],
   "source": [
    "comb_feats=df['comments']+df['domain']+df['text']+df['title']+df['url']\n",
    "X=comb_feats.fillna(value='')\n",
    "y=df['flair']\n",
    "X_train,X_test,y_train,y_test=train_test_split(X,y,test_size=0.3)\n",
    "pipeline.fit(X_train,y_train)\n",
    "save_classifier=open(\"logistic_f2\"+\"comb\"+\".pickle\",\"wb\")\n",
    "pickle.dump(pipeline,save_classifier)\n",
    "save_classifier.close()\n",
    "predictions = pipeline.predict(X_test)\n",
    "print('\\n\\n\\n This is for','\\n')\n",
    "print(confusion_matrix(y_test,predictions))\n",
    "print(sns.heatmap(confusion_matrix(y_test,predictions)))\n",
    "print(classification_report(y_test,predictions))\n",
    "print('accuracy : ',accuracy_score(y_test,predictions))\n",
    "    "
   ]
  },
  {
   "cell_type": "code",
   "execution_count": 59,
   "metadata": {},
   "outputs": [
    {
     "name": "stdout",
     "output_type": "stream",
     "text": [
      "Fitting 5 folds for each of 6 candidates, totalling 30 fits\n",
      "[CV] max_iter=1 ......................................................\n"
     ]
    },
    {
     "name": "stderr",
     "output_type": "stream",
     "text": [
      "[Parallel(n_jobs=1)]: Using backend SequentialBackend with 1 concurrent workers.\n",
      "c:\\users\\hp\\appdata\\local\\programs\\python\\python37\\lib\\site-packages\\sklearn\\linear_model\\_logistic.py:939: ConvergenceWarning: lbfgs failed to converge (status=1):\n",
      "STOP: TOTAL NO. of ITERATIONS REACHED LIMIT.\n",
      "\n",
      "Increase the number of iterations (max_iter) or scale the data as shown in:\n",
      "    https://scikit-learn.org/stable/modules/preprocessing.html.\n",
      "Please also refer to the documentation for alternative solver options:\n",
      "    https://scikit-learn.org/stable/modules/linear_model.html#logistic-regression\n",
      "  extra_warning_msg=_LOGISTIC_SOLVER_CONVERGENCE_MSG)\n",
      "[Parallel(n_jobs=1)]: Done   1 out of   1 | elapsed:    0.2s remaining:    0.0s\n"
     ]
    },
    {
     "name": "stdout",
     "output_type": "stream",
     "text": [
      "[CV] ....................................... max_iter=1, total=   0.3s\n",
      "[CV] max_iter=1 ......................................................\n"
     ]
    },
    {
     "name": "stderr",
     "output_type": "stream",
     "text": [
      "c:\\users\\hp\\appdata\\local\\programs\\python\\python37\\lib\\site-packages\\sklearn\\linear_model\\_logistic.py:939: ConvergenceWarning: lbfgs failed to converge (status=1):\n",
      "STOP: TOTAL NO. of ITERATIONS REACHED LIMIT.\n",
      "\n",
      "Increase the number of iterations (max_iter) or scale the data as shown in:\n",
      "    https://scikit-learn.org/stable/modules/preprocessing.html.\n",
      "Please also refer to the documentation for alternative solver options:\n",
      "    https://scikit-learn.org/stable/modules/linear_model.html#logistic-regression\n",
      "  extra_warning_msg=_LOGISTIC_SOLVER_CONVERGENCE_MSG)\n"
     ]
    },
    {
     "name": "stdout",
     "output_type": "stream",
     "text": [
      "[CV] ....................................... max_iter=1, total=   0.3s\n",
      "[CV] max_iter=1 ......................................................\n"
     ]
    },
    {
     "name": "stderr",
     "output_type": "stream",
     "text": [
      "c:\\users\\hp\\appdata\\local\\programs\\python\\python37\\lib\\site-packages\\sklearn\\linear_model\\_logistic.py:939: ConvergenceWarning: lbfgs failed to converge (status=1):\n",
      "STOP: TOTAL NO. of ITERATIONS REACHED LIMIT.\n",
      "\n",
      "Increase the number of iterations (max_iter) or scale the data as shown in:\n",
      "    https://scikit-learn.org/stable/modules/preprocessing.html.\n",
      "Please also refer to the documentation for alternative solver options:\n",
      "    https://scikit-learn.org/stable/modules/linear_model.html#logistic-regression\n",
      "  extra_warning_msg=_LOGISTIC_SOLVER_CONVERGENCE_MSG)\n"
     ]
    },
    {
     "name": "stdout",
     "output_type": "stream",
     "text": [
      "[CV] ....................................... max_iter=1, total=   0.3s\n",
      "[CV] max_iter=1 ......................................................\n"
     ]
    },
    {
     "name": "stderr",
     "output_type": "stream",
     "text": [
      "c:\\users\\hp\\appdata\\local\\programs\\python\\python37\\lib\\site-packages\\sklearn\\linear_model\\_logistic.py:939: ConvergenceWarning: lbfgs failed to converge (status=1):\n",
      "STOP: TOTAL NO. of ITERATIONS REACHED LIMIT.\n",
      "\n",
      "Increase the number of iterations (max_iter) or scale the data as shown in:\n",
      "    https://scikit-learn.org/stable/modules/preprocessing.html.\n",
      "Please also refer to the documentation for alternative solver options:\n",
      "    https://scikit-learn.org/stable/modules/linear_model.html#logistic-regression\n",
      "  extra_warning_msg=_LOGISTIC_SOLVER_CONVERGENCE_MSG)\n"
     ]
    },
    {
     "name": "stdout",
     "output_type": "stream",
     "text": [
      "[CV] ....................................... max_iter=1, total=   0.3s\n",
      "[CV] max_iter=1 ......................................................\n"
     ]
    },
    {
     "name": "stderr",
     "output_type": "stream",
     "text": [
      "c:\\users\\hp\\appdata\\local\\programs\\python\\python37\\lib\\site-packages\\sklearn\\linear_model\\_logistic.py:939: ConvergenceWarning: lbfgs failed to converge (status=1):\n",
      "STOP: TOTAL NO. of ITERATIONS REACHED LIMIT.\n",
      "\n",
      "Increase the number of iterations (max_iter) or scale the data as shown in:\n",
      "    https://scikit-learn.org/stable/modules/preprocessing.html.\n",
      "Please also refer to the documentation for alternative solver options:\n",
      "    https://scikit-learn.org/stable/modules/linear_model.html#logistic-regression\n",
      "  extra_warning_msg=_LOGISTIC_SOLVER_CONVERGENCE_MSG)\n"
     ]
    },
    {
     "name": "stdout",
     "output_type": "stream",
     "text": [
      "[CV] ....................................... max_iter=1, total=   0.3s\n",
      "[CV] max_iter=10 .....................................................\n"
     ]
    },
    {
     "name": "stderr",
     "output_type": "stream",
     "text": [
      "c:\\users\\hp\\appdata\\local\\programs\\python\\python37\\lib\\site-packages\\sklearn\\linear_model\\_logistic.py:939: ConvergenceWarning: lbfgs failed to converge (status=1):\n",
      "STOP: TOTAL NO. of ITERATIONS REACHED LIMIT.\n",
      "\n",
      "Increase the number of iterations (max_iter) or scale the data as shown in:\n",
      "    https://scikit-learn.org/stable/modules/preprocessing.html.\n",
      "Please also refer to the documentation for alternative solver options:\n",
      "    https://scikit-learn.org/stable/modules/linear_model.html#logistic-regression\n",
      "  extra_warning_msg=_LOGISTIC_SOLVER_CONVERGENCE_MSG)\n"
     ]
    },
    {
     "name": "stdout",
     "output_type": "stream",
     "text": [
      "[CV] ...................................... max_iter=10, total=   0.7s\n",
      "[CV] max_iter=10 .....................................................\n"
     ]
    },
    {
     "name": "stderr",
     "output_type": "stream",
     "text": [
      "c:\\users\\hp\\appdata\\local\\programs\\python\\python37\\lib\\site-packages\\sklearn\\linear_model\\_logistic.py:939: ConvergenceWarning: lbfgs failed to converge (status=1):\n",
      "STOP: TOTAL NO. of ITERATIONS REACHED LIMIT.\n",
      "\n",
      "Increase the number of iterations (max_iter) or scale the data as shown in:\n",
      "    https://scikit-learn.org/stable/modules/preprocessing.html.\n",
      "Please also refer to the documentation for alternative solver options:\n",
      "    https://scikit-learn.org/stable/modules/linear_model.html#logistic-regression\n",
      "  extra_warning_msg=_LOGISTIC_SOLVER_CONVERGENCE_MSG)\n"
     ]
    },
    {
     "name": "stdout",
     "output_type": "stream",
     "text": [
      "[CV] ...................................... max_iter=10, total=   0.8s\n",
      "[CV] max_iter=10 .....................................................\n"
     ]
    },
    {
     "name": "stderr",
     "output_type": "stream",
     "text": [
      "c:\\users\\hp\\appdata\\local\\programs\\python\\python37\\lib\\site-packages\\sklearn\\linear_model\\_logistic.py:939: ConvergenceWarning: lbfgs failed to converge (status=1):\n",
      "STOP: TOTAL NO. of ITERATIONS REACHED LIMIT.\n",
      "\n",
      "Increase the number of iterations (max_iter) or scale the data as shown in:\n",
      "    https://scikit-learn.org/stable/modules/preprocessing.html.\n",
      "Please also refer to the documentation for alternative solver options:\n",
      "    https://scikit-learn.org/stable/modules/linear_model.html#logistic-regression\n",
      "  extra_warning_msg=_LOGISTIC_SOLVER_CONVERGENCE_MSG)\n"
     ]
    },
    {
     "name": "stdout",
     "output_type": "stream",
     "text": [
      "[CV] ...................................... max_iter=10, total=   0.7s\n",
      "[CV] max_iter=10 .....................................................\n"
     ]
    },
    {
     "name": "stderr",
     "output_type": "stream",
     "text": [
      "c:\\users\\hp\\appdata\\local\\programs\\python\\python37\\lib\\site-packages\\sklearn\\linear_model\\_logistic.py:939: ConvergenceWarning: lbfgs failed to converge (status=1):\n",
      "STOP: TOTAL NO. of ITERATIONS REACHED LIMIT.\n",
      "\n",
      "Increase the number of iterations (max_iter) or scale the data as shown in:\n",
      "    https://scikit-learn.org/stable/modules/preprocessing.html.\n",
      "Please also refer to the documentation for alternative solver options:\n",
      "    https://scikit-learn.org/stable/modules/linear_model.html#logistic-regression\n",
      "  extra_warning_msg=_LOGISTIC_SOLVER_CONVERGENCE_MSG)\n"
     ]
    },
    {
     "name": "stdout",
     "output_type": "stream",
     "text": [
      "[CV] ...................................... max_iter=10, total=   0.7s\n",
      "[CV] max_iter=10 .....................................................\n"
     ]
    },
    {
     "name": "stderr",
     "output_type": "stream",
     "text": [
      "c:\\users\\hp\\appdata\\local\\programs\\python\\python37\\lib\\site-packages\\sklearn\\linear_model\\_logistic.py:939: ConvergenceWarning: lbfgs failed to converge (status=1):\n",
      "STOP: TOTAL NO. of ITERATIONS REACHED LIMIT.\n",
      "\n",
      "Increase the number of iterations (max_iter) or scale the data as shown in:\n",
      "    https://scikit-learn.org/stable/modules/preprocessing.html.\n",
      "Please also refer to the documentation for alternative solver options:\n",
      "    https://scikit-learn.org/stable/modules/linear_model.html#logistic-regression\n",
      "  extra_warning_msg=_LOGISTIC_SOLVER_CONVERGENCE_MSG)\n"
     ]
    },
    {
     "name": "stdout",
     "output_type": "stream",
     "text": [
      "[CV] ...................................... max_iter=10, total=   0.8s\n",
      "[CV] max_iter=100 ....................................................\n"
     ]
    },
    {
     "name": "stderr",
     "output_type": "stream",
     "text": [
      "c:\\users\\hp\\appdata\\local\\programs\\python\\python37\\lib\\site-packages\\sklearn\\linear_model\\_logistic.py:939: ConvergenceWarning: lbfgs failed to converge (status=1):\n",
      "STOP: TOTAL NO. of ITERATIONS REACHED LIMIT.\n",
      "\n",
      "Increase the number of iterations (max_iter) or scale the data as shown in:\n",
      "    https://scikit-learn.org/stable/modules/preprocessing.html.\n",
      "Please also refer to the documentation for alternative solver options:\n",
      "    https://scikit-learn.org/stable/modules/linear_model.html#logistic-regression\n",
      "  extra_warning_msg=_LOGISTIC_SOLVER_CONVERGENCE_MSG)\n"
     ]
    },
    {
     "name": "stdout",
     "output_type": "stream",
     "text": [
      "[CV] ..................................... max_iter=100, total=   6.1s\n",
      "[CV] max_iter=100 ....................................................\n"
     ]
    },
    {
     "name": "stderr",
     "output_type": "stream",
     "text": [
      "c:\\users\\hp\\appdata\\local\\programs\\python\\python37\\lib\\site-packages\\sklearn\\linear_model\\_logistic.py:939: ConvergenceWarning: lbfgs failed to converge (status=1):\n",
      "STOP: TOTAL NO. of ITERATIONS REACHED LIMIT.\n",
      "\n",
      "Increase the number of iterations (max_iter) or scale the data as shown in:\n",
      "    https://scikit-learn.org/stable/modules/preprocessing.html.\n",
      "Please also refer to the documentation for alternative solver options:\n",
      "    https://scikit-learn.org/stable/modules/linear_model.html#logistic-regression\n",
      "  extra_warning_msg=_LOGISTIC_SOLVER_CONVERGENCE_MSG)\n"
     ]
    },
    {
     "name": "stdout",
     "output_type": "stream",
     "text": [
      "[CV] ..................................... max_iter=100, total=   6.2s\n",
      "[CV] max_iter=100 ....................................................\n"
     ]
    },
    {
     "name": "stderr",
     "output_type": "stream",
     "text": [
      "c:\\users\\hp\\appdata\\local\\programs\\python\\python37\\lib\\site-packages\\sklearn\\linear_model\\_logistic.py:939: ConvergenceWarning: lbfgs failed to converge (status=1):\n",
      "STOP: TOTAL NO. of ITERATIONS REACHED LIMIT.\n",
      "\n",
      "Increase the number of iterations (max_iter) or scale the data as shown in:\n",
      "    https://scikit-learn.org/stable/modules/preprocessing.html.\n",
      "Please also refer to the documentation for alternative solver options:\n",
      "    https://scikit-learn.org/stable/modules/linear_model.html#logistic-regression\n",
      "  extra_warning_msg=_LOGISTIC_SOLVER_CONVERGENCE_MSG)\n"
     ]
    },
    {
     "name": "stdout",
     "output_type": "stream",
     "text": [
      "[CV] ..................................... max_iter=100, total=   6.0s\n",
      "[CV] max_iter=100 ....................................................\n"
     ]
    },
    {
     "name": "stderr",
     "output_type": "stream",
     "text": [
      "c:\\users\\hp\\appdata\\local\\programs\\python\\python37\\lib\\site-packages\\sklearn\\linear_model\\_logistic.py:939: ConvergenceWarning: lbfgs failed to converge (status=1):\n",
      "STOP: TOTAL NO. of ITERATIONS REACHED LIMIT.\n",
      "\n",
      "Increase the number of iterations (max_iter) or scale the data as shown in:\n",
      "    https://scikit-learn.org/stable/modules/preprocessing.html.\n",
      "Please also refer to the documentation for alternative solver options:\n",
      "    https://scikit-learn.org/stable/modules/linear_model.html#logistic-regression\n",
      "  extra_warning_msg=_LOGISTIC_SOLVER_CONVERGENCE_MSG)\n"
     ]
    },
    {
     "name": "stdout",
     "output_type": "stream",
     "text": [
      "[CV] ..................................... max_iter=100, total=   6.0s\n",
      "[CV] max_iter=100 ....................................................\n"
     ]
    },
    {
     "name": "stderr",
     "output_type": "stream",
     "text": [
      "c:\\users\\hp\\appdata\\local\\programs\\python\\python37\\lib\\site-packages\\sklearn\\linear_model\\_logistic.py:939: ConvergenceWarning: lbfgs failed to converge (status=1):\n",
      "STOP: TOTAL NO. of ITERATIONS REACHED LIMIT.\n",
      "\n",
      "Increase the number of iterations (max_iter) or scale the data as shown in:\n",
      "    https://scikit-learn.org/stable/modules/preprocessing.html.\n",
      "Please also refer to the documentation for alternative solver options:\n",
      "    https://scikit-learn.org/stable/modules/linear_model.html#logistic-regression\n",
      "  extra_warning_msg=_LOGISTIC_SOLVER_CONVERGENCE_MSG)\n"
     ]
    },
    {
     "name": "stdout",
     "output_type": "stream",
     "text": [
      "[CV] ..................................... max_iter=100, total=   6.2s\n",
      "[CV] max_iter=1000 ...................................................\n",
      "[CV] .................................... max_iter=1000, total=  40.8s\n",
      "[CV] max_iter=1000 ...................................................\n",
      "[CV] .................................... max_iter=1000, total=  38.3s\n",
      "[CV] max_iter=1000 ...................................................\n",
      "[CV] .................................... max_iter=1000, total=  32.7s\n",
      "[CV] max_iter=1000 ...................................................\n",
      "[CV] .................................... max_iter=1000, total=  38.0s\n",
      "[CV] max_iter=1000 ...................................................\n",
      "[CV] .................................... max_iter=1000, total=  46.7s\n",
      "[CV] max_iter=5000 ...................................................\n",
      "[CV] .................................... max_iter=5000, total=  39.8s\n",
      "[CV] max_iter=5000 ...................................................\n",
      "[CV] .................................... max_iter=5000, total=  39.8s\n",
      "[CV] max_iter=5000 ...................................................\n",
      "[CV] .................................... max_iter=5000, total=  33.3s\n",
      "[CV] max_iter=5000 ...................................................\n",
      "[CV] .................................... max_iter=5000, total=  40.2s\n",
      "[CV] max_iter=5000 ...................................................\n",
      "[CV] .................................... max_iter=5000, total=  47.9s\n",
      "[CV] max_iter=10000 ..................................................\n",
      "[CV] ................................... max_iter=10000, total=  37.3s\n",
      "[CV] max_iter=10000 ..................................................\n",
      "[CV] ................................... max_iter=10000, total=  37.7s\n",
      "[CV] max_iter=10000 ..................................................\n",
      "[CV] ................................... max_iter=10000, total=  33.7s\n",
      "[CV] max_iter=10000 ..................................................\n",
      "[CV] ................................... max_iter=10000, total=  37.1s\n",
      "[CV] max_iter=10000 ..................................................\n",
      "[CV] ................................... max_iter=10000, total=  42.2s\n"
     ]
    },
    {
     "name": "stderr",
     "output_type": "stream",
     "text": [
      "[Parallel(n_jobs=1)]: Done  30 out of  30 | elapsed: 10.4min finished\n",
      "c:\\users\\hp\\appdata\\local\\programs\\python\\python37\\lib\\site-packages\\sklearn\\linear_model\\_logistic.py:939: ConvergenceWarning: lbfgs failed to converge (status=1):\n",
      "STOP: TOTAL NO. of ITERATIONS REACHED LIMIT.\n",
      "\n",
      "Increase the number of iterations (max_iter) or scale the data as shown in:\n",
      "    https://scikit-learn.org/stable/modules/preprocessing.html.\n",
      "Please also refer to the documentation for alternative solver options:\n",
      "    https://scikit-learn.org/stable/modules/linear_model.html#logistic-regression\n",
      "  extra_warning_msg=_LOGISTIC_SOLVER_CONVERGENCE_MSG)\n"
     ]
    },
    {
     "name": "stdout",
     "output_type": "stream",
     "text": [
      "\n",
      "\n",
      "\n",
      " This is for \n",
      "\n",
      "[[461  40  19  63   8  18  24  16  34  22]\n",
      " [ 67 442  13  35   7  79  28  27  52  13]\n",
      " [ 43  11 455  20   6   7  20   0   7   8]\n",
      " [121  55  25 226  24  71 105  18  54  44]\n",
      " [ 19   0   3   5 553   0   0   3   2   0]\n",
      " [ 37  79  10  45   7 335  76   3  42  17]\n",
      " [ 49  27  17  54  10  63 426  11  19  22]\n",
      " [ 13  22   5   4  14   4   4 551  10   2]\n",
      " [ 63  57   4  23   6  55  27  11 364  25]\n",
      " [ 29  12   7  24   2  19  23   0  12 573]]\n",
      "AxesSubplot(0.125,0.125;0.62x0.755)\n",
      "                    precision    recall  f1-score   support\n",
      "\n",
      "          AskIndia       0.51      0.65      0.57       705\n",
      "  Business/Finance       0.59      0.58      0.59       763\n",
      "              Food       0.82      0.79      0.80       577\n",
      "     Non-Political       0.45      0.30      0.36       743\n",
      "       Photography       0.87      0.95      0.91       585\n",
      "    Policy/Economy       0.51      0.51      0.51       651\n",
      "          Politics       0.58      0.61      0.60       698\n",
      "         Scheduled       0.86      0.88      0.87       629\n",
      "Science/Technology       0.61      0.57      0.59       635\n",
      "            Sports       0.79      0.82      0.80       701\n",
      "\n",
      "          accuracy                           0.66      6687\n",
      "         macro avg       0.66      0.67      0.66      6687\n",
      "      weighted avg       0.65      0.66      0.65      6687\n",
      "\n",
      "accuracy :  0.6558995065051593\n"
     ]
    },
    {
     "data": {
      "image/png": "[encoded data removed]",
      "text/plain": [
       "<Figure size 432x288 with 2 Axes>"
      ]
     },
     "metadata": {},
     "output_type": "display_data"
    }
   ],
   "source": [
    "comb_feats=df['domain']+df['title']+df['url']\n",
    "X=comb_feats.fillna(value='')\n",
    "y=df['flair']\n",
    "X_train,X_test,y_train,y_test=train_test_split(X,y,test_size=0.3)\n",
    "pipeline.fit(X_train,y_train)\n",
    "save_classifier=open(\"logistic_f2\"+\"comb2\"+\".pickle\",\"wb\")\n",
    "pickle.dump(pipeline,save_classifier)\n",
    "save_classifier.close()\n",
    "predictions = pipeline.predict(X_test)\n",
    "print('\\n\\n\\n This is for','\\n')\n",
    "print(confusion_matrix(y_test,predictions))\n",
    "print(sns.heatmap(confusion_matrix(y_test,predictions)))\n",
    "print(classification_report(y_test,predictions))\n",
    "print('accuracy : ',accuracy_score(y_test,predictions))"
   ]
  },
  {
   "cell_type": "markdown",
   "metadata": {},
   "source": [
    "This gives better results than title alone using the same classifier but not as good as title in SVC."
   ]
  },
  {
   "cell_type": "code",
   "execution_count": 47,
   "metadata": {},
   "outputs": [],
   "source": [
    "lst=['text_len','title_len','score']\n",
    "param_grid = {'max_iter':[1,10,100,1000,5000,10000]} "
   ]
  },
  {
   "cell_type": "code",
   "execution_count": 48,
   "metadata": {},
   "outputs": [],
   "source": [
    "pipeline = Pipeline([\n",
    "    ('scaled',StandardScaler(with_mean=False)),\n",
    "    ('classifier', GridSearchCV(LogisticRegression(dual=False),param_grid,refit=True,verbose=2)),\n",
    "])"
   ]
  },
  {
   "cell_type": "code",
   "execution_count": 52,
   "metadata": {},
   "outputs": [
    {
     "name": "stdout",
     "output_type": "stream",
     "text": [
      "Fitting 5 folds for each of 6 candidates, totalling 30 fits\n",
      "[CV] max_iter=1 ......................................................\n",
      "[CV] ....................................... max_iter=1, total=   0.2s\n",
      "[CV] max_iter=1 ......................................................\n"
     ]
    },
    {
     "name": "stderr",
     "output_type": "stream",
     "text": [
      "[Parallel(n_jobs=1)]: Using backend SequentialBackend with 1 concurrent workers.\n",
      "c:\\users\\hp\\appdata\\local\\programs\\python\\python37\\lib\\site-packages\\sklearn\\linear_model\\_logistic.py:939: ConvergenceWarning: lbfgs failed to converge (status=1):\n",
      "STOP: TOTAL NO. of ITERATIONS REACHED LIMIT.\n",
      "\n",
      "Increase the number of iterations (max_iter) or scale the data as shown in:\n",
      "    https://scikit-learn.org/stable/modules/preprocessing.html.\n",
      "Please also refer to the documentation for alternative solver options:\n",
      "    https://scikit-learn.org/stable/modules/linear_model.html#logistic-regression\n",
      "  extra_warning_msg=_LOGISTIC_SOLVER_CONVERGENCE_MSG)\n",
      "[Parallel(n_jobs=1)]: Done   1 out of   1 | elapsed:    0.1s remaining:    0.0s\n",
      "c:\\users\\hp\\appdata\\local\\programs\\python\\python37\\lib\\site-packages\\sklearn\\linear_model\\_logistic.py:939: ConvergenceWarning: lbfgs failed to converge (status=1):\n",
      "STOP: TOTAL NO. of ITERATIONS REACHED LIMIT.\n",
      "\n",
      "Increase the number of iterations (max_iter) or scale the data as shown in:\n",
      "    https://scikit-learn.org/stable/modules/preprocessing.html.\n",
      "Please also refer to the documentation for alternative solver options:\n",
      "    https://scikit-learn.org/stable/modules/linear_model.html#logistic-regression\n",
      "  extra_warning_msg=_LOGISTIC_SOLVER_CONVERGENCE_MSG)\n",
      "c:\\users\\hp\\appdata\\local\\programs\\python\\python37\\lib\\site-packages\\sklearn\\linear_model\\_logistic.py:939: ConvergenceWarning: lbfgs failed to converge (status=1):\n",
      "STOP: TOTAL NO. of ITERATIONS REACHED LIMIT.\n",
      "\n",
      "Increase the number of iterations (max_iter) or scale the data as shown in:\n",
      "    https://scikit-learn.org/stable/modules/preprocessing.html.\n",
      "Please also refer to the documentation for alternative solver options:\n",
      "    https://scikit-learn.org/stable/modules/linear_model.html#logistic-regression\n",
      "  extra_warning_msg=_LOGISTIC_SOLVER_CONVERGENCE_MSG)\n"
     ]
    },
    {
     "name": "stdout",
     "output_type": "stream",
     "text": [
      "[CV] ....................................... max_iter=1, total=   0.2s\n",
      "[CV] max_iter=1 ......................................................\n",
      "[CV] ....................................... max_iter=1, total=   0.1s\n",
      "[CV] max_iter=1 ......................................................\n"
     ]
    },
    {
     "name": "stderr",
     "output_type": "stream",
     "text": [
      "c:\\users\\hp\\appdata\\local\\programs\\python\\python37\\lib\\site-packages\\sklearn\\linear_model\\_logistic.py:939: ConvergenceWarning: lbfgs failed to converge (status=1):\n",
      "STOP: TOTAL NO. of ITERATIONS REACHED LIMIT.\n",
      "\n",
      "Increase the number of iterations (max_iter) or scale the data as shown in:\n",
      "    https://scikit-learn.org/stable/modules/preprocessing.html.\n",
      "Please also refer to the documentation for alternative solver options:\n",
      "    https://scikit-learn.org/stable/modules/linear_model.html#logistic-regression\n",
      "  extra_warning_msg=_LOGISTIC_SOLVER_CONVERGENCE_MSG)\n",
      "c:\\users\\hp\\appdata\\local\\programs\\python\\python37\\lib\\site-packages\\sklearn\\linear_model\\_logistic.py:939: ConvergenceWarning: lbfgs failed to converge (status=1):\n",
      "STOP: TOTAL NO. of ITERATIONS REACHED LIMIT.\n",
      "\n",
      "Increase the number of iterations (max_iter) or scale the data as shown in:\n",
      "    https://scikit-learn.org/stable/modules/preprocessing.html.\n",
      "Please also refer to the documentation for alternative solver options:\n",
      "    https://scikit-learn.org/stable/modules/linear_model.html#logistic-regression\n",
      "  extra_warning_msg=_LOGISTIC_SOLVER_CONVERGENCE_MSG)\n"
     ]
    },
    {
     "name": "stdout",
     "output_type": "stream",
     "text": [
      "[CV] ....................................... max_iter=1, total=   0.1s\n",
      "[CV] max_iter=1 ......................................................\n",
      "[CV] ....................................... max_iter=1, total=   0.1s\n",
      "[CV] max_iter=10 .....................................................\n"
     ]
    },
    {
     "name": "stderr",
     "output_type": "stream",
     "text": [
      "c:\\users\\hp\\appdata\\local\\programs\\python\\python37\\lib\\site-packages\\sklearn\\linear_model\\_logistic.py:939: ConvergenceWarning: lbfgs failed to converge (status=1):\n",
      "STOP: TOTAL NO. of ITERATIONS REACHED LIMIT.\n",
      "\n",
      "Increase the number of iterations (max_iter) or scale the data as shown in:\n",
      "    https://scikit-learn.org/stable/modules/preprocessing.html.\n",
      "Please also refer to the documentation for alternative solver options:\n",
      "    https://scikit-learn.org/stable/modules/linear_model.html#logistic-regression\n",
      "  extra_warning_msg=_LOGISTIC_SOLVER_CONVERGENCE_MSG)\n"
     ]
    },
    {
     "name": "stdout",
     "output_type": "stream",
     "text": [
      "[CV] ...................................... max_iter=10, total=   0.2s\n",
      "[CV] max_iter=10 .....................................................\n"
     ]
    },
    {
     "name": "stderr",
     "output_type": "stream",
     "text": [
      "c:\\users\\hp\\appdata\\local\\programs\\python\\python37\\lib\\site-packages\\sklearn\\linear_model\\_logistic.py:939: ConvergenceWarning: lbfgs failed to converge (status=1):\n",
      "STOP: TOTAL NO. of ITERATIONS REACHED LIMIT.\n",
      "\n",
      "Increase the number of iterations (max_iter) or scale the data as shown in:\n",
      "    https://scikit-learn.org/stable/modules/preprocessing.html.\n",
      "Please also refer to the documentation for alternative solver options:\n",
      "    https://scikit-learn.org/stable/modules/linear_model.html#logistic-regression\n",
      "  extra_warning_msg=_LOGISTIC_SOLVER_CONVERGENCE_MSG)\n"
     ]
    },
    {
     "name": "stdout",
     "output_type": "stream",
     "text": [
      "[CV] ...................................... max_iter=10, total=   0.3s\n",
      "[CV] max_iter=10 .....................................................\n"
     ]
    },
    {
     "name": "stderr",
     "output_type": "stream",
     "text": [
      "c:\\users\\hp\\appdata\\local\\programs\\python\\python37\\lib\\site-packages\\sklearn\\linear_model\\_logistic.py:939: ConvergenceWarning: lbfgs failed to converge (status=1):\n",
      "STOP: TOTAL NO. of ITERATIONS REACHED LIMIT.\n",
      "\n",
      "Increase the number of iterations (max_iter) or scale the data as shown in:\n",
      "    https://scikit-learn.org/stable/modules/preprocessing.html.\n",
      "Please also refer to the documentation for alternative solver options:\n",
      "    https://scikit-learn.org/stable/modules/linear_model.html#logistic-regression\n",
      "  extra_warning_msg=_LOGISTIC_SOLVER_CONVERGENCE_MSG)\n"
     ]
    },
    {
     "name": "stdout",
     "output_type": "stream",
     "text": [
      "[CV] ...................................... max_iter=10, total=   0.2s\n",
      "[CV] max_iter=10 .....................................................\n"
     ]
    },
    {
     "name": "stderr",
     "output_type": "stream",
     "text": [
      "c:\\users\\hp\\appdata\\local\\programs\\python\\python37\\lib\\site-packages\\sklearn\\linear_model\\_logistic.py:939: ConvergenceWarning: lbfgs failed to converge (status=1):\n",
      "STOP: TOTAL NO. of ITERATIONS REACHED LIMIT.\n",
      "\n",
      "Increase the number of iterations (max_iter) or scale the data as shown in:\n",
      "    https://scikit-learn.org/stable/modules/preprocessing.html.\n",
      "Please also refer to the documentation for alternative solver options:\n",
      "    https://scikit-learn.org/stable/modules/linear_model.html#logistic-regression\n",
      "  extra_warning_msg=_LOGISTIC_SOLVER_CONVERGENCE_MSG)\n"
     ]
    },
    {
     "name": "stdout",
     "output_type": "stream",
     "text": [
      "[CV] ...................................... max_iter=10, total=   0.2s\n",
      "[CV] max_iter=10 .....................................................\n"
     ]
    },
    {
     "name": "stderr",
     "output_type": "stream",
     "text": [
      "c:\\users\\hp\\appdata\\local\\programs\\python\\python37\\lib\\site-packages\\sklearn\\linear_model\\_logistic.py:939: ConvergenceWarning: lbfgs failed to converge (status=1):\n",
      "STOP: TOTAL NO. of ITERATIONS REACHED LIMIT.\n",
      "\n",
      "Increase the number of iterations (max_iter) or scale the data as shown in:\n",
      "    https://scikit-learn.org/stable/modules/preprocessing.html.\n",
      "Please also refer to the documentation for alternative solver options:\n",
      "    https://scikit-learn.org/stable/modules/linear_model.html#logistic-regression\n",
      "  extra_warning_msg=_LOGISTIC_SOLVER_CONVERGENCE_MSG)\n"
     ]
    },
    {
     "name": "stdout",
     "output_type": "stream",
     "text": [
      "[CV] ...................................... max_iter=10, total=   0.2s\n",
      "[CV] max_iter=100 ....................................................\n",
      "[CV] ..................................... max_iter=100, total=   0.5s\n",
      "[CV] max_iter=100 ....................................................\n",
      "[CV] ..................................... max_iter=100, total=   0.5s\n",
      "[CV] max_iter=100 ....................................................\n",
      "[CV] ..................................... max_iter=100, total=   0.5s\n",
      "[CV] max_iter=100 ....................................................\n",
      "[CV] ..................................... max_iter=100, total=   0.5s\n",
      "[CV] max_iter=100 ....................................................\n",
      "[CV] ..................................... max_iter=100, total=   0.5s\n",
      "[CV] max_iter=1000 ...................................................\n",
      "[CV] .................................... max_iter=1000, total=   0.5s\n",
      "[CV] max_iter=1000 ...................................................\n",
      "[CV] .................................... max_iter=1000, total=   0.5s\n",
      "[CV] max_iter=1000 ...................................................\n",
      "[CV] .................................... max_iter=1000, total=   0.6s\n",
      "[CV] max_iter=1000 ...................................................\n",
      "[CV] .................................... max_iter=1000, total=   0.6s\n",
      "[CV] max_iter=1000 ...................................................\n",
      "[CV] .................................... max_iter=1000, total=   0.6s\n",
      "[CV] max_iter=5000 ...................................................\n",
      "[CV] .................................... max_iter=5000, total=   0.6s\n",
      "[CV] max_iter=5000 ...................................................\n",
      "[CV] .................................... max_iter=5000, total=   0.6s\n",
      "[CV] max_iter=5000 ...................................................\n",
      "[CV] .................................... max_iter=5000, total=   0.6s\n",
      "[CV] max_iter=5000 ...................................................\n",
      "[CV] .................................... max_iter=5000, total=   0.6s\n",
      "[CV] max_iter=5000 ...................................................\n",
      "[CV] .................................... max_iter=5000, total=   0.6s\n",
      "[CV] max_iter=10000 ..................................................\n",
      "[CV] ................................... max_iter=10000, total=   0.5s\n",
      "[CV] max_iter=10000 ..................................................\n",
      "[CV] ................................... max_iter=10000, total=   0.5s\n",
      "[CV] max_iter=10000 ..................................................\n",
      "[CV] ................................... max_iter=10000, total=   0.5s\n",
      "[CV] max_iter=10000 ..................................................\n",
      "[CV] ................................... max_iter=10000, total=   0.6s\n",
      "[CV] max_iter=10000 ..................................................\n",
      "[CV] ................................... max_iter=10000, total=   0.6s\n"
     ]
    },
    {
     "name": "stderr",
     "output_type": "stream",
     "text": [
      "[Parallel(n_jobs=1)]: Done  30 out of  30 | elapsed:   13.0s finished\n"
     ]
    },
    {
     "name": "stdout",
     "output_type": "stream",
     "text": [
      "\n",
      "\n",
      "\n",
      " This is for \n",
      "\n",
      "[[ 18 275   0 279   0  52 116   2   0  10]\n",
      " [  3  71   0 465   3   8 136  23   0  15]\n",
      " [  6  59   4 256  17   8 160   1   1  39]\n",
      " [  4  52   0 428   5  32 178   1   0  30]\n",
      " [  8 164   1 208  13  27  90   4   0  40]\n",
      " [  2  43   0 374   0  25 190   7   1  21]\n",
      " [  7  38   3 401   9  20 239   4   1  24]\n",
      " [ 12 273   0 146   6  16 115  10   0   6]\n",
      " [  3  76   1 370   1  19 131   7   0  25]\n",
      " [  6  53   4 441   7  12 185   1   0  40]]\n",
      "AxesSubplot(0.125,0.125;0.62x0.755)\n",
      "                    precision    recall  f1-score   support\n",
      "\n",
      "          AskIndia       0.26      0.02      0.04       752\n",
      "  Business/Finance       0.06      0.10      0.08       724\n",
      "              Food       0.31      0.01      0.01       551\n",
      "     Non-Political       0.13      0.59      0.21       730\n",
      "       Photography       0.21      0.02      0.04       555\n",
      "    Policy/Economy       0.11      0.04      0.06       663\n",
      "          Politics       0.16      0.32      0.21       746\n",
      "         Scheduled       0.17      0.02      0.03       584\n",
      "Science/Technology       0.00      0.00      0.00       633\n",
      "            Sports       0.16      0.05      0.08       749\n",
      "\n",
      "          accuracy                           0.13      6687\n",
      "         macro avg       0.16      0.12      0.08      6687\n",
      "      weighted avg       0.15      0.13      0.08      6687\n",
      "\n",
      "accuracy :  0.12681321967997608\n"
     ]
    },
    {
     "data": {
      "image/png": "[encoded data removed]",
      "text/plain": [
       "<Figure size 432x288 with 2 Axes>"
      ]
     },
     "metadata": {},
     "output_type": "display_data"
    }
   ],
   "source": [
    "X=df[lst].fillna(value=0)\n",
    "y=df['flair']\n",
    "X_train,X_test,y_train,y_test=train_test_split(X,y,test_size=0.3)\n",
    "pipeline.fit(X_train,y_train)\n",
    "save_classifier=open(\"logistic_f2\"+\"num\"+\".pickle\",\"wb\")\n",
    "pickle.dump(pipeline,save_classifier)\n",
    "save_classifier.close()\n",
    "predictions = pipeline.predict(X_test)\n",
    "print('\\n\\n\\n This is for','\\n')\n",
    "print(confusion_matrix(y_test,predictions))\n",
    "print(sns.heatmap(confusion_matrix(y_test,predictions)))\n",
    "print(classification_report(y_test,predictions))\n",
    "print('accuracy : ',accuracy_score(y_test,predictions))\n",
    "    "
   ]
  },
  {
   "cell_type": "markdown",
   "metadata": {},
   "source": [
    "### Working with DecisionTreeClassifier"
   ]
  },
  {
   "cell_type": "markdown",
   "metadata": {},
   "source": [
    "We now use Decision Tree Classifier and follow the same steps that we did for other classifiers."
   ]
  },
  {
   "cell_type": "code",
   "execution_count": 61,
   "metadata": {},
   "outputs": [],
   "source": [
    "from sklearn.tree import DecisionTreeClassifier\n",
    "to_probe=['comments','domain','text','title','url']"
   ]
  },
  {
   "cell_type": "code",
   "execution_count": 62,
   "metadata": {},
   "outputs": [],
   "source": [
    "pipeline = Pipeline([\n",
    "    ('bow', CountVectorizer(analyzer=preprocess_text)),  \n",
    "    ('tfidf', TfidfTransformer()),  \n",
    "    ('classifier', DecisionTreeClassifier()),  \n",
    "])"
   ]
  },
  {
   "cell_type": "code",
   "execution_count": 70,
   "metadata": {},
   "outputs": [
    {
     "name": "stdout",
     "output_type": "stream",
     "text": [
      "\n",
      "\n",
      "\n",
      " This is for comments \n",
      "\n",
      "[[258 174  35  61  16  31  26  60  28  37]\n",
      " [ 31 512  13  40   1  51  32  22  46   5]\n",
      " [ 24 146 329  16   2   6  12   8   6   3]\n",
      " [ 63 227  26 205  12  46  68  27  23  24]\n",
      " [  3 164   0   0 369   2   0   0   0   0]\n",
      " [ 36 216  14  41   6 213  73  18  39   9]\n",
      " [ 32 180  19  86   5  72 293  18  19  19]\n",
      " [ 40 150  14  20  12  18   6 369  11   6]\n",
      " [ 35 299  12  35   4  51  20  12 141  12]\n",
      " [ 32 234   9  26   7  11  22  15  10 356]]\n",
      "AxesSubplot(0.125,0.125;0.62x0.755)\n",
      "                    precision    recall  f1-score   support\n",
      "\n",
      "          AskIndia       0.47      0.36      0.40       726\n",
      "  Business/Finance       0.22      0.68      0.34       753\n",
      "              Food       0.70      0.60      0.64       552\n",
      "     Non-Political       0.39      0.28      0.33       721\n",
      "       Photography       0.85      0.69      0.76       538\n",
      "    Policy/Economy       0.43      0.32      0.37       665\n",
      "          Politics       0.53      0.39      0.45       743\n",
      "         Scheduled       0.67      0.57      0.62       646\n",
      "Science/Technology       0.44      0.23      0.30       621\n",
      "            Sports       0.76      0.49      0.60       722\n",
      "\n",
      "          accuracy                           0.46      6687\n",
      "         macro avg       0.54      0.46      0.48      6687\n",
      "      weighted avg       0.53      0.46      0.47      6687\n",
      "\n",
      "accuracy :  0.45536114849708387\n",
      "\n",
      "\n",
      "\n",
      " This is for domain \n",
      "\n",
      "[[669   2   3   4   3   1   4   2  25  17]\n",
      " [175 201  12   3  15 166  67   0  68  29]\n",
      " [154  14 143  18  41  26  95   1  33  52]\n",
      " [167  23  74  71  20  50 140   0  82  85]\n",
      " [245   3  59  26 194   0   8   0   7  19]\n",
      " [ 82  47  27  12   4 270 154   1  38  30]\n",
      " [106  13  47  32  19  54 369   1  46  61]\n",
      " [515   4  19   1   4   6  37  34   9   5]\n",
      " [141  53  29  13   7  86  75   2 194  43]\n",
      " [130   8  55  32  16  21 140   2  57 220]]\n",
      "AxesSubplot(0.125,0.125;0.496x0.755)\n",
      "                    precision    recall  f1-score   support\n",
      "\n",
      "          AskIndia       0.28      0.92      0.43       730\n",
      "  Business/Finance       0.55      0.27      0.36       736\n",
      "              Food       0.31      0.25      0.27       577\n",
      "     Non-Political       0.33      0.10      0.15       712\n",
      "       Photography       0.60      0.35      0.44       561\n",
      "    Policy/Economy       0.40      0.41      0.40       665\n",
      "          Politics       0.34      0.49      0.40       748\n",
      "         Scheduled       0.79      0.05      0.10       634\n",
      "Science/Technology       0.35      0.30      0.32       643\n",
      "            Sports       0.39      0.32      0.35       681\n",
      "\n",
      "          accuracy                           0.35      6687\n",
      "         macro avg       0.43      0.35      0.32      6687\n",
      "      weighted avg       0.43      0.35      0.33      6687\n",
      "\n",
      "accuracy :  0.3536713025272918\n",
      "\n",
      "\n",
      "\n",
      " This is for text \n",
      "\n",
      "[[376   4  10  29  10  79 135  22  21  17]\n",
      " [ 43  87   0   0   1  84 497   5   3   2]\n",
      " [ 51   0  85   0   3  47 383   2   4   0]\n",
      " [ 60   2   4  48   1  79 522  12   5   1]\n",
      " [ 21   0   0   0 219  31 290   0   0   0]\n",
      " [ 25   9   2   1   0 154 490   6   3   4]\n",
      " [ 29   2   2   3   0  64 632   2   0   1]\n",
      " [ 31   9   6   2   8  25 184 352   1   0]\n",
      " [ 53   0   1   3   0  88 420   6  60   3]\n",
      " [ 30   0   3   1   0  67 536   1   2  71]]\n",
      "AxesSubplot(0.125,0.125;0.3968x0.755)\n",
      "                    precision    recall  f1-score   support\n",
      "\n",
      "          AskIndia       0.52      0.53      0.53       703\n",
      "  Business/Finance       0.77      0.12      0.21       722\n",
      "              Food       0.75      0.15      0.25       575\n",
      "     Non-Political       0.55      0.07      0.12       734\n",
      "       Photography       0.90      0.39      0.55       561\n",
      "    Policy/Economy       0.21      0.22      0.22       694\n",
      "          Politics       0.15      0.86      0.26       735\n",
      "         Scheduled       0.86      0.57      0.69       618\n",
      "Science/Technology       0.61      0.09      0.16       634\n",
      "            Sports       0.72      0.10      0.18       711\n",
      "\n",
      "          accuracy                           0.31      6687\n",
      "         macro avg       0.61      0.31      0.32      6687\n",
      "      weighted avg       0.59      0.31      0.31      6687\n",
      "\n",
      "accuracy :  0.3116494691191865\n",
      "\n",
      "\n",
      "\n",
      " This is for title \n",
      "\n",
      "[[368  86  12  72  20  40  21  11  48  23]\n",
      " [ 58 401  15  37  11  91  28  16  72  22]\n",
      " [ 22  28 451  21   2  12   7   3  13   6]\n",
      " [ 85  91  16 296  19  73  39   5  66  21]\n",
      " [  5   8   2   0 578   0   0   7   0   0]\n",
      " [ 52 104   7  39   4 306  80   6  61  11]\n",
      " [ 50  57   9  61  11  70 430   3  35  19]\n",
      " [ 11  28   0   6  14   5   9 532   7   3]\n",
      " [ 65  90  19  40   5  65  21   7 284  20]\n",
      " [ 35  29   5  27   5  30  22   8  23 529]]\n",
      "AxesSubplot(0.125,0.125;0.31744x0.755)\n",
      "                    precision    recall  f1-score   support\n",
      "\n",
      "          AskIndia       0.49      0.52      0.51       701\n",
      "  Business/Finance       0.43      0.53      0.48       751\n",
      "              Food       0.84      0.80      0.82       565\n",
      "     Non-Political       0.49      0.42      0.45       711\n",
      "       Photography       0.86      0.96      0.91       600\n",
      "    Policy/Economy       0.44      0.46      0.45       670\n",
      "          Politics       0.65      0.58      0.61       745\n",
      "         Scheduled       0.89      0.87      0.88       615\n",
      "Science/Technology       0.47      0.46      0.46       616\n",
      "            Sports       0.81      0.74      0.77       713\n",
      "\n",
      "          accuracy                           0.62      6687\n",
      "         macro avg       0.64      0.63      0.63      6687\n",
      "      weighted avg       0.63      0.62      0.63      6687\n",
      "\n",
      "accuracy :  0.6243457454762973\n",
      "\n",
      "\n",
      "\n",
      " This is for url \n",
      "\n",
      "[[699   0   2   0   1   0   0   1   0   0]\n",
      " [577 143   0   3   2   4   0   9   1   0]\n",
      " [262   0 325   0   1   0   3   0   0   0]\n",
      " [646   0   0  87   0   0   2   0   0   0]\n",
      " [ 21   0   0   0 546   0   0   3   0   0]\n",
      " [578  11   0   3   0  66   1   1   4   1]\n",
      " [656   0   3   3   0   0  72   0   0   0]\n",
      " [249  12   1   0   5   0   1 278   0   0]\n",
      " [527   1   0   1   0   6   0   0 102   0]\n",
      " [662   0   0   0   0   2   0   0   0 103]]\n",
      "AxesSubplot(0.125,0.125;0.253952x0.755)\n",
      "                    precision    recall  f1-score   support\n",
      "\n",
      "          AskIndia       0.14      0.99      0.25       703\n",
      "  Business/Finance       0.86      0.19      0.32       739\n",
      "              Food       0.98      0.55      0.70       591\n",
      "     Non-Political       0.90      0.12      0.21       735\n",
      "       Photography       0.98      0.96      0.97       570\n",
      "    Policy/Economy       0.85      0.10      0.18       665\n",
      "          Politics       0.91      0.10      0.18       734\n",
      "         Scheduled       0.95      0.51      0.66       546\n",
      "Science/Technology       0.95      0.16      0.27       637\n",
      "            Sports       0.99      0.13      0.24       767\n",
      "\n",
      "          accuracy                           0.36      6687\n",
      "         macro avg       0.85      0.38      0.40      6687\n",
      "      weighted avg       0.85      0.36      0.37      6687\n",
      "\n",
      "accuracy :  0.3620457604306864\n"
     ]
    },
    {
     "data": {
      "image/png": "[encoded data removed]",
      "text/plain": [
       "<Figure size 432x288 with 6 Axes>"
      ]
     },
     "metadata": {},
     "output_type": "display_data"
    }
   ],
   "source": [
    "for x in to_probe:\n",
    "    X=df[x].fillna(value='')\n",
    "    y=df['flair']\n",
    "    X_train,X_test,y_train,y_test=train_test_split(X,y,test_size=0.3)\n",
    "    pipeline.fit(X_train,y_train)\n",
    "    save_classifier=open(\"decisiontree_f2\"+x+\".pickle\",\"wb\")\n",
    "    pickle.dump(pipeline,save_classifier)\n",
    "    save_classifier.close()\n",
    "    predictions = pipeline.predict(X_test)\n",
    "    print('\\n\\n\\n This is for',x,'\\n')\n",
    "    print(confusion_matrix(y_test,predictions))\n",
    "    print(sns.heatmap(confusion_matrix(y_test,predictions)))\n",
    "    print(classification_report(y_test,predictions))\n",
    "    print('accuracy : ',accuracy_score(y_test,predictions))\n",
    "    "
   ]
  },
  {
   "cell_type": "markdown",
   "metadata": {},
   "source": [
    "Comments : accuracy= 0.45  \n",
    "Domain   : accuracy= 0.35                     \n",
    "Text     : accuracy= 0.31                                            \n",
    "Title    : accuracy= 0.62                                               \n",
    "url      : accuracy= 0.36 \n",
    "\n",
    "Here too, title emerges as the best feature.\n",
    "We now take a look at combined features."
   ]
  },
  {
   "cell_type": "code",
   "execution_count": 63,
   "metadata": {},
   "outputs": [
    {
     "name": "stdout",
     "output_type": "stream",
     "text": [
      "\n",
      "\n",
      "\n",
      " This is for \n",
      "\n",
      "[[319  20  22  69   6  16 221  18  32  12]\n",
      " [ 17 109   3   3   0  16 561   7  11   3]\n",
      " [ 26   0  88   7   1   4 446   0   0   3]\n",
      " [ 67   6  10  49   0  12 593   8   6   6]\n",
      " [  0   3   0   0 216   0 349   2   2   0]\n",
      " [ 24  18   1   9   0  51 522   5   9   3]\n",
      " [ 21   8   7   6   0  23 670   2   4   2]\n",
      " [  7  20   0   6   9   4 239 304   2   3]\n",
      " [ 29   6   1   8   3  15 465   2  63   4]\n",
      " [ 21   5   6  11   0   7 595   4   8  86]]\n",
      "AxesSubplot(0.125,0.125;0.62x0.755)\n",
      "                    precision    recall  f1-score   support\n",
      "\n",
      "          AskIndia       0.60      0.43      0.50       735\n",
      "  Business/Finance       0.56      0.15      0.24       730\n",
      "              Food       0.64      0.15      0.25       575\n",
      "     Non-Political       0.29      0.06      0.11       757\n",
      "       Photography       0.92      0.38      0.54       572\n",
      "    Policy/Economy       0.34      0.08      0.13       642\n",
      "          Politics       0.14      0.90      0.25       743\n",
      "         Scheduled       0.86      0.51      0.64       594\n",
      "Science/Technology       0.46      0.11      0.17       596\n",
      "            Sports       0.70      0.12      0.20       743\n",
      "\n",
      "          accuracy                           0.29      6687\n",
      "         macro avg       0.55      0.29      0.30      6687\n",
      "      weighted avg       0.54      0.29      0.29      6687\n",
      "\n",
      "accuracy :  0.29235830716315236\n"
     ]
    },
    {
     "data": {
      "image/png": "[encoded data removed]",
      "text/plain": [
       "<Figure size 432x288 with 2 Axes>"
      ]
     },
     "metadata": {},
     "output_type": "display_data"
    }
   ],
   "source": [
    "comb_feats=df['comments']+df['domain']+df['text']+df['title']+df['url']\n",
    "X=comb_feats.fillna(value='')\n",
    "y=df['flair']\n",
    "X_train,X_test,y_train,y_test=train_test_split(X,y,test_size=0.3)\n",
    "pipeline.fit(X_train,y_train)\n",
    "save_classifier=open(\"dtree_f2\"+\"comb\"+\".pickle\",\"wb\")\n",
    "pickle.dump(pipeline,save_classifier)\n",
    "save_classifier.close()\n",
    "predictions = pipeline.predict(X_test)\n",
    "print('\\n\\n\\n This is for','\\n')\n",
    "print(confusion_matrix(y_test,predictions))\n",
    "print(sns.heatmap(confusion_matrix(y_test,predictions)))\n",
    "print(classification_report(y_test,predictions))\n",
    "print('accuracy : ',accuracy_score(y_test,predictions))\n",
    "    "
   ]
  },
  {
   "cell_type": "code",
   "execution_count": 65,
   "metadata": {},
   "outputs": [
    {
     "name": "stdout",
     "output_type": "stream",
     "text": [
      "\n",
      "\n",
      "\n",
      " This is for \n",
      "\n",
      "[[291 170  29  64  26  25  33  31  41  30]\n",
      " [ 33 486  11  32  10  62  15   7  39  13]\n",
      " [ 35 158 327  15   2   3  14   6   2   5]\n",
      " [ 72 197  30 229   8  51  67  14  33  31]\n",
      " [  4 191   2   4 379   0   0   0   0   0]\n",
      " [ 43 209  16  51   2 206  64  12  39  20]\n",
      " [ 38 192  16  68   2  59 288  13  19  14]\n",
      " [ 23 130   3  19   9   6   4 420   8   2]\n",
      " [ 49 286   4  36   1  44  18   8 164  15]\n",
      " [ 31 230   3  42   0   9  19  11  12 383]]\n",
      "AxesSubplot(0.125,0.125;0.62x0.755)\n",
      "                    precision    recall  f1-score   support\n",
      "\n",
      "          AskIndia       0.47      0.39      0.43       740\n",
      "  Business/Finance       0.22      0.69      0.33       708\n",
      "              Food       0.74      0.58      0.65       567\n",
      "     Non-Political       0.41      0.31      0.35       732\n",
      "       Photography       0.86      0.65      0.74       580\n",
      "    Policy/Economy       0.44      0.31      0.37       662\n",
      "          Politics       0.55      0.41      0.47       709\n",
      "         Scheduled       0.80      0.67      0.73       624\n",
      "Science/Technology       0.46      0.26      0.33       625\n",
      "            Sports       0.75      0.52      0.61       740\n",
      "\n",
      "          accuracy                           0.47      6687\n",
      "         macro avg       0.57      0.48      0.50      6687\n",
      "      weighted avg       0.56      0.47      0.49      6687\n",
      "\n",
      "accuracy :  0.4745027665619859\n"
     ]
    },
    {
     "data": {
      "image/png": "[encoded data removed]",
      "text/plain": [
       "<Figure size 432x288 with 2 Axes>"
      ]
     },
     "metadata": {},
     "output_type": "display_data"
    }
   ],
   "source": [
    "comb_feats=df['comments']+df['title']+df['url']\n",
    "X=comb_feats.fillna(value='')\n",
    "y=df['flair']\n",
    "X_train,X_test,y_train,y_test=train_test_split(X,y,test_size=0.3)\n",
    "pipeline.fit(X_train,y_train)\n",
    "save_classifier=open(\"dtree_f2\"+\"comb\"+\".pickle\",\"wb\")\n",
    "pickle.dump(pipeline,save_classifier)\n",
    "save_classifier.close()\n",
    "predictions = pipeline.predict(X_test)\n",
    "print('\\n\\n\\n This is for','\\n')\n",
    "print(confusion_matrix(y_test,predictions))\n",
    "print(sns.heatmap(confusion_matrix(y_test,predictions)))\n",
    "print(classification_report(y_test,predictions))\n",
    "print('accuracy : ',accuracy_score(y_test,predictions))\n",
    "    "
   ]
  },
  {
   "cell_type": "markdown",
   "metadata": {},
   "source": [
    "No improvement.\n",
    "\n",
    "So we take a look at the text length, title length and score, though we hardly expect them to do any better."
   ]
  },
  {
   "cell_type": "code",
   "execution_count": 72,
   "metadata": {},
   "outputs": [],
   "source": [
    "lst=['text_len','title_len','score']"
   ]
  },
  {
   "cell_type": "code",
   "execution_count": 73,
   "metadata": {},
   "outputs": [],
   "source": [
    "pipeline = Pipeline([\n",
    "    ('classifier', DecisionTreeClassifier()),  \n",
    "])"
   ]
  },
  {
   "cell_type": "code",
   "execution_count": 74,
   "metadata": {},
   "outputs": [
    {
     "name": "stdout",
     "output_type": "stream",
     "text": [
      "\n",
      "\n",
      "\n",
      " This is for \n",
      "\n",
      "[[258  55  50  82  45  35  38  46  49  65]\n",
      " [ 41 281  31  74  34  68  65  26  67  63]\n",
      " [ 37  59 250  40  13  34  41  13  22  29]\n",
      " [ 68 115  60 137  27  76  97  29  52  64]\n",
      " [  5  51  15  19 434  13   3   2  12   4]\n",
      " [ 48 131  55  79  21 113  81  18  59  63]\n",
      " [ 46 127  66  93  22  77 161  21  41  62]\n",
      " [ 29  49  21  28  21  29  18 368  26  28]\n",
      " [ 54 141  41  64  28  58  73  17 116  50]\n",
      " [ 59 133  74  97  32  61  83  24  51 136]]\n",
      "AxesSubplot(0.125,0.125;0.62x0.755)\n",
      "                    precision    recall  f1-score   support\n",
      "\n",
      "          AskIndia       0.40      0.36      0.38       723\n",
      "  Business/Finance       0.25      0.37      0.30       750\n",
      "              Food       0.38      0.46      0.42       538\n",
      "     Non-Political       0.19      0.19      0.19       725\n",
      "       Photography       0.64      0.78      0.70       558\n",
      "    Policy/Economy       0.20      0.17      0.18       668\n",
      "          Politics       0.24      0.22      0.23       716\n",
      "         Scheduled       0.65      0.60      0.62       617\n",
      "Science/Technology       0.23      0.18      0.20       642\n",
      "            Sports       0.24      0.18      0.21       750\n",
      "\n",
      "          accuracy                           0.34      6687\n",
      "         macro avg       0.34      0.35      0.34      6687\n",
      "      weighted avg       0.33      0.34      0.33      6687\n",
      "\n",
      "accuracy :  0.33707193061163454\n"
     ]
    },
    {
     "data": {
      "image/png": "[encoded data removed]",
      "text/plain": [
       "<Figure size 432x288 with 2 Axes>"
      ]
     },
     "metadata": {},
     "output_type": "display_data"
    }
   ],
   "source": [
    "X=df[lst].fillna(value=0)\n",
    "y=df['flair']\n",
    "X_train,X_test,y_train,y_test=train_test_split(X,y,test_size=0.3)\n",
    "pipeline.fit(X_train,y_train)\n",
    "save_classifier=open(\"decisiontree_f2\"+\"num\"+\".pickle\",\"wb\")\n",
    "pickle.dump(pipeline,save_classifier)\n",
    "save_classifier.close()\n",
    "predictions = pipeline.predict(X_test)\n",
    "print('\\n\\n\\n This is for','\\n')\n",
    "print(confusion_matrix(y_test,predictions))\n",
    "print(sns.heatmap(confusion_matrix(y_test,predictions)))\n",
    "print(classification_report(y_test,predictions))\n",
    "print('accuracy : ',accuracy_score(y_test,predictions))\n",
    "    "
   ]
  },
  {
   "cell_type": "markdown",
   "metadata": {},
   "source": [
    "### Working with Random Forest Classifier"
   ]
  },
  {
   "cell_type": "markdown",
   "metadata": {},
   "source": [
    "We import the Random Forest Classifier and follow the previous steps like we did with other classifiers."
   ]
  },
  {
   "cell_type": "code",
   "execution_count": 66,
   "metadata": {},
   "outputs": [],
   "source": [
    "from sklearn.ensemble import RandomForestClassifier"
   ]
  },
  {
   "cell_type": "code",
   "execution_count": 67,
   "metadata": {},
   "outputs": [],
   "source": [
    "param_grid = {'n_estimators':[1,10,100,300,500]} "
   ]
  },
  {
   "cell_type": "code",
   "execution_count": 68,
   "metadata": {},
   "outputs": [],
   "source": [
    "pipeline = Pipeline([\n",
    "    ('bow', CountVectorizer(analyzer=preprocess_text)),  \n",
    "    ('tfidf', TfidfTransformer()),  \n",
    "    ('classifier', GridSearchCV(RandomForestClassifier(n_jobs=-1),param_grid,refit=True,verbose=2)),\n",
    "])"
   ]
  },
  {
   "cell_type": "code",
   "execution_count": 14,
   "metadata": {},
   "outputs": [
    {
     "name": "stdout",
     "output_type": "stream",
     "text": [
      "Fitting 5 folds for each of 5 candidates, totalling 25 fits\n",
      "[CV] n_estimators=1 ..................................................\n"
     ]
    },
    {
     "name": "stderr",
     "output_type": "stream",
     "text": [
      "[Parallel(n_jobs=1)]: Using backend SequentialBackend with 1 concurrent workers.\n"
     ]
    },
    {
     "name": "stdout",
     "output_type": "stream",
     "text": [
      "[CV] ................................... n_estimators=1, total=   2.3s\n",
      "[CV] n_estimators=1 ..................................................\n"
     ]
    },
    {
     "name": "stderr",
     "output_type": "stream",
     "text": [
      "[Parallel(n_jobs=1)]: Done   1 out of   1 | elapsed:    2.2s remaining:    0.0s\n"
     ]
    },
    {
     "name": "stdout",
     "output_type": "stream",
     "text": [
      "[CV] ................................... n_estimators=1, total=   1.6s\n",
      "[CV] n_estimators=1 ..................................................\n",
      "[CV] ................................... n_estimators=1, total=   1.6s\n",
      "[CV] n_estimators=1 ..................................................\n",
      "[CV] ................................... n_estimators=1, total=   1.6s\n",
      "[CV] n_estimators=1 ..................................................\n",
      "[CV] ................................... n_estimators=1, total=   1.6s\n",
      "[CV] n_estimators=10 .................................................\n",
      "[CV] .................................. n_estimators=10, total=   5.2s\n",
      "[CV] n_estimators=10 .................................................\n",
      "[CV] .................................. n_estimators=10, total=   4.8s\n",
      "[CV] n_estimators=10 .................................................\n",
      "[CV] .................................. n_estimators=10, total=   4.8s\n",
      "[CV] n_estimators=10 .................................................\n",
      "[CV] .................................. n_estimators=10, total=   4.7s\n",
      "[CV] n_estimators=10 .................................................\n",
      "[CV] .................................. n_estimators=10, total=   4.5s\n",
      "[CV] n_estimators=100 ................................................\n",
      "[CV] ................................. n_estimators=100, total=  40.0s\n",
      "[CV] n_estimators=100 ................................................\n",
      "[CV] ................................. n_estimators=100, total=  40.9s\n",
      "[CV] n_estimators=100 ................................................\n",
      "[CV] ................................. n_estimators=100, total=  39.9s\n",
      "[CV] n_estimators=100 ................................................\n",
      "[CV] ................................. n_estimators=100, total=  40.5s\n",
      "[CV] n_estimators=100 ................................................\n",
      "[CV] ................................. n_estimators=100, total=  40.9s\n",
      "[CV] n_estimators=300 ................................................\n",
      "[CV] ................................. n_estimators=300, total= 2.0min\n",
      "[CV] n_estimators=300 ................................................\n",
      "[CV] ................................. n_estimators=300, total= 2.0min\n",
      "[CV] n_estimators=300 ................................................\n",
      "[CV] ................................. n_estimators=300, total= 2.0min\n",
      "[CV] n_estimators=300 ................................................\n",
      "[CV] ................................. n_estimators=300, total= 2.0min\n",
      "[CV] n_estimators=300 ................................................\n",
      "[CV] ................................. n_estimators=300, total= 2.0min\n",
      "[CV] n_estimators=500 ................................................\n",
      "[CV] ................................. n_estimators=500, total= 3.3min\n",
      "[CV] n_estimators=500 ................................................\n",
      "[CV] ................................. n_estimators=500, total= 3.3min\n",
      "[CV] n_estimators=500 ................................................\n",
      "[CV] ................................. n_estimators=500, total= 3.6min\n",
      "[CV] n_estimators=500 ................................................\n",
      "[CV] ................................. n_estimators=500, total= 3.7min\n",
      "[CV] n_estimators=500 ................................................\n",
      "[CV] ................................. n_estimators=500, total= 3.4min\n"
     ]
    },
    {
     "name": "stderr",
     "output_type": "stream",
     "text": [
      "[Parallel(n_jobs=1)]: Done  25 out of  25 | elapsed: 31.2min finished\n"
     ]
    },
    {
     "name": "stdout",
     "output_type": "stream",
     "text": [
      "\n",
      "\n",
      "\n",
      " This is for comments \n",
      "\n",
      "[[497 130  22  10  15   6   6  16   5   9]\n",
      " [ 80 463   5  10   0  79  13  12  11   9]\n",
      " [ 36 144 352  12   4   6   5   6   1   5]\n",
      " [141 202   4 211   4  34  72  14  10  18]\n",
      " [  6 187   0   0 380   0   0   1   0   0]\n",
      " [ 83 156   2  20   1 322  54   4  14  11]\n",
      " [ 69 146  17  30   2  48 395   4   3   6]\n",
      " [106 133  12  16   5   8  10 373   1   8]\n",
      " [102 293   3  24   2  51  14   3 147  10]\n",
      " [ 63 205   2  13   3   7  14  11   6 402]]\n",
      "AxesSubplot(0.125,0.125;0.62x0.755)\n",
      "                    precision    recall  f1-score   support\n",
      "\n",
      "          AskIndia       0.42      0.69      0.52       716\n",
      "  Business/Finance       0.22      0.68      0.34       682\n",
      "              Food       0.84      0.62      0.71       571\n",
      "     Non-Political       0.61      0.30      0.40       710\n",
      "       Photography       0.91      0.66      0.77       574\n",
      "    Policy/Economy       0.57      0.48      0.52       667\n",
      "          Politics       0.68      0.55      0.61       720\n",
      "         Scheduled       0.84      0.56      0.67       672\n",
      "Science/Technology       0.74      0.23      0.35       649\n",
      "            Sports       0.84      0.55      0.67       726\n",
      "\n",
      "          accuracy                           0.53      6687\n",
      "         macro avg       0.67      0.53      0.56      6687\n",
      "      weighted avg       0.66      0.53      0.55      6687\n",
      "\n",
      "accuracy :  0.5296844623897113\n",
      "Fitting 5 folds for each of 5 candidates, totalling 25 fits\n",
      "[CV] n_estimators=1 ..................................................\n"
     ]
    },
    {
     "name": "stderr",
     "output_type": "stream",
     "text": [
      "[Parallel(n_jobs=1)]: Using backend SequentialBackend with 1 concurrent workers.\n"
     ]
    },
    {
     "name": "stdout",
     "output_type": "stream",
     "text": [
      "[CV] ................................... n_estimators=1, total=   1.6s\n",
      "[CV] n_estimators=1 ..................................................\n"
     ]
    },
    {
     "name": "stderr",
     "output_type": "stream",
     "text": [
      "[Parallel(n_jobs=1)]: Done   1 out of   1 | elapsed:    1.5s remaining:    0.0s\n"
     ]
    },
    {
     "name": "stdout",
     "output_type": "stream",
     "text": [
      "[CV] ................................... n_estimators=1, total=   0.5s\n",
      "[CV] n_estimators=1 ..................................................\n",
      "[CV] ................................... n_estimators=1, total=   0.5s\n",
      "[CV] n_estimators=1 ..................................................\n",
      "[CV] ................................... n_estimators=1, total=   0.5s\n",
      "[CV] n_estimators=1 ..................................................\n",
      "[CV] ................................... n_estimators=1, total=   0.5s\n",
      "[CV] n_estimators=10 .................................................\n",
      "[CV] .................................. n_estimators=10, total=   0.9s\n",
      "[CV] n_estimators=10 .................................................\n",
      "[CV] .................................. n_estimators=10, total=   0.3s\n",
      "[CV] n_estimators=10 .................................................\n",
      "[CV] .................................. n_estimators=10, total=   0.3s\n",
      "[CV] n_estimators=10 .................................................\n",
      "[CV] .................................. n_estimators=10, total=   0.3s\n",
      "[CV] n_estimators=10 .................................................\n",
      "[CV] .................................. n_estimators=10, total=   0.3s\n",
      "[CV] n_estimators=100 ................................................\n",
      "[CV] ................................. n_estimators=100, total=   1.9s\n",
      "[CV] n_estimators=100 ................................................\n",
      "[CV] ................................. n_estimators=100, total=   1.9s\n",
      "[CV] n_estimators=100 ................................................\n",
      "[CV] ................................. n_estimators=100, total=   1.9s\n",
      "[CV] n_estimators=100 ................................................\n",
      "[CV] ................................. n_estimators=100, total=   1.9s\n",
      "[CV] n_estimators=100 ................................................\n",
      "[CV] ................................. n_estimators=100, total=   1.9s\n",
      "[CV] n_estimators=300 ................................................\n",
      "[CV] ................................. n_estimators=300, total=   5.4s\n",
      "[CV] n_estimators=300 ................................................\n",
      "[CV] ................................. n_estimators=300, total=   5.5s\n",
      "[CV] n_estimators=300 ................................................\n",
      "[CV] ................................. n_estimators=300, total=   5.4s\n",
      "[CV] n_estimators=300 ................................................\n",
      "[CV] ................................. n_estimators=300, total=   5.4s\n",
      "[CV] n_estimators=300 ................................................\n",
      "[CV] ................................. n_estimators=300, total=   5.4s\n",
      "[CV] n_estimators=500 ................................................\n",
      "[CV] ................................. n_estimators=500, total=   9.0s\n",
      "[CV] n_estimators=500 ................................................\n",
      "[CV] ................................. n_estimators=500, total=   9.1s\n",
      "[CV] n_estimators=500 ................................................\n",
      "[CV] ................................. n_estimators=500, total=   9.1s\n",
      "[CV] n_estimators=500 ................................................\n",
      "[CV] ................................. n_estimators=500, total=   9.1s\n",
      "[CV] n_estimators=500 ................................................\n",
      "[CV] ................................. n_estimators=500, total=   9.2s\n"
     ]
    },
    {
     "name": "stderr",
     "output_type": "stream",
     "text": [
      "[Parallel(n_jobs=1)]: Done  25 out of  25 | elapsed:  1.5min finished\n"
     ]
    },
    {
     "name": "stdout",
     "output_type": "stream",
     "text": [
      "\n",
      "\n",
      "\n",
      " This is for domain \n",
      "\n",
      "[[638   1   0   2   5   2   2   0  18  28]\n",
      " [145 166   3   8  22 176  62   0  88  33]\n",
      " [166   9  80  19  78  20  94   0  31  54]\n",
      " [176  26  30  71  51  38 169   0  94  99]\n",
      " [246   6  19  24 265   0  12   0   4  17]\n",
      " [ 88  36  12  12   6 280 171   1  46  33]\n",
      " [110   7  23  27  26  64 375   1  37  71]\n",
      " [472   1   5   2  15   3  43  32   7   7]\n",
      " [143  20  16   7  18  75  90   2 223  45]\n",
      " [142   9  29  26  25  27 171   1  50 258]]\n",
      "AxesSubplot(0.125,0.125;0.496x0.755)\n",
      "                    precision    recall  f1-score   support\n",
      "\n",
      "          AskIndia       0.27      0.92      0.42       696\n",
      "  Business/Finance       0.59      0.24      0.34       703\n",
      "              Food       0.37      0.15      0.21       551\n",
      "     Non-Political       0.36      0.09      0.15       754\n",
      "       Photography       0.52      0.45      0.48       593\n",
      "    Policy/Economy       0.41      0.41      0.41       685\n",
      "          Politics       0.32      0.51      0.39       741\n",
      "         Scheduled       0.86      0.05      0.10       587\n",
      "Science/Technology       0.37      0.35      0.36       639\n",
      "            Sports       0.40      0.35      0.37       738\n",
      "\n",
      "          accuracy                           0.36      6687\n",
      "         macro avg       0.45      0.35      0.32      6687\n",
      "      weighted avg       0.44      0.36      0.33      6687\n",
      "\n",
      "accuracy :  0.35711081202332884\n",
      "Fitting 5 folds for each of 5 candidates, totalling 25 fits\n",
      "[CV] n_estimators=1 ..................................................\n"
     ]
    },
    {
     "name": "stderr",
     "output_type": "stream",
     "text": [
      "[Parallel(n_jobs=1)]: Using backend SequentialBackend with 1 concurrent workers.\n"
     ]
    },
    {
     "name": "stdout",
     "output_type": "stream",
     "text": [
      "[CV] ................................... n_estimators=1, total=   0.4s\n",
      "[CV] n_estimators=1 ..................................................\n"
     ]
    },
    {
     "name": "stderr",
     "output_type": "stream",
     "text": [
      "[Parallel(n_jobs=1)]: Done   1 out of   1 | elapsed:    0.3s remaining:    0.0s\n"
     ]
    },
    {
     "name": "stdout",
     "output_type": "stream",
     "text": [
      "[CV] ................................... n_estimators=1, total=   0.4s\n",
      "[CV] n_estimators=1 ..................................................\n",
      "[CV] ................................... n_estimators=1, total=   0.4s\n",
      "[CV] n_estimators=1 ..................................................\n",
      "[CV] ................................... n_estimators=1, total=   0.4s\n",
      "[CV] n_estimators=1 ..................................................\n",
      "[CV] ................................... n_estimators=1, total=   0.3s\n",
      "[CV] n_estimators=10 .................................................\n",
      "[CV] .................................. n_estimators=10, total=   1.3s\n",
      "[CV] n_estimators=10 .................................................\n",
      "[CV] .................................. n_estimators=10, total=   1.3s\n",
      "[CV] n_estimators=10 .................................................\n",
      "[CV] .................................. n_estimators=10, total=   1.2s\n",
      "[CV] n_estimators=10 .................................................\n",
      "[CV] .................................. n_estimators=10, total=   1.3s\n",
      "[CV] n_estimators=10 .................................................\n",
      "[CV] .................................. n_estimators=10, total=   1.2s\n",
      "[CV] n_estimators=100 ................................................\n",
      "[CV] ................................. n_estimators=100, total=   9.8s\n",
      "[CV] n_estimators=100 ................................................\n",
      "[CV] ................................. n_estimators=100, total=   9.7s\n",
      "[CV] n_estimators=100 ................................................\n",
      "[CV] ................................. n_estimators=100, total=   9.4s\n",
      "[CV] n_estimators=100 ................................................\n",
      "[CV] ................................. n_estimators=100, total=   9.6s\n",
      "[CV] n_estimators=100 ................................................\n",
      "[CV] ................................. n_estimators=100, total=   9.4s\n",
      "[CV] n_estimators=300 ................................................\n",
      "[CV] ................................. n_estimators=300, total=  28.2s\n",
      "[CV] n_estimators=300 ................................................\n",
      "[CV] ................................. n_estimators=300, total=  28.6s\n",
      "[CV] n_estimators=300 ................................................\n",
      "[CV] ................................. n_estimators=300, total=  28.0s\n",
      "[CV] n_estimators=300 ................................................\n",
      "[CV] ................................. n_estimators=300, total=  28.6s\n",
      "[CV] n_estimators=300 ................................................\n",
      "[CV] ................................. n_estimators=300, total=  27.5s\n",
      "[CV] n_estimators=500 ................................................\n",
      "[CV] ................................. n_estimators=500, total=  47.6s\n",
      "[CV] n_estimators=500 ................................................\n",
      "[CV] ................................. n_estimators=500, total=  48.0s\n",
      "[CV] n_estimators=500 ................................................\n",
      "[CV] ................................. n_estimators=500, total=  46.2s\n",
      "[CV] n_estimators=500 ................................................\n",
      "[CV] ................................. n_estimators=500, total=  47.7s\n",
      "[CV] n_estimators=500 ................................................\n",
      "[CV] ................................. n_estimators=500, total=  45.9s\n"
     ]
    },
    {
     "name": "stderr",
     "output_type": "stream",
     "text": [
      "[Parallel(n_jobs=1)]: Done  25 out of  25 | elapsed:  7.2min finished\n"
     ]
    },
    {
     "name": "stdout",
     "output_type": "stream",
     "text": [
      "\n",
      "\n",
      "\n",
      " This is for text \n",
      "\n",
      "[[505   0   1   1   2  78 141   6   0   0]\n",
      " [ 64  73   0   3   0  71 493   6   1   0]\n",
      " [ 60   0  85   0   0  39 376   0   0   0]\n",
      " [111   0   2  41   0  94 486   5   0   0]\n",
      " [ 14   0   0   0 225  38 283   0   0   0]\n",
      " [ 58   7   0   1   0 128 435   3   2   1]\n",
      " [ 52   0   3   1   0  73 622   1   0   0]\n",
      " [ 48  10   0   2  12  27 191 328   0   1]\n",
      " [ 78   6   0   1   0  68 413   1  70   1]\n",
      " [ 66   0   0   0   0  72 548   2   0  51]]\n",
      "AxesSubplot(0.125,0.125;0.3968x0.755)\n",
      "                    precision    recall  f1-score   support\n",
      "\n",
      "          AskIndia       0.48      0.69      0.56       734\n",
      "  Business/Finance       0.76      0.10      0.18       711\n",
      "              Food       0.93      0.15      0.26       560\n",
      "     Non-Political       0.82      0.06      0.10       739\n",
      "       Photography       0.94      0.40      0.56       560\n",
      "    Policy/Economy       0.19      0.20      0.19       635\n",
      "          Politics       0.16      0.83      0.26       752\n",
      "         Scheduled       0.93      0.53      0.68       619\n",
      "Science/Technology       0.96      0.11      0.20       638\n",
      "            Sports       0.94      0.07      0.13       739\n",
      "\n",
      "          accuracy                           0.32      6687\n",
      "         macro avg       0.71      0.31      0.31      6687\n",
      "      weighted avg       0.70      0.32      0.31      6687\n",
      "\n",
      "accuracy :  0.31822940032899655\n",
      "Fitting 5 folds for each of 5 candidates, totalling 25 fits\n",
      "[CV] n_estimators=1 ..................................................\n"
     ]
    },
    {
     "name": "stderr",
     "output_type": "stream",
     "text": [
      "[Parallel(n_jobs=1)]: Using backend SequentialBackend with 1 concurrent workers.\n"
     ]
    },
    {
     "name": "stdout",
     "output_type": "stream",
     "text": [
      "[CV] ................................... n_estimators=1, total=   0.4s\n",
      "[CV] n_estimators=1 ..................................................\n"
     ]
    },
    {
     "name": "stderr",
     "output_type": "stream",
     "text": [
      "[Parallel(n_jobs=1)]: Done   1 out of   1 | elapsed:    0.3s remaining:    0.0s\n"
     ]
    },
    {
     "name": "stdout",
     "output_type": "stream",
     "text": [
      "[CV] ................................... n_estimators=1, total=   0.4s\n",
      "[CV] n_estimators=1 ..................................................\n",
      "[CV] ................................... n_estimators=1, total=   0.4s\n",
      "[CV] n_estimators=1 ..................................................\n",
      "[CV] ................................... n_estimators=1, total=   0.4s\n",
      "[CV] n_estimators=1 ..................................................\n",
      "[CV] ................................... n_estimators=1, total=   0.4s\n",
      "[CV] n_estimators=10 .................................................\n",
      "[CV] .................................. n_estimators=10, total=   1.4s\n",
      "[CV] n_estimators=10 .................................................\n",
      "[CV] .................................. n_estimators=10, total=   1.4s\n",
      "[CV] n_estimators=10 .................................................\n",
      "[CV] .................................. n_estimators=10, total=   1.4s\n",
      "[CV] n_estimators=10 .................................................\n",
      "[CV] .................................. n_estimators=10, total=   1.5s\n",
      "[CV] n_estimators=10 .................................................\n",
      "[CV] .................................. n_estimators=10, total=   1.4s\n",
      "[CV] n_estimators=100 ................................................\n",
      "[CV] ................................. n_estimators=100, total=  11.4s\n",
      "[CV] n_estimators=100 ................................................\n",
      "[CV] ................................. n_estimators=100, total=  11.5s\n",
      "[CV] n_estimators=100 ................................................\n",
      "[CV] ................................. n_estimators=100, total=  11.3s\n",
      "[CV] n_estimators=100 ................................................\n",
      "[CV] ................................. n_estimators=100, total=  11.1s\n",
      "[CV] n_estimators=100 ................................................\n",
      "[CV] ................................. n_estimators=100, total=  11.3s\n",
      "[CV] n_estimators=300 ................................................\n",
      "[CV] ................................. n_estimators=300, total=  33.8s\n",
      "[CV] n_estimators=300 ................................................\n",
      "[CV] ................................. n_estimators=300, total=  33.5s\n",
      "[CV] n_estimators=300 ................................................\n",
      "[CV] ................................. n_estimators=300, total=  33.5s\n",
      "[CV] n_estimators=300 ................................................\n",
      "[CV] ................................. n_estimators=300, total=  32.9s\n",
      "[CV] n_estimators=300 ................................................\n",
      "[CV] ................................. n_estimators=300, total=  33.5s\n",
      "[CV] n_estimators=500 ................................................\n",
      "[CV] ................................. n_estimators=500, total=  56.0s\n",
      "[CV] n_estimators=500 ................................................\n",
      "[CV] ................................. n_estimators=500, total=  55.5s\n",
      "[CV] n_estimators=500 ................................................\n",
      "[CV] ................................. n_estimators=500, total=  55.6s\n",
      "[CV] n_estimators=500 ................................................\n",
      "[CV] ................................. n_estimators=500, total=  54.4s\n",
      "[CV] n_estimators=500 ................................................\n",
      "[CV] ................................. n_estimators=500, total=  55.5s\n"
     ]
    },
    {
     "name": "stderr",
     "output_type": "stream",
     "text": [
      "[Parallel(n_jobs=1)]: Done  25 out of  25 | elapsed:  8.5min finished\n"
     ]
    },
    {
     "name": "stdout",
     "output_type": "stream",
     "text": [
      "\n",
      "\n",
      "\n",
      " This is for title \n",
      "\n",
      "[[456  58  12  53  14  29   6   7  38  18]\n",
      " [ 57 460   6  29   6  72  14  11  55  11]\n",
      " [ 30  27 470  11   6  11   8   3   5   5]\n",
      " [118  93  13 317  20  57  43   3  30  23]\n",
      " [  0   9   0   8 543   0   0   0   2   0]\n",
      " [ 56 103   8  43   4 344  72   2  34  11]\n",
      " [ 45  63  11  49  11  50 509   3  13  21]\n",
      " [ 14  22   0   8  12   8   6 515   4   2]\n",
      " [ 72  90   8  32   3  40  19   6 367  17]\n",
      " [ 30  37   5  25   4   3  13   2   4 600]]\n",
      "AxesSubplot(0.125,0.125;0.31744x0.755)\n",
      "                    precision    recall  f1-score   support\n",
      "\n",
      "          AskIndia       0.52      0.66      0.58       691\n",
      "  Business/Finance       0.48      0.64      0.55       721\n",
      "              Food       0.88      0.82      0.85       576\n",
      "     Non-Political       0.55      0.44      0.49       717\n",
      "       Photography       0.87      0.97      0.92       562\n",
      "    Policy/Economy       0.56      0.51      0.53       677\n",
      "          Politics       0.74      0.66      0.69       775\n",
      "         Scheduled       0.93      0.87      0.90       591\n",
      "Science/Technology       0.66      0.56      0.61       654\n",
      "            Sports       0.85      0.83      0.84       723\n",
      "\n",
      "          accuracy                           0.69      6687\n",
      "         macro avg       0.70      0.69      0.70      6687\n",
      "      weighted avg       0.69      0.69      0.69      6687\n",
      "\n",
      "accuracy :  0.6850605652759085\n",
      "Fitting 5 folds for each of 5 candidates, totalling 25 fits\n",
      "[CV] n_estimators=1 ..................................................\n"
     ]
    },
    {
     "name": "stderr",
     "output_type": "stream",
     "text": [
      "[Parallel(n_jobs=1)]: Using backend SequentialBackend with 1 concurrent workers.\n"
     ]
    },
    {
     "name": "stdout",
     "output_type": "stream",
     "text": [
      "[CV] ................................... n_estimators=1, total=   0.7s\n",
      "[CV] n_estimators=1 ..................................................\n"
     ]
    },
    {
     "name": "stderr",
     "output_type": "stream",
     "text": [
      "[Parallel(n_jobs=1)]: Done   1 out of   1 | elapsed:    0.6s remaining:    0.0s\n"
     ]
    },
    {
     "name": "stdout",
     "output_type": "stream",
     "text": [
      "[CV] ................................... n_estimators=1, total=   0.7s\n",
      "[CV] n_estimators=1 ..................................................\n",
      "[CV] ................................... n_estimators=1, total=   0.7s\n",
      "[CV] n_estimators=1 ..................................................\n",
      "[CV] ................................... n_estimators=1, total=   0.7s\n",
      "[CV] n_estimators=1 ..................................................\n",
      "[CV] ................................... n_estimators=1, total=   0.7s\n",
      "[CV] n_estimators=10 .................................................\n",
      "[CV] .................................. n_estimators=10, total=   2.3s\n",
      "[CV] n_estimators=10 .................................................\n",
      "[CV] .................................. n_estimators=10, total=   2.3s\n",
      "[CV] n_estimators=10 .................................................\n",
      "[CV] .................................. n_estimators=10, total=   2.4s\n",
      "[CV] n_estimators=10 .................................................\n",
      "[CV] .................................. n_estimators=10, total=   2.3s\n",
      "[CV] n_estimators=10 .................................................\n",
      "[CV] .................................. n_estimators=10, total=   2.3s\n",
      "[CV] n_estimators=100 ................................................\n",
      "[CV] ................................. n_estimators=100, total=  19.3s\n",
      "[CV] n_estimators=100 ................................................\n",
      "[CV] ................................. n_estimators=100, total=  19.6s\n",
      "[CV] n_estimators=100 ................................................\n",
      "[CV] ................................. n_estimators=100, total=  19.5s\n",
      "[CV] n_estimators=100 ................................................\n",
      "[CV] ................................. n_estimators=100, total=  19.6s\n",
      "[CV] n_estimators=100 ................................................\n",
      "[CV] ................................. n_estimators=100, total=  19.5s\n",
      "[CV] n_estimators=300 ................................................\n",
      "[CV] ................................. n_estimators=300, total=  57.6s\n",
      "[CV] n_estimators=300 ................................................\n",
      "[CV] ................................. n_estimators=300, total=  57.1s\n",
      "[CV] n_estimators=300 ................................................\n",
      "[CV] ................................. n_estimators=300, total=  57.5s\n",
      "[CV] n_estimators=300 ................................................\n",
      "[CV] ................................. n_estimators=300, total=  57.4s\n",
      "[CV] n_estimators=300 ................................................\n",
      "[CV] ................................. n_estimators=300, total=  58.6s\n",
      "[CV] n_estimators=500 ................................................\n",
      "[CV] ................................. n_estimators=500, total= 1.6min\n",
      "[CV] n_estimators=500 ................................................\n",
      "[CV] ................................. n_estimators=500, total= 1.6min\n",
      "[CV] n_estimators=500 ................................................\n",
      "[CV] ................................. n_estimators=500, total= 1.6min\n",
      "[CV] n_estimators=500 ................................................\n",
      "[CV] ................................. n_estimators=500, total= 1.7min\n",
      "[CV] n_estimators=500 ................................................\n",
      "[CV] ................................. n_estimators=500, total= 1.6min\n"
     ]
    },
    {
     "name": "stderr",
     "output_type": "stream",
     "text": [
      "[Parallel(n_jobs=1)]: Done  25 out of  25 | elapsed: 14.8min finished\n"
     ]
    },
    {
     "name": "stdout",
     "output_type": "stream",
     "text": [
      "\n",
      "\n",
      "\n",
      " This is for url \n",
      "\n",
      "[[ 78   1   1   0   0   0 634   0   1   0]\n",
      " [  1 136   0   1   0   4 575  14   4   0]\n",
      " [  0   0 362   0   2   0 228   1   0   0]\n",
      " [  0   1   0  72   0   0 661   0   0   0]\n",
      " [  0   0   0   0 517   0  40   3   0   0]\n",
      " [  0   9   0   2   0  73 541   4   4   1]\n",
      " [  0   0   4   2   0   1 730   1   0   0]\n",
      " [  2   6   0   0   9   0 286 297   0   0]\n",
      " [  0   4   0   1   1   2 527   0 121   0]\n",
      " [  1   0   0   1   0   0 618   2   0 100]]\n",
      "AxesSubplot(0.125,0.125;0.253952x0.755)\n",
      "                    precision    recall  f1-score   support\n",
      "\n",
      "          AskIndia       0.95      0.11      0.20       715\n",
      "  Business/Finance       0.87      0.19      0.30       735\n",
      "              Food       0.99      0.61      0.75       593\n",
      "     Non-Political       0.91      0.10      0.18       734\n",
      "       Photography       0.98      0.92      0.95       560\n",
      "    Policy/Economy       0.91      0.12      0.20       634\n",
      "          Politics       0.15      0.99      0.26       738\n",
      "         Scheduled       0.92      0.49      0.64       600\n",
      "Science/Technology       0.93      0.18      0.31       656\n",
      "            Sports       0.99      0.14      0.24       722\n",
      "\n",
      "          accuracy                           0.37      6687\n",
      "         macro avg       0.86      0.38      0.40      6687\n",
      "      weighted avg       0.85      0.37      0.38      6687\n",
      "\n",
      "accuracy :  0.37176611335426946\n"
     ]
    },
    {
     "data": {
      "image/png": "[encoded data removed]",
      "text/plain": [
       "<Figure size 432x288 with 6 Axes>"
      ]
     },
     "metadata": {},
     "output_type": "display_data"
    }
   ],
   "source": [
    "for x in to_probe:\n",
    "    X=df[x].fillna(value='')\n",
    "    y=df['flair']\n",
    "    X_train,X_test,y_train,y_test=train_test_split(X,y,test_size=0.3)\n",
    "    pipeline.fit(X_train,y_train)\n",
    "    save_classifier=open(\"rforest_f2\"+x+\".pickle\",\"wb\")\n",
    "    pickle.dump(pipeline,save_classifier)\n",
    "    save_classifier.close()\n",
    "    predictions = pipeline.predict(X_test)\n",
    "    print('\\n\\n\\n This is for',x,'\\n')\n",
    "    print(confusion_matrix(y_test,predictions))\n",
    "    print(sns.heatmap(confusion_matrix(y_test,predictions)))\n",
    "    print(classification_report(y_test,predictions))\n",
    "    print('accuracy : ',accuracy_score(y_test,predictions))\n",
    "    "
   ]
  },
  {
   "cell_type": "markdown",
   "metadata": {},
   "source": [
    "Comments : accuracy= 0.52  \n",
    "Domain   : accuracy= 0.35                     \n",
    "Text     : accuracy= 0.31                                            \n",
    "Title    : accuracy= 0.68                                               \n",
    "url      : accuracy= 0.37\n",
    "\n",
    "Here too, title outshines all features and now we move on to analyse the combined features."
   ]
  },
  {
   "cell_type": "code",
   "execution_count": 69,
   "metadata": {},
   "outputs": [
    {
     "name": "stdout",
     "output_type": "stream",
     "text": [
      "Fitting 5 folds for each of 5 candidates, totalling 25 fits\n",
      "[CV] n_estimators=1 ..................................................\n"
     ]
    },
    {
     "name": "stderr",
     "output_type": "stream",
     "text": [
      "[Parallel(n_jobs=1)]: Using backend SequentialBackend with 1 concurrent workers.\n"
     ]
    },
    {
     "name": "stdout",
     "output_type": "stream",
     "text": [
      "[CV] ................................... n_estimators=1, total=   3.1s\n",
      "[CV] n_estimators=1 ..................................................\n"
     ]
    },
    {
     "name": "stderr",
     "output_type": "stream",
     "text": [
      "[Parallel(n_jobs=1)]: Done   1 out of   1 | elapsed:    3.0s remaining:    0.0s\n"
     ]
    },
    {
     "name": "stdout",
     "output_type": "stream",
     "text": [
      "[CV] ................................... n_estimators=1, total=   1.7s\n",
      "[CV] n_estimators=1 ..................................................\n",
      "[CV] ................................... n_estimators=1, total=   1.8s\n",
      "[CV] n_estimators=1 ..................................................\n",
      "[CV] ................................... n_estimators=1, total=   1.8s\n",
      "[CV] n_estimators=1 ..................................................\n",
      "[CV] ................................... n_estimators=1, total=   1.6s\n",
      "[CV] n_estimators=10 .................................................\n",
      "[CV] .................................. n_estimators=10, total=   4.3s\n",
      "[CV] n_estimators=10 .................................................\n",
      "[CV] .................................. n_estimators=10, total=   3.7s\n",
      "[CV] n_estimators=10 .................................................\n",
      "[CV] .................................. n_estimators=10, total=   3.6s\n",
      "[CV] n_estimators=10 .................................................\n",
      "[CV] .................................. n_estimators=10, total=   3.7s\n",
      "[CV] n_estimators=10 .................................................\n",
      "[CV] .................................. n_estimators=10, total=   3.6s\n",
      "[CV] n_estimators=100 ................................................\n",
      "[CV] ................................. n_estimators=100, total=  31.3s\n",
      "[CV] n_estimators=100 ................................................\n",
      "[CV] ................................. n_estimators=100, total=  31.3s\n",
      "[CV] n_estimators=100 ................................................\n",
      "[CV] ................................. n_estimators=100, total=  32.0s\n",
      "[CV] n_estimators=100 ................................................\n",
      "[CV] ................................. n_estimators=100, total=  31.0s\n",
      "[CV] n_estimators=100 ................................................\n",
      "[CV] ................................. n_estimators=100, total=  30.3s\n",
      "[CV] n_estimators=300 ................................................\n",
      "[CV] ................................. n_estimators=300, total= 1.6min\n",
      "[CV] n_estimators=300 ................................................\n",
      "[CV] ................................. n_estimators=300, total= 1.8min\n",
      "[CV] n_estimators=300 ................................................\n",
      "[CV] ................................. n_estimators=300, total= 1.7min\n",
      "[CV] n_estimators=300 ................................................\n",
      "[CV] ................................. n_estimators=300, total= 2.0min\n",
      "[CV] n_estimators=300 ................................................\n",
      "[CV] ................................. n_estimators=300, total= 1.8min\n",
      "[CV] n_estimators=500 ................................................\n",
      "[CV] ................................. n_estimators=500, total= 3.0min\n",
      "[CV] n_estimators=500 ................................................\n",
      "[CV] ................................. n_estimators=500, total= 3.1min\n",
      "[CV] n_estimators=500 ................................................\n",
      "[CV] ................................. n_estimators=500, total= 3.3min\n",
      "[CV] n_estimators=500 ................................................\n",
      "[CV] ................................. n_estimators=500, total= 3.6min\n",
      "[CV] n_estimators=500 ................................................\n",
      "[CV] ................................. n_estimators=500, total= 3.5min\n"
     ]
    },
    {
     "name": "stderr",
     "output_type": "stream",
     "text": [
      "[Parallel(n_jobs=1)]: Done  25 out of  25 | elapsed: 28.6min finished\n"
     ]
    },
    {
     "name": "stdout",
     "output_type": "stream",
     "text": [
      "\n",
      "\n",
      "\n",
      " This is for \n",
      "\n",
      "[[539   1   3  14   0   1 187   0   3   2]\n",
      " [ 48  77   0   2   0  35 546   2   2   0]\n",
      " [ 42   0  94   3   0   2 410   0   0   1]\n",
      " [ 88   1   2  41   0  16 544   7   1   3]\n",
      " [  6   0   0   0 190   0 367   2   0   0]\n",
      " [ 40  11   0   1   0  86 529   0   6   1]\n",
      " [ 61   0   3   7   0  23 638   0   0   1]\n",
      " [ 38   5   0   0   6   3 218 304   0   0]\n",
      " [ 82   3   0   2   0  37 492   0  58   0]\n",
      " [ 68   0   0   6   0   4 589   2   0  81]]\n",
      "AxesSubplot(0.125,0.125;0.62x0.755)\n",
      "                    precision    recall  f1-score   support\n",
      "\n",
      "          AskIndia       0.53      0.72      0.61       750\n",
      "  Business/Finance       0.79      0.11      0.19       712\n",
      "              Food       0.92      0.17      0.29       552\n",
      "     Non-Political       0.54      0.06      0.11       703\n",
      "       Photography       0.97      0.34      0.50       565\n",
      "    Policy/Economy       0.42      0.13      0.20       674\n",
      "          Politics       0.14      0.87      0.24       733\n",
      "         Scheduled       0.96      0.53      0.68       574\n",
      "Science/Technology       0.83      0.09      0.16       674\n",
      "            Sports       0.91      0.11      0.19       750\n",
      "\n",
      "          accuracy                           0.32      6687\n",
      "         macro avg       0.70      0.31      0.32      6687\n",
      "      weighted avg       0.68      0.32      0.31      6687\n",
      "\n",
      "accuracy :  0.3152385225063556\n"
     ]
    },
    {
     "data": {
      "image/png": "[encoded data removed]",
      "text/plain": [
       "<Figure size 432x288 with 2 Axes>"
      ]
     },
     "metadata": {},
     "output_type": "display_data"
    }
   ],
   "source": [
    "comb_feats=df['comments']+df['domain']+df['text']+df['title']+df['url']\n",
    "X=comb_feats.fillna(value='')\n",
    "y=df['flair']\n",
    "X_train,X_test,y_train,y_test=train_test_split(X,y,test_size=0.3)\n",
    "pipeline.fit(X_train,y_train)\n",
    "save_classifier=open(\"dtree_f2\"+\"comb\"+\".pickle\",\"wb\")\n",
    "pickle.dump(pipeline,save_classifier)\n",
    "save_classifier.close()\n",
    "predictions = pipeline.predict(X_test)\n",
    "print('\\n\\n\\n This is for','\\n')\n",
    "print(confusion_matrix(y_test,predictions))\n",
    "print(sns.heatmap(confusion_matrix(y_test,predictions)))\n",
    "print(classification_report(y_test,predictions))\n",
    "print('accuracy : ',accuracy_score(y_test,predictions))\n",
    "    "
   ]
  },
  {
   "cell_type": "code",
   "execution_count": 70,
   "metadata": {},
   "outputs": [
    {
     "name": "stdout",
     "output_type": "stream",
     "text": [
      "Fitting 5 folds for each of 5 candidates, totalling 25 fits\n",
      "[CV] n_estimators=1 ..................................................\n"
     ]
    },
    {
     "name": "stderr",
     "output_type": "stream",
     "text": [
      "[Parallel(n_jobs=1)]: Using backend SequentialBackend with 1 concurrent workers.\n"
     ]
    },
    {
     "name": "stdout",
     "output_type": "stream",
     "text": [
      "[CV] ................................... n_estimators=1, total=   4.5s\n",
      "[CV] n_estimators=1 ..................................................\n"
     ]
    },
    {
     "name": "stderr",
     "output_type": "stream",
     "text": [
      "[Parallel(n_jobs=1)]: Done   1 out of   1 | elapsed:    4.4s remaining:    0.0s\n"
     ]
    },
    {
     "name": "stdout",
     "output_type": "stream",
     "text": [
      "[CV] ................................... n_estimators=1, total=   3.6s\n",
      "[CV] n_estimators=1 ..................................................\n",
      "[CV] ................................... n_estimators=1, total=   3.1s\n",
      "[CV] n_estimators=1 ..................................................\n",
      "[CV] ................................... n_estimators=1, total=   2.6s\n",
      "[CV] n_estimators=1 ..................................................\n",
      "[CV] ................................... n_estimators=1, total=   2.9s\n",
      "[CV] n_estimators=10 .................................................\n",
      "[CV] .................................. n_estimators=10, total=   6.9s\n",
      "[CV] n_estimators=10 .................................................\n",
      "[CV] .................................. n_estimators=10, total=   6.8s\n",
      "[CV] n_estimators=10 .................................................\n",
      "[CV] .................................. n_estimators=10, total=   7.9s\n",
      "[CV] n_estimators=10 .................................................\n",
      "[CV] .................................. n_estimators=10, total=   7.5s\n",
      "[CV] n_estimators=10 .................................................\n",
      "[CV] .................................. n_estimators=10, total=   7.4s\n",
      "[CV] n_estimators=100 ................................................\n",
      "[CV] ................................. n_estimators=100, total=  59.0s\n",
      "[CV] n_estimators=100 ................................................\n",
      "[CV] ................................. n_estimators=100, total=  59.9s\n",
      "[CV] n_estimators=100 ................................................\n",
      "[CV] ................................. n_estimators=100, total= 1.1min\n",
      "[CV] n_estimators=100 ................................................\n",
      "[CV] ................................. n_estimators=100, total= 1.0min\n",
      "[CV] n_estimators=100 ................................................\n",
      "[CV] ................................. n_estimators=100, total=  59.0s\n",
      "[CV] n_estimators=300 ................................................\n",
      "[CV] ................................. n_estimators=300, total= 2.9min\n",
      "[CV] n_estimators=300 ................................................\n",
      "[CV] ................................. n_estimators=300, total= 2.3min\n",
      "[CV] n_estimators=300 ................................................\n",
      "[CV] ................................. n_estimators=300, total= 2.2min\n",
      "[CV] n_estimators=300 ................................................\n",
      "[CV] ................................. n_estimators=300, total= 2.3min\n",
      "[CV] n_estimators=300 ................................................\n",
      "[CV] ................................. n_estimators=300, total= 2.2min\n",
      "[CV] n_estimators=500 ................................................\n",
      "[CV] ................................. n_estimators=500, total= 3.7min\n",
      "[CV] n_estimators=500 ................................................\n",
      "[CV] ................................. n_estimators=500, total= 3.7min\n",
      "[CV] n_estimators=500 ................................................\n",
      "[CV] ................................. n_estimators=500, total= 3.9min\n",
      "[CV] n_estimators=500 ................................................\n",
      "[CV] ................................. n_estimators=500, total= 3.6min\n",
      "[CV] n_estimators=500 ................................................\n",
      "[CV] ................................. n_estimators=500, total= 3.6min\n"
     ]
    },
    {
     "name": "stderr",
     "output_type": "stream",
     "text": [
      "[Parallel(n_jobs=1)]: Done  25 out of  25 | elapsed: 36.3min finished\n"
     ]
    },
    {
     "name": "stdout",
     "output_type": "stream",
     "text": [
      "\n",
      "\n",
      "\n",
      " This is for \n",
      "\n",
      "[[514 106  14  14   5   5  16  13  11  13]\n",
      " [ 85 468   2   5   1  99  13   3  13   5]\n",
      " [ 50 144 346  16   0   8   7   0   0   0]\n",
      " [154 182   9 205   5  36  85  12   5  23]\n",
      " [  6 185   2   0 376   0   0   0   0   0]\n",
      " [ 76 168   3  10   1 311  74   3   7   4]\n",
      " [ 66 140   8  41   0  44 434   2   2   3]\n",
      " [ 35 102   5   4   9   3   6 436   1   4]\n",
      " [104 293   1  32   2  69  11   6 161   7]\n",
      " [ 44 218   1   6   1   3   8   3   1 453]]\n",
      "AxesSubplot(0.125,0.125;0.62x0.755)\n",
      "                    precision    recall  f1-score   support\n",
      "\n",
      "          AskIndia       0.45      0.72      0.56       711\n",
      "  Business/Finance       0.23      0.67      0.35       694\n",
      "              Food       0.88      0.61      0.72       571\n",
      "     Non-Political       0.62      0.29      0.39       716\n",
      "       Photography       0.94      0.66      0.78       569\n",
      "    Policy/Economy       0.54      0.47      0.50       657\n",
      "          Politics       0.66      0.59      0.62       740\n",
      "         Scheduled       0.91      0.72      0.81       605\n",
      "Science/Technology       0.80      0.23      0.36       686\n",
      "            Sports       0.88      0.61      0.72       738\n",
      "\n",
      "          accuracy                           0.55      6687\n",
      "         macro avg       0.69      0.56      0.58      6687\n",
      "      weighted avg       0.68      0.55      0.57      6687\n",
      "\n",
      "accuracy :  0.5539105727531031\n"
     ]
    },
    {
     "data": {
      "image/png": "[encoded data removed]",
      "text/plain": [
       "<Figure size 432x288 with 2 Axes>"
      ]
     },
     "metadata": {},
     "output_type": "display_data"
    }
   ],
   "source": [
    "comb_feats=df['comments']+df['title']+df['url']\n",
    "X=comb_feats.fillna(value='')\n",
    "y=df['flair']\n",
    "X_train,X_test,y_train,y_test=train_test_split(X,y,test_size=0.3)\n",
    "pipeline.fit(X_train,y_train)\n",
    "save_classifier=open(\"dtree_f2\"+\"comb2\"+\".pickle\",\"wb\")\n",
    "pickle.dump(pipeline,save_classifier)\n",
    "save_classifier.close()\n",
    "predictions = pipeline.predict(X_test)\n",
    "print('\\n\\n\\n This is for','\\n')\n",
    "print(confusion_matrix(y_test,predictions))\n",
    "print(sns.heatmap(confusion_matrix(y_test,predictions)))\n",
    "print(classification_report(y_test,predictions))\n",
    "print('accuracy : ',accuracy_score(y_test,predictions))\n",
    "    "
   ]
  },
  {
   "cell_type": "markdown",
   "metadata": {},
   "source": [
    "The second type of combined features performed better than the first one.\n",
    "\n",
    "Moving onto the lengths and score features."
   ]
  },
  {
   "cell_type": "code",
   "execution_count": 77,
   "metadata": {},
   "outputs": [],
   "source": [
    "lst=['text_len','title_len','score']"
   ]
  },
  {
   "cell_type": "code",
   "execution_count": 16,
   "metadata": {},
   "outputs": [],
   "source": [
    "pipeline = Pipeline([\n",
    "    ('classifier', GridSearchCV(RandomForestClassifier(n_jobs=-1),param_grid,refit=True,verbose=2)),  \n",
    "])"
   ]
  },
  {
   "cell_type": "code",
   "execution_count": 17,
   "metadata": {},
   "outputs": [
    {
     "name": "stdout",
     "output_type": "stream",
     "text": [
      "Fitting 5 folds for each of 5 candidates, totalling 25 fits\n",
      "[CV] n_estimators=1 ..................................................\n"
     ]
    },
    {
     "name": "stderr",
     "output_type": "stream",
     "text": [
      "[Parallel(n_jobs=1)]: Using backend SequentialBackend with 1 concurrent workers.\n"
     ]
    },
    {
     "name": "stdout",
     "output_type": "stream",
     "text": [
      "[CV] ................................... n_estimators=1, total=   2.6s\n",
      "[CV] n_estimators=1 ..................................................\n"
     ]
    },
    {
     "name": "stderr",
     "output_type": "stream",
     "text": [
      "[Parallel(n_jobs=1)]: Done   1 out of   1 | elapsed:    2.5s remaining:    0.0s\n"
     ]
    },
    {
     "name": "stdout",
     "output_type": "stream",
     "text": [
      "[CV] ................................... n_estimators=1, total=   0.6s\n",
      "[CV] n_estimators=1 ..................................................\n",
      "[CV] ................................... n_estimators=1, total=   0.4s\n",
      "[CV] n_estimators=1 ..................................................\n",
      "[CV] ................................... n_estimators=1, total=   0.4s\n",
      "[CV] n_estimators=1 ..................................................\n",
      "[CV] ................................... n_estimators=1, total=   0.5s\n",
      "[CV] n_estimators=10 .................................................\n",
      "[CV] .................................. n_estimators=10, total=   1.0s\n",
      "[CV] n_estimators=10 .................................................\n",
      "[CV] .................................. n_estimators=10, total=   0.3s\n",
      "[CV] n_estimators=10 .................................................\n",
      "[CV] .................................. n_estimators=10, total=   0.2s\n",
      "[CV] n_estimators=10 .................................................\n",
      "[CV] .................................. n_estimators=10, total=   0.2s\n",
      "[CV] n_estimators=10 .................................................\n",
      "[CV] .................................. n_estimators=10, total=   0.2s\n",
      "[CV] n_estimators=100 ................................................\n",
      "[CV] ................................. n_estimators=100, total=   0.9s\n",
      "[CV] n_estimators=100 ................................................\n",
      "[CV] ................................. n_estimators=100, total=   0.9s\n",
      "[CV] n_estimators=100 ................................................\n",
      "[CV] ................................. n_estimators=100, total=   0.8s\n",
      "[CV] n_estimators=100 ................................................\n",
      "[CV] ................................. n_estimators=100, total=   0.8s\n",
      "[CV] n_estimators=100 ................................................\n",
      "[CV] ................................. n_estimators=100, total=   0.8s\n",
      "[CV] n_estimators=300 ................................................\n",
      "[CV] ................................. n_estimators=300, total=   2.3s\n",
      "[CV] n_estimators=300 ................................................\n",
      "[CV] ................................. n_estimators=300, total=   2.4s\n",
      "[CV] n_estimators=300 ................................................\n",
      "[CV] ................................. n_estimators=300, total=   2.3s\n",
      "[CV] n_estimators=300 ................................................\n",
      "[CV] ................................. n_estimators=300, total=   2.2s\n",
      "[CV] n_estimators=300 ................................................\n",
      "[CV] ................................. n_estimators=300, total=   2.2s\n",
      "[CV] n_estimators=500 ................................................\n",
      "[CV] ................................. n_estimators=500, total=   3.7s\n",
      "[CV] n_estimators=500 ................................................\n",
      "[CV] ................................. n_estimators=500, total=   3.7s\n",
      "[CV] n_estimators=500 ................................................\n",
      "[CV] ................................. n_estimators=500, total=   4.1s\n",
      "[CV] n_estimators=500 ................................................\n",
      "[CV] ................................. n_estimators=500, total=   4.0s\n",
      "[CV] n_estimators=500 ................................................\n",
      "[CV] ................................. n_estimators=500, total=   4.0s\n"
     ]
    },
    {
     "name": "stderr",
     "output_type": "stream",
     "text": [
      "[Parallel(n_jobs=1)]: Done  25 out of  25 | elapsed:   41.8s finished\n"
     ]
    },
    {
     "name": "stdout",
     "output_type": "stream",
     "text": [
      "\n",
      "\n",
      "\n",
      " This is for \n",
      "\n",
      "[[356  60  31  50  32  36  24  44  38  46]\n",
      " [ 40 261  24  54  33  79  64  27  89  78]\n",
      " [ 38  70 238  34  30  33  39  17  33  36]\n",
      " [ 75  79  38 146  41  76  93  26  71 101]\n",
      " [ 11  46   8   6 419   3   9   4  17  12]\n",
      " [ 49 111  45  65  28 112  79  25  77  84]\n",
      " [ 42 104  37  61  37  81 155  24  63 106]\n",
      " [ 38  47  13  23  12   9  20 403  18  19]\n",
      " [ 52 128  40  50  18  75  61  24 128  60]\n",
      " [ 74 105  39  89  37  65  92  22  72 154]]\n",
      "AxesSubplot(0.125,0.125;0.62x0.755)\n",
      "                    precision    recall  f1-score   support\n",
      "\n",
      "          AskIndia       0.46      0.50      0.48       717\n",
      "  Business/Finance       0.26      0.35      0.30       749\n",
      "              Food       0.46      0.42      0.44       568\n",
      "     Non-Political       0.25      0.20      0.22       746\n",
      "       Photography       0.61      0.78      0.69       535\n",
      "    Policy/Economy       0.20      0.17      0.18       675\n",
      "          Politics       0.24      0.22      0.23       710\n",
      "         Scheduled       0.65      0.67      0.66       602\n",
      "Science/Technology       0.21      0.20      0.21       636\n",
      "            Sports       0.22      0.21      0.21       749\n",
      "\n",
      "          accuracy                           0.35      6687\n",
      "         macro avg       0.36      0.37      0.36      6687\n",
      "      weighted avg       0.34      0.35      0.35      6687\n",
      "\n",
      "accuracy :  0.3547181097652161\n"
     ]
    },
    {
     "data": {
      "image/png": "[encoded data removed]",
      "text/plain": [
       "<Figure size 432x288 with 2 Axes>"
      ]
     },
     "metadata": {},
     "output_type": "display_data"
    }
   ],
   "source": [
    "X=df[lst].fillna(value=0)\n",
    "y=df['flair']\n",
    "X_train,X_test,y_train,y_test=train_test_split(X,y,test_size=0.3)\n",
    "pipeline.fit(X_train,y_train)\n",
    "save_classifier=open(\"rforest_f2\"+\"num\"+\".pickle\",\"wb\")\n",
    "pickle.dump(pipeline,save_classifier)\n",
    "save_classifier.close()\n",
    "predictions = pipeline.predict(X_test)\n",
    "print('\\n\\n\\n This is for','\\n')\n",
    "print(confusion_matrix(y_test,predictions))\n",
    "print(sns.heatmap(confusion_matrix(y_test,predictions)))\n",
    "print(classification_report(y_test,predictions))\n",
    "print('accuracy : ',accuracy_score(y_test,predictions))\n",
    "    "
   ]
  },
  {
   "cell_type": "markdown",
   "metadata": {},
   "source": [
    "At the end, we use the K Neighbors Classifer by following the same steps as above."
   ]
  },
  {
   "cell_type": "code",
   "execution_count": 72,
   "metadata": {},
   "outputs": [],
   "source": [
    "from sklearn.neighbors import KNeighborsClassifier"
   ]
  },
  {
   "cell_type": "code",
   "execution_count": 73,
   "metadata": {},
   "outputs": [],
   "source": [
    "param_grid = {'n_neighbors':[1,10,100,150,300,500,1000]} "
   ]
  },
  {
   "cell_type": "code",
   "execution_count": 74,
   "metadata": {},
   "outputs": [],
   "source": [
    "pipeline = Pipeline([\n",
    "    ('bow', CountVectorizer(analyzer=preprocess_text)),  \n",
    "    ('tfidf', TfidfTransformer()),  \n",
    "    ('scaled',StandardScaler(with_mean=False)),\n",
    "    ('classifier', GridSearchCV(KNeighborsClassifier(n_jobs=-1),param_grid,refit=True,verbose=2)),\n",
    "])"
   ]
  },
  {
   "cell_type": "code",
   "execution_count": 36,
   "metadata": {},
   "outputs": [
    {
     "name": "stdout",
     "output_type": "stream",
     "text": [
      "Fitting 5 folds for each of 7 candidates, totalling 35 fits\n",
      "[CV] n_neighbors=1 ...................................................\n"
     ]
    },
    {
     "name": "stderr",
     "output_type": "stream",
     "text": [
      "[Parallel(n_jobs=1)]: Using backend SequentialBackend with 1 concurrent workers.\n"
     ]
    },
    {
     "name": "stdout",
     "output_type": "stream",
     "text": [
      "[CV] .................................... n_neighbors=1, total=   1.6s\n",
      "[CV] n_neighbors=1 ...................................................\n"
     ]
    },
    {
     "name": "stderr",
     "output_type": "stream",
     "text": [
      "[Parallel(n_jobs=1)]: Done   1 out of   1 | elapsed:    1.5s remaining:    0.0s\n"
     ]
    },
    {
     "name": "stdout",
     "output_type": "stream",
     "text": [
      "[CV] .................................... n_neighbors=1, total=   1.6s\n",
      "[CV] n_neighbors=1 ...................................................\n",
      "[CV] .................................... n_neighbors=1, total=   1.5s\n",
      "[CV] n_neighbors=1 ...................................................\n",
      "[CV] .................................... n_neighbors=1, total=   1.6s\n",
      "[CV] n_neighbors=1 ...................................................\n",
      "[CV] .................................... n_neighbors=1, total=   1.5s\n",
      "[CV] n_neighbors=10 ..................................................\n",
      "[CV] ................................... n_neighbors=10, total=   1.7s\n",
      "[CV] n_neighbors=10 ..................................................\n",
      "[CV] ................................... n_neighbors=10, total=   1.7s\n",
      "[CV] n_neighbors=10 ..................................................\n",
      "[CV] ................................... n_neighbors=10, total=   1.8s\n",
      "[CV] n_neighbors=10 ..................................................\n",
      "[CV] ................................... n_neighbors=10, total=   1.7s\n",
      "[CV] n_neighbors=10 ..................................................\n",
      "[CV] ................................... n_neighbors=10, total=   1.7s\n",
      "[CV] n_neighbors=100 .................................................\n",
      "[CV] .................................. n_neighbors=100, total=   1.7s\n",
      "[CV] n_neighbors=100 .................................................\n",
      "[CV] .................................. n_neighbors=100, total=   1.7s\n",
      "[CV] n_neighbors=100 .................................................\n",
      "[CV] .................................. n_neighbors=100, total=   1.8s\n",
      "[CV] n_neighbors=100 .................................................\n",
      "[CV] .................................. n_neighbors=100, total=   1.8s\n",
      "[CV] n_neighbors=100 .................................................\n",
      "[CV] .................................. n_neighbors=100, total=   1.8s\n",
      "[CV] n_neighbors=150 .................................................\n",
      "[CV] .................................. n_neighbors=150, total=   1.8s\n",
      "[CV] n_neighbors=150 .................................................\n",
      "[CV] .................................. n_neighbors=150, total=   1.8s\n",
      "[CV] n_neighbors=150 .................................................\n",
      "[CV] .................................. n_neighbors=150, total=   1.8s\n",
      "[CV] n_neighbors=150 .................................................\n",
      "[CV] .................................. n_neighbors=150, total=   1.7s\n",
      "[CV] n_neighbors=150 .................................................\n",
      "[CV] .................................. n_neighbors=150, total=   1.7s\n",
      "[CV] n_neighbors=300 .................................................\n",
      "[CV] .................................. n_neighbors=300, total=   1.8s\n",
      "[CV] n_neighbors=300 .................................................\n",
      "[CV] .................................. n_neighbors=300, total=   1.8s\n",
      "[CV] n_neighbors=300 .................................................\n",
      "[CV] .................................. n_neighbors=300, total=   1.8s\n",
      "[CV] n_neighbors=300 .................................................\n",
      "[CV] .................................. n_neighbors=300, total=   1.8s\n",
      "[CV] n_neighbors=300 .................................................\n",
      "[CV] .................................. n_neighbors=300, total=   1.8s\n",
      "[CV] n_neighbors=500 .................................................\n",
      "[CV] .................................. n_neighbors=500, total=   1.8s\n",
      "[CV] n_neighbors=500 .................................................\n",
      "[CV] .................................. n_neighbors=500, total=   1.9s\n",
      "[CV] n_neighbors=500 .................................................\n",
      "[CV] .................................. n_neighbors=500, total=   1.9s\n",
      "[CV] n_neighbors=500 .................................................\n",
      "[CV] .................................. n_neighbors=500, total=   1.9s\n",
      "[CV] n_neighbors=500 .................................................\n",
      "[CV] .................................. n_neighbors=500, total=   1.9s\n",
      "[CV] n_neighbors=1000 ................................................\n",
      "[CV] ................................. n_neighbors=1000, total=   1.9s\n",
      "[CV] n_neighbors=1000 ................................................\n",
      "[CV] ................................. n_neighbors=1000, total=   2.0s\n",
      "[CV] n_neighbors=1000 ................................................\n",
      "[CV] ................................. n_neighbors=1000, total=   2.0s\n",
      "[CV] n_neighbors=1000 ................................................\n",
      "[CV] ................................. n_neighbors=1000, total=   2.0s\n",
      "[CV] n_neighbors=1000 ................................................\n",
      "[CV] ................................. n_neighbors=1000, total=   2.0s\n"
     ]
    },
    {
     "name": "stderr",
     "output_type": "stream",
     "text": [
      "[Parallel(n_jobs=1)]: Done  35 out of  35 | elapsed:  1.0min finished\n"
     ]
    },
    {
     "name": "stdout",
     "output_type": "stream",
     "text": [
      "\n",
      "\n",
      "\n",
      " This is for comments \n",
      "\n",
      "[[ 93   8   3   3   1   8   3   7 624   0]\n",
      " [  4 114   0   4   1  15   2   3 588   1]\n",
      " [  3   0 247   4   1  12   1   0 267   1]\n",
      " [  3   3   3  83   3   7   8   4 577   1]\n",
      " [  2   0   0   0 369   0   0   7 181   0]\n",
      " [  6  11   1   3   1  72   3   1 559   0]\n",
      " [  3   0   2   1   1   9  72   1 641   4]\n",
      " [  1   7   2   0   4   4   1 264 343   1]\n",
      " [  5   6   0   3   0  10   2   1 635   3]\n",
      " [  6   1   1   4   1  11   4   2 619  86]]\n",
      "AxesSubplot(0.125,0.125;0.62x0.755)\n",
      "                    precision    recall  f1-score   support\n",
      "\n",
      "          AskIndia       0.74      0.12      0.21       750\n",
      "  Business/Finance       0.76      0.16      0.26       732\n",
      "              Food       0.95      0.46      0.62       536\n",
      "     Non-Political       0.79      0.12      0.21       692\n",
      "       Photography       0.97      0.66      0.78       559\n",
      "    Policy/Economy       0.49      0.11      0.18       657\n",
      "          Politics       0.75      0.10      0.17       734\n",
      "         Scheduled       0.91      0.42      0.58       627\n",
      "Science/Technology       0.13      0.95      0.22       665\n",
      "            Sports       0.89      0.12      0.21       735\n",
      "\n",
      "          accuracy                           0.30      6687\n",
      "         macro avg       0.74      0.32      0.34      6687\n",
      "      weighted avg       0.73      0.30      0.32      6687\n",
      "\n",
      "accuracy :  0.30432181845371614\n",
      "Fitting 5 folds for each of 7 candidates, totalling 35 fits\n",
      "[CV] n_neighbors=1 ...................................................\n"
     ]
    },
    {
     "name": "stderr",
     "output_type": "stream",
     "text": [
      "[Parallel(n_jobs=1)]: Using backend SequentialBackend with 1 concurrent workers.\n"
     ]
    },
    {
     "name": "stdout",
     "output_type": "stream",
     "text": [
      "[CV] .................................... n_neighbors=1, total=   1.0s\n",
      "[CV] n_neighbors=1 ...................................................\n"
     ]
    },
    {
     "name": "stderr",
     "output_type": "stream",
     "text": [
      "[Parallel(n_jobs=1)]: Done   1 out of   1 | elapsed:    0.9s remaining:    0.0s\n"
     ]
    },
    {
     "name": "stdout",
     "output_type": "stream",
     "text": [
      "[CV] .................................... n_neighbors=1, total=   1.1s\n",
      "[CV] n_neighbors=1 ...................................................\n",
      "[CV] .................................... n_neighbors=1, total=   1.0s\n",
      "[CV] n_neighbors=1 ...................................................\n",
      "[CV] .................................... n_neighbors=1, total=   1.0s\n",
      "[CV] n_neighbors=1 ...................................................\n",
      "[CV] .................................... n_neighbors=1, total=   1.0s\n",
      "[CV] n_neighbors=10 ..................................................\n",
      "[CV] ................................... n_neighbors=10, total=   1.2s\n",
      "[CV] n_neighbors=10 ..................................................\n",
      "[CV] ................................... n_neighbors=10, total=   1.2s\n",
      "[CV] n_neighbors=10 ..................................................\n",
      "[CV] ................................... n_neighbors=10, total=   1.2s\n",
      "[CV] n_neighbors=10 ..................................................\n",
      "[CV] ................................... n_neighbors=10, total=   1.3s\n",
      "[CV] n_neighbors=10 ..................................................\n",
      "[CV] ................................... n_neighbors=10, total=   1.4s\n",
      "[CV] n_neighbors=100 .................................................\n",
      "[CV] .................................. n_neighbors=100, total=   1.3s\n",
      "[CV] n_neighbors=100 .................................................\n",
      "[CV] .................................. n_neighbors=100, total=   1.3s\n",
      "[CV] n_neighbors=100 .................................................\n",
      "[CV] .................................. n_neighbors=100, total=   1.2s\n",
      "[CV] n_neighbors=100 .................................................\n",
      "[CV] .................................. n_neighbors=100, total=   1.2s\n",
      "[CV] n_neighbors=100 .................................................\n",
      "[CV] .................................. n_neighbors=100, total=   1.3s\n",
      "[CV] n_neighbors=150 .................................................\n",
      "[CV] .................................. n_neighbors=150, total=   1.3s\n",
      "[CV] n_neighbors=150 .................................................\n",
      "[CV] .................................. n_neighbors=150, total=   1.3s\n",
      "[CV] n_neighbors=150 .................................................\n",
      "[CV] .................................. n_neighbors=150, total=   1.3s\n",
      "[CV] n_neighbors=150 .................................................\n",
      "[CV] .................................. n_neighbors=150, total=   1.3s\n",
      "[CV] n_neighbors=150 .................................................\n",
      "[CV] .................................. n_neighbors=150, total=   1.3s\n",
      "[CV] n_neighbors=300 .................................................\n",
      "[CV] .................................. n_neighbors=300, total=   1.3s\n",
      "[CV] n_neighbors=300 .................................................\n",
      "[CV] .................................. n_neighbors=300, total=   1.3s\n",
      "[CV] n_neighbors=300 .................................................\n",
      "[CV] .................................. n_neighbors=300, total=   1.4s\n",
      "[CV] n_neighbors=300 .................................................\n",
      "[CV] .................................. n_neighbors=300, total=   1.3s\n",
      "[CV] n_neighbors=300 .................................................\n",
      "[CV] .................................. n_neighbors=300, total=   1.4s\n",
      "[CV] n_neighbors=500 .................................................\n",
      "[CV] .................................. n_neighbors=500, total=   1.5s\n",
      "[CV] n_neighbors=500 .................................................\n",
      "[CV] .................................. n_neighbors=500, total=   1.7s\n",
      "[CV] n_neighbors=500 .................................................\n",
      "[CV] .................................. n_neighbors=500, total=   1.5s\n",
      "[CV] n_neighbors=500 .................................................\n",
      "[CV] .................................. n_neighbors=500, total=   1.4s\n",
      "[CV] n_neighbors=500 .................................................\n",
      "[CV] .................................. n_neighbors=500, total=   1.5s\n",
      "[CV] n_neighbors=1000 ................................................\n",
      "[CV] ................................. n_neighbors=1000, total=   1.5s\n",
      "[CV] n_neighbors=1000 ................................................\n",
      "[CV] ................................. n_neighbors=1000, total=   1.5s\n",
      "[CV] n_neighbors=1000 ................................................\n",
      "[CV] ................................. n_neighbors=1000, total=   1.5s\n",
      "[CV] n_neighbors=1000 ................................................\n",
      "[CV] ................................. n_neighbors=1000, total=   1.6s\n",
      "[CV] n_neighbors=1000 ................................................\n",
      "[CV] ................................. n_neighbors=1000, total=   1.6s\n"
     ]
    },
    {
     "name": "stderr",
     "output_type": "stream",
     "text": [
      "[Parallel(n_jobs=1)]: Done  35 out of  35 | elapsed:   45.9s finished\n"
     ]
    },
    {
     "name": "stdout",
     "output_type": "stream",
     "text": [
      "\n",
      "\n",
      "\n",
      " This is for domain \n",
      "\n",
      "[[731   1   3   3   1   0   1   0   4   2]\n",
      " [279 208  14  35  13  93  43   0  26  13]\n",
      " [261  18  96  12  46  24  63   0  31   6]\n",
      " [318  31  58  64  54  38 120   0  43  15]\n",
      " [269   0  38   2 202   3   7   0  15   0]\n",
      " [145 145  30  43   6 143 119   0  19  20]\n",
      " [203  10  50  44  24  69 274   0   9  28]\n",
      " [553   0  11   1  10  15  21  17   3   0]\n",
      " [298  42  20  17  11  39  58   2 117   3]\n",
      " [298  18  37  48  31  30 152   0  28 122]]\n",
      "AxesSubplot(0.125,0.125;0.496x0.755)\n",
      "                    precision    recall  f1-score   support\n",
      "\n",
      "          AskIndia       0.22      0.98      0.36       746\n",
      "  Business/Finance       0.44      0.29      0.35       724\n",
      "              Food       0.27      0.17      0.21       557\n",
      "     Non-Political       0.24      0.09      0.13       741\n",
      "       Photography       0.51      0.38      0.43       536\n",
      "    Policy/Economy       0.31      0.21      0.25       670\n",
      "          Politics       0.32      0.39      0.35       711\n",
      "         Scheduled       0.89      0.03      0.05       631\n",
      "Science/Technology       0.40      0.19      0.26       607\n",
      "            Sports       0.58      0.16      0.25       764\n",
      "\n",
      "          accuracy                           0.30      6687\n",
      "         macro avg       0.42      0.29      0.26      6687\n",
      "      weighted avg       0.41      0.30      0.26      6687\n",
      "\n",
      "accuracy :  0.2951996410946613\n",
      "Fitting 5 folds for each of 7 candidates, totalling 35 fits\n",
      "[CV] n_neighbors=1 ...................................................\n"
     ]
    },
    {
     "name": "stderr",
     "output_type": "stream",
     "text": [
      "[Parallel(n_jobs=1)]: Using backend SequentialBackend with 1 concurrent workers.\n"
     ]
    },
    {
     "name": "stdout",
     "output_type": "stream",
     "text": [
      "[CV] .................................... n_neighbors=1, total=   1.0s\n",
      "[CV] n_neighbors=1 ...................................................\n"
     ]
    },
    {
     "name": "stderr",
     "output_type": "stream",
     "text": [
      "[Parallel(n_jobs=1)]: Done   1 out of   1 | elapsed:    0.9s remaining:    0.0s\n"
     ]
    },
    {
     "name": "stdout",
     "output_type": "stream",
     "text": [
      "[CV] .................................... n_neighbors=1, total=   1.0s\n",
      "[CV] n_neighbors=1 ...................................................\n",
      "[CV] .................................... n_neighbors=1, total=   1.0s\n",
      "[CV] n_neighbors=1 ...................................................\n",
      "[CV] .................................... n_neighbors=1, total=   1.0s\n",
      "[CV] n_neighbors=1 ...................................................\n",
      "[CV] .................................... n_neighbors=1, total=   1.0s\n",
      "[CV] n_neighbors=10 ..................................................\n",
      "[CV] ................................... n_neighbors=10, total=   1.1s\n",
      "[CV] n_neighbors=10 ..................................................\n",
      "[CV] ................................... n_neighbors=10, total=   1.1s\n",
      "[CV] n_neighbors=10 ..................................................\n",
      "[CV] ................................... n_neighbors=10, total=   1.2s\n",
      "[CV] n_neighbors=10 ..................................................\n",
      "[CV] ................................... n_neighbors=10, total=   1.1s\n",
      "[CV] n_neighbors=10 ..................................................\n",
      "[CV] ................................... n_neighbors=10, total=   1.1s\n",
      "[CV] n_neighbors=100 .................................................\n",
      "[CV] .................................. n_neighbors=100, total=   1.2s\n",
      "[CV] n_neighbors=100 .................................................\n",
      "[CV] .................................. n_neighbors=100, total=   1.2s\n",
      "[CV] n_neighbors=100 .................................................\n",
      "[CV] .................................. n_neighbors=100, total=   1.2s\n",
      "[CV] n_neighbors=100 .................................................\n",
      "[CV] .................................. n_neighbors=100, total=   1.1s\n",
      "[CV] n_neighbors=100 .................................................\n",
      "[CV] .................................. n_neighbors=100, total=   1.1s\n",
      "[CV] n_neighbors=150 .................................................\n",
      "[CV] .................................. n_neighbors=150, total=   1.2s\n",
      "[CV] n_neighbors=150 .................................................\n",
      "[CV] .................................. n_neighbors=150, total=   1.2s\n",
      "[CV] n_neighbors=150 .................................................\n",
      "[CV] .................................. n_neighbors=150, total=   1.1s\n",
      "[CV] n_neighbors=150 .................................................\n",
      "[CV] .................................. n_neighbors=150, total=   1.3s\n",
      "[CV] n_neighbors=150 .................................................\n",
      "[CV] .................................. n_neighbors=150, total=   1.1s\n",
      "[CV] n_neighbors=300 .................................................\n",
      "[CV] .................................. n_neighbors=300, total=   1.2s\n",
      "[CV] n_neighbors=300 .................................................\n",
      "[CV] .................................. n_neighbors=300, total=   1.2s\n",
      "[CV] n_neighbors=300 .................................................\n",
      "[CV] .................................. n_neighbors=300, total=   1.2s\n",
      "[CV] n_neighbors=300 .................................................\n",
      "[CV] .................................. n_neighbors=300, total=   1.2s\n",
      "[CV] n_neighbors=300 .................................................\n",
      "[CV] .................................. n_neighbors=300, total=   1.2s\n",
      "[CV] n_neighbors=500 .................................................\n",
      "[CV] .................................. n_neighbors=500, total=   1.2s\n",
      "[CV] n_neighbors=500 .................................................\n",
      "[CV] .................................. n_neighbors=500, total=   1.3s\n",
      "[CV] n_neighbors=500 .................................................\n",
      "[CV] .................................. n_neighbors=500, total=   1.2s\n",
      "[CV] n_neighbors=500 .................................................\n",
      "[CV] .................................. n_neighbors=500, total=   1.3s\n",
      "[CV] n_neighbors=500 .................................................\n",
      "[CV] .................................. n_neighbors=500, total=   1.3s\n",
      "[CV] n_neighbors=1000 ................................................\n",
      "[CV] ................................. n_neighbors=1000, total=   1.4s\n",
      "[CV] n_neighbors=1000 ................................................\n",
      "[CV] ................................. n_neighbors=1000, total=   1.4s\n",
      "[CV] n_neighbors=1000 ................................................\n",
      "[CV] ................................. n_neighbors=1000, total=   1.4s\n",
      "[CV] n_neighbors=1000 ................................................\n",
      "[CV] ................................. n_neighbors=1000, total=   1.5s\n",
      "[CV] n_neighbors=1000 ................................................\n",
      "[CV] ................................. n_neighbors=1000, total=   1.4s\n"
     ]
    },
    {
     "name": "stderr",
     "output_type": "stream",
     "text": [
      "[Parallel(n_jobs=1)]: Done  35 out of  35 | elapsed:   41.7s finished\n"
     ]
    },
    {
     "name": "stdout",
     "output_type": "stream",
     "text": [
      "\n",
      "\n",
      "\n",
      " This is for text \n",
      "\n",
      "[[104  36   2 500   1   1   0   8  71   4]\n",
      " [  1  94   0 587   0   5   0   3  81   1]\n",
      " [  2  17  81 387   0   0   0   1  37   0]\n",
      " [  4  12   0 618   0   2   0   6  81   0]\n",
      " [  1  18   0 283 206   0   0   4  40   0]\n",
      " [  3  11   0 549   0   2   0   2 132   1]\n",
      " [  1  10   5 636   0   2  31   0  65   0]\n",
      " [  2  18   0 250   7   0   0 320  26   0]\n",
      " [  3  25   1 443   0   3   0   1 133   0]\n",
      " [  0  14   0 543   0   1   2   0  90  56]]\n",
      "AxesSubplot(0.125,0.125;0.3968x0.755)\n",
      "                    precision    recall  f1-score   support\n",
      "\n",
      "          AskIndia       0.86      0.14      0.25       727\n",
      "  Business/Finance       0.37      0.12      0.18       772\n",
      "              Food       0.91      0.15      0.26       525\n",
      "     Non-Political       0.13      0.85      0.22       723\n",
      "       Photography       0.96      0.37      0.54       552\n",
      "    Policy/Economy       0.12      0.00      0.01       700\n",
      "          Politics       0.94      0.04      0.08       750\n",
      "         Scheduled       0.93      0.51      0.66       623\n",
      "Science/Technology       0.18      0.22      0.19       609\n",
      "            Sports       0.90      0.08      0.15       706\n",
      "\n",
      "          accuracy                           0.25      6687\n",
      "         macro avg       0.63      0.25      0.25      6687\n",
      "      weighted avg       0.62      0.25      0.24      6687\n",
      "\n",
      "accuracy :  0.24599970091221773\n",
      "Fitting 5 folds for each of 7 candidates, totalling 35 fits\n",
      "[CV] n_neighbors=1 ...................................................\n"
     ]
    },
    {
     "name": "stderr",
     "output_type": "stream",
     "text": [
      "[Parallel(n_jobs=1)]: Using backend SequentialBackend with 1 concurrent workers.\n"
     ]
    },
    {
     "name": "stdout",
     "output_type": "stream",
     "text": [
      "[CV] .................................... n_neighbors=1, total=   1.0s\n",
      "[CV] n_neighbors=1 ...................................................\n"
     ]
    },
    {
     "name": "stderr",
     "output_type": "stream",
     "text": [
      "[Parallel(n_jobs=1)]: Done   1 out of   1 | elapsed:    0.9s remaining:    0.0s\n"
     ]
    },
    {
     "name": "stdout",
     "output_type": "stream",
     "text": [
      "[CV] .................................... n_neighbors=1, total=   1.0s\n",
      "[CV] n_neighbors=1 ...................................................\n",
      "[CV] .................................... n_neighbors=1, total=   1.0s\n",
      "[CV] n_neighbors=1 ...................................................\n",
      "[CV] .................................... n_neighbors=1, total=   1.1s\n",
      "[CV] n_neighbors=1 ...................................................\n",
      "[CV] .................................... n_neighbors=1, total=   1.0s\n",
      "[CV] n_neighbors=10 ..................................................\n",
      "[CV] ................................... n_neighbors=10, total=   1.1s\n",
      "[CV] n_neighbors=10 ..................................................\n",
      "[CV] ................................... n_neighbors=10, total=   1.0s\n",
      "[CV] n_neighbors=10 ..................................................\n",
      "[CV] ................................... n_neighbors=10, total=   1.3s\n",
      "[CV] n_neighbors=10 ..................................................\n",
      "[CV] ................................... n_neighbors=10, total=   1.2s\n",
      "[CV] n_neighbors=10 ..................................................\n",
      "[CV] ................................... n_neighbors=10, total=   1.3s\n",
      "[CV] n_neighbors=100 .................................................\n",
      "[CV] .................................. n_neighbors=100, total=   1.1s\n",
      "[CV] n_neighbors=100 .................................................\n",
      "[CV] .................................. n_neighbors=100, total=   1.1s\n",
      "[CV] n_neighbors=100 .................................................\n",
      "[CV] .................................. n_neighbors=100, total=   1.4s\n",
      "[CV] n_neighbors=100 .................................................\n",
      "[CV] .................................. n_neighbors=100, total=   1.3s\n",
      "[CV] n_neighbors=100 .................................................\n",
      "[CV] .................................. n_neighbors=100, total=   1.4s\n",
      "[CV] n_neighbors=150 .................................................\n",
      "[CV] .................................. n_neighbors=150, total=   1.1s\n",
      "[CV] n_neighbors=150 .................................................\n",
      "[CV] .................................. n_neighbors=150, total=   1.1s\n",
      "[CV] n_neighbors=150 .................................................\n",
      "[CV] .................................. n_neighbors=150, total=   1.4s\n",
      "[CV] n_neighbors=150 .................................................\n",
      "[CV] .................................. n_neighbors=150, total=   1.3s\n",
      "[CV] n_neighbors=150 .................................................\n",
      "[CV] .................................. n_neighbors=150, total=   1.3s\n",
      "[CV] n_neighbors=300 .................................................\n",
      "[CV] .................................. n_neighbors=300, total=   1.1s\n",
      "[CV] n_neighbors=300 .................................................\n",
      "[CV] .................................. n_neighbors=300, total=   1.2s\n",
      "[CV] n_neighbors=300 .................................................\n",
      "[CV] .................................. n_neighbors=300, total=   1.4s\n",
      "[CV] n_neighbors=300 .................................................\n",
      "[CV] .................................. n_neighbors=300, total=   1.3s\n",
      "[CV] n_neighbors=300 .................................................\n",
      "[CV] .................................. n_neighbors=300, total=   1.4s\n",
      "[CV] n_neighbors=500 .................................................\n",
      "[CV] .................................. n_neighbors=500, total=   1.2s\n",
      "[CV] n_neighbors=500 .................................................\n",
      "[CV] .................................. n_neighbors=500, total=   1.2s\n",
      "[CV] n_neighbors=500 .................................................\n",
      "[CV] .................................. n_neighbors=500, total=   1.5s\n",
      "[CV] n_neighbors=500 .................................................\n",
      "[CV] .................................. n_neighbors=500, total=   1.4s\n",
      "[CV] n_neighbors=500 .................................................\n",
      "[CV] .................................. n_neighbors=500, total=   1.6s\n",
      "[CV] n_neighbors=1000 ................................................\n",
      "[CV] ................................. n_neighbors=1000, total=   1.6s\n",
      "[CV] n_neighbors=1000 ................................................\n",
      "[CV] ................................. n_neighbors=1000, total=   1.7s\n",
      "[CV] n_neighbors=1000 ................................................\n",
      "[CV] ................................. n_neighbors=1000, total=   1.7s\n",
      "[CV] n_neighbors=1000 ................................................\n",
      "[CV] ................................. n_neighbors=1000, total=   1.7s\n",
      "[CV] n_neighbors=1000 ................................................\n",
      "[CV] ................................. n_neighbors=1000, total=   1.7s\n"
     ]
    },
    {
     "name": "stderr",
     "output_type": "stream",
     "text": [
      "[Parallel(n_jobs=1)]: Done  35 out of  35 | elapsed:   45.0s finished\n"
     ]
    },
    {
     "name": "stdout",
     "output_type": "stream",
     "text": [
      "\n",
      "\n",
      "\n",
      " This is for title \n",
      "\n",
      "[[233 245  21  56  18  23  42  24  49  24]\n",
      " [ 41 458   8  42   8  79  10  26  44  16]\n",
      " [ 19  78 429   8   3  15  12   3  11   7]\n",
      " [ 70 281  31 140  12  31  56  22  41  40]\n",
      " [  9  14   0   0 525   0   2   4   0   2]\n",
      " [ 40 288  12  39   4 176  51  14  30  25]\n",
      " [ 42 246  17  57   4  43 234  15  34  29]\n",
      " [ 12  59   3   7  12   5   5 457   6   1]\n",
      " [ 51 204  10  35   8  36  25  10 244  27]\n",
      " [ 28 205   7  28   4  20  31  14  15 386]]\n",
      "AxesSubplot(0.125,0.125;0.31744x0.755)\n",
      "                    precision    recall  f1-score   support\n",
      "\n",
      "          AskIndia       0.43      0.32      0.36       735\n",
      "  Business/Finance       0.22      0.63      0.33       732\n",
      "              Food       0.80      0.73      0.76       585\n",
      "     Non-Political       0.34      0.19      0.25       724\n",
      "       Photography       0.88      0.94      0.91       556\n",
      "    Policy/Economy       0.41      0.26      0.32       679\n",
      "          Politics       0.50      0.32      0.39       721\n",
      "         Scheduled       0.78      0.81      0.79       567\n",
      "Science/Technology       0.51      0.38      0.43       650\n",
      "            Sports       0.69      0.52      0.60       738\n",
      "\n",
      "          accuracy                           0.49      6687\n",
      "         macro avg       0.56      0.51      0.51      6687\n",
      "      weighted avg       0.54      0.49      0.49      6687\n",
      "\n",
      "accuracy :  0.4908030506953791\n",
      "Fitting 5 folds for each of 7 candidates, totalling 35 fits\n",
      "[CV] n_neighbors=1 ...................................................\n"
     ]
    },
    {
     "name": "stderr",
     "output_type": "stream",
     "text": [
      "[Parallel(n_jobs=1)]: Using backend SequentialBackend with 1 concurrent workers.\n"
     ]
    },
    {
     "name": "stdout",
     "output_type": "stream",
     "text": [
      "[CV] .................................... n_neighbors=1, total=   1.0s\n",
      "[CV] n_neighbors=1 ...................................................\n"
     ]
    },
    {
     "name": "stderr",
     "output_type": "stream",
     "text": [
      "[Parallel(n_jobs=1)]: Done   1 out of   1 | elapsed:    0.9s remaining:    0.0s\n"
     ]
    },
    {
     "name": "stdout",
     "output_type": "stream",
     "text": [
      "[CV] .................................... n_neighbors=1, total=   1.0s\n",
      "[CV] n_neighbors=1 ...................................................\n",
      "[CV] .................................... n_neighbors=1, total=   1.0s\n",
      "[CV] n_neighbors=1 ...................................................\n",
      "[CV] .................................... n_neighbors=1, total=   1.0s\n",
      "[CV] n_neighbors=1 ...................................................\n",
      "[CV] .................................... n_neighbors=1, total=   1.0s\n",
      "[CV] n_neighbors=10 ..................................................\n",
      "[CV] ................................... n_neighbors=10, total=   1.2s\n",
      "[CV] n_neighbors=10 ..................................................\n",
      "[CV] ................................... n_neighbors=10, total=   1.0s\n",
      "[CV] n_neighbors=10 ..................................................\n",
      "[CV] ................................... n_neighbors=10, total=   1.2s\n",
      "[CV] n_neighbors=10 ..................................................\n",
      "[CV] ................................... n_neighbors=10, total=   1.3s\n",
      "[CV] n_neighbors=10 ..................................................\n",
      "[CV] ................................... n_neighbors=10, total=   1.2s\n",
      "[CV] n_neighbors=100 .................................................\n",
      "[CV] .................................. n_neighbors=100, total=   1.2s\n",
      "[CV] n_neighbors=100 .................................................\n",
      "[CV] .................................. n_neighbors=100, total=   1.0s\n",
      "[CV] n_neighbors=100 .................................................\n",
      "[CV] .................................. n_neighbors=100, total=   1.3s\n",
      "[CV] n_neighbors=100 .................................................\n",
      "[CV] .................................. n_neighbors=100, total=   1.3s\n",
      "[CV] n_neighbors=100 .................................................\n",
      "[CV] .................................. n_neighbors=100, total=   1.2s\n",
      "[CV] n_neighbors=150 .................................................\n",
      "[CV] .................................. n_neighbors=150, total=   1.2s\n",
      "[CV] n_neighbors=150 .................................................\n",
      "[CV] .................................. n_neighbors=150, total=   1.0s\n",
      "[CV] n_neighbors=150 .................................................\n",
      "[CV] .................................. n_neighbors=150, total=   1.3s\n",
      "[CV] n_neighbors=150 .................................................\n",
      "[CV] .................................. n_neighbors=150, total=   1.3s\n",
      "[CV] n_neighbors=150 .................................................\n",
      "[CV] .................................. n_neighbors=150, total=   1.2s\n",
      "[CV] n_neighbors=300 .................................................\n",
      "[CV] .................................. n_neighbors=300, total=   1.3s\n",
      "[CV] n_neighbors=300 .................................................\n",
      "[CV] .................................. n_neighbors=300, total=   1.1s\n",
      "[CV] n_neighbors=300 .................................................\n",
      "[CV] .................................. n_neighbors=300, total=   1.3s\n",
      "[CV] n_neighbors=300 .................................................\n",
      "[CV] .................................. n_neighbors=300, total=   1.3s\n",
      "[CV] n_neighbors=300 .................................................\n",
      "[CV] .................................. n_neighbors=300, total=   1.2s\n",
      "[CV] n_neighbors=500 .................................................\n",
      "[CV] .................................. n_neighbors=500, total=   1.3s\n",
      "[CV] n_neighbors=500 .................................................\n",
      "[CV] .................................. n_neighbors=500, total=   1.1s\n",
      "[CV] n_neighbors=500 .................................................\n",
      "[CV] .................................. n_neighbors=500, total=   1.4s\n",
      "[CV] n_neighbors=500 .................................................\n",
      "[CV] .................................. n_neighbors=500, total=   1.4s\n",
      "[CV] n_neighbors=500 .................................................\n",
      "[CV] .................................. n_neighbors=500, total=   1.2s\n",
      "[CV] n_neighbors=1000 ................................................\n",
      "[CV] ................................. n_neighbors=1000, total=   1.5s\n",
      "[CV] n_neighbors=1000 ................................................\n",
      "[CV] ................................. n_neighbors=1000, total=   1.5s\n",
      "[CV] n_neighbors=1000 ................................................\n",
      "[CV] ................................. n_neighbors=1000, total=   1.5s\n",
      "[CV] n_neighbors=1000 ................................................\n",
      "[CV] ................................. n_neighbors=1000, total=   1.5s\n",
      "[CV] n_neighbors=1000 ................................................\n",
      "[CV] ................................. n_neighbors=1000, total=   1.4s\n"
     ]
    },
    {
     "name": "stderr",
     "output_type": "stream",
     "text": [
      "[Parallel(n_jobs=1)]: Done  35 out of  35 | elapsed:   42.7s finished\n"
     ]
    },
    {
     "name": "stdout",
     "output_type": "stream",
     "text": [
      "\n",
      "\n",
      "\n",
      " This is for url \n",
      "\n",
      "[[ 81 643   0   0   2   2   0   0   1   2]\n",
      " [  1 733   0   3   0  11   0   5   3   0]\n",
      " [  1 234 310   0   0   0   1   0   0   0]\n",
      " [  0 606   0  89   0   0   2   0   2   0]\n",
      " [  0  36   0   0 511   0   0  12   0   0]\n",
      " [  0 598   0   0   0  62   1   0   7   1]\n",
      " [  0 670   5   4   0   2  86   0   0   0]\n",
      " [  1 276   0   0   5   0   2 306   0   0]\n",
      " [  0 524   0   1   0   6   1   0 106   0]\n",
      " [  0 629   0   0   0   0   0   0   0 103]]\n",
      "AxesSubplot(0.125,0.125;0.253952x0.755)\n",
      "                    precision    recall  f1-score   support\n",
      "\n",
      "          AskIndia       0.96      0.11      0.20       731\n",
      "  Business/Finance       0.15      0.97      0.26       756\n",
      "              Food       0.98      0.57      0.72       546\n",
      "     Non-Political       0.92      0.13      0.22       699\n",
      "       Photography       0.99      0.91      0.95       559\n",
      "    Policy/Economy       0.75      0.09      0.16       669\n",
      "          Politics       0.92      0.11      0.20       767\n",
      "         Scheduled       0.95      0.52      0.67       590\n",
      "Science/Technology       0.89      0.17      0.28       638\n",
      "            Sports       0.97      0.14      0.25       732\n",
      "\n",
      "          accuracy                           0.36      6687\n",
      "         macro avg       0.85      0.37      0.39      6687\n",
      "      weighted avg       0.84      0.36      0.36      6687\n",
      "\n",
      "accuracy :  0.3569612681321968\n"
     ]
    },
    {
     "data": {
      "image/png": "[encoded data removed]",
      "text/plain": [
       "<Figure size 432x288 with 6 Axes>"
      ]
     },
     "metadata": {},
     "output_type": "display_data"
    }
   ],
   "source": [
    "for x in to_probe:\n",
    "    X=df[x].fillna(value='')\n",
    "    y=df['flair']\n",
    "    X_train,X_test,y_train,y_test=train_test_split(X,y,test_size=0.3)\n",
    "    pipeline.fit(X_train,y_train)\n",
    "    save_classifier=open(\"knn_ff2\"+x+\".pickle\",\"wb\")\n",
    "    pickle.dump(pipeline,save_classifier)\n",
    "    save_classifier.close()\n",
    "    predictions = pipeline.predict(X_test)\n",
    "    print('\\n\\n\\n This is for',x,'\\n')\n",
    "    print(confusion_matrix(y_test,predictions))\n",
    "    print(sns.heatmap(confusion_matrix(y_test,predictions)))\n",
    "    print(classification_report(y_test,predictions))\n",
    "    print('accuracy : ',accuracy_score(y_test,predictions))\n",
    "    \n",
    "    \n",
    "    "
   ]
  },
  {
   "cell_type": "markdown",
   "metadata": {},
   "source": [
    "Comments : accuracy= 0.30  \n",
    "Domain   : accuracy= 0.29                     \n",
    "Text     : accuracy= 0.24                                            \n",
    "Title    : accuracy= 0.49                                               \n",
    "url      : accuracy= 0.35\n",
    "    \n",
    "This does not give us results as good as other classifiers. We move on to take a look at combined features."
   ]
  },
  {
   "cell_type": "code",
   "execution_count": 75,
   "metadata": {},
   "outputs": [
    {
     "name": "stdout",
     "output_type": "stream",
     "text": [
      "Fitting 5 folds for each of 7 candidates, totalling 35 fits\n",
      "[CV] n_neighbors=1 ...................................................\n"
     ]
    },
    {
     "name": "stderr",
     "output_type": "stream",
     "text": [
      "[Parallel(n_jobs=1)]: Using backend SequentialBackend with 1 concurrent workers.\n"
     ]
    },
    {
     "name": "stdout",
     "output_type": "stream",
     "text": [
      "[CV] .................................... n_neighbors=1, total=   2.2s\n",
      "[CV] n_neighbors=1 ...................................................\n"
     ]
    },
    {
     "name": "stderr",
     "output_type": "stream",
     "text": [
      "[Parallel(n_jobs=1)]: Done   1 out of   1 | elapsed:    2.1s remaining:    0.0s\n"
     ]
    },
    {
     "name": "stdout",
     "output_type": "stream",
     "text": [
      "[CV] .................................... n_neighbors=1, total=   2.1s\n",
      "[CV] n_neighbors=1 ...................................................\n",
      "[CV] .................................... n_neighbors=1, total=   2.1s\n",
      "[CV] n_neighbors=1 ...................................................\n",
      "[CV] .................................... n_neighbors=1, total=   2.1s\n",
      "[CV] n_neighbors=1 ...................................................\n",
      "[CV] .................................... n_neighbors=1, total=   2.1s\n",
      "[CV] n_neighbors=10 ..................................................\n",
      "[CV] ................................... n_neighbors=10, total=   2.6s\n",
      "[CV] n_neighbors=10 ..................................................\n",
      "[CV] ................................... n_neighbors=10, total=   2.4s\n",
      "[CV] n_neighbors=10 ..................................................\n",
      "[CV] ................................... n_neighbors=10, total=   2.5s\n",
      "[CV] n_neighbors=10 ..................................................\n",
      "[CV] ................................... n_neighbors=10, total=   2.0s\n",
      "[CV] n_neighbors=10 ..................................................\n",
      "[CV] ................................... n_neighbors=10, total=   1.5s\n",
      "[CV] n_neighbors=100 .................................................\n",
      "[CV] .................................. n_neighbors=100, total=   1.7s\n",
      "[CV] n_neighbors=100 .................................................\n",
      "[CV] .................................. n_neighbors=100, total=   1.6s\n",
      "[CV] n_neighbors=100 .................................................\n",
      "[CV] .................................. n_neighbors=100, total=   1.9s\n",
      "[CV] n_neighbors=100 .................................................\n",
      "[CV] .................................. n_neighbors=100, total=   2.1s\n",
      "[CV] n_neighbors=100 .................................................\n",
      "[CV] .................................. n_neighbors=100, total=   2.1s\n",
      "[CV] n_neighbors=150 .................................................\n",
      "[CV] .................................. n_neighbors=150, total=   2.3s\n",
      "[CV] n_neighbors=150 .................................................\n",
      "[CV] .................................. n_neighbors=150, total=   2.1s\n",
      "[CV] n_neighbors=150 .................................................\n",
      "[CV] .................................. n_neighbors=150, total=   2.1s\n",
      "[CV] n_neighbors=150 .................................................\n",
      "[CV] .................................. n_neighbors=150, total=   2.5s\n",
      "[CV] n_neighbors=150 .................................................\n",
      "[CV] .................................. n_neighbors=150, total=   2.4s\n",
      "[CV] n_neighbors=300 .................................................\n",
      "[CV] .................................. n_neighbors=300, total=   2.7s\n",
      "[CV] n_neighbors=300 .................................................\n",
      "[CV] .................................. n_neighbors=300, total=   1.9s\n",
      "[CV] n_neighbors=300 .................................................\n",
      "[CV] .................................. n_neighbors=300, total=   2.2s\n",
      "[CV] n_neighbors=300 .................................................\n",
      "[CV] .................................. n_neighbors=300, total=   1.9s\n",
      "[CV] n_neighbors=300 .................................................\n",
      "[CV] .................................. n_neighbors=300, total=   1.9s\n",
      "[CV] n_neighbors=500 .................................................\n",
      "[CV] .................................. n_neighbors=500, total=   2.5s\n",
      "[CV] n_neighbors=500 .................................................\n",
      "[CV] .................................. n_neighbors=500, total=   2.3s\n",
      "[CV] n_neighbors=500 .................................................\n",
      "[CV] .................................. n_neighbors=500, total=   2.7s\n",
      "[CV] n_neighbors=500 .................................................\n",
      "[CV] .................................. n_neighbors=500, total=   2.6s\n",
      "[CV] n_neighbors=500 .................................................\n",
      "[CV] .................................. n_neighbors=500, total=   2.6s\n",
      "[CV] n_neighbors=1000 ................................................\n",
      "[CV] ................................. n_neighbors=1000, total=   3.1s\n",
      "[CV] n_neighbors=1000 ................................................\n",
      "[CV] ................................. n_neighbors=1000, total=   2.9s\n",
      "[CV] n_neighbors=1000 ................................................\n",
      "[CV] ................................. n_neighbors=1000, total=   2.9s\n",
      "[CV] n_neighbors=1000 ................................................\n",
      "[CV] ................................. n_neighbors=1000, total=   3.0s\n",
      "[CV] n_neighbors=1000 ................................................\n",
      "[CV] ................................. n_neighbors=1000, total=   3.0s\n"
     ]
    },
    {
     "name": "stderr",
     "output_type": "stream",
     "text": [
      "[Parallel(n_jobs=1)]: Done  35 out of  35 | elapsed:  1.3min finished\n"
     ]
    },
    {
     "name": "stdout",
     "output_type": "stream",
     "text": [
      "\n",
      "\n",
      "\n",
      " This is for \n",
      "\n",
      "[[ 81   0   2   1   0   1   0   0   3 672]\n",
      " [  2  80   0   0   1   4   1   7   1 657]\n",
      " [  0   0  80   1   0   0   2   0   0 458]\n",
      " [  0   1   0  29   1   0   0   0   0 708]\n",
      " [  0   0   0   0 195   0   0   6   0 352]\n",
      " [  2   3   0   1   0  24   0   2   2 642]\n",
      " [  0   0   2   0   0   1  30   0   0 714]\n",
      " [  0   8   0   0   8   1   0 204   0 384]\n",
      " [  0   3   0   0   0   3   0   1  50 556]\n",
      " [  0   0   0   0   0   1   0   1   0 698]]\n",
      "AxesSubplot(0.125,0.125;0.62x0.755)\n",
      "                    precision    recall  f1-score   support\n",
      "\n",
      "          AskIndia       0.95      0.11      0.19       760\n",
      "  Business/Finance       0.84      0.11      0.19       753\n",
      "              Food       0.95      0.15      0.26       541\n",
      "     Non-Political       0.91      0.04      0.08       739\n",
      "       Photography       0.95      0.35      0.51       553\n",
      "    Policy/Economy       0.69      0.04      0.07       676\n",
      "          Politics       0.91      0.04      0.08       747\n",
      "         Scheduled       0.92      0.34      0.49       605\n",
      "Science/Technology       0.89      0.08      0.15       613\n",
      "            Sports       0.12      1.00      0.21       700\n",
      "\n",
      "          accuracy                           0.22      6687\n",
      "         macro avg       0.81      0.22      0.22      6687\n",
      "      weighted avg       0.81      0.22      0.21      6687\n",
      "\n",
      "accuracy :  0.21997906385524152\n"
     ]
    },
    {
     "data": {
      "image/png": "[encoded data removed]",
      "text/plain": [
       "<Figure size 432x288 with 2 Axes>"
      ]
     },
     "metadata": {},
     "output_type": "display_data"
    }
   ],
   "source": [
    "comb_feats=df['comments']+df['domain']+df['text']+df['title']+df['url']\n",
    "X=comb_feats.fillna(value='')\n",
    "y=df['flair']\n",
    "X_train,X_test,y_train,y_test=train_test_split(X,y,test_size=0.3)\n",
    "pipeline.fit(X_train,y_train)\n",
    "save_classifier=open(\"dtree_f2\"+\"comb\"+\".pickle\",\"wb\")\n",
    "pickle.dump(pipeline,save_classifier)\n",
    "save_classifier.close()\n",
    "predictions = pipeline.predict(X_test)\n",
    "print('\\n\\n\\n This is for','\\n')\n",
    "print(confusion_matrix(y_test,predictions))\n",
    "print(sns.heatmap(confusion_matrix(y_test,predictions)))\n",
    "print(classification_report(y_test,predictions))\n",
    "print('accuracy : ',accuracy_score(y_test,predictions))\n",
    "    "
   ]
  },
  {
   "cell_type": "code",
   "execution_count": 76,
   "metadata": {},
   "outputs": [
    {
     "name": "stdout",
     "output_type": "stream",
     "text": [
      "Fitting 5 folds for each of 7 candidates, totalling 35 fits\n",
      "[CV] n_neighbors=1 ...................................................\n"
     ]
    },
    {
     "name": "stderr",
     "output_type": "stream",
     "text": [
      "[Parallel(n_jobs=1)]: Using backend SequentialBackend with 1 concurrent workers.\n"
     ]
    },
    {
     "name": "stdout",
     "output_type": "stream",
     "text": [
      "[CV] .................................... n_neighbors=1, total=   1.8s\n",
      "[CV] n_neighbors=1 ...................................................\n"
     ]
    },
    {
     "name": "stderr",
     "output_type": "stream",
     "text": [
      "[Parallel(n_jobs=1)]: Done   1 out of   1 | elapsed:    1.7s remaining:    0.0s\n"
     ]
    },
    {
     "name": "stdout",
     "output_type": "stream",
     "text": [
      "[CV] .................................... n_neighbors=1, total=   1.8s\n",
      "[CV] n_neighbors=1 ...................................................\n",
      "[CV] .................................... n_neighbors=1, total=   1.8s\n",
      "[CV] n_neighbors=1 ...................................................\n",
      "[CV] .................................... n_neighbors=1, total=   1.8s\n",
      "[CV] n_neighbors=1 ...................................................\n",
      "[CV] .................................... n_neighbors=1, total=   2.2s\n",
      "[CV] n_neighbors=10 ..................................................\n",
      "[CV] ................................... n_neighbors=10, total=   2.1s\n",
      "[CV] n_neighbors=10 ..................................................\n",
      "[CV] ................................... n_neighbors=10, total=   2.1s\n",
      "[CV] n_neighbors=10 ..................................................\n",
      "[CV] ................................... n_neighbors=10, total=   2.1s\n",
      "[CV] n_neighbors=10 ..................................................\n",
      "[CV] ................................... n_neighbors=10, total=   2.0s\n",
      "[CV] n_neighbors=10 ..................................................\n",
      "[CV] ................................... n_neighbors=10, total=   2.0s\n",
      "[CV] n_neighbors=100 .................................................\n",
      "[CV] .................................. n_neighbors=100, total=   1.8s\n",
      "[CV] n_neighbors=100 .................................................\n",
      "[CV] .................................. n_neighbors=100, total=   2.0s\n",
      "[CV] n_neighbors=100 .................................................\n",
      "[CV] .................................. n_neighbors=100, total=   1.8s\n",
      "[CV] n_neighbors=100 .................................................\n",
      "[CV] .................................. n_neighbors=100, total=   2.1s\n",
      "[CV] n_neighbors=100 .................................................\n",
      "[CV] .................................. n_neighbors=100, total=   2.1s\n",
      "[CV] n_neighbors=150 .................................................\n",
      "[CV] .................................. n_neighbors=150, total=   1.9s\n",
      "[CV] n_neighbors=150 .................................................\n",
      "[CV] .................................. n_neighbors=150, total=   2.0s\n",
      "[CV] n_neighbors=150 .................................................\n",
      "[CV] .................................. n_neighbors=150, total=   1.8s\n",
      "[CV] n_neighbors=150 .................................................\n",
      "[CV] .................................. n_neighbors=150, total=   1.9s\n",
      "[CV] n_neighbors=150 .................................................\n",
      "[CV] .................................. n_neighbors=150, total=   2.1s\n",
      "[CV] n_neighbors=300 .................................................\n",
      "[CV] .................................. n_neighbors=300, total=   1.8s\n",
      "[CV] n_neighbors=300 .................................................\n",
      "[CV] .................................. n_neighbors=300, total=   2.0s\n",
      "[CV] n_neighbors=300 .................................................\n",
      "[CV] .................................. n_neighbors=300, total=   1.9s\n",
      "[CV] n_neighbors=300 .................................................\n",
      "[CV] .................................. n_neighbors=300, total=   2.1s\n",
      "[CV] n_neighbors=300 .................................................\n",
      "[CV] .................................. n_neighbors=300, total=   2.1s\n",
      "[CV] n_neighbors=500 .................................................\n",
      "[CV] .................................. n_neighbors=500, total=   1.9s\n",
      "[CV] n_neighbors=500 .................................................\n",
      "[CV] .................................. n_neighbors=500, total=   2.0s\n",
      "[CV] n_neighbors=500 .................................................\n",
      "[CV] .................................. n_neighbors=500, total=   2.0s\n",
      "[CV] n_neighbors=500 .................................................\n",
      "[CV] .................................. n_neighbors=500, total=   2.2s\n",
      "[CV] n_neighbors=500 .................................................\n",
      "[CV] .................................. n_neighbors=500, total=   2.2s\n",
      "[CV] n_neighbors=1000 ................................................\n",
      "[CV] ................................. n_neighbors=1000, total=   2.1s\n",
      "[CV] n_neighbors=1000 ................................................\n",
      "[CV] ................................. n_neighbors=1000, total=   2.2s\n",
      "[CV] n_neighbors=1000 ................................................\n",
      "[CV] ................................. n_neighbors=1000, total=   2.1s\n",
      "[CV] n_neighbors=1000 ................................................\n",
      "[CV] ................................. n_neighbors=1000, total=   2.3s\n",
      "[CV] n_neighbors=1000 ................................................\n",
      "[CV] ................................. n_neighbors=1000, total=   2.3s\n"
     ]
    },
    {
     "name": "stderr",
     "output_type": "stream",
     "text": [
      "[Parallel(n_jobs=1)]: Done  35 out of  35 | elapsed:  1.2min finished\n"
     ]
    },
    {
     "name": "stdout",
     "output_type": "stream",
     "text": [
      "\n",
      "\n",
      "\n",
      " This is for \n",
      "\n",
      "[[ 90   3   0   0 645   4   0   2   0   1]\n",
      " [  0 114   1   3 607   9   0   4   3   0]\n",
      " [  2   0 234   0 277   0   5   1   0   0]\n",
      " [  4   0   1  77 630   2   4   0   1   1]\n",
      " [  2   0   0   0 562   0   0   1   0   0]\n",
      " [  1   9   1   1 622  52   1   1   7   2]\n",
      " [  2   2   4   2 663   2  86   3   0   0]\n",
      " [  2   6   0   0 323   0   0 260   2   0]\n",
      " [  0   6   0   0 539   7   0   0  97   1]\n",
      " [  0   0   2   1 589   1   2   0   1  97]]\n",
      "AxesSubplot(0.125,0.125;0.62x0.755)\n",
      "                    precision    recall  f1-score   support\n",
      "\n",
      "          AskIndia       0.87      0.12      0.21       745\n",
      "  Business/Finance       0.81      0.15      0.26       741\n",
      "              Food       0.96      0.45      0.61       519\n",
      "     Non-Political       0.92      0.11      0.19       720\n",
      "       Photography       0.10      0.99      0.19       565\n",
      "    Policy/Economy       0.68      0.07      0.13       697\n",
      "          Politics       0.88      0.11      0.20       764\n",
      "         Scheduled       0.96      0.44      0.60       593\n",
      "Science/Technology       0.87      0.15      0.25       650\n",
      "            Sports       0.95      0.14      0.24       693\n",
      "\n",
      "          accuracy                           0.25      6687\n",
      "         macro avg       0.80      0.27      0.29      6687\n",
      "      weighted avg       0.81      0.25      0.28      6687\n",
      "\n",
      "accuracy :  0.24958875429938687\n"
     ]
    },
    {
     "data": {
      "image/png": "[encoded data removed]",
      "text/plain": [
       "<Figure size 432x288 with 2 Axes>"
      ]
     },
     "metadata": {},
     "output_type": "display_data"
    }
   ],
   "source": [
    "comb_feats=df['comments']+df['title']+df['url']\n",
    "X=comb_feats.fillna(value='')\n",
    "y=df['flair']\n",
    "X_train,X_test,y_train,y_test=train_test_split(X,y,test_size=0.3)\n",
    "pipeline.fit(X_train,y_train)\n",
    "save_classifier=open(\"dtree_f2\"+\"comb\"+\".pickle\",\"wb\")\n",
    "pickle.dump(pipeline,save_classifier)\n",
    "save_classifier.close()\n",
    "predictions = pipeline.predict(X_test)\n",
    "print('\\n\\n\\n This is for','\\n')\n",
    "print(confusion_matrix(y_test,predictions))\n",
    "print(sns.heatmap(confusion_matrix(y_test,predictions)))\n",
    "print(classification_report(y_test,predictions))\n",
    "print('accuracy : ',accuracy_score(y_test,predictions))\n",
    "    "
   ]
  },
  {
   "cell_type": "markdown",
   "metadata": {},
   "source": [
    "The heatmap gives us an idea of the inaccuracy. We now analyse the features left."
   ]
  },
  {
   "cell_type": "code",
   "execution_count": 79,
   "metadata": {},
   "outputs": [],
   "source": [
    "pipeline = Pipeline([\n",
    "    ('scaled',StandardScaler(with_mean=False)),\n",
    "    ('classifier', GridSearchCV(KNeighborsClassifier(n_jobs=-1),param_grid,refit=True,verbose=2)),\n",
    "])"
   ]
  },
  {
   "cell_type": "code",
   "execution_count": 80,
   "metadata": {},
   "outputs": [
    {
     "name": "stdout",
     "output_type": "stream",
     "text": [
      "Fitting 5 folds for each of 7 candidates, totalling 35 fits\n",
      "[CV] n_neighbors=1 ...................................................\n"
     ]
    },
    {
     "name": "stderr",
     "output_type": "stream",
     "text": [
      "[Parallel(n_jobs=1)]: Using backend SequentialBackend with 1 concurrent workers.\n"
     ]
    },
    {
     "name": "stdout",
     "output_type": "stream",
     "text": [
      "[CV] .................................... n_neighbors=1, total=   2.2s\n",
      "[CV] n_neighbors=1 ...................................................\n",
      "[CV] .................................... n_neighbors=1, total=   0.1s\n",
      "[CV] n_neighbors=1 ...................................................\n"
     ]
    },
    {
     "name": "stderr",
     "output_type": "stream",
     "text": [
      "[Parallel(n_jobs=1)]: Done   1 out of   1 | elapsed:    2.1s remaining:    0.0s\n"
     ]
    },
    {
     "name": "stdout",
     "output_type": "stream",
     "text": [
      "[CV] .................................... n_neighbors=1, total=   0.2s\n",
      "[CV] n_neighbors=1 ...................................................\n",
      "[CV] .................................... n_neighbors=1, total=   0.1s\n",
      "[CV] n_neighbors=1 ...................................................\n",
      "[CV] .................................... n_neighbors=1, total=   0.1s\n",
      "[CV] n_neighbors=10 ..................................................\n",
      "[CV] ................................... n_neighbors=10, total=   0.1s\n",
      "[CV] n_neighbors=10 ..................................................\n",
      "[CV] ................................... n_neighbors=10, total=   0.2s\n",
      "[CV] n_neighbors=10 ..................................................\n",
      "[CV] ................................... n_neighbors=10, total=   0.1s\n",
      "[CV] n_neighbors=10 ..................................................\n",
      "[CV] ................................... n_neighbors=10, total=   0.2s\n",
      "[CV] n_neighbors=10 ..................................................\n",
      "[CV] ................................... n_neighbors=10, total=   0.1s\n",
      "[CV] n_neighbors=100 .................................................\n",
      "[CV] .................................. n_neighbors=100, total=   0.2s\n",
      "[CV] n_neighbors=100 .................................................\n",
      "[CV] .................................. n_neighbors=100, total=   0.2s\n",
      "[CV] n_neighbors=100 .................................................\n",
      "[CV] .................................. n_neighbors=100, total=   0.2s\n",
      "[CV] n_neighbors=100 .................................................\n",
      "[CV] .................................. n_neighbors=100, total=   0.2s\n",
      "[CV] n_neighbors=100 .................................................\n",
      "[CV] .................................. n_neighbors=100, total=   0.2s\n",
      "[CV] n_neighbors=150 .................................................\n",
      "[CV] .................................. n_neighbors=150, total=   0.2s\n",
      "[CV] n_neighbors=150 .................................................\n",
      "[CV] .................................. n_neighbors=150, total=   0.2s\n",
      "[CV] n_neighbors=150 .................................................\n",
      "[CV] .................................. n_neighbors=150, total=   0.2s\n",
      "[CV] n_neighbors=150 .................................................\n",
      "[CV] .................................. n_neighbors=150, total=   0.2s\n",
      "[CV] n_neighbors=150 .................................................\n",
      "[CV] .................................. n_neighbors=150, total=   0.2s\n",
      "[CV] n_neighbors=300 .................................................\n",
      "[CV] .................................. n_neighbors=300, total=   0.3s\n",
      "[CV] n_neighbors=300 .................................................\n",
      "[CV] .................................. n_neighbors=300, total=   0.3s\n",
      "[CV] n_neighbors=300 .................................................\n",
      "[CV] .................................. n_neighbors=300, total=   0.3s\n",
      "[CV] n_neighbors=300 .................................................\n",
      "[CV] .................................. n_neighbors=300, total=   0.3s\n",
      "[CV] n_neighbors=300 .................................................\n",
      "[CV] .................................. n_neighbors=300, total=   0.3s\n",
      "[CV] n_neighbors=500 .................................................\n",
      "[CV] .................................. n_neighbors=500, total=   0.4s\n",
      "[CV] n_neighbors=500 .................................................\n",
      "[CV] .................................. n_neighbors=500, total=   0.4s\n",
      "[CV] n_neighbors=500 .................................................\n",
      "[CV] .................................. n_neighbors=500, total=   0.4s\n",
      "[CV] n_neighbors=500 .................................................\n",
      "[CV] .................................. n_neighbors=500, total=   0.4s\n",
      "[CV] n_neighbors=500 .................................................\n",
      "[CV] .................................. n_neighbors=500, total=   0.4s\n",
      "[CV] n_neighbors=1000 ................................................\n",
      "[CV] ................................. n_neighbors=1000, total=   0.7s\n",
      "[CV] n_neighbors=1000 ................................................\n",
      "[CV] ................................. n_neighbors=1000, total=   0.6s\n",
      "[CV] n_neighbors=1000 ................................................\n",
      "[CV] ................................. n_neighbors=1000, total=   0.7s\n",
      "[CV] n_neighbors=1000 ................................................\n",
      "[CV] ................................. n_neighbors=1000, total=   0.6s\n",
      "[CV] n_neighbors=1000 ................................................\n",
      "[CV] ................................. n_neighbors=1000, total=   0.7s\n"
     ]
    },
    {
     "name": "stderr",
     "output_type": "stream",
     "text": [
      "[Parallel(n_jobs=1)]: Done  35 out of  35 | elapsed:   12.2s finished\n"
     ]
    },
    {
     "name": "stdout",
     "output_type": "stream",
     "text": [
      "\n",
      "\n",
      "\n",
      " This is for \n",
      "\n",
      "[[285  54  42  65  31  40  41  39  71  55]\n",
      " [ 39 214  46  63  21  80  69  39  76  77]\n",
      " [ 30  40 252  45  18  44  45  15  38  33]\n",
      " [ 64  91  58 149  24  57  71  25  74  88]\n",
      " [ 12  35  15  26 393  19  12  18  21  15]\n",
      " [ 50  96  39  79  28 117  92  26  74  82]\n",
      " [ 36  96  49  87  22  90 175  31  72 130]\n",
      " [ 31  35  14  19  14  18  25 407  14  23]\n",
      " [ 38  89  51  63  23  83  57  21 137  66]\n",
      " [ 44  83  67  80  13  71  70  28  84 174]]\n",
      "AxesSubplot(0.125,0.125;0.62x0.755)\n",
      "                    precision    recall  f1-score   support\n",
      "\n",
      "          AskIndia       0.45      0.39      0.42       723\n",
      "  Business/Finance       0.26      0.30      0.27       724\n",
      "              Food       0.40      0.45      0.42       560\n",
      "     Non-Political       0.22      0.21      0.22       701\n",
      "       Photography       0.67      0.69      0.68       566\n",
      "    Policy/Economy       0.19      0.17      0.18       683\n",
      "          Politics       0.27      0.22      0.24       788\n",
      "         Scheduled       0.63      0.68      0.65       600\n",
      "Science/Technology       0.21      0.22      0.21       628\n",
      "            Sports       0.23      0.24      0.24       714\n",
      "\n",
      "          accuracy                           0.34      6687\n",
      "         macro avg       0.35      0.36      0.35      6687\n",
      "      weighted avg       0.34      0.34      0.34      6687\n",
      "\n",
      "accuracy :  0.34439958127710485\n"
     ]
    },
    {
     "data": {
      "image/png": "[encoded data removed]",
      "text/plain": [
       "<Figure size 432x288 with 2 Axes>"
      ]
     },
     "metadata": {},
     "output_type": "display_data"
    }
   ],
   "source": [
    "X=df[lst].fillna(value=0)\n",
    "y=df['flair']\n",
    "X_train,X_test,y_train,y_test=train_test_split(X,y,test_size=0.3)\n",
    "pipeline.fit(X_train,y_train)\n",
    "save_classifier=open(\"kneighbors_f2\"+\"num\"+\".pickle\",\"wb\")\n",
    "pickle.dump(pipeline,save_classifier)\n",
    "save_classifier.close()\n",
    "predictions = pipeline.predict(X_test)\n",
    "print('\\n\\n\\n This is for','\\n')\n",
    "print(confusion_matrix(y_test,predictions))\n",
    "print(sns.heatmap(confusion_matrix(y_test,predictions)))\n",
    "print(classification_report(y_test,predictions))\n",
    "print('accuracy : ',accuracy_score(y_test,predictions))\n",
    "    "
   ]
  },
  {
   "cell_type": "markdown",
   "metadata": {},
   "source": [
    "This gives a better result than the combined features, but still not satisfactory."
   ]
  },
  {
   "cell_type": "markdown",
   "metadata": {},
   "source": [
    "So, we see that the best result was given by using title with SVC and we'll be using that as our classifier."
   ]
  }
 ],
 "metadata": {
  "kernelspec": {
   "display_name": "Python 3",
   "language": "python",
   "name": "python3"
  },
  "language_info": {
   "codemirror_mode": {
    "name": "ipython",
    "version": 3
   },
   "file_extension": ".py",
   "mimetype": "text/x-python",
   "name": "python",
   "nbconvert_exporter": "python",
   "pygments_lexer": "ipython3",
   "version": "3.7.3"
  }
 },
 "nbformat": 4,
 "nbformat_minor": 4
}
